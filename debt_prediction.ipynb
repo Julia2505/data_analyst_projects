{
 "cells": [
  {
   "cell_type": "markdown",
   "metadata": {},
   "source": [
    "<div class=\"alert alert-success\">\n",
    "<b> Комментарий от ревьюера 2</b>\n",
    "\n",
    "Привет еще раз. Оформление комментариев по работе сохраняется. Только обозначим, что это вторая итерация. \n",
    "\n",
    "</div>"
   ]
  },
  {
   "cell_type": "markdown",
   "metadata": {},
   "source": [
    "<b>Комментарий от ревьюера</b>\n",
    "\n",
    "Привет! Меня зовут Ярослав Кальманов, я буду делать ревью твоего проекта. Давай будем общаться на «ты».\n",
    "\n",
    "Мои комментарии будут в ячейках \"Комментарий от ревьюера\".\n",
    "\n",
    "<div class=\"alert alert-danger\"> \n",
    "Красным цветом обозначены комментарии, на которые тебе нужно обратить внимание в первую очередь, чтобы я принял проект. \n",
    "</div>\n",
    "<div class=\"alert alert-warning\">\n",
    "Желтым цветом отмечено то, что ты можешь сделать немного по-другому. Ты можешь учесть эти комментарии при выполнении следующих проектов.\n",
    "</div>\n",
    "<div class=\"alert alert-success\">\n",
    "Зелёным цветом обозначены твои удачные решения, которые ты без сомнения можешь применять в будущих проектах.  \n",
    "</div>\n",
    "\n",
    "Если ты вносишь изменения в проект по моим рекомендациям, указывай, пожалуйста, это в своих комментариях. Будет удобно, если обозначишь свои комментарии заметным цветом или поместишь \n",
    "\n",
    "<div class=\"alert alert-info\">\n",
    "    \n",
    "в такую ячейку\n",
    "</div>\n",
    "\n",
    "Давай при работе с проектом мы будем общаться с тобой в диалоге, поэтому не удаляй и не перемещай мои комментарии, это поможет мне сделать повторную  проверку проекта быстрее.\n",
    "___"
   ]
  },
  {
   "cell_type": "markdown",
   "metadata": {},
   "source": [
    "# Исследование надёжности заёмщиков\n",
    "\n",
    "Заказчик — кредитный отдел банка. Нужно разобраться, влияет ли семейное положение и количество детей клиента на факт погашения кредита в срок. Входные данные от банка — статистика о платёжеспособности клиентов.\n",
    "\n",
    "Результаты исследования будут учтены при построении модели **кредитного скоринга** — специальной системы, которая оценивает способность потенциального заёмщика вернуть кредит банку."
   ]
  },
  {
   "cell_type": "markdown",
   "metadata": {},
   "source": [
    "\n",
    "**Цель исследования**:\n",
    "Зависит ли семейное положение и количество детей клиента на факт погашения кредита в срок.\n",
    "\n",
    "**Ход исследования**\n",
    " 1. Обзор данных\n",
    " 2. Предобработка данных\n",
    " 3. Ответы на вопросы\n",
    " 4. Общий вывод\n",
    " 5. Рекомендации банку"
   ]
  },
  {
   "cell_type": "markdown",
   "metadata": {},
   "source": [
    "<div class=\"alert alert-success\">\n",
    "    \n",
    "<b> Комментарий от ревьюера</b>\n",
    "    \n",
    "Хорошее начало\n",
    "</div>\n",
    "\n"
   ]
  },
  {
   "cell_type": "markdown",
   "metadata": {},
   "source": [
    "## Шаг 1. Откройте файл с данными и изучите общую информацию"
   ]
  },
  {
   "cell_type": "code",
   "execution_count": 1,
   "metadata": {
    "scrolled": true
   },
   "outputs": [],
   "source": [
    "# импорт библиотеки pandas\n",
    "import pandas as pd"
   ]
  },
  {
   "cell_type": "code",
   "execution_count": 2,
   "metadata": {},
   "outputs": [],
   "source": [
    "# чтение файла с данными и сохранение в data\n",
    "data = pd.read_csv('/datasets/data.csv')"
   ]
  },
  {
   "cell_type": "code",
   "execution_count": 3,
   "metadata": {},
   "outputs": [
    {
     "data": {
      "text/html": [
       "<div>\n",
       "<style scoped>\n",
       "    .dataframe tbody tr th:only-of-type {\n",
       "        vertical-align: middle;\n",
       "    }\n",
       "\n",
       "    .dataframe tbody tr th {\n",
       "        vertical-align: top;\n",
       "    }\n",
       "\n",
       "    .dataframe thead th {\n",
       "        text-align: right;\n",
       "    }\n",
       "</style>\n",
       "<table border=\"1\" class=\"dataframe\">\n",
       "  <thead>\n",
       "    <tr style=\"text-align: right;\">\n",
       "      <th></th>\n",
       "      <th>children</th>\n",
       "      <th>days_employed</th>\n",
       "      <th>dob_years</th>\n",
       "      <th>education</th>\n",
       "      <th>education_id</th>\n",
       "      <th>family_status</th>\n",
       "      <th>family_status_id</th>\n",
       "      <th>gender</th>\n",
       "      <th>income_type</th>\n",
       "      <th>debt</th>\n",
       "      <th>total_income</th>\n",
       "      <th>purpose</th>\n",
       "    </tr>\n",
       "  </thead>\n",
       "  <tbody>\n",
       "    <tr>\n",
       "      <td>0</td>\n",
       "      <td>1</td>\n",
       "      <td>-8437.673028</td>\n",
       "      <td>42</td>\n",
       "      <td>высшее</td>\n",
       "      <td>0</td>\n",
       "      <td>женат / замужем</td>\n",
       "      <td>0</td>\n",
       "      <td>F</td>\n",
       "      <td>сотрудник</td>\n",
       "      <td>0</td>\n",
       "      <td>253875.639453</td>\n",
       "      <td>покупка жилья</td>\n",
       "    </tr>\n",
       "    <tr>\n",
       "      <td>1</td>\n",
       "      <td>1</td>\n",
       "      <td>-4024.803754</td>\n",
       "      <td>36</td>\n",
       "      <td>среднее</td>\n",
       "      <td>1</td>\n",
       "      <td>женат / замужем</td>\n",
       "      <td>0</td>\n",
       "      <td>F</td>\n",
       "      <td>сотрудник</td>\n",
       "      <td>0</td>\n",
       "      <td>112080.014102</td>\n",
       "      <td>приобретение автомобиля</td>\n",
       "    </tr>\n",
       "    <tr>\n",
       "      <td>2</td>\n",
       "      <td>0</td>\n",
       "      <td>-5623.422610</td>\n",
       "      <td>33</td>\n",
       "      <td>Среднее</td>\n",
       "      <td>1</td>\n",
       "      <td>женат / замужем</td>\n",
       "      <td>0</td>\n",
       "      <td>M</td>\n",
       "      <td>сотрудник</td>\n",
       "      <td>0</td>\n",
       "      <td>145885.952297</td>\n",
       "      <td>покупка жилья</td>\n",
       "    </tr>\n",
       "    <tr>\n",
       "      <td>3</td>\n",
       "      <td>3</td>\n",
       "      <td>-4124.747207</td>\n",
       "      <td>32</td>\n",
       "      <td>среднее</td>\n",
       "      <td>1</td>\n",
       "      <td>женат / замужем</td>\n",
       "      <td>0</td>\n",
       "      <td>M</td>\n",
       "      <td>сотрудник</td>\n",
       "      <td>0</td>\n",
       "      <td>267628.550329</td>\n",
       "      <td>дополнительное образование</td>\n",
       "    </tr>\n",
       "    <tr>\n",
       "      <td>4</td>\n",
       "      <td>0</td>\n",
       "      <td>340266.072047</td>\n",
       "      <td>53</td>\n",
       "      <td>среднее</td>\n",
       "      <td>1</td>\n",
       "      <td>гражданский брак</td>\n",
       "      <td>1</td>\n",
       "      <td>F</td>\n",
       "      <td>пенсионер</td>\n",
       "      <td>0</td>\n",
       "      <td>158616.077870</td>\n",
       "      <td>сыграть свадьбу</td>\n",
       "    </tr>\n",
       "    <tr>\n",
       "      <td>5</td>\n",
       "      <td>0</td>\n",
       "      <td>-926.185831</td>\n",
       "      <td>27</td>\n",
       "      <td>высшее</td>\n",
       "      <td>0</td>\n",
       "      <td>гражданский брак</td>\n",
       "      <td>1</td>\n",
       "      <td>M</td>\n",
       "      <td>компаньон</td>\n",
       "      <td>0</td>\n",
       "      <td>255763.565419</td>\n",
       "      <td>покупка жилья</td>\n",
       "    </tr>\n",
       "    <tr>\n",
       "      <td>6</td>\n",
       "      <td>0</td>\n",
       "      <td>-2879.202052</td>\n",
       "      <td>43</td>\n",
       "      <td>высшее</td>\n",
       "      <td>0</td>\n",
       "      <td>женат / замужем</td>\n",
       "      <td>0</td>\n",
       "      <td>F</td>\n",
       "      <td>компаньон</td>\n",
       "      <td>0</td>\n",
       "      <td>240525.971920</td>\n",
       "      <td>операции с жильем</td>\n",
       "    </tr>\n",
       "    <tr>\n",
       "      <td>7</td>\n",
       "      <td>0</td>\n",
       "      <td>-152.779569</td>\n",
       "      <td>50</td>\n",
       "      <td>СРЕДНЕЕ</td>\n",
       "      <td>1</td>\n",
       "      <td>женат / замужем</td>\n",
       "      <td>0</td>\n",
       "      <td>M</td>\n",
       "      <td>сотрудник</td>\n",
       "      <td>0</td>\n",
       "      <td>135823.934197</td>\n",
       "      <td>образование</td>\n",
       "    </tr>\n",
       "    <tr>\n",
       "      <td>8</td>\n",
       "      <td>2</td>\n",
       "      <td>-6929.865299</td>\n",
       "      <td>35</td>\n",
       "      <td>ВЫСШЕЕ</td>\n",
       "      <td>0</td>\n",
       "      <td>гражданский брак</td>\n",
       "      <td>1</td>\n",
       "      <td>F</td>\n",
       "      <td>сотрудник</td>\n",
       "      <td>0</td>\n",
       "      <td>95856.832424</td>\n",
       "      <td>на проведение свадьбы</td>\n",
       "    </tr>\n",
       "    <tr>\n",
       "      <td>9</td>\n",
       "      <td>0</td>\n",
       "      <td>-2188.756445</td>\n",
       "      <td>41</td>\n",
       "      <td>среднее</td>\n",
       "      <td>1</td>\n",
       "      <td>женат / замужем</td>\n",
       "      <td>0</td>\n",
       "      <td>M</td>\n",
       "      <td>сотрудник</td>\n",
       "      <td>0</td>\n",
       "      <td>144425.938277</td>\n",
       "      <td>покупка жилья для семьи</td>\n",
       "    </tr>\n",
       "  </tbody>\n",
       "</table>\n",
       "</div>"
      ],
      "text/plain": [
       "   children  days_employed  dob_years education  education_id  \\\n",
       "0         1   -8437.673028         42    высшее             0   \n",
       "1         1   -4024.803754         36   среднее             1   \n",
       "2         0   -5623.422610         33   Среднее             1   \n",
       "3         3   -4124.747207         32   среднее             1   \n",
       "4         0  340266.072047         53   среднее             1   \n",
       "5         0    -926.185831         27    высшее             0   \n",
       "6         0   -2879.202052         43    высшее             0   \n",
       "7         0    -152.779569         50   СРЕДНЕЕ             1   \n",
       "8         2   -6929.865299         35    ВЫСШЕЕ             0   \n",
       "9         0   -2188.756445         41   среднее             1   \n",
       "\n",
       "      family_status  family_status_id gender income_type  debt   total_income  \\\n",
       "0   женат / замужем                 0      F   сотрудник     0  253875.639453   \n",
       "1   женат / замужем                 0      F   сотрудник     0  112080.014102   \n",
       "2   женат / замужем                 0      M   сотрудник     0  145885.952297   \n",
       "3   женат / замужем                 0      M   сотрудник     0  267628.550329   \n",
       "4  гражданский брак                 1      F   пенсионер     0  158616.077870   \n",
       "5  гражданский брак                 1      M   компаньон     0  255763.565419   \n",
       "6   женат / замужем                 0      F   компаньон     0  240525.971920   \n",
       "7   женат / замужем                 0      M   сотрудник     0  135823.934197   \n",
       "8  гражданский брак                 1      F   сотрудник     0   95856.832424   \n",
       "9   женат / замужем                 0      M   сотрудник     0  144425.938277   \n",
       "\n",
       "                      purpose  \n",
       "0               покупка жилья  \n",
       "1     приобретение автомобиля  \n",
       "2               покупка жилья  \n",
       "3  дополнительное образование  \n",
       "4             сыграть свадьбу  \n",
       "5               покупка жилья  \n",
       "6           операции с жильем  \n",
       "7                 образование  \n",
       "8       на проведение свадьбы  \n",
       "9     покупка жилья для семьи  "
      ]
     },
     "metadata": {},
     "output_type": "display_data"
    }
   ],
   "source": [
    "# получение первых 10 строк таблицы data\n",
    "display(data.head(10))"
   ]
  },
  {
   "cell_type": "code",
   "execution_count": 4,
   "metadata": {
    "scrolled": true
   },
   "outputs": [
    {
     "name": "stdout",
     "output_type": "stream",
     "text": [
      "<class 'pandas.core.frame.DataFrame'>\n",
      "RangeIndex: 21525 entries, 0 to 21524\n",
      "Data columns (total 12 columns):\n",
      "children            21525 non-null int64\n",
      "days_employed       19351 non-null float64\n",
      "dob_years           21525 non-null int64\n",
      "education           21525 non-null object\n",
      "education_id        21525 non-null int64\n",
      "family_status       21525 non-null object\n",
      "family_status_id    21525 non-null int64\n",
      "gender              21525 non-null object\n",
      "income_type         21525 non-null object\n",
      "debt                21525 non-null int64\n",
      "total_income        19351 non-null float64\n",
      "purpose             21525 non-null object\n",
      "dtypes: float64(2), int64(5), object(5)\n",
      "memory usage: 2.0+ MB\n"
     ]
    }
   ],
   "source": [
    "# получение общей информации о данных в таблице data\n",
    "data.info()"
   ]
  },
  {
   "cell_type": "code",
   "execution_count": 5,
   "metadata": {},
   "outputs": [
    {
     "data": {
      "text/html": [
       "<div>\n",
       "<style scoped>\n",
       "    .dataframe tbody tr th:only-of-type {\n",
       "        vertical-align: middle;\n",
       "    }\n",
       "\n",
       "    .dataframe tbody tr th {\n",
       "        vertical-align: top;\n",
       "    }\n",
       "\n",
       "    .dataframe thead th {\n",
       "        text-align: right;\n",
       "    }\n",
       "</style>\n",
       "<table border=\"1\" class=\"dataframe\">\n",
       "  <thead>\n",
       "    <tr style=\"text-align: right;\">\n",
       "      <th></th>\n",
       "      <th>children</th>\n",
       "      <th>days_employed</th>\n",
       "      <th>dob_years</th>\n",
       "      <th>education_id</th>\n",
       "      <th>family_status_id</th>\n",
       "      <th>debt</th>\n",
       "      <th>total_income</th>\n",
       "    </tr>\n",
       "  </thead>\n",
       "  <tbody>\n",
       "    <tr>\n",
       "      <td>count</td>\n",
       "      <td>21525.000000</td>\n",
       "      <td>19351.000000</td>\n",
       "      <td>21525.000000</td>\n",
       "      <td>21525.000000</td>\n",
       "      <td>21525.000000</td>\n",
       "      <td>21525.000000</td>\n",
       "      <td>1.935100e+04</td>\n",
       "    </tr>\n",
       "    <tr>\n",
       "      <td>mean</td>\n",
       "      <td>0.538908</td>\n",
       "      <td>63046.497661</td>\n",
       "      <td>43.293380</td>\n",
       "      <td>0.817236</td>\n",
       "      <td>0.972544</td>\n",
       "      <td>0.080883</td>\n",
       "      <td>1.674223e+05</td>\n",
       "    </tr>\n",
       "    <tr>\n",
       "      <td>std</td>\n",
       "      <td>1.381587</td>\n",
       "      <td>140827.311974</td>\n",
       "      <td>12.574584</td>\n",
       "      <td>0.548138</td>\n",
       "      <td>1.420324</td>\n",
       "      <td>0.272661</td>\n",
       "      <td>1.029716e+05</td>\n",
       "    </tr>\n",
       "    <tr>\n",
       "      <td>min</td>\n",
       "      <td>-1.000000</td>\n",
       "      <td>-18388.949901</td>\n",
       "      <td>0.000000</td>\n",
       "      <td>0.000000</td>\n",
       "      <td>0.000000</td>\n",
       "      <td>0.000000</td>\n",
       "      <td>2.066726e+04</td>\n",
       "    </tr>\n",
       "    <tr>\n",
       "      <td>25%</td>\n",
       "      <td>0.000000</td>\n",
       "      <td>-2747.423625</td>\n",
       "      <td>33.000000</td>\n",
       "      <td>1.000000</td>\n",
       "      <td>0.000000</td>\n",
       "      <td>0.000000</td>\n",
       "      <td>1.030532e+05</td>\n",
       "    </tr>\n",
       "    <tr>\n",
       "      <td>50%</td>\n",
       "      <td>0.000000</td>\n",
       "      <td>-1203.369529</td>\n",
       "      <td>42.000000</td>\n",
       "      <td>1.000000</td>\n",
       "      <td>0.000000</td>\n",
       "      <td>0.000000</td>\n",
       "      <td>1.450179e+05</td>\n",
       "    </tr>\n",
       "    <tr>\n",
       "      <td>75%</td>\n",
       "      <td>1.000000</td>\n",
       "      <td>-291.095954</td>\n",
       "      <td>53.000000</td>\n",
       "      <td>1.000000</td>\n",
       "      <td>1.000000</td>\n",
       "      <td>0.000000</td>\n",
       "      <td>2.034351e+05</td>\n",
       "    </tr>\n",
       "    <tr>\n",
       "      <td>max</td>\n",
       "      <td>20.000000</td>\n",
       "      <td>401755.400475</td>\n",
       "      <td>75.000000</td>\n",
       "      <td>4.000000</td>\n",
       "      <td>4.000000</td>\n",
       "      <td>1.000000</td>\n",
       "      <td>2.265604e+06</td>\n",
       "    </tr>\n",
       "  </tbody>\n",
       "</table>\n",
       "</div>"
      ],
      "text/plain": [
       "           children  days_employed     dob_years  education_id  \\\n",
       "count  21525.000000   19351.000000  21525.000000  21525.000000   \n",
       "mean       0.538908   63046.497661     43.293380      0.817236   \n",
       "std        1.381587  140827.311974     12.574584      0.548138   \n",
       "min       -1.000000  -18388.949901      0.000000      0.000000   \n",
       "25%        0.000000   -2747.423625     33.000000      1.000000   \n",
       "50%        0.000000   -1203.369529     42.000000      1.000000   \n",
       "75%        1.000000    -291.095954     53.000000      1.000000   \n",
       "max       20.000000  401755.400475     75.000000      4.000000   \n",
       "\n",
       "       family_status_id          debt  total_income  \n",
       "count      21525.000000  21525.000000  1.935100e+04  \n",
       "mean           0.972544      0.080883  1.674223e+05  \n",
       "std            1.420324      0.272661  1.029716e+05  \n",
       "min            0.000000      0.000000  2.066726e+04  \n",
       "25%            0.000000      0.000000  1.030532e+05  \n",
       "50%            0.000000      0.000000  1.450179e+05  \n",
       "75%            1.000000      0.000000  2.034351e+05  \n",
       "max            4.000000      1.000000  2.265604e+06  "
      ]
     },
     "execution_count": 5,
     "metadata": {},
     "output_type": "execute_result"
    }
   ],
   "source": [
    "# обзор значений столбцов с типами данных int64 и float64\n",
    "data.describe()"
   ]
  },
  {
   "cell_type": "markdown",
   "metadata": {},
   "source": [
    "В таблице двенадцать столбцов. В столбцах встречаются три типа данных:\n",
    "* `int64` (5 столбцов);\n",
    "* `float64` (2 столбца);\n",
    "* `object` (5 столбцов).\n",
    "\n",
    "Согласно документации к данным:\n",
    "* `children` — количество детей в семье;\n",
    "* `days_employed` — общий трудовой стаж в днях;\n",
    "* `dob_years` — возраст клиента в годах;\n",
    "* `education` — уровень образования клиента;\n",
    "* `education_id` — идентификатор уровня образования;\n",
    "* `family_status` — семейное положение;\n",
    "* `family_status_id` — идентификатор семейного положения;\n",
    "* `gender` — пол клиента;\n",
    "* `income_type` — тип занятости;\n",
    "* `debt` — имел ли задолженность по возврату кредитов;\n",
    "* `total_income` — ежемесячный доход;\n",
    "* `purpose` — цель получения кредита.\n",
    "\n",
    "В названиях колонок нет нарушений стиля, но некоторые наименования неточно отражают смысл хранящихся данных.\n",
    "Поэтому их стоит переименовать.\n",
    "\n",
    "Некоторые типы данных лучше сменить для корректности анализа.\n",
    "\n",
    "Количество значений в столбцах различается. Значит, в данных есть пропущенные значения.\n"
   ]
  },
  {
   "cell_type": "markdown",
   "metadata": {},
   "source": [
    "**Вывод**"
   ]
  },
  {
   "cell_type": "markdown",
   "metadata": {},
   "source": [
    "В каждой строке таблицы — данные клиентов банка. Для проверки гипотезы о прямой зависимости числа детей и семейного положения на факт погашения кредита данных более чем достаточно.\n",
    "Но в данных много недочетов и неточностей. Ниже перечислены проблемы, найденные в таблице:\n",
    "\n",
    "- неточные названия столбцов;\n",
    "- минимальное значение в столбце о возрасте клиентов - 0;\n",
    "- наличие отрицательных значений в столбце с количеством детей;\n",
    "- максимальное количество детей - 20;\n",
    "- наличие отрицательных значений в столбце с количеством дней трудового стажа;\n",
    "- пропуски в столбцах о ежемесячном доходе и днях трудового стажа;\n",
    "- в некоторых столбцах тип данных не совпадает со смыслом описываемой переменной;\n",
    "- в некоторых столбцах лучше конвертировать величины (столбец о днях трудового стажа);\n",
    "- в столбце об образовании наименования указаны в разном регистре;\n",
    "- есть избыточные данные — текстовое описание категории, а также присвоенное ей число (столбцы о семейном положении и образовании).\n",
    "\n",
    "Перед проверкой гипотезы необходимо устранить указанные проблемы в данных."
   ]
  },
  {
   "cell_type": "markdown",
   "metadata": {},
   "source": [
    "<div class=\"alert alert-success\">\n",
    "    \n",
    "<b> Комментарий от ревьюера</b>\n",
    "    \n",
    "Все верно\n",
    "</div>\n",
    "\n"
   ]
  },
  {
   "cell_type": "markdown",
   "metadata": {},
   "source": [
    "## Шаг 2. Предобработка данных"
   ]
  },
  {
   "cell_type": "markdown",
   "metadata": {},
   "source": [
    "**Этапы выполнения**:\n",
    " 1. Переименовать столбцы;\n",
    " 2. Исправить некорректные значения в столбцах;\n",
    " 2. Определить и заполнить пропущенные значения:\n",
    "  * описать, какие пропущенные значения обнаружены;\n",
    "  * привести возможные причины появления пропусков в данных;\n",
    "  * объяснить, по какому принципу заполнены пропуски;\n",
    " 3. Заменить вещественный тип данных на целочисленный:\n",
    "  * пояснить, как выбирался метод для изменения типа данных; \n",
    " 4. Удалить дубликаты:\n",
    "  * пояснить, как выбирался метод для поиска и удаления дубликатов в данных;\n",
    "  * привести возможные причины появления дубликатов;\n",
    " 5. Выделить леммы в значениях столбца с целями получения кредита:\n",
    "  * описать, как проводилась лемматизация целей кредита;\n",
    "  * категоризировать данные:\n",
    "  * перечислить, какие «словари» выделены для этого набора данных, и объяснить, почему."
   ]
  },
  {
   "cell_type": "markdown",
   "metadata": {},
   "source": [
    "### Изменение некорректных имен столбцов"
   ]
  },
  {
   "cell_type": "code",
   "execution_count": 6,
   "metadata": {},
   "outputs": [],
   "source": [
    "# переименовывание названий столбцов методом rename()\n",
    "data = data.rename(columns = {'children': 'children_number',\n",
    "                             'dob_years': 'age_in_years',\n",
    "                              'income_type': 'employment_type',\n",
    "                              'total_income': 'monthly_income',\n",
    "                             'purpose': 'credit_purpose'})"
   ]
  },
  {
   "cell_type": "code",
   "execution_count": 7,
   "metadata": {},
   "outputs": [
    {
     "data": {
      "text/html": [
       "<div>\n",
       "<style scoped>\n",
       "    .dataframe tbody tr th:only-of-type {\n",
       "        vertical-align: middle;\n",
       "    }\n",
       "\n",
       "    .dataframe tbody tr th {\n",
       "        vertical-align: top;\n",
       "    }\n",
       "\n",
       "    .dataframe thead th {\n",
       "        text-align: right;\n",
       "    }\n",
       "</style>\n",
       "<table border=\"1\" class=\"dataframe\">\n",
       "  <thead>\n",
       "    <tr style=\"text-align: right;\">\n",
       "      <th></th>\n",
       "      <th>children_number</th>\n",
       "      <th>days_employed</th>\n",
       "      <th>age_in_years</th>\n",
       "      <th>education</th>\n",
       "      <th>education_id</th>\n",
       "      <th>family_status</th>\n",
       "      <th>family_status_id</th>\n",
       "      <th>gender</th>\n",
       "      <th>employment_type</th>\n",
       "      <th>debt</th>\n",
       "      <th>monthly_income</th>\n",
       "      <th>credit_purpose</th>\n",
       "    </tr>\n",
       "  </thead>\n",
       "  <tbody>\n",
       "    <tr>\n",
       "      <td>0</td>\n",
       "      <td>1</td>\n",
       "      <td>-8437.673028</td>\n",
       "      <td>42</td>\n",
       "      <td>высшее</td>\n",
       "      <td>0</td>\n",
       "      <td>женат / замужем</td>\n",
       "      <td>0</td>\n",
       "      <td>F</td>\n",
       "      <td>сотрудник</td>\n",
       "      <td>0</td>\n",
       "      <td>253875.639453</td>\n",
       "      <td>покупка жилья</td>\n",
       "    </tr>\n",
       "    <tr>\n",
       "      <td>1</td>\n",
       "      <td>1</td>\n",
       "      <td>-4024.803754</td>\n",
       "      <td>36</td>\n",
       "      <td>среднее</td>\n",
       "      <td>1</td>\n",
       "      <td>женат / замужем</td>\n",
       "      <td>0</td>\n",
       "      <td>F</td>\n",
       "      <td>сотрудник</td>\n",
       "      <td>0</td>\n",
       "      <td>112080.014102</td>\n",
       "      <td>приобретение автомобиля</td>\n",
       "    </tr>\n",
       "    <tr>\n",
       "      <td>2</td>\n",
       "      <td>0</td>\n",
       "      <td>-5623.422610</td>\n",
       "      <td>33</td>\n",
       "      <td>Среднее</td>\n",
       "      <td>1</td>\n",
       "      <td>женат / замужем</td>\n",
       "      <td>0</td>\n",
       "      <td>M</td>\n",
       "      <td>сотрудник</td>\n",
       "      <td>0</td>\n",
       "      <td>145885.952297</td>\n",
       "      <td>покупка жилья</td>\n",
       "    </tr>\n",
       "    <tr>\n",
       "      <td>3</td>\n",
       "      <td>3</td>\n",
       "      <td>-4124.747207</td>\n",
       "      <td>32</td>\n",
       "      <td>среднее</td>\n",
       "      <td>1</td>\n",
       "      <td>женат / замужем</td>\n",
       "      <td>0</td>\n",
       "      <td>M</td>\n",
       "      <td>сотрудник</td>\n",
       "      <td>0</td>\n",
       "      <td>267628.550329</td>\n",
       "      <td>дополнительное образование</td>\n",
       "    </tr>\n",
       "    <tr>\n",
       "      <td>4</td>\n",
       "      <td>0</td>\n",
       "      <td>340266.072047</td>\n",
       "      <td>53</td>\n",
       "      <td>среднее</td>\n",
       "      <td>1</td>\n",
       "      <td>гражданский брак</td>\n",
       "      <td>1</td>\n",
       "      <td>F</td>\n",
       "      <td>пенсионер</td>\n",
       "      <td>0</td>\n",
       "      <td>158616.077870</td>\n",
       "      <td>сыграть свадьбу</td>\n",
       "    </tr>\n",
       "  </tbody>\n",
       "</table>\n",
       "</div>"
      ],
      "text/plain": [
       "   children_number  days_employed  age_in_years education  education_id  \\\n",
       "0                1   -8437.673028            42    высшее             0   \n",
       "1                1   -4024.803754            36   среднее             1   \n",
       "2                0   -5623.422610            33   Среднее             1   \n",
       "3                3   -4124.747207            32   среднее             1   \n",
       "4                0  340266.072047            53   среднее             1   \n",
       "\n",
       "      family_status  family_status_id gender employment_type  debt  \\\n",
       "0   женат / замужем                 0      F       сотрудник     0   \n",
       "1   женат / замужем                 0      F       сотрудник     0   \n",
       "2   женат / замужем                 0      M       сотрудник     0   \n",
       "3   женат / замужем                 0      M       сотрудник     0   \n",
       "4  гражданский брак                 1      F       пенсионер     0   \n",
       "\n",
       "   monthly_income              credit_purpose  \n",
       "0   253875.639453               покупка жилья  \n",
       "1   112080.014102     приобретение автомобиля  \n",
       "2   145885.952297               покупка жилья  \n",
       "3   267628.550329  дополнительное образование  \n",
       "4   158616.077870             сыграть свадьбу  "
      ]
     },
     "metadata": {},
     "output_type": "display_data"
    }
   ],
   "source": [
    "# проверка того что столбцы корректно переменовались\n",
    "display(data.head(5))"
   ]
  },
  {
   "cell_type": "markdown",
   "metadata": {},
   "source": [
    "<div class=\"alert alert-warning\">\n",
    "    \n",
    "<b> Комментарий от ревьюера</b>\n",
    "    \n",
    "В последней строке ячейки можно не использовать функции print()/display(). Результат работы кода и без них будет выведен на экран\n",
    "</div>"
   ]
  },
  {
   "cell_type": "markdown",
   "metadata": {},
   "source": [
    "<div class=\"alert alert-info\">\n",
    "\n",
    "<b>Комментарий студента</b>\n",
    "    \n",
    "Привет, Ярослав! Спасибо за твои комментарии :)\n",
    "Иногда путаюсь и добавляю лишний display().\n",
    "</div>"
   ]
  },
  {
   "cell_type": "markdown",
   "metadata": {},
   "source": [
    "**Вывод**"
   ]
  },
  {
   "cell_type": "markdown",
   "metadata": {},
   "source": [
    "Стобцы переименованы в более удобный для восприятия вид"
   ]
  },
  {
   "cell_type": "markdown",
   "metadata": {},
   "source": [
    "### Точечное изменение некорректных значений"
   ]
  },
  {
   "cell_type": "markdown",
   "metadata": {},
   "source": [
    "**Исправление значений 0 в столбце `age_in_years`**"
   ]
  },
  {
   "cell_type": "code",
   "execution_count": 8,
   "metadata": {},
   "outputs": [
    {
     "name": "stdout",
     "output_type": "stream",
     "text": [
      "Минимальный возраст клиента: 0 лет\n",
      "Следующее за ним значение возраста: 19 лет\n"
     ]
    }
   ],
   "source": [
    "# нахождение минимального возраста и следующего за ним значения\n",
    "print(\"Минимальный возраст клиента:\", sorted(data['age_in_years'].unique())[0], \"лет\")\n",
    "print(\"Следующее за ним значение возраста:\" , sorted(data['age_in_years'].unique())[1], \"лет\")"
   ]
  },
  {
   "cell_type": "markdown",
   "metadata": {},
   "source": [
    "Следующее минимальное значение возраста клиента - 19, а выдача кредита банком возможна с 18 лет."
   ]
  },
  {
   "cell_type": "code",
   "execution_count": 9,
   "metadata": {},
   "outputs": [],
   "source": [
    "# замена значения 0 в столбце `age_in_years` на 18\n",
    "data.loc[data['age_in_years'] == 0, 'age_in_years'] = 18"
   ]
  },
  {
   "cell_type": "markdown",
   "metadata": {},
   "source": [
    "<div class=\"alert alert-warning\">\n",
    "    \n",
    "<b> Комментарий от ревьюера</b>\n",
    "    \n",
    "Думаю, не стоит заменять 0 на 18. Например, у таких клиентов может быть employment_type \"Пенсионер\" или вроде того, и наша замена будет некорректной.\n",
    "    \n",
    "Если мы не можем точно восстановить данные, лучше их не изменять\n",
    "</div>"
   ]
  },
  {
   "cell_type": "markdown",
   "metadata": {},
   "source": [
    "<b>Комментарий студента</b>\n",
    "<div class=\"alert alert-info\">\n",
    "Поняла. Или уточнять что за данные у заказчика.\n",
    "</div>"
   ]
  },
  {
   "cell_type": "markdown",
   "metadata": {},
   "source": [
    "<div class=\"alert alert-success\">\n",
    "    \n",
    "<b> Комментарий от ревьюера 2</b>\n",
    "\n",
    "Ты права. Если есть возможность уточнить у коллег, лучше это сделать\n",
    "</div>"
   ]
  },
  {
   "cell_type": "code",
   "execution_count": 10,
   "metadata": {},
   "outputs": [
    {
     "name": "stdout",
     "output_type": "stream",
     "text": [
      "Минимальный возраст клиента:  18 лет\n"
     ]
    }
   ],
   "source": [
    "# проверка правильности замены\n",
    "print(\"Минимальный возраст клиента: \", data['age_in_years'].min(), \"лет\")"
   ]
  },
  {
   "cell_type": "markdown",
   "metadata": {},
   "source": [
    "**Исправление отрицательных значений в столбце `children_number`**"
   ]
  },
  {
   "cell_type": "code",
   "execution_count": 11,
   "metadata": {
    "scrolled": true
   },
   "outputs": [
    {
     "data": {
      "text/plain": [
       "array([-1])"
      ]
     },
     "execution_count": 11,
     "metadata": {},
     "output_type": "execute_result"
    }
   ],
   "source": [
    "data[data['children_number'] < 0]['children_number'].unique()"
   ]
  },
  {
   "cell_type": "markdown",
   "metadata": {},
   "source": [
    "В столбце о количестве детей есть отрицательное значение \"-1\". \n",
    "Возможно, это техническая ошибка, поэтому оно заменяется на \"1\"."
   ]
  },
  {
   "cell_type": "code",
   "execution_count": 12,
   "metadata": {},
   "outputs": [],
   "source": [
    "data.loc[data['children_number'] == -1, 'children_number'] = 1"
   ]
  },
  {
   "cell_type": "code",
   "execution_count": 13,
   "metadata": {},
   "outputs": [
    {
     "name": "stdout",
     "output_type": "stream",
     "text": [
      "Минимальное количество детей:  0\n"
     ]
    }
   ],
   "source": [
    "# проверка правильности замены\n",
    "print(\"Минимальное количество детей: \", data['children_number'].min())"
   ]
  },
  {
   "cell_type": "markdown",
   "metadata": {},
   "source": [
    "Также стоит проверить, какие вообще уникальные положительные значения есть"
   ]
  },
  {
   "cell_type": "code",
   "execution_count": 14,
   "metadata": {},
   "outputs": [
    {
     "data": {
      "text/plain": [
       "array([ 1,  0,  3,  2,  4, 20,  5])"
      ]
     },
     "execution_count": 14,
     "metadata": {},
     "output_type": "execute_result"
    }
   ],
   "source": [
    "# применение метода unique\n",
    "data['children_number'].unique()"
   ]
  },
  {
   "cell_type": "markdown",
   "metadata": {},
   "source": [
    "Промежуточных значений между 5 и 20 нет. Можно посчитать ошибкой. Но необходимо проверить, сколько всего строк со значением 20 в столбце `children_number`."
   ]
  },
  {
   "cell_type": "code",
   "execution_count": 15,
   "metadata": {},
   "outputs": [
    {
     "data": {
      "text/html": [
       "<div>\n",
       "<style scoped>\n",
       "    .dataframe tbody tr th:only-of-type {\n",
       "        vertical-align: middle;\n",
       "    }\n",
       "\n",
       "    .dataframe tbody tr th {\n",
       "        vertical-align: top;\n",
       "    }\n",
       "\n",
       "    .dataframe thead th {\n",
       "        text-align: right;\n",
       "    }\n",
       "</style>\n",
       "<table border=\"1\" class=\"dataframe\">\n",
       "  <thead>\n",
       "    <tr style=\"text-align: right;\">\n",
       "      <th></th>\n",
       "      <th>children_number</th>\n",
       "      <th>days_employed</th>\n",
       "      <th>age_in_years</th>\n",
       "      <th>education</th>\n",
       "      <th>education_id</th>\n",
       "      <th>family_status</th>\n",
       "      <th>family_status_id</th>\n",
       "      <th>gender</th>\n",
       "      <th>employment_type</th>\n",
       "      <th>debt</th>\n",
       "      <th>monthly_income</th>\n",
       "      <th>credit_purpose</th>\n",
       "    </tr>\n",
       "  </thead>\n",
       "  <tbody>\n",
       "    <tr>\n",
       "      <td>606</td>\n",
       "      <td>20</td>\n",
       "      <td>-880.221113</td>\n",
       "      <td>21</td>\n",
       "      <td>среднее</td>\n",
       "      <td>1</td>\n",
       "      <td>женат / замужем</td>\n",
       "      <td>0</td>\n",
       "      <td>M</td>\n",
       "      <td>компаньон</td>\n",
       "      <td>0</td>\n",
       "      <td>145334.865002</td>\n",
       "      <td>покупка жилья</td>\n",
       "    </tr>\n",
       "    <tr>\n",
       "      <td>720</td>\n",
       "      <td>20</td>\n",
       "      <td>-855.595512</td>\n",
       "      <td>44</td>\n",
       "      <td>среднее</td>\n",
       "      <td>1</td>\n",
       "      <td>женат / замужем</td>\n",
       "      <td>0</td>\n",
       "      <td>F</td>\n",
       "      <td>компаньон</td>\n",
       "      <td>0</td>\n",
       "      <td>112998.738649</td>\n",
       "      <td>покупка недвижимости</td>\n",
       "    </tr>\n",
       "    <tr>\n",
       "      <td>1074</td>\n",
       "      <td>20</td>\n",
       "      <td>-3310.411598</td>\n",
       "      <td>56</td>\n",
       "      <td>среднее</td>\n",
       "      <td>1</td>\n",
       "      <td>женат / замужем</td>\n",
       "      <td>0</td>\n",
       "      <td>F</td>\n",
       "      <td>сотрудник</td>\n",
       "      <td>1</td>\n",
       "      <td>229518.537004</td>\n",
       "      <td>получение образования</td>\n",
       "    </tr>\n",
       "    <tr>\n",
       "      <td>2510</td>\n",
       "      <td>20</td>\n",
       "      <td>-2714.161249</td>\n",
       "      <td>59</td>\n",
       "      <td>высшее</td>\n",
       "      <td>0</td>\n",
       "      <td>вдовец / вдова</td>\n",
       "      <td>2</td>\n",
       "      <td>F</td>\n",
       "      <td>сотрудник</td>\n",
       "      <td>0</td>\n",
       "      <td>264474.835577</td>\n",
       "      <td>операции с коммерческой недвижимостью</td>\n",
       "    </tr>\n",
       "    <tr>\n",
       "      <td>2941</td>\n",
       "      <td>20</td>\n",
       "      <td>-2161.591519</td>\n",
       "      <td>18</td>\n",
       "      <td>среднее</td>\n",
       "      <td>1</td>\n",
       "      <td>женат / замужем</td>\n",
       "      <td>0</td>\n",
       "      <td>F</td>\n",
       "      <td>сотрудник</td>\n",
       "      <td>0</td>\n",
       "      <td>199739.941398</td>\n",
       "      <td>на покупку автомобиля</td>\n",
       "    </tr>\n",
       "    <tr>\n",
       "      <td>...</td>\n",
       "      <td>...</td>\n",
       "      <td>...</td>\n",
       "      <td>...</td>\n",
       "      <td>...</td>\n",
       "      <td>...</td>\n",
       "      <td>...</td>\n",
       "      <td>...</td>\n",
       "      <td>...</td>\n",
       "      <td>...</td>\n",
       "      <td>...</td>\n",
       "      <td>...</td>\n",
       "      <td>...</td>\n",
       "    </tr>\n",
       "    <tr>\n",
       "      <td>21008</td>\n",
       "      <td>20</td>\n",
       "      <td>-1240.257910</td>\n",
       "      <td>40</td>\n",
       "      <td>среднее</td>\n",
       "      <td>1</td>\n",
       "      <td>женат / замужем</td>\n",
       "      <td>0</td>\n",
       "      <td>F</td>\n",
       "      <td>сотрудник</td>\n",
       "      <td>1</td>\n",
       "      <td>133524.010303</td>\n",
       "      <td>свой автомобиль</td>\n",
       "    </tr>\n",
       "    <tr>\n",
       "      <td>21325</td>\n",
       "      <td>20</td>\n",
       "      <td>-601.174883</td>\n",
       "      <td>37</td>\n",
       "      <td>среднее</td>\n",
       "      <td>1</td>\n",
       "      <td>женат / замужем</td>\n",
       "      <td>0</td>\n",
       "      <td>F</td>\n",
       "      <td>компаньон</td>\n",
       "      <td>0</td>\n",
       "      <td>102986.065978</td>\n",
       "      <td>профильное образование</td>\n",
       "    </tr>\n",
       "    <tr>\n",
       "      <td>21390</td>\n",
       "      <td>20</td>\n",
       "      <td>NaN</td>\n",
       "      <td>53</td>\n",
       "      <td>среднее</td>\n",
       "      <td>1</td>\n",
       "      <td>женат / замужем</td>\n",
       "      <td>0</td>\n",
       "      <td>M</td>\n",
       "      <td>компаньон</td>\n",
       "      <td>0</td>\n",
       "      <td>NaN</td>\n",
       "      <td>покупка жилой недвижимости</td>\n",
       "    </tr>\n",
       "    <tr>\n",
       "      <td>21404</td>\n",
       "      <td>20</td>\n",
       "      <td>-494.788448</td>\n",
       "      <td>52</td>\n",
       "      <td>среднее</td>\n",
       "      <td>1</td>\n",
       "      <td>женат / замужем</td>\n",
       "      <td>0</td>\n",
       "      <td>M</td>\n",
       "      <td>компаньон</td>\n",
       "      <td>0</td>\n",
       "      <td>156629.683642</td>\n",
       "      <td>операции со своей недвижимостью</td>\n",
       "    </tr>\n",
       "    <tr>\n",
       "      <td>21491</td>\n",
       "      <td>20</td>\n",
       "      <td>-173.954460</td>\n",
       "      <td>27</td>\n",
       "      <td>среднее</td>\n",
       "      <td>1</td>\n",
       "      <td>женат / замужем</td>\n",
       "      <td>0</td>\n",
       "      <td>F</td>\n",
       "      <td>сотрудник</td>\n",
       "      <td>0</td>\n",
       "      <td>155520.899688</td>\n",
       "      <td>на покупку подержанного автомобиля</td>\n",
       "    </tr>\n",
       "  </tbody>\n",
       "</table>\n",
       "<p>76 rows × 12 columns</p>\n",
       "</div>"
      ],
      "text/plain": [
       "       children_number  days_employed  age_in_years education  education_id  \\\n",
       "606                 20    -880.221113            21   среднее             1   \n",
       "720                 20    -855.595512            44   среднее             1   \n",
       "1074                20   -3310.411598            56   среднее             1   \n",
       "2510                20   -2714.161249            59    высшее             0   \n",
       "2941                20   -2161.591519            18   среднее             1   \n",
       "...                ...            ...           ...       ...           ...   \n",
       "21008               20   -1240.257910            40   среднее             1   \n",
       "21325               20    -601.174883            37   среднее             1   \n",
       "21390               20            NaN            53   среднее             1   \n",
       "21404               20    -494.788448            52   среднее             1   \n",
       "21491               20    -173.954460            27   среднее             1   \n",
       "\n",
       "         family_status  family_status_id gender employment_type  debt  \\\n",
       "606    женат / замужем                 0      M       компаньон     0   \n",
       "720    женат / замужем                 0      F       компаньон     0   \n",
       "1074   женат / замужем                 0      F       сотрудник     1   \n",
       "2510    вдовец / вдова                 2      F       сотрудник     0   \n",
       "2941   женат / замужем                 0      F       сотрудник     0   \n",
       "...                ...               ...    ...             ...   ...   \n",
       "21008  женат / замужем                 0      F       сотрудник     1   \n",
       "21325  женат / замужем                 0      F       компаньон     0   \n",
       "21390  женат / замужем                 0      M       компаньон     0   \n",
       "21404  женат / замужем                 0      M       компаньон     0   \n",
       "21491  женат / замужем                 0      F       сотрудник     0   \n",
       "\n",
       "       monthly_income                         credit_purpose  \n",
       "606     145334.865002                          покупка жилья  \n",
       "720     112998.738649                   покупка недвижимости  \n",
       "1074    229518.537004                  получение образования  \n",
       "2510    264474.835577  операции с коммерческой недвижимостью  \n",
       "2941    199739.941398                  на покупку автомобиля  \n",
       "...               ...                                    ...  \n",
       "21008   133524.010303                        свой автомобиль  \n",
       "21325   102986.065978                 профильное образование  \n",
       "21390             NaN             покупка жилой недвижимости  \n",
       "21404   156629.683642        операции со своей недвижимостью  \n",
       "21491   155520.899688     на покупку подержанного автомобиля  \n",
       "\n",
       "[76 rows x 12 columns]"
      ]
     },
     "execution_count": 15,
     "metadata": {},
     "output_type": "execute_result"
    }
   ],
   "source": [
    "# проверка числа строк\n",
    "data[data['children_number'] == 20]"
   ]
  },
  {
   "cell_type": "markdown",
   "metadata": {},
   "source": [
    "<div class=\"alert alert-success\">\n",
    "    \n",
    "<b> Комментарий от ревьюера</b>\n",
    "    \n",
    "Посчитать количество повторений значения можно так:  \n",
    "`data.children_number.value_counts()`\n",
    "</div>\n"
   ]
  },
  {
   "cell_type": "markdown",
   "metadata": {},
   "source": [
    "<div class=\"alert alert-info\">\n",
    "\n",
    "<b>Комментарий студента</b>\n",
    "\n",
    "Ок\n",
    "</div>"
   ]
  },
  {
   "cell_type": "markdown",
   "metadata": {},
   "source": [
    "Таких значений только 76 ( из почти 22000 строк таблицы). Поэтому можно заменить значение 20 на 2."
   ]
  },
  {
   "cell_type": "code",
   "execution_count": 16,
   "metadata": {},
   "outputs": [],
   "source": [
    "# замена количества детей с 20 на 2 с помощью loc()\n",
    "data.loc[data['children_number'] == 20, 'children_number'] = 2"
   ]
  },
  {
   "cell_type": "code",
   "execution_count": 17,
   "metadata": {},
   "outputs": [
    {
     "data": {
      "text/plain": [
       "array([1, 0, 3, 2, 4, 5])"
      ]
     },
     "execution_count": 17,
     "metadata": {},
     "output_type": "execute_result"
    }
   ],
   "source": [
    "# проверка сделанных изменений\n",
    "data['children_number'].unique()"
   ]
  },
  {
   "cell_type": "markdown",
   "metadata": {},
   "source": [
    "<div class=\"alert alert-success\">\n",
    "    \n",
    "<b> Комментарий от ревьюера</b>\n",
    "    \n",
    "Здорово, что ты нашла и исправила ошибки в children_number\n",
    "</div>"
   ]
  },
  {
   "cell_type": "markdown",
   "metadata": {},
   "source": [
    "**Исправление значений в столбце `days_employed`**"
   ]
  },
  {
   "cell_type": "code",
   "execution_count": 18,
   "metadata": {},
   "outputs": [
    {
     "data": {
      "text/plain": [
       "count     19351.000000\n",
       "mean      63046.497661\n",
       "std      140827.311974\n",
       "min      -18388.949901\n",
       "25%       -2747.423625\n",
       "50%       -1203.369529\n",
       "75%        -291.095954\n",
       "max      401755.400475\n",
       "Name: days_employed, dtype: float64"
      ]
     },
     "execution_count": 18,
     "metadata": {},
     "output_type": "execute_result"
    }
   ],
   "source": [
    "# обзор значений столбца `days_employed`\n",
    "data['days_employed'].describe()"
   ]
  },
  {
   "cell_type": "markdown",
   "metadata": {},
   "source": [
    "Если предположить, что человек работал с 0 до 100 лет, что очень маловероятно, то его трудовой стаж в днях составляет примерно 36500 дней.\n",
    "Необходимо проверить, какие значения записаны отрицательными и положительными числами."
   ]
  },
  {
   "cell_type": "code",
   "execution_count": 19,
   "metadata": {},
   "outputs": [
    {
     "data": {
      "text/html": [
       "<div>\n",
       "<style scoped>\n",
       "    .dataframe tbody tr th:only-of-type {\n",
       "        vertical-align: middle;\n",
       "    }\n",
       "\n",
       "    .dataframe tbody tr th {\n",
       "        vertical-align: top;\n",
       "    }\n",
       "\n",
       "    .dataframe thead th {\n",
       "        text-align: right;\n",
       "    }\n",
       "</style>\n",
       "<table border=\"1\" class=\"dataframe\">\n",
       "  <thead>\n",
       "    <tr style=\"text-align: right;\">\n",
       "      <th></th>\n",
       "      <th>children_number</th>\n",
       "      <th>days_employed</th>\n",
       "      <th>age_in_years</th>\n",
       "      <th>education</th>\n",
       "      <th>education_id</th>\n",
       "      <th>family_status</th>\n",
       "      <th>family_status_id</th>\n",
       "      <th>gender</th>\n",
       "      <th>employment_type</th>\n",
       "      <th>debt</th>\n",
       "      <th>monthly_income</th>\n",
       "      <th>credit_purpose</th>\n",
       "    </tr>\n",
       "  </thead>\n",
       "  <tbody>\n",
       "  </tbody>\n",
       "</table>\n",
       "</div>"
      ],
      "text/plain": [
       "Empty DataFrame\n",
       "Columns: [children_number, days_employed, age_in_years, education, education_id, family_status, family_status_id, gender, employment_type, debt, monthly_income, credit_purpose]\n",
       "Index: []"
      ]
     },
     "execution_count": 19,
     "metadata": {},
     "output_type": "execute_result"
    }
   ],
   "source": [
    "# проверка положительных значений data['days_employed'] по заданным условиям\n",
    "data[(data['days_employed'] >= 0) & (data['days_employed'] < 36500)]"
   ]
  },
  {
   "cell_type": "markdown",
   "metadata": {},
   "source": [
    "Таких значений нет. Далее надо проверить, как обстоят дела с отрицательными значениями трудового стажа."
   ]
  },
  {
   "cell_type": "code",
   "execution_count": 20,
   "metadata": {},
   "outputs": [
    {
     "data": {
      "text/html": [
       "<div>\n",
       "<style scoped>\n",
       "    .dataframe tbody tr th:only-of-type {\n",
       "        vertical-align: middle;\n",
       "    }\n",
       "\n",
       "    .dataframe tbody tr th {\n",
       "        vertical-align: top;\n",
       "    }\n",
       "\n",
       "    .dataframe thead th {\n",
       "        text-align: right;\n",
       "    }\n",
       "</style>\n",
       "<table border=\"1\" class=\"dataframe\">\n",
       "  <thead>\n",
       "    <tr style=\"text-align: right;\">\n",
       "      <th></th>\n",
       "      <th>children_number</th>\n",
       "      <th>days_employed</th>\n",
       "      <th>age_in_years</th>\n",
       "      <th>education</th>\n",
       "      <th>education_id</th>\n",
       "      <th>family_status</th>\n",
       "      <th>family_status_id</th>\n",
       "      <th>gender</th>\n",
       "      <th>employment_type</th>\n",
       "      <th>debt</th>\n",
       "      <th>monthly_income</th>\n",
       "      <th>credit_purpose</th>\n",
       "    </tr>\n",
       "  </thead>\n",
       "  <tbody>\n",
       "    <tr>\n",
       "      <td>0</td>\n",
       "      <td>1</td>\n",
       "      <td>-8437.673028</td>\n",
       "      <td>42</td>\n",
       "      <td>высшее</td>\n",
       "      <td>0</td>\n",
       "      <td>женат / замужем</td>\n",
       "      <td>0</td>\n",
       "      <td>F</td>\n",
       "      <td>сотрудник</td>\n",
       "      <td>0</td>\n",
       "      <td>253875.639453</td>\n",
       "      <td>покупка жилья</td>\n",
       "    </tr>\n",
       "    <tr>\n",
       "      <td>1</td>\n",
       "      <td>1</td>\n",
       "      <td>-4024.803754</td>\n",
       "      <td>36</td>\n",
       "      <td>среднее</td>\n",
       "      <td>1</td>\n",
       "      <td>женат / замужем</td>\n",
       "      <td>0</td>\n",
       "      <td>F</td>\n",
       "      <td>сотрудник</td>\n",
       "      <td>0</td>\n",
       "      <td>112080.014102</td>\n",
       "      <td>приобретение автомобиля</td>\n",
       "    </tr>\n",
       "    <tr>\n",
       "      <td>2</td>\n",
       "      <td>0</td>\n",
       "      <td>-5623.422610</td>\n",
       "      <td>33</td>\n",
       "      <td>Среднее</td>\n",
       "      <td>1</td>\n",
       "      <td>женат / замужем</td>\n",
       "      <td>0</td>\n",
       "      <td>M</td>\n",
       "      <td>сотрудник</td>\n",
       "      <td>0</td>\n",
       "      <td>145885.952297</td>\n",
       "      <td>покупка жилья</td>\n",
       "    </tr>\n",
       "    <tr>\n",
       "      <td>3</td>\n",
       "      <td>3</td>\n",
       "      <td>-4124.747207</td>\n",
       "      <td>32</td>\n",
       "      <td>среднее</td>\n",
       "      <td>1</td>\n",
       "      <td>женат / замужем</td>\n",
       "      <td>0</td>\n",
       "      <td>M</td>\n",
       "      <td>сотрудник</td>\n",
       "      <td>0</td>\n",
       "      <td>267628.550329</td>\n",
       "      <td>дополнительное образование</td>\n",
       "    </tr>\n",
       "    <tr>\n",
       "      <td>5</td>\n",
       "      <td>0</td>\n",
       "      <td>-926.185831</td>\n",
       "      <td>27</td>\n",
       "      <td>высшее</td>\n",
       "      <td>0</td>\n",
       "      <td>гражданский брак</td>\n",
       "      <td>1</td>\n",
       "      <td>M</td>\n",
       "      <td>компаньон</td>\n",
       "      <td>0</td>\n",
       "      <td>255763.565419</td>\n",
       "      <td>покупка жилья</td>\n",
       "    </tr>\n",
       "    <tr>\n",
       "      <td>...</td>\n",
       "      <td>...</td>\n",
       "      <td>...</td>\n",
       "      <td>...</td>\n",
       "      <td>...</td>\n",
       "      <td>...</td>\n",
       "      <td>...</td>\n",
       "      <td>...</td>\n",
       "      <td>...</td>\n",
       "      <td>...</td>\n",
       "      <td>...</td>\n",
       "      <td>...</td>\n",
       "      <td>...</td>\n",
       "    </tr>\n",
       "    <tr>\n",
       "      <td>21519</td>\n",
       "      <td>1</td>\n",
       "      <td>-2351.431934</td>\n",
       "      <td>37</td>\n",
       "      <td>ученая степень</td>\n",
       "      <td>4</td>\n",
       "      <td>в разводе</td>\n",
       "      <td>3</td>\n",
       "      <td>M</td>\n",
       "      <td>сотрудник</td>\n",
       "      <td>0</td>\n",
       "      <td>115949.039788</td>\n",
       "      <td>покупка коммерческой недвижимости</td>\n",
       "    </tr>\n",
       "    <tr>\n",
       "      <td>21520</td>\n",
       "      <td>1</td>\n",
       "      <td>-4529.316663</td>\n",
       "      <td>43</td>\n",
       "      <td>среднее</td>\n",
       "      <td>1</td>\n",
       "      <td>гражданский брак</td>\n",
       "      <td>1</td>\n",
       "      <td>F</td>\n",
       "      <td>компаньон</td>\n",
       "      <td>0</td>\n",
       "      <td>224791.862382</td>\n",
       "      <td>операции с жильем</td>\n",
       "    </tr>\n",
       "    <tr>\n",
       "      <td>21522</td>\n",
       "      <td>1</td>\n",
       "      <td>-2113.346888</td>\n",
       "      <td>38</td>\n",
       "      <td>среднее</td>\n",
       "      <td>1</td>\n",
       "      <td>гражданский брак</td>\n",
       "      <td>1</td>\n",
       "      <td>M</td>\n",
       "      <td>сотрудник</td>\n",
       "      <td>1</td>\n",
       "      <td>89672.561153</td>\n",
       "      <td>недвижимость</td>\n",
       "    </tr>\n",
       "    <tr>\n",
       "      <td>21523</td>\n",
       "      <td>3</td>\n",
       "      <td>-3112.481705</td>\n",
       "      <td>38</td>\n",
       "      <td>среднее</td>\n",
       "      <td>1</td>\n",
       "      <td>женат / замужем</td>\n",
       "      <td>0</td>\n",
       "      <td>M</td>\n",
       "      <td>сотрудник</td>\n",
       "      <td>1</td>\n",
       "      <td>244093.050500</td>\n",
       "      <td>на покупку своего автомобиля</td>\n",
       "    </tr>\n",
       "    <tr>\n",
       "      <td>21524</td>\n",
       "      <td>2</td>\n",
       "      <td>-1984.507589</td>\n",
       "      <td>40</td>\n",
       "      <td>среднее</td>\n",
       "      <td>1</td>\n",
       "      <td>женат / замужем</td>\n",
       "      <td>0</td>\n",
       "      <td>F</td>\n",
       "      <td>сотрудник</td>\n",
       "      <td>0</td>\n",
       "      <td>82047.418899</td>\n",
       "      <td>на покупку автомобиля</td>\n",
       "    </tr>\n",
       "  </tbody>\n",
       "</table>\n",
       "<p>15906 rows × 12 columns</p>\n",
       "</div>"
      ],
      "text/plain": [
       "       children_number  days_employed  age_in_years       education  \\\n",
       "0                    1   -8437.673028            42          высшее   \n",
       "1                    1   -4024.803754            36         среднее   \n",
       "2                    0   -5623.422610            33         Среднее   \n",
       "3                    3   -4124.747207            32         среднее   \n",
       "5                    0    -926.185831            27          высшее   \n",
       "...                ...            ...           ...             ...   \n",
       "21519                1   -2351.431934            37  ученая степень   \n",
       "21520                1   -4529.316663            43         среднее   \n",
       "21522                1   -2113.346888            38         среднее   \n",
       "21523                3   -3112.481705            38         среднее   \n",
       "21524                2   -1984.507589            40         среднее   \n",
       "\n",
       "       education_id     family_status  family_status_id gender  \\\n",
       "0                 0   женат / замужем                 0      F   \n",
       "1                 1   женат / замужем                 0      F   \n",
       "2                 1   женат / замужем                 0      M   \n",
       "3                 1   женат / замужем                 0      M   \n",
       "5                 0  гражданский брак                 1      M   \n",
       "...             ...               ...               ...    ...   \n",
       "21519             4         в разводе                 3      M   \n",
       "21520             1  гражданский брак                 1      F   \n",
       "21522             1  гражданский брак                 1      M   \n",
       "21523             1   женат / замужем                 0      M   \n",
       "21524             1   женат / замужем                 0      F   \n",
       "\n",
       "      employment_type  debt  monthly_income                     credit_purpose  \n",
       "0           сотрудник     0   253875.639453                      покупка жилья  \n",
       "1           сотрудник     0   112080.014102            приобретение автомобиля  \n",
       "2           сотрудник     0   145885.952297                      покупка жилья  \n",
       "3           сотрудник     0   267628.550329         дополнительное образование  \n",
       "5           компаньон     0   255763.565419                      покупка жилья  \n",
       "...               ...   ...             ...                                ...  \n",
       "21519       сотрудник     0   115949.039788  покупка коммерческой недвижимости  \n",
       "21520       компаньон     0   224791.862382                  операции с жильем  \n",
       "21522       сотрудник     1    89672.561153                       недвижимость  \n",
       "21523       сотрудник     1   244093.050500       на покупку своего автомобиля  \n",
       "21524       сотрудник     0    82047.418899              на покупку автомобиля  \n",
       "\n",
       "[15906 rows x 12 columns]"
      ]
     },
     "execution_count": 20,
     "metadata": {},
     "output_type": "execute_result"
    }
   ],
   "source": [
    "# проверка отрицательных значений data['days_employed'] по заданным условиям\n",
    "data[(data['days_employed'] <= 0) & (data['days_employed'] < 36500)]"
   ]
  },
  {
   "cell_type": "markdown",
   "metadata": {},
   "source": [
    "Такие значения дней трудового стажа уже могут быть реальными. \n",
    "Возможно, выгрузка происходила из разных кредитных систем, где значения записываются в других форматах, возможно, не в днях.\n",
    "Помимо этого, возможен человеческий фактор (данные заносили разные люди и кто-то из них ошибся).\n",
    "Отрицательные-скорее всего, в днях, как и указано в описании к столбцу. А положительные-пока неясно."
   ]
  },
  {
   "cell_type": "markdown",
   "metadata": {},
   "source": [
    "Но в силу того что для проверки гипотезы необходимо учитывать семейное положение и количество детей,то для удобства восприятия надо сделать все отрицательные значения положительными, а дни перевести в года, создав дополнительный столбец в таблице.\n",
    "Для начала надо сделать все числа положительными путем нахождения их модуля."
   ]
  },
  {
   "cell_type": "code",
   "execution_count": 21,
   "metadata": {
    "scrolled": true
   },
   "outputs": [],
   "source": [
    "# взятие модуля числа\n",
    "data['days_employed'] = data['days_employed'].abs()"
   ]
  },
  {
   "cell_type": "code",
   "execution_count": 22,
   "metadata": {},
   "outputs": [
    {
     "data": {
      "text/plain": [
       "count     19351.000000\n",
       "mean      66914.728907\n",
       "std      139030.880527\n",
       "min          24.141633\n",
       "25%         927.009265\n",
       "50%        2194.220567\n",
       "75%        5537.882441\n",
       "max      401755.400475\n",
       "Name: days_employed, dtype: float64"
      ]
     },
     "execution_count": 22,
     "metadata": {},
     "output_type": "execute_result"
    }
   ],
   "source": [
    "# проверка значений столбца `days_employed`\n",
    "data['days_employed'].describe()"
   ]
  },
  {
   "cell_type": "code",
   "execution_count": 23,
   "metadata": {},
   "outputs": [],
   "source": [
    "# перевод дней трудового стажа в года и добавление нового столбца\n",
    "data['years_employed'] = data['days_employed'] / 365"
   ]
  },
  {
   "cell_type": "code",
   "execution_count": 24,
   "metadata": {},
   "outputs": [],
   "source": [
    "# удаление столбца `days_employed`\n",
    "del data['days_employed']"
   ]
  },
  {
   "cell_type": "code",
   "execution_count": 25,
   "metadata": {
    "scrolled": true
   },
   "outputs": [
    {
     "data": {
      "text/html": [
       "<div>\n",
       "<style scoped>\n",
       "    .dataframe tbody tr th:only-of-type {\n",
       "        vertical-align: middle;\n",
       "    }\n",
       "\n",
       "    .dataframe tbody tr th {\n",
       "        vertical-align: top;\n",
       "    }\n",
       "\n",
       "    .dataframe thead th {\n",
       "        text-align: right;\n",
       "    }\n",
       "</style>\n",
       "<table border=\"1\" class=\"dataframe\">\n",
       "  <thead>\n",
       "    <tr style=\"text-align: right;\">\n",
       "      <th></th>\n",
       "      <th>children_number</th>\n",
       "      <th>age_in_years</th>\n",
       "      <th>education</th>\n",
       "      <th>education_id</th>\n",
       "      <th>family_status</th>\n",
       "      <th>family_status_id</th>\n",
       "      <th>gender</th>\n",
       "      <th>employment_type</th>\n",
       "      <th>debt</th>\n",
       "      <th>monthly_income</th>\n",
       "      <th>credit_purpose</th>\n",
       "      <th>years_employed</th>\n",
       "    </tr>\n",
       "  </thead>\n",
       "  <tbody>\n",
       "    <tr>\n",
       "      <td>0</td>\n",
       "      <td>1</td>\n",
       "      <td>42</td>\n",
       "      <td>высшее</td>\n",
       "      <td>0</td>\n",
       "      <td>женат / замужем</td>\n",
       "      <td>0</td>\n",
       "      <td>F</td>\n",
       "      <td>сотрудник</td>\n",
       "      <td>0</td>\n",
       "      <td>253875.639453</td>\n",
       "      <td>покупка жилья</td>\n",
       "      <td>23.116912</td>\n",
       "    </tr>\n",
       "    <tr>\n",
       "      <td>1</td>\n",
       "      <td>1</td>\n",
       "      <td>36</td>\n",
       "      <td>среднее</td>\n",
       "      <td>1</td>\n",
       "      <td>женат / замужем</td>\n",
       "      <td>0</td>\n",
       "      <td>F</td>\n",
       "      <td>сотрудник</td>\n",
       "      <td>0</td>\n",
       "      <td>112080.014102</td>\n",
       "      <td>приобретение автомобиля</td>\n",
       "      <td>11.026860</td>\n",
       "    </tr>\n",
       "    <tr>\n",
       "      <td>2</td>\n",
       "      <td>0</td>\n",
       "      <td>33</td>\n",
       "      <td>Среднее</td>\n",
       "      <td>1</td>\n",
       "      <td>женат / замужем</td>\n",
       "      <td>0</td>\n",
       "      <td>M</td>\n",
       "      <td>сотрудник</td>\n",
       "      <td>0</td>\n",
       "      <td>145885.952297</td>\n",
       "      <td>покупка жилья</td>\n",
       "      <td>15.406637</td>\n",
       "    </tr>\n",
       "    <tr>\n",
       "      <td>3</td>\n",
       "      <td>3</td>\n",
       "      <td>32</td>\n",
       "      <td>среднее</td>\n",
       "      <td>1</td>\n",
       "      <td>женат / замужем</td>\n",
       "      <td>0</td>\n",
       "      <td>M</td>\n",
       "      <td>сотрудник</td>\n",
       "      <td>0</td>\n",
       "      <td>267628.550329</td>\n",
       "      <td>дополнительное образование</td>\n",
       "      <td>11.300677</td>\n",
       "    </tr>\n",
       "    <tr>\n",
       "      <td>4</td>\n",
       "      <td>0</td>\n",
       "      <td>53</td>\n",
       "      <td>среднее</td>\n",
       "      <td>1</td>\n",
       "      <td>гражданский брак</td>\n",
       "      <td>1</td>\n",
       "      <td>F</td>\n",
       "      <td>пенсионер</td>\n",
       "      <td>0</td>\n",
       "      <td>158616.077870</td>\n",
       "      <td>сыграть свадьбу</td>\n",
       "      <td>932.235814</td>\n",
       "    </tr>\n",
       "    <tr>\n",
       "      <td>5</td>\n",
       "      <td>0</td>\n",
       "      <td>27</td>\n",
       "      <td>высшее</td>\n",
       "      <td>0</td>\n",
       "      <td>гражданский брак</td>\n",
       "      <td>1</td>\n",
       "      <td>M</td>\n",
       "      <td>компаньон</td>\n",
       "      <td>0</td>\n",
       "      <td>255763.565419</td>\n",
       "      <td>покупка жилья</td>\n",
       "      <td>2.537495</td>\n",
       "    </tr>\n",
       "    <tr>\n",
       "      <td>6</td>\n",
       "      <td>0</td>\n",
       "      <td>43</td>\n",
       "      <td>высшее</td>\n",
       "      <td>0</td>\n",
       "      <td>женат / замужем</td>\n",
       "      <td>0</td>\n",
       "      <td>F</td>\n",
       "      <td>компаньон</td>\n",
       "      <td>0</td>\n",
       "      <td>240525.971920</td>\n",
       "      <td>операции с жильем</td>\n",
       "      <td>7.888225</td>\n",
       "    </tr>\n",
       "    <tr>\n",
       "      <td>7</td>\n",
       "      <td>0</td>\n",
       "      <td>50</td>\n",
       "      <td>СРЕДНЕЕ</td>\n",
       "      <td>1</td>\n",
       "      <td>женат / замужем</td>\n",
       "      <td>0</td>\n",
       "      <td>M</td>\n",
       "      <td>сотрудник</td>\n",
       "      <td>0</td>\n",
       "      <td>135823.934197</td>\n",
       "      <td>образование</td>\n",
       "      <td>0.418574</td>\n",
       "    </tr>\n",
       "    <tr>\n",
       "      <td>8</td>\n",
       "      <td>2</td>\n",
       "      <td>35</td>\n",
       "      <td>ВЫСШЕЕ</td>\n",
       "      <td>0</td>\n",
       "      <td>гражданский брак</td>\n",
       "      <td>1</td>\n",
       "      <td>F</td>\n",
       "      <td>сотрудник</td>\n",
       "      <td>0</td>\n",
       "      <td>95856.832424</td>\n",
       "      <td>на проведение свадьбы</td>\n",
       "      <td>18.985932</td>\n",
       "    </tr>\n",
       "    <tr>\n",
       "      <td>9</td>\n",
       "      <td>0</td>\n",
       "      <td>41</td>\n",
       "      <td>среднее</td>\n",
       "      <td>1</td>\n",
       "      <td>женат / замужем</td>\n",
       "      <td>0</td>\n",
       "      <td>M</td>\n",
       "      <td>сотрудник</td>\n",
       "      <td>0</td>\n",
       "      <td>144425.938277</td>\n",
       "      <td>покупка жилья для семьи</td>\n",
       "      <td>5.996593</td>\n",
       "    </tr>\n",
       "  </tbody>\n",
       "</table>\n",
       "</div>"
      ],
      "text/plain": [
       "   children_number  age_in_years education  education_id     family_status  \\\n",
       "0                1            42    высшее             0   женат / замужем   \n",
       "1                1            36   среднее             1   женат / замужем   \n",
       "2                0            33   Среднее             1   женат / замужем   \n",
       "3                3            32   среднее             1   женат / замужем   \n",
       "4                0            53   среднее             1  гражданский брак   \n",
       "5                0            27    высшее             0  гражданский брак   \n",
       "6                0            43    высшее             0   женат / замужем   \n",
       "7                0            50   СРЕДНЕЕ             1   женат / замужем   \n",
       "8                2            35    ВЫСШЕЕ             0  гражданский брак   \n",
       "9                0            41   среднее             1   женат / замужем   \n",
       "\n",
       "   family_status_id gender employment_type  debt  monthly_income  \\\n",
       "0                 0      F       сотрудник     0   253875.639453   \n",
       "1                 0      F       сотрудник     0   112080.014102   \n",
       "2                 0      M       сотрудник     0   145885.952297   \n",
       "3                 0      M       сотрудник     0   267628.550329   \n",
       "4                 1      F       пенсионер     0   158616.077870   \n",
       "5                 1      M       компаньон     0   255763.565419   \n",
       "6                 0      F       компаньон     0   240525.971920   \n",
       "7                 0      M       сотрудник     0   135823.934197   \n",
       "8                 1      F       сотрудник     0    95856.832424   \n",
       "9                 0      M       сотрудник     0   144425.938277   \n",
       "\n",
       "               credit_purpose  years_employed  \n",
       "0               покупка жилья       23.116912  \n",
       "1     приобретение автомобиля       11.026860  \n",
       "2               покупка жилья       15.406637  \n",
       "3  дополнительное образование       11.300677  \n",
       "4             сыграть свадьбу      932.235814  \n",
       "5               покупка жилья        2.537495  \n",
       "6           операции с жильем        7.888225  \n",
       "7                 образование        0.418574  \n",
       "8       на проведение свадьбы       18.985932  \n",
       "9     покупка жилья для семьи        5.996593  "
      ]
     },
     "execution_count": 25,
     "metadata": {},
     "output_type": "execute_result"
    }
   ],
   "source": [
    "data.head(10)"
   ]
  },
  {
   "cell_type": "markdown",
   "metadata": {},
   "source": [
    "В столбце `years_employed` остались нереальные значения трудового стажа (932 с лишним года).\n",
    "Придется оставить строки, содержащие эти столбцы, для лемматизации и для сохранения полноты анализа. \n",
    "А также далее необходимо поменять тип столбца `years_employed` с float64 на int64 чтобы избавиться от дробной части."
   ]
  },
  {
   "cell_type": "markdown",
   "metadata": {},
   "source": [
    "<div class=\"alert alert-success\">\n",
    "    \n",
    "<b> Комментарий от ревьюера</b>\n",
    "    \n",
    "Все хорошо. \n",
    "    \n",
    "Может быть у клиентов со стажем в 932 года признак days_employed был указан в часах, а не днях или десятичный разделитель смещен вправо на пару символов.\n",
    "</div>\n"
   ]
  },
  {
   "cell_type": "markdown",
   "metadata": {},
   "source": [
    "<div class=\"alert alert-info\">\n",
    "\n",
    "<b>Комментарий студента</b>\n",
    "\n",
    "Да, значения этого столбца для меня были самые непонятные\n",
    "</div>"
   ]
  },
  {
   "cell_type": "markdown",
   "metadata": {},
   "source": [
    "**Проверка уникальных значений столбца `gender`**"
   ]
  },
  {
   "cell_type": "code",
   "execution_count": 26,
   "metadata": {},
   "outputs": [
    {
     "data": {
      "text/plain": [
       "array(['F', 'M', 'XNA'], dtype=object)"
      ]
     },
     "execution_count": 26,
     "metadata": {},
     "output_type": "execute_result"
    }
   ],
   "source": [
    "# проверка с помощью метода unique()\n",
    "data['gender'].unique()"
   ]
  },
  {
   "cell_type": "code",
   "execution_count": 27,
   "metadata": {},
   "outputs": [
    {
     "data": {
      "text/html": [
       "<div>\n",
       "<style scoped>\n",
       "    .dataframe tbody tr th:only-of-type {\n",
       "        vertical-align: middle;\n",
       "    }\n",
       "\n",
       "    .dataframe tbody tr th {\n",
       "        vertical-align: top;\n",
       "    }\n",
       "\n",
       "    .dataframe thead th {\n",
       "        text-align: right;\n",
       "    }\n",
       "</style>\n",
       "<table border=\"1\" class=\"dataframe\">\n",
       "  <thead>\n",
       "    <tr style=\"text-align: right;\">\n",
       "      <th></th>\n",
       "      <th>children_number</th>\n",
       "      <th>age_in_years</th>\n",
       "      <th>education</th>\n",
       "      <th>education_id</th>\n",
       "      <th>family_status</th>\n",
       "      <th>family_status_id</th>\n",
       "      <th>gender</th>\n",
       "      <th>employment_type</th>\n",
       "      <th>debt</th>\n",
       "      <th>monthly_income</th>\n",
       "      <th>credit_purpose</th>\n",
       "      <th>years_employed</th>\n",
       "    </tr>\n",
       "  </thead>\n",
       "  <tbody>\n",
       "    <tr>\n",
       "      <td>10701</td>\n",
       "      <td>0</td>\n",
       "      <td>24</td>\n",
       "      <td>неоконченное высшее</td>\n",
       "      <td>2</td>\n",
       "      <td>гражданский брак</td>\n",
       "      <td>1</td>\n",
       "      <td>XNA</td>\n",
       "      <td>компаньон</td>\n",
       "      <td>0</td>\n",
       "      <td>203905.157261</td>\n",
       "      <td>покупка недвижимости</td>\n",
       "      <td>6.461919</td>\n",
       "    </tr>\n",
       "  </tbody>\n",
       "</table>\n",
       "</div>"
      ],
      "text/plain": [
       "       children_number  age_in_years            education  education_id  \\\n",
       "10701                0            24  неоконченное высшее             2   \n",
       "\n",
       "          family_status  family_status_id gender employment_type  debt  \\\n",
       "10701  гражданский брак                 1    XNA       компаньон     0   \n",
       "\n",
       "       monthly_income        credit_purpose  years_employed  \n",
       "10701   203905.157261  покупка недвижимости        6.461919  "
      ]
     },
     "execution_count": 27,
     "metadata": {},
     "output_type": "execute_result"
    }
   ],
   "source": [
    "# количество строк, в которых gender - `XNA`\n",
    "data[data['gender'] == 'XNA']"
   ]
  },
  {
   "cell_type": "markdown",
   "metadata": {},
   "source": [
    "Пол \"XNA\" встречается только в одной строке таблицы. Всего строк-21525.\n",
    "Удаление одной строки незначительно повлияет на результат проверки гипотезы, поэтому ее можно удалить."
   ]
  },
  {
   "cell_type": "code",
   "execution_count": 28,
   "metadata": {},
   "outputs": [],
   "source": [
    "# удаление строки\n",
    "data = data.drop(data[data['gender'] == 'XNA'].index)"
   ]
  },
  {
   "cell_type": "code",
   "execution_count": 29,
   "metadata": {},
   "outputs": [
    {
     "name": "stdout",
     "output_type": "stream",
     "text": [
      "['F' 'M']\n"
     ]
    },
    {
     "data": {
      "text/html": [
       "<div>\n",
       "<style scoped>\n",
       "    .dataframe tbody tr th:only-of-type {\n",
       "        vertical-align: middle;\n",
       "    }\n",
       "\n",
       "    .dataframe tbody tr th {\n",
       "        vertical-align: top;\n",
       "    }\n",
       "\n",
       "    .dataframe thead th {\n",
       "        text-align: right;\n",
       "    }\n",
       "</style>\n",
       "<table border=\"1\" class=\"dataframe\">\n",
       "  <thead>\n",
       "    <tr style=\"text-align: right;\">\n",
       "      <th></th>\n",
       "      <th>children_number</th>\n",
       "      <th>age_in_years</th>\n",
       "      <th>education</th>\n",
       "      <th>education_id</th>\n",
       "      <th>family_status</th>\n",
       "      <th>family_status_id</th>\n",
       "      <th>gender</th>\n",
       "      <th>employment_type</th>\n",
       "      <th>debt</th>\n",
       "      <th>monthly_income</th>\n",
       "      <th>credit_purpose</th>\n",
       "      <th>years_employed</th>\n",
       "    </tr>\n",
       "  </thead>\n",
       "  <tbody>\n",
       "  </tbody>\n",
       "</table>\n",
       "</div>"
      ],
      "text/plain": [
       "Empty DataFrame\n",
       "Columns: [children_number, age_in_years, education, education_id, family_status, family_status_id, gender, employment_type, debt, monthly_income, credit_purpose, years_employed]\n",
       "Index: []"
      ]
     },
     "execution_count": 29,
     "metadata": {},
     "output_type": "execute_result"
    }
   ],
   "source": [
    "# проверка\n",
    "print(data['gender'].unique())\n",
    "data[data['gender'] == 'XNA']"
   ]
  },
  {
   "cell_type": "markdown",
   "metadata": {},
   "source": [
    "<div class=\"alert alert-success\">\n",
    "    \n",
    "<b> Комментарий от ревьюера</b>\n",
    "    \n",
    "Молодец, что изучила все признаки\n",
    "</div>\n"
   ]
  },
  {
   "cell_type": "markdown",
   "metadata": {},
   "source": [
    "### Обработка пропусков"
   ]
  },
  {
   "cell_type": "code",
   "execution_count": 30,
   "metadata": {
    "scrolled": false
   },
   "outputs": [
    {
     "data": {
      "text/plain": [
       "children_number        0\n",
       "age_in_years           0\n",
       "education              0\n",
       "education_id           0\n",
       "family_status          0\n",
       "family_status_id       0\n",
       "gender                 0\n",
       "employment_type        0\n",
       "debt                   0\n",
       "monthly_income      2174\n",
       "credit_purpose         0\n",
       "years_employed      2174\n",
       "dtype: int64"
      ]
     },
     "execution_count": 30,
     "metadata": {},
     "output_type": "execute_result"
    }
   ],
   "source": [
    "# подсчет числа пропусков в каждой колонке\n",
    "data.isna().sum()"
   ]
  },
  {
   "cell_type": "markdown",
   "metadata": {},
   "source": [
    "Пропущенные значения есть в колонках `years_employed` (2174 раз) и `monthly_income` (2174 раз) (общий трудовой стаж в днях и ежемесячный доход клиента соответственно). \n",
    "Колонки с этими данными нельзя исключить из таблицы, так как они являются одими из важных критериев одобрения кредита.\n",
    "Пропуски в этих столбцах появились, возможно, потому что человеку выплачивалась \"серая\" зарплата или сведений об этих данных нет. Также вероятен человеческий фактор."
   ]
  },
  {
   "cell_type": "markdown",
   "metadata": {},
   "source": [
    "Проверим, что значения в ячейках этих столбцов пропущены одновременно."
   ]
  },
  {
   "cell_type": "code",
   "execution_count": 31,
   "metadata": {},
   "outputs": [
    {
     "data": {
      "text/plain": [
       "2174"
      ]
     },
     "execution_count": 31,
     "metadata": {},
     "output_type": "execute_result"
    }
   ],
   "source": [
    "# подсчет одновременно пропущенных значений есть в колонках `days_employed` и `monthly_income`\n",
    "len(data[data['years_employed'].isna() & data['monthly_income'].isna()])"
   ]
  },
  {
   "cell_type": "code",
   "execution_count": 32,
   "metadata": {
    "scrolled": false
   },
   "outputs": [
    {
     "data": {
      "text/html": [
       "<div>\n",
       "<style scoped>\n",
       "    .dataframe tbody tr th:only-of-type {\n",
       "        vertical-align: middle;\n",
       "    }\n",
       "\n",
       "    .dataframe tbody tr th {\n",
       "        vertical-align: top;\n",
       "    }\n",
       "\n",
       "    .dataframe thead th {\n",
       "        text-align: right;\n",
       "    }\n",
       "</style>\n",
       "<table border=\"1\" class=\"dataframe\">\n",
       "  <thead>\n",
       "    <tr style=\"text-align: right;\">\n",
       "      <th></th>\n",
       "      <th>children_number</th>\n",
       "      <th>age_in_years</th>\n",
       "      <th>education</th>\n",
       "      <th>education_id</th>\n",
       "      <th>family_status</th>\n",
       "      <th>family_status_id</th>\n",
       "      <th>gender</th>\n",
       "      <th>employment_type</th>\n",
       "      <th>debt</th>\n",
       "      <th>monthly_income</th>\n",
       "      <th>credit_purpose</th>\n",
       "      <th>years_employed</th>\n",
       "    </tr>\n",
       "  </thead>\n",
       "  <tbody>\n",
       "    <tr>\n",
       "      <td>12</td>\n",
       "      <td>0</td>\n",
       "      <td>65</td>\n",
       "      <td>среднее</td>\n",
       "      <td>1</td>\n",
       "      <td>гражданский брак</td>\n",
       "      <td>1</td>\n",
       "      <td>M</td>\n",
       "      <td>пенсионер</td>\n",
       "      <td>0</td>\n",
       "      <td>NaN</td>\n",
       "      <td>сыграть свадьбу</td>\n",
       "      <td>NaN</td>\n",
       "    </tr>\n",
       "    <tr>\n",
       "      <td>26</td>\n",
       "      <td>0</td>\n",
       "      <td>41</td>\n",
       "      <td>среднее</td>\n",
       "      <td>1</td>\n",
       "      <td>женат / замужем</td>\n",
       "      <td>0</td>\n",
       "      <td>M</td>\n",
       "      <td>госслужащий</td>\n",
       "      <td>0</td>\n",
       "      <td>NaN</td>\n",
       "      <td>образование</td>\n",
       "      <td>NaN</td>\n",
       "    </tr>\n",
       "    <tr>\n",
       "      <td>29</td>\n",
       "      <td>0</td>\n",
       "      <td>63</td>\n",
       "      <td>среднее</td>\n",
       "      <td>1</td>\n",
       "      <td>Не женат / не замужем</td>\n",
       "      <td>4</td>\n",
       "      <td>F</td>\n",
       "      <td>пенсионер</td>\n",
       "      <td>0</td>\n",
       "      <td>NaN</td>\n",
       "      <td>строительство жилой недвижимости</td>\n",
       "      <td>NaN</td>\n",
       "    </tr>\n",
       "    <tr>\n",
       "      <td>41</td>\n",
       "      <td>0</td>\n",
       "      <td>50</td>\n",
       "      <td>среднее</td>\n",
       "      <td>1</td>\n",
       "      <td>женат / замужем</td>\n",
       "      <td>0</td>\n",
       "      <td>F</td>\n",
       "      <td>госслужащий</td>\n",
       "      <td>0</td>\n",
       "      <td>NaN</td>\n",
       "      <td>сделка с подержанным автомобилем</td>\n",
       "      <td>NaN</td>\n",
       "    </tr>\n",
       "    <tr>\n",
       "      <td>55</td>\n",
       "      <td>0</td>\n",
       "      <td>54</td>\n",
       "      <td>среднее</td>\n",
       "      <td>1</td>\n",
       "      <td>гражданский брак</td>\n",
       "      <td>1</td>\n",
       "      <td>F</td>\n",
       "      <td>пенсионер</td>\n",
       "      <td>1</td>\n",
       "      <td>NaN</td>\n",
       "      <td>сыграть свадьбу</td>\n",
       "      <td>NaN</td>\n",
       "    </tr>\n",
       "  </tbody>\n",
       "</table>\n",
       "</div>"
      ],
      "text/plain": [
       "    children_number  age_in_years education  education_id  \\\n",
       "12                0            65   среднее             1   \n",
       "26                0            41   среднее             1   \n",
       "29                0            63   среднее             1   \n",
       "41                0            50   среднее             1   \n",
       "55                0            54   среднее             1   \n",
       "\n",
       "            family_status  family_status_id gender employment_type  debt  \\\n",
       "12       гражданский брак                 1      M       пенсионер     0   \n",
       "26        женат / замужем                 0      M     госслужащий     0   \n",
       "29  Не женат / не замужем                 4      F       пенсионер     0   \n",
       "41        женат / замужем                 0      F     госслужащий     0   \n",
       "55       гражданский брак                 1      F       пенсионер     1   \n",
       "\n",
       "    monthly_income                    credit_purpose  years_employed  \n",
       "12             NaN                   сыграть свадьбу             NaN  \n",
       "26             NaN                       образование             NaN  \n",
       "29             NaN  строительство жилой недвижимости             NaN  \n",
       "41             NaN  сделка с подержанным автомобилем             NaN  \n",
       "55             NaN                   сыграть свадьбу             NaN  "
      ]
     },
     "metadata": {},
     "output_type": "display_data"
    }
   ],
   "source": [
    "# визуальная оценка\n",
    "display(data[data['years_employed'].isna() & data['monthly_income'].isna()].head())"
   ]
  },
  {
   "cell_type": "markdown",
   "metadata": {},
   "source": [
    "Значения в ячейках этих столбцов пропущены одновременно. Удалять строки с пропущенными значениями нельзя. Значит можно провести группировку по столбцам `age_in_years`и `gender` , а затем для каждой группы найти медиану и присвоить ее пропускам из той же группы\n"
   ]
  },
  {
   "cell_type": "markdown",
   "metadata": {},
   "source": [
    "**Сначала производится заполнение пропусков в столбце `years_employed`**"
   ]
  },
  {
   "cell_type": "code",
   "execution_count": 33,
   "metadata": {},
   "outputs": [],
   "source": [
    "# построение сводной таблицы по полу и возрасту\n",
    "# далее для каждой группы считается медианное значение трудового стажа\n",
    "days_employed_pivot = data.pivot_table(index=['age_in_years'],\n",
    "                                columns = 'gender',\n",
    "                                values = 'years_employed',\n",
    "                                aggfunc='median')"
   ]
  },
  {
   "cell_type": "code",
   "execution_count": 34,
   "metadata": {},
   "outputs": [
    {
     "data": {
      "text/html": [
       "<div>\n",
       "<style scoped>\n",
       "    .dataframe tbody tr th:only-of-type {\n",
       "        vertical-align: middle;\n",
       "    }\n",
       "\n",
       "    .dataframe tbody tr th {\n",
       "        vertical-align: top;\n",
       "    }\n",
       "\n",
       "    .dataframe thead th {\n",
       "        text-align: right;\n",
       "    }\n",
       "</style>\n",
       "<table border=\"1\" class=\"dataframe\">\n",
       "  <thead>\n",
       "    <tr style=\"text-align: right;\">\n",
       "      <th>gender</th>\n",
       "      <th>F</th>\n",
       "      <th>M</th>\n",
       "    </tr>\n",
       "    <tr>\n",
       "      <th>age_in_years</th>\n",
       "      <th></th>\n",
       "      <th></th>\n",
       "    </tr>\n",
       "  </thead>\n",
       "  <tbody>\n",
       "    <tr>\n",
       "      <td>18</td>\n",
       "      <td>6.188825</td>\n",
       "      <td>2.840121</td>\n",
       "    </tr>\n",
       "    <tr>\n",
       "      <td>19</td>\n",
       "      <td>1.945838</td>\n",
       "      <td>2.425393</td>\n",
       "    </tr>\n",
       "    <tr>\n",
       "      <td>20</td>\n",
       "      <td>1.631669</td>\n",
       "      <td>2.412408</td>\n",
       "    </tr>\n",
       "    <tr>\n",
       "      <td>21</td>\n",
       "      <td>1.665763</td>\n",
       "      <td>1.718317</td>\n",
       "    </tr>\n",
       "    <tr>\n",
       "      <td>22</td>\n",
       "      <td>1.912607</td>\n",
       "      <td>2.029730</td>\n",
       "    </tr>\n",
       "    <tr>\n",
       "      <td>23</td>\n",
       "      <td>1.738662</td>\n",
       "      <td>1.993697</td>\n",
       "    </tr>\n",
       "    <tr>\n",
       "      <td>24</td>\n",
       "      <td>2.643547</td>\n",
       "      <td>2.469998</td>\n",
       "    </tr>\n",
       "    <tr>\n",
       "      <td>25</td>\n",
       "      <td>2.605977</td>\n",
       "      <td>2.380990</td>\n",
       "    </tr>\n",
       "    <tr>\n",
       "      <td>26</td>\n",
       "      <td>3.237984</td>\n",
       "      <td>2.640139</td>\n",
       "    </tr>\n",
       "    <tr>\n",
       "      <td>27</td>\n",
       "      <td>3.465408</td>\n",
       "      <td>3.075200</td>\n",
       "    </tr>\n",
       "  </tbody>\n",
       "</table>\n",
       "</div>"
      ],
      "text/plain": [
       "gender               F         M\n",
       "age_in_years                    \n",
       "18            6.188825  2.840121\n",
       "19            1.945838  2.425393\n",
       "20            1.631669  2.412408\n",
       "21            1.665763  1.718317\n",
       "22            1.912607  2.029730\n",
       "23            1.738662  1.993697\n",
       "24            2.643547  2.469998\n",
       "25            2.605977  2.380990\n",
       "26            3.237984  2.640139\n",
       "27            3.465408  3.075200"
      ]
     },
     "execution_count": 34,
     "metadata": {},
     "output_type": "execute_result"
    }
   ],
   "source": [
    "# первые 10 строк сводной таблицы\n",
    "days_employed_pivot.head(10)"
   ]
  },
  {
   "cell_type": "code",
   "execution_count": 35,
   "metadata": {},
   "outputs": [],
   "source": [
    "# определение функции по заполнению пропусков в столбце 'days_employed' медианными значениями\n",
    "# с учетом группировки по полу и возрасту\n",
    "def days_employed_fill(data):\n",
    "    \"\"\"Функция проверяет значения в столбце 'days_employed'.\n",
    "    Если оно пропущено, то меняет на медианное значение трудового стажа\n",
    "    с учетом принадлежности к такой же группе по полу и возрасту.\n",
    "    Иначе, оставляет прежнее значение.\n",
    "    \"\"\"\n",
    "    gender = data['gender']\n",
    "    age = data['age_in_years']\n",
    "    if pd.isna(data['years_employed']):\n",
    "        return days_employed_pivot.loc[age,gender]\n",
    "    else:\n",
    "        return data['years_employed']"
   ]
  },
  {
   "cell_type": "code",
   "execution_count": 36,
   "metadata": {},
   "outputs": [],
   "source": [
    "# заполнение пропусков в столбце 'years_employed' с использованием функции days_employed_fill\n",
    "data['years_employed'] = data.apply(days_employed_fill, axis = 1)"
   ]
  },
  {
   "cell_type": "code",
   "execution_count": 37,
   "metadata": {},
   "outputs": [
    {
     "data": {
      "text/plain": [
       "0"
      ]
     },
     "execution_count": 37,
     "metadata": {},
     "output_type": "execute_result"
    }
   ],
   "source": [
    "# подсчет числа пропусков в колонке 'years_employed'\n",
    "data['years_employed'].isna().sum()"
   ]
  },
  {
   "cell_type": "markdown",
   "metadata": {},
   "source": [
    "<div class=\"alert alert-success\">\n",
    "    \n",
    "<b> Комментарий от ревьюера</b>\n",
    "    \n",
    "Посмотри [тут](https://stackoverflow.com/questions/19966018/pandas-filling-missing-values-by-mean-in-each-group), как можно заполнить пропуски групповыми медианами без создания дополнительных переменных и функций\n",
    "</div>"
   ]
  },
  {
   "cell_type": "markdown",
   "metadata": {},
   "source": [
    "<div class=\"alert alert-info\">\n",
    "\n",
    "<b>Комментарий студента</b>\n",
    "    \n",
    "Спасибо :)\n",
    "</div>"
   ]
  },
  {
   "cell_type": "markdown",
   "metadata": {},
   "source": [
    "**Осталось заполнить пропуски в столбце `monthly_income`**"
   ]
  },
  {
   "cell_type": "code",
   "execution_count": 38,
   "metadata": {},
   "outputs": [
    {
     "data": {
      "text/plain": [
       "count      19350\n",
       "mean      167420\n",
       "std       102973\n",
       "min        20667\n",
       "25%       103040\n",
       "50%       145011\n",
       "75%       203424\n",
       "max      2265604\n",
       "Name: monthly_income, dtype: int64"
      ]
     },
     "execution_count": 38,
     "metadata": {},
     "output_type": "execute_result"
    }
   ],
   "source": [
    "# обзор значений столбца 'monthly_income' с округлением до целых\n",
    "data['monthly_income'].describe().astype(int)"
   ]
  },
  {
   "cell_type": "markdown",
   "metadata": {},
   "source": [
    "Можно заполнить пропуски медианным значениями общего месячного дохода, но так не следует делать из-за большого разброса значений.\n",
    "Помимо этого максимальный месячный доход почти в 110 раз превышает минимальный, а также сумма в 2 миллиона очень велика для ежемесячного дохода. Следовательно стоит заполнить пропуски медианными значениями ежемесячного дохода опираясь на пол и возраст."
   ]
  },
  {
   "cell_type": "code",
   "execution_count": 39,
   "metadata": {},
   "outputs": [],
   "source": [
    "monthly_income_pivot = data.pivot_table(index=['age_in_years'],\n",
    "                                    columns = 'gender',\n",
    "                                    values = 'monthly_income',\n",
    "                                    aggfunc='median')"
   ]
  },
  {
   "cell_type": "code",
   "execution_count": 40,
   "metadata": {},
   "outputs": [
    {
     "data": {
      "text/html": [
       "<div>\n",
       "<style scoped>\n",
       "    .dataframe tbody tr th:only-of-type {\n",
       "        vertical-align: middle;\n",
       "    }\n",
       "\n",
       "    .dataframe tbody tr th {\n",
       "        vertical-align: top;\n",
       "    }\n",
       "\n",
       "    .dataframe thead th {\n",
       "        text-align: right;\n",
       "    }\n",
       "</style>\n",
       "<table border=\"1\" class=\"dataframe\">\n",
       "  <thead>\n",
       "    <tr style=\"text-align: right;\">\n",
       "      <th>gender</th>\n",
       "      <th>F</th>\n",
       "      <th>M</th>\n",
       "    </tr>\n",
       "    <tr>\n",
       "      <th>age_in_years</th>\n",
       "      <th></th>\n",
       "      <th></th>\n",
       "    </tr>\n",
       "  </thead>\n",
       "  <tbody>\n",
       "    <tr>\n",
       "      <td>18</td>\n",
       "      <td>117279.001914</td>\n",
       "      <td>179138.212343</td>\n",
       "    </tr>\n",
       "    <tr>\n",
       "      <td>19</td>\n",
       "      <td>112217.756662</td>\n",
       "      <td>91876.754772</td>\n",
       "    </tr>\n",
       "    <tr>\n",
       "      <td>20</td>\n",
       "      <td>101512.989536</td>\n",
       "      <td>134750.749515</td>\n",
       "    </tr>\n",
       "    <tr>\n",
       "      <td>21</td>\n",
       "      <td>112778.853259</td>\n",
       "      <td>147812.788085</td>\n",
       "    </tr>\n",
       "    <tr>\n",
       "      <td>22</td>\n",
       "      <td>111633.034748</td>\n",
       "      <td>158258.854591</td>\n",
       "    </tr>\n",
       "    <tr>\n",
       "      <td>23</td>\n",
       "      <td>117755.877467</td>\n",
       "      <td>137544.158776</td>\n",
       "    </tr>\n",
       "    <tr>\n",
       "      <td>24</td>\n",
       "      <td>122193.154166</td>\n",
       "      <td>153115.076039</td>\n",
       "    </tr>\n",
       "    <tr>\n",
       "      <td>25</td>\n",
       "      <td>131764.441672</td>\n",
       "      <td>161883.762815</td>\n",
       "    </tr>\n",
       "    <tr>\n",
       "      <td>26</td>\n",
       "      <td>132408.440852</td>\n",
       "      <td>165998.158511</td>\n",
       "    </tr>\n",
       "    <tr>\n",
       "      <td>27</td>\n",
       "      <td>142601.204718</td>\n",
       "      <td>170124.764755</td>\n",
       "    </tr>\n",
       "  </tbody>\n",
       "</table>\n",
       "</div>"
      ],
      "text/plain": [
       "gender                    F              M\n",
       "age_in_years                              \n",
       "18            117279.001914  179138.212343\n",
       "19            112217.756662   91876.754772\n",
       "20            101512.989536  134750.749515\n",
       "21            112778.853259  147812.788085\n",
       "22            111633.034748  158258.854591\n",
       "23            117755.877467  137544.158776\n",
       "24            122193.154166  153115.076039\n",
       "25            131764.441672  161883.762815\n",
       "26            132408.440852  165998.158511\n",
       "27            142601.204718  170124.764755"
      ]
     },
     "execution_count": 40,
     "metadata": {},
     "output_type": "execute_result"
    }
   ],
   "source": [
    "monthly_income_pivot.head(10)"
   ]
  },
  {
   "cell_type": "code",
   "execution_count": 41,
   "metadata": {},
   "outputs": [],
   "source": [
    "# определение функции по заполнению пропусков в столбце 'monthly_income' медианными значениями\n",
    "# с учетом группировки по полу и возрасту\n",
    "def monthly_income_fill(data):\n",
    "    \"\"\"Функция проверяет значения в столбце 'monthly_income'.\n",
    "    Если оно пропущено, то меняет на медианное значение ежемесячного дохода\n",
    "    с учетом принадлежности к такой же группе по полу и возрасту.\n",
    "    Иначе, оставляет прежнее значение.\n",
    "    \"\"\"\n",
    "    gender = data['gender']\n",
    "    age = data['age_in_years']\n",
    "    if pd.isna(data['monthly_income']):\n",
    "        return monthly_income_pivot.loc[age,gender]\n",
    "    else:\n",
    "        return data['monthly_income']"
   ]
  },
  {
   "cell_type": "code",
   "execution_count": 42,
   "metadata": {},
   "outputs": [],
   "source": [
    "# заполнение пропусков в столбце 'monthly_income' с использованием функции monthly_income_fill\n",
    "data['monthly_income'] = data.apply(monthly_income_fill, axis = 1)"
   ]
  },
  {
   "cell_type": "code",
   "execution_count": 43,
   "metadata": {},
   "outputs": [
    {
     "data": {
      "text/plain": [
       "0"
      ]
     },
     "execution_count": 43,
     "metadata": {},
     "output_type": "execute_result"
    }
   ],
   "source": [
    "# подсчет числа пропусков в колонке 'monthly_income'\n",
    "data['monthly_income'].isna().sum()"
   ]
  },
  {
   "cell_type": "code",
   "execution_count": 44,
   "metadata": {},
   "outputs": [
    {
     "name": "stdout",
     "output_type": "stream",
     "text": [
      "<class 'pandas.core.frame.DataFrame'>\n",
      "Int64Index: 21524 entries, 0 to 21524\n",
      "Data columns (total 12 columns):\n",
      "children_number     21524 non-null int64\n",
      "age_in_years        21524 non-null int64\n",
      "education           21524 non-null object\n",
      "education_id        21524 non-null int64\n",
      "family_status       21524 non-null object\n",
      "family_status_id    21524 non-null int64\n",
      "gender              21524 non-null object\n",
      "employment_type     21524 non-null object\n",
      "debt                21524 non-null int64\n",
      "monthly_income      21524 non-null float64\n",
      "credit_purpose      21524 non-null object\n",
      "years_employed      21524 non-null float64\n",
      "dtypes: float64(2), int64(5), object(5)\n",
      "memory usage: 2.1+ MB\n"
     ]
    }
   ],
   "source": [
    "# обзор данных полученной таблицы\n",
    "data.info()"
   ]
  },
  {
   "cell_type": "code",
   "execution_count": 45,
   "metadata": {
    "scrolled": true
   },
   "outputs": [
    {
     "name": "stdout",
     "output_type": "stream",
     "text": [
      "children_number     0\n",
      "age_in_years        0\n",
      "education           0\n",
      "education_id        0\n",
      "family_status       0\n",
      "family_status_id    0\n",
      "gender              0\n",
      "employment_type     0\n",
      "debt                0\n",
      "monthly_income      0\n",
      "credit_purpose      0\n",
      "years_employed      0\n",
      "dtype: int64\n"
     ]
    }
   ],
   "source": [
    "# проверка отсутствия пропусков в таблице\n",
    "print(data.isna().sum())"
   ]
  },
  {
   "cell_type": "markdown",
   "metadata": {},
   "source": [
    "Пропусков в таблице нет."
   ]
  },
  {
   "cell_type": "markdown",
   "metadata": {},
   "source": [
    "**Вывод**"
   ]
  },
  {
   "cell_type": "markdown",
   "metadata": {},
   "source": [
    "Пропуски в таблице заполнены на основе зависящих признаков-возраста и пола.\n",
    "Пропуски в этих столбцах появились, возможно, потому что человеку выплачивалась \"серая\" зарплата или сведений об этих данных нет. Также вероятен человеческий фактор.\n",
    "В дальнейшем необходимо спрашивать тех, кто предоставил данные для анализа о возможных причинах пропуска значений в столбцах."
   ]
  },
  {
   "cell_type": "markdown",
   "metadata": {},
   "source": [
    "<div class=\"alert alert-success\">\n",
    "    \n",
    "<b> Комментарий от ревьюера</b>\n",
    "    \n",
    "Ты хорошо справилась с обработкой пропусков\n",
    "</div>"
   ]
  },
  {
   "cell_type": "markdown",
   "metadata": {},
   "source": [
    "### Замена типа данных"
   ]
  },
  {
   "cell_type": "code",
   "execution_count": 46,
   "metadata": {},
   "outputs": [
    {
     "name": "stdout",
     "output_type": "stream",
     "text": [
      "<class 'pandas.core.frame.DataFrame'>\n",
      "Int64Index: 21524 entries, 0 to 21524\n",
      "Data columns (total 12 columns):\n",
      "children_number     21524 non-null int64\n",
      "age_in_years        21524 non-null int64\n",
      "education           21524 non-null object\n",
      "education_id        21524 non-null int64\n",
      "family_status       21524 non-null object\n",
      "family_status_id    21524 non-null int64\n",
      "gender              21524 non-null object\n",
      "employment_type     21524 non-null object\n",
      "debt                21524 non-null int64\n",
      "monthly_income      21524 non-null float64\n",
      "credit_purpose      21524 non-null object\n",
      "years_employed      21524 non-null float64\n",
      "dtypes: float64(2), int64(5), object(5)\n",
      "memory usage: 2.1+ MB\n"
     ]
    }
   ],
   "source": [
    "# обзор данных полученной таблицы\n",
    "data.info()"
   ]
  },
  {
   "cell_type": "markdown",
   "metadata": {},
   "source": [
    "Значения в столбцах `monthly_income` и `years_employed` записаны в формате `float64`, его лучше сменить на `int64` для того чтобы избавиться от наличия знаков после запятой в расчетах.\n",
    "В результатах понадобятся только целые числа."
   ]
  },
  {
   "cell_type": "code",
   "execution_count": 47,
   "metadata": {},
   "outputs": [],
   "source": [
    "# смена формата данных в столбце 'years_employed' с float64 на int64\n",
    "data['years_employed'] = data['years_employed'].astype(int)"
   ]
  },
  {
   "cell_type": "code",
   "execution_count": 48,
   "metadata": {},
   "outputs": [],
   "source": [
    "# смена формата данных в столбце 'monthly_income' с float64 на int64\n",
    "data['monthly_income'] = data['monthly_income'].astype(int)"
   ]
  },
  {
   "cell_type": "code",
   "execution_count": 49,
   "metadata": {},
   "outputs": [
    {
     "name": "stdout",
     "output_type": "stream",
     "text": [
      "<class 'pandas.core.frame.DataFrame'>\n",
      "Int64Index: 21524 entries, 0 to 21524\n",
      "Data columns (total 12 columns):\n",
      "children_number     21524 non-null int64\n",
      "age_in_years        21524 non-null int64\n",
      "education           21524 non-null object\n",
      "education_id        21524 non-null int64\n",
      "family_status       21524 non-null object\n",
      "family_status_id    21524 non-null int64\n",
      "gender              21524 non-null object\n",
      "employment_type     21524 non-null object\n",
      "debt                21524 non-null int64\n",
      "monthly_income      21524 non-null int64\n",
      "credit_purpose      21524 non-null object\n",
      "years_employed      21524 non-null int64\n",
      "dtypes: int64(7), object(5)\n",
      "memory usage: 2.1+ MB\n"
     ]
    }
   ],
   "source": [
    "# проверка данных полученной таблицы\n",
    "data.info()"
   ]
  },
  {
   "cell_type": "markdown",
   "metadata": {},
   "source": [
    "**Вывод**"
   ]
  },
  {
   "cell_type": "markdown",
   "metadata": {},
   "source": [
    "При изменении типа данных использовался метод astype(), так как именно он переводит числа, хранящиеся в pandas.Series в целочисленный формат int64.\n",
    "Теперь все числа в таблице представлены в удобном формате для последующих расчетов."
   ]
  },
  {
   "cell_type": "markdown",
   "metadata": {},
   "source": [
    "<div class=\"alert alert-success\">\n",
    "    \n",
    "<b> Комментарий от ревьюера</b>\n",
    "    \n",
    "Все верно\n",
    "</div>"
   ]
  },
  {
   "cell_type": "markdown",
   "metadata": {},
   "source": [
    "### Обработка дубликатов"
   ]
  },
  {
   "cell_type": "markdown",
   "metadata": {},
   "source": [
    "Все строки исследуемой таблицы должны быть очищены от явных и неявных дубликатов."
   ]
  },
  {
   "cell_type": "markdown",
   "metadata": {},
   "source": [
    "**Проверка на явные дубликаты**"
   ]
  },
  {
   "cell_type": "code",
   "execution_count": 50,
   "metadata": {},
   "outputs": [
    {
     "data": {
      "text/plain": [
       "54"
      ]
     },
     "execution_count": 50,
     "metadata": {},
     "output_type": "execute_result"
    }
   ],
   "source": [
    "# сначала явные дубликаты находятся методом duplicated() для подсчета явных дубликатов\n",
    "# затем их количество подсчитывается методом sum()\n",
    "data.duplicated().sum()"
   ]
  },
  {
   "cell_type": "code",
   "execution_count": 51,
   "metadata": {},
   "outputs": [],
   "source": [
    "# удаление явных дубликатов (с удалением старых индексов и формированием новых)\n",
    "data = data.drop_duplicates().reset_index(drop = True)"
   ]
  },
  {
   "cell_type": "code",
   "execution_count": 52,
   "metadata": {},
   "outputs": [
    {
     "data": {
      "text/plain": [
       "0"
      ]
     },
     "execution_count": 52,
     "metadata": {},
     "output_type": "execute_result"
    }
   ],
   "source": [
    "# проверка на отсутствие дубликатов\n",
    "data.duplicated().sum()"
   ]
  },
  {
   "cell_type": "markdown",
   "metadata": {},
   "source": [
    "**Проверка на неявные дубликаты**"
   ]
  },
  {
   "cell_type": "code",
   "execution_count": 53,
   "metadata": {},
   "outputs": [
    {
     "data": {
      "text/plain": [
       "array(['высшее', 'среднее', 'Среднее', 'СРЕДНЕЕ', 'ВЫСШЕЕ',\n",
       "       'неоконченное высшее', 'начальное', 'Высшее',\n",
       "       'НЕОКОНЧЕННОЕ ВЫСШЕЕ', 'Неоконченное высшее', 'НАЧАЛЬНОЕ',\n",
       "       'Начальное', 'Ученая степень', 'УЧЕНАЯ СТЕПЕНЬ', 'ученая степень'],\n",
       "      dtype=object)"
      ]
     },
     "execution_count": 53,
     "metadata": {},
     "output_type": "execute_result"
    }
   ],
   "source": [
    "# проверка столбца 'education' на наличие дубликатов методом unique()\n",
    "data[\"education\"].unique()"
   ]
  },
  {
   "cell_type": "markdown",
   "metadata": {},
   "source": [
    "В столбце дубликаты отличаются по регистру, это можно легко исправить методом lower()"
   ]
  },
  {
   "cell_type": "code",
   "execution_count": 54,
   "metadata": {},
   "outputs": [],
   "source": [
    "# исправление дубликатов методом lower()\n",
    "data[\"education\"] = data[\"education\"].str.lower()"
   ]
  },
  {
   "cell_type": "code",
   "execution_count": 55,
   "metadata": {},
   "outputs": [
    {
     "data": {
      "text/plain": [
       "array(['высшее', 'среднее', 'неоконченное высшее', 'начальное',\n",
       "       'ученая степень'], dtype=object)"
      ]
     },
     "execution_count": 55,
     "metadata": {},
     "output_type": "execute_result"
    }
   ],
   "source": [
    "# повторная проверка\n",
    "data[\"education\"].unique()"
   ]
  },
  {
   "cell_type": "code",
   "execution_count": 56,
   "metadata": {},
   "outputs": [
    {
     "data": {
      "text/plain": [
       "array(['женат / замужем', 'гражданский брак', 'вдовец / вдова',\n",
       "       'в разводе', 'Не женат / не замужем'], dtype=object)"
      ]
     },
     "execution_count": 56,
     "metadata": {},
     "output_type": "execute_result"
    }
   ],
   "source": [
    "# проверка столбца 'family_status' на наличие дубликатов методом unique()\n",
    "data[\"family_status\"].unique()"
   ]
  },
  {
   "cell_type": "markdown",
   "metadata": {},
   "source": [
    "Аналогично, исправление методом lower()"
   ]
  },
  {
   "cell_type": "code",
   "execution_count": 57,
   "metadata": {},
   "outputs": [],
   "source": [
    "# исправление дубликатов методом lower()\n",
    "data[\"family_status\"] = data[\"family_status\"].str.lower()"
   ]
  },
  {
   "cell_type": "code",
   "execution_count": 58,
   "metadata": {},
   "outputs": [
    {
     "data": {
      "text/plain": [
       "array(['женат / замужем', 'гражданский брак', 'вдовец / вдова',\n",
       "       'в разводе', 'не женат / не замужем'], dtype=object)"
      ]
     },
     "execution_count": 58,
     "metadata": {},
     "output_type": "execute_result"
    }
   ],
   "source": [
    "# повторная проверка\n",
    "data[\"family_status\"].unique()"
   ]
  },
  {
   "cell_type": "code",
   "execution_count": 59,
   "metadata": {},
   "outputs": [
    {
     "data": {
      "text/plain": [
       "array(['сотрудник', 'пенсионер', 'компаньон', 'госслужащий',\n",
       "       'безработный', 'предприниматель', 'студент', 'в декрете'],\n",
       "      dtype=object)"
      ]
     },
     "execution_count": 59,
     "metadata": {},
     "output_type": "execute_result"
    }
   ],
   "source": [
    "# проверка столбца 'employment_type' на наличие дубликатов методом unique()\n",
    "data[\"employment_type\"].unique()"
   ]
  },
  {
   "cell_type": "markdown",
   "metadata": {},
   "source": [
    "В этом столбце обработка дубликатов не требуется"
   ]
  },
  {
   "cell_type": "code",
   "execution_count": 60,
   "metadata": {},
   "outputs": [
    {
     "data": {
      "text/plain": [
       "17"
      ]
     },
     "execution_count": 60,
     "metadata": {},
     "output_type": "execute_result"
    }
   ],
   "source": [
    "# повторная проверка на явные дубликаты\n",
    "data.duplicated().sum()"
   ]
  },
  {
   "cell_type": "code",
   "execution_count": 61,
   "metadata": {},
   "outputs": [],
   "source": [
    "# удаление явных дубликатов (с удалением старых индексов и формированием новых)\n",
    "data = data.drop_duplicates().reset_index(drop = True)"
   ]
  },
  {
   "cell_type": "code",
   "execution_count": 62,
   "metadata": {},
   "outputs": [
    {
     "data": {
      "text/plain": [
       "0"
      ]
     },
     "execution_count": 62,
     "metadata": {},
     "output_type": "execute_result"
    }
   ],
   "source": [
    "# финальная повторная проверка на явные дубликаты\n",
    "data.duplicated().sum()"
   ]
  },
  {
   "cell_type": "markdown",
   "metadata": {},
   "source": [
    "**Вывод**"
   ]
  },
  {
   "cell_type": "markdown",
   "metadata": {},
   "source": [
    "Данные таблицы полностью очищены от явных и неявных дубликатов.\n",
    "Дубликаты различались только по регистру.\n",
    "Возможная причина появления: данные вносили разные люди. Кто-то начинал писать с заглавной буквы, кто-то с прописной. А кто-то и вовсе не обращал внимания на то что зажата клавиша Caps Lock."
   ]
  },
  {
   "cell_type": "markdown",
   "metadata": {},
   "source": [
    "<div class=\"alert alert-success\">\n",
    "    \n",
    "<b> Комментарий от ревьюера</b>\n",
    "    \n",
    "Здорово, что ты обработала явные и неявные дубликаты\n",
    "</div>"
   ]
  },
  {
   "cell_type": "markdown",
   "metadata": {},
   "source": [
    "### Лемматизация"
   ]
  },
  {
   "cell_type": "markdown",
   "metadata": {},
   "source": [
    "Для начала необходимо импортировать библиотеку с функцией лемматизации на русском языке и специальный контейнер \"Counter\" из модуля \"collections\" для подсчета числа лемматизированных слов."
   ]
  },
  {
   "cell_type": "markdown",
   "metadata": {},
   "source": [
    "<div class=\"alert alert-warning\">\n",
    "    \n",
    "<b> Комментарий от ревьюера</b>\n",
    "    \n",
    "Все библиотеки лучше импортировать в начале файла. Об этом говорится в [стилевом гайде по питону](https://www.python.org/dev/peps/pep-0008/#imports)\n",
    "    \n",
    "    Imports are always put at the top of the file, just after any module comments and docstrings, and before module globals and constants.\n",
    "</div>"
   ]
  },
  {
   "cell_type": "markdown",
   "metadata": {},
   "source": [
    "<div class=\"alert alert-info\">\n",
    "\n",
    "<b>Комментарий студента</b>\n",
    "\n",
    "Хорошо, поняла\n",
    "</div>"
   ]
  },
  {
   "cell_type": "code",
   "execution_count": 63,
   "metadata": {},
   "outputs": [],
   "source": [
    "# импорт необходимых библиотек\n",
    "from pymystem3 import Mystem\n",
    "from collections import Counter"
   ]
  },
  {
   "cell_type": "code",
   "execution_count": 64,
   "metadata": {},
   "outputs": [],
   "source": [
    "# присвоение переменной m метода Mystem()\n",
    "m = Mystem()"
   ]
  },
  {
   "cell_type": "code",
   "execution_count": 65,
   "metadata": {},
   "outputs": [
    {
     "data": {
      "text/plain": [
       "array(['покупка жилья', 'приобретение автомобиля',\n",
       "       'дополнительное образование', 'сыграть свадьбу',\n",
       "       'операции с жильем', 'образование', 'на проведение свадьбы',\n",
       "       'покупка жилья для семьи', 'покупка недвижимости',\n",
       "       'покупка коммерческой недвижимости', 'покупка жилой недвижимости',\n",
       "       'строительство собственной недвижимости', 'недвижимость',\n",
       "       'строительство недвижимости', 'на покупку подержанного автомобиля',\n",
       "       'на покупку своего автомобиля',\n",
       "       'операции с коммерческой недвижимостью',\n",
       "       'строительство жилой недвижимости', 'жилье',\n",
       "       'операции со своей недвижимостью', 'автомобили',\n",
       "       'заняться образованием', 'сделка с подержанным автомобилем',\n",
       "       'получение образования', 'автомобиль', 'свадьба',\n",
       "       'получение дополнительного образования', 'покупка своего жилья',\n",
       "       'операции с недвижимостью', 'получение высшего образования',\n",
       "       'свой автомобиль', 'сделка с автомобилем',\n",
       "       'профильное образование', 'высшее образование',\n",
       "       'покупка жилья для сдачи', 'на покупку автомобиля', 'ремонт жилью',\n",
       "       'заняться высшим образованием'], dtype=object)"
      ]
     },
     "execution_count": 65,
     "metadata": {},
     "output_type": "execute_result"
    }
   ],
   "source": [
    "# количество уникальных целей\n",
    "unique_credit_purposes = data['credit_purpose'].unique()\n",
    "unique_credit_purposes"
   ]
  },
  {
   "cell_type": "markdown",
   "metadata": {},
   "source": [
    "После изучения различных причин брать кредит, можно выделить несколько основных категорий:\n",
    "- жилье;\n",
    "- автомобиль;\n",
    "- образование;\n",
    "- свадьба;\n",
    "- недвижимость;\n",
    "- строительство;\n",
    "- ремонт."
   ]
  },
  {
   "cell_type": "code",
   "execution_count": 66,
   "metadata": {},
   "outputs": [],
   "source": [
    "# список типов целей брать кредит\n",
    "list_purposes = ['жилье', 'автомобиль', 'образование', 'свадьба',\n",
    "                 'недвижимость', 'строительство', 'ремонт']"
   ]
  },
  {
   "cell_type": "code",
   "execution_count": 67,
   "metadata": {},
   "outputs": [],
   "source": [
    "# определение функции по извлечению лемм и сопоставление их с основными целями кредита\n",
    "def find_purpose_type(credit_purpose):\n",
    "    \"\"\"Функция проверяет, есть ли лемма из list_purposes в ячейке credit_purpose.\n",
    "    Если есть, возвращает ее.\n",
    "    \"\"\"\n",
    "    for lemma in m.lemmatize(credit_purpose):\n",
    "        if lemma in list_purposes:\n",
    "            return lemma"
   ]
  },
  {
   "cell_type": "code",
   "execution_count": 68,
   "metadata": {},
   "outputs": [],
   "source": [
    "# применение функции find_purpose_type к столбцу \"purpose_type\"\n",
    "data[\"purpose_type\"] = data[\"credit_purpose\"].apply(find_purpose_type)"
   ]
  },
  {
   "cell_type": "code",
   "execution_count": 69,
   "metadata": {},
   "outputs": [
    {
     "data": {
      "text/html": [
       "<div>\n",
       "<style scoped>\n",
       "    .dataframe tbody tr th:only-of-type {\n",
       "        vertical-align: middle;\n",
       "    }\n",
       "\n",
       "    .dataframe tbody tr th {\n",
       "        vertical-align: top;\n",
       "    }\n",
       "\n",
       "    .dataframe thead th {\n",
       "        text-align: right;\n",
       "    }\n",
       "</style>\n",
       "<table border=\"1\" class=\"dataframe\">\n",
       "  <thead>\n",
       "    <tr style=\"text-align: right;\">\n",
       "      <th></th>\n",
       "      <th>children_number</th>\n",
       "      <th>age_in_years</th>\n",
       "      <th>education</th>\n",
       "      <th>education_id</th>\n",
       "      <th>family_status</th>\n",
       "      <th>family_status_id</th>\n",
       "      <th>gender</th>\n",
       "      <th>employment_type</th>\n",
       "      <th>debt</th>\n",
       "      <th>monthly_income</th>\n",
       "      <th>credit_purpose</th>\n",
       "      <th>years_employed</th>\n",
       "      <th>purpose_type</th>\n",
       "    </tr>\n",
       "  </thead>\n",
       "  <tbody>\n",
       "    <tr>\n",
       "      <td>0</td>\n",
       "      <td>1</td>\n",
       "      <td>42</td>\n",
       "      <td>высшее</td>\n",
       "      <td>0</td>\n",
       "      <td>женат / замужем</td>\n",
       "      <td>0</td>\n",
       "      <td>F</td>\n",
       "      <td>сотрудник</td>\n",
       "      <td>0</td>\n",
       "      <td>253875</td>\n",
       "      <td>покупка жилья</td>\n",
       "      <td>23</td>\n",
       "      <td>жилье</td>\n",
       "    </tr>\n",
       "    <tr>\n",
       "      <td>1</td>\n",
       "      <td>1</td>\n",
       "      <td>36</td>\n",
       "      <td>среднее</td>\n",
       "      <td>1</td>\n",
       "      <td>женат / замужем</td>\n",
       "      <td>0</td>\n",
       "      <td>F</td>\n",
       "      <td>сотрудник</td>\n",
       "      <td>0</td>\n",
       "      <td>112080</td>\n",
       "      <td>приобретение автомобиля</td>\n",
       "      <td>11</td>\n",
       "      <td>автомобиль</td>\n",
       "    </tr>\n",
       "    <tr>\n",
       "      <td>2</td>\n",
       "      <td>0</td>\n",
       "      <td>33</td>\n",
       "      <td>среднее</td>\n",
       "      <td>1</td>\n",
       "      <td>женат / замужем</td>\n",
       "      <td>0</td>\n",
       "      <td>M</td>\n",
       "      <td>сотрудник</td>\n",
       "      <td>0</td>\n",
       "      <td>145885</td>\n",
       "      <td>покупка жилья</td>\n",
       "      <td>15</td>\n",
       "      <td>жилье</td>\n",
       "    </tr>\n",
       "    <tr>\n",
       "      <td>3</td>\n",
       "      <td>3</td>\n",
       "      <td>32</td>\n",
       "      <td>среднее</td>\n",
       "      <td>1</td>\n",
       "      <td>женат / замужем</td>\n",
       "      <td>0</td>\n",
       "      <td>M</td>\n",
       "      <td>сотрудник</td>\n",
       "      <td>0</td>\n",
       "      <td>267628</td>\n",
       "      <td>дополнительное образование</td>\n",
       "      <td>11</td>\n",
       "      <td>образование</td>\n",
       "    </tr>\n",
       "    <tr>\n",
       "      <td>4</td>\n",
       "      <td>0</td>\n",
       "      <td>53</td>\n",
       "      <td>среднее</td>\n",
       "      <td>1</td>\n",
       "      <td>гражданский брак</td>\n",
       "      <td>1</td>\n",
       "      <td>F</td>\n",
       "      <td>пенсионер</td>\n",
       "      <td>0</td>\n",
       "      <td>158616</td>\n",
       "      <td>сыграть свадьбу</td>\n",
       "      <td>932</td>\n",
       "      <td>свадьба</td>\n",
       "    </tr>\n",
       "    <tr>\n",
       "      <td>5</td>\n",
       "      <td>0</td>\n",
       "      <td>27</td>\n",
       "      <td>высшее</td>\n",
       "      <td>0</td>\n",
       "      <td>гражданский брак</td>\n",
       "      <td>1</td>\n",
       "      <td>M</td>\n",
       "      <td>компаньон</td>\n",
       "      <td>0</td>\n",
       "      <td>255763</td>\n",
       "      <td>покупка жилья</td>\n",
       "      <td>2</td>\n",
       "      <td>жилье</td>\n",
       "    </tr>\n",
       "    <tr>\n",
       "      <td>6</td>\n",
       "      <td>0</td>\n",
       "      <td>43</td>\n",
       "      <td>высшее</td>\n",
       "      <td>0</td>\n",
       "      <td>женат / замужем</td>\n",
       "      <td>0</td>\n",
       "      <td>F</td>\n",
       "      <td>компаньон</td>\n",
       "      <td>0</td>\n",
       "      <td>240525</td>\n",
       "      <td>операции с жильем</td>\n",
       "      <td>7</td>\n",
       "      <td>жилье</td>\n",
       "    </tr>\n",
       "    <tr>\n",
       "      <td>7</td>\n",
       "      <td>0</td>\n",
       "      <td>50</td>\n",
       "      <td>среднее</td>\n",
       "      <td>1</td>\n",
       "      <td>женат / замужем</td>\n",
       "      <td>0</td>\n",
       "      <td>M</td>\n",
       "      <td>сотрудник</td>\n",
       "      <td>0</td>\n",
       "      <td>135823</td>\n",
       "      <td>образование</td>\n",
       "      <td>0</td>\n",
       "      <td>образование</td>\n",
       "    </tr>\n",
       "    <tr>\n",
       "      <td>8</td>\n",
       "      <td>2</td>\n",
       "      <td>35</td>\n",
       "      <td>высшее</td>\n",
       "      <td>0</td>\n",
       "      <td>гражданский брак</td>\n",
       "      <td>1</td>\n",
       "      <td>F</td>\n",
       "      <td>сотрудник</td>\n",
       "      <td>0</td>\n",
       "      <td>95856</td>\n",
       "      <td>на проведение свадьбы</td>\n",
       "      <td>18</td>\n",
       "      <td>свадьба</td>\n",
       "    </tr>\n",
       "    <tr>\n",
       "      <td>9</td>\n",
       "      <td>0</td>\n",
       "      <td>41</td>\n",
       "      <td>среднее</td>\n",
       "      <td>1</td>\n",
       "      <td>женат / замужем</td>\n",
       "      <td>0</td>\n",
       "      <td>M</td>\n",
       "      <td>сотрудник</td>\n",
       "      <td>0</td>\n",
       "      <td>144425</td>\n",
       "      <td>покупка жилья для семьи</td>\n",
       "      <td>5</td>\n",
       "      <td>жилье</td>\n",
       "    </tr>\n",
       "  </tbody>\n",
       "</table>\n",
       "</div>"
      ],
      "text/plain": [
       "   children_number  age_in_years education  education_id     family_status  \\\n",
       "0                1            42    высшее             0   женат / замужем   \n",
       "1                1            36   среднее             1   женат / замужем   \n",
       "2                0            33   среднее             1   женат / замужем   \n",
       "3                3            32   среднее             1   женат / замужем   \n",
       "4                0            53   среднее             1  гражданский брак   \n",
       "5                0            27    высшее             0  гражданский брак   \n",
       "6                0            43    высшее             0   женат / замужем   \n",
       "7                0            50   среднее             1   женат / замужем   \n",
       "8                2            35    высшее             0  гражданский брак   \n",
       "9                0            41   среднее             1   женат / замужем   \n",
       "\n",
       "   family_status_id gender employment_type  debt  monthly_income  \\\n",
       "0                 0      F       сотрудник     0          253875   \n",
       "1                 0      F       сотрудник     0          112080   \n",
       "2                 0      M       сотрудник     0          145885   \n",
       "3                 0      M       сотрудник     0          267628   \n",
       "4                 1      F       пенсионер     0          158616   \n",
       "5                 1      M       компаньон     0          255763   \n",
       "6                 0      F       компаньон     0          240525   \n",
       "7                 0      M       сотрудник     0          135823   \n",
       "8                 1      F       сотрудник     0           95856   \n",
       "9                 0      M       сотрудник     0          144425   \n",
       "\n",
       "               credit_purpose  years_employed purpose_type  \n",
       "0               покупка жилья              23        жилье  \n",
       "1     приобретение автомобиля              11   автомобиль  \n",
       "2               покупка жилья              15        жилье  \n",
       "3  дополнительное образование              11  образование  \n",
       "4             сыграть свадьбу             932      свадьба  \n",
       "5               покупка жилья               2        жилье  \n",
       "6           операции с жильем               7        жилье  \n",
       "7                 образование               0  образование  \n",
       "8       на проведение свадьбы              18      свадьба  \n",
       "9     покупка жилья для семьи               5        жилье  "
      ]
     },
     "execution_count": 69,
     "metadata": {},
     "output_type": "execute_result"
    }
   ],
   "source": [
    "# проверка правильности добавления нового столбца\n",
    "data.head(10)"
   ]
  },
  {
   "cell_type": "markdown",
   "metadata": {},
   "source": [
    "Из-за того что в столбце 'credit_purpose' может быть несколько лемм из списка list_purposes, необходимо повторно проверить таблицу на наличие явных дубликатов."
   ]
  },
  {
   "cell_type": "code",
   "execution_count": 70,
   "metadata": {},
   "outputs": [
    {
     "data": {
      "text/plain": [
       "0"
      ]
     },
     "execution_count": 70,
     "metadata": {},
     "output_type": "execute_result"
    }
   ],
   "source": [
    "data.duplicated().sum()"
   ]
  },
  {
   "cell_type": "markdown",
   "metadata": {},
   "source": [
    "**Вывод**"
   ]
  },
  {
   "cell_type": "markdown",
   "metadata": {},
   "source": [
    "В столбце `credit_purpose` находились дублирующиеся цели кредита, которые отличались формулировкой, поэтому их понадобилось лемматизировать. Ключевые леммы записаны в отдельный столбец `purpose_type`."
   ]
  },
  {
   "cell_type": "markdown",
   "metadata": {},
   "source": [
    "<div class=\"alert alert-success\">\n",
    "    \n",
    "<b> Комментарий от ревьюера</b>\n",
    "    \n",
    "Все правильно\n",
    "</div>"
   ]
  },
  {
   "cell_type": "markdown",
   "metadata": {},
   "source": [
    "### Категоризация данных"
   ]
  },
  {
   "cell_type": "markdown",
   "metadata": {},
   "source": [
    "Необходимо категоризовать данные для последующей проверки гипотез."
   ]
  },
  {
   "cell_type": "markdown",
   "metadata": {},
   "source": [
    "**Категоризация по количеству детей**"
   ]
  },
  {
   "cell_type": "markdown",
   "metadata": {},
   "source": [
    "В России многодетной считается семья с 3 и более детьми, поэтому семьи клиентов можно разделить на 3 группы:\n",
    "1. семья без детей;\n",
    "2. семья с 1 или 2 детьми;\n",
    "3. многодетная семья."
   ]
  },
  {
   "cell_type": "code",
   "execution_count": 71,
   "metadata": {},
   "outputs": [],
   "source": [
    "# определение функции разделения на 3 группы в зависимости от числа детей\n",
    "def children_number_categorizer(children_number):\n",
    "    \"\"\"Функция разбивает семьи клиентов на 3 группы.\n",
    "    \"\"\"\n",
    "    if children_number == 0:\n",
    "        return 'семья без детей'\n",
    "    elif children_number == 1 or children_number == 2:\n",
    "        return 'семья с 1 или 2 детьми'\n",
    "    else:\n",
    "        return 'многодетная семья'"
   ]
  },
  {
   "cell_type": "code",
   "execution_count": 72,
   "metadata": {},
   "outputs": [],
   "source": [
    "# применение функции\n",
    "data['children_number_type'] = data['children_number'].apply(children_number_categorizer)"
   ]
  },
  {
   "cell_type": "code",
   "execution_count": 73,
   "metadata": {},
   "outputs": [
    {
     "data": {
      "text/html": [
       "<div>\n",
       "<style scoped>\n",
       "    .dataframe tbody tr th:only-of-type {\n",
       "        vertical-align: middle;\n",
       "    }\n",
       "\n",
       "    .dataframe tbody tr th {\n",
       "        vertical-align: top;\n",
       "    }\n",
       "\n",
       "    .dataframe thead th {\n",
       "        text-align: right;\n",
       "    }\n",
       "</style>\n",
       "<table border=\"1\" class=\"dataframe\">\n",
       "  <thead>\n",
       "    <tr style=\"text-align: right;\">\n",
       "      <th></th>\n",
       "      <th>children_number</th>\n",
       "      <th>age_in_years</th>\n",
       "      <th>education</th>\n",
       "      <th>education_id</th>\n",
       "      <th>family_status</th>\n",
       "      <th>family_status_id</th>\n",
       "      <th>gender</th>\n",
       "      <th>employment_type</th>\n",
       "      <th>debt</th>\n",
       "      <th>monthly_income</th>\n",
       "      <th>credit_purpose</th>\n",
       "      <th>years_employed</th>\n",
       "      <th>purpose_type</th>\n",
       "      <th>children_number_type</th>\n",
       "    </tr>\n",
       "  </thead>\n",
       "  <tbody>\n",
       "    <tr>\n",
       "      <td>0</td>\n",
       "      <td>1</td>\n",
       "      <td>42</td>\n",
       "      <td>высшее</td>\n",
       "      <td>0</td>\n",
       "      <td>женат / замужем</td>\n",
       "      <td>0</td>\n",
       "      <td>F</td>\n",
       "      <td>сотрудник</td>\n",
       "      <td>0</td>\n",
       "      <td>253875</td>\n",
       "      <td>покупка жилья</td>\n",
       "      <td>23</td>\n",
       "      <td>жилье</td>\n",
       "      <td>семья с 1 или 2 детьми</td>\n",
       "    </tr>\n",
       "    <tr>\n",
       "      <td>1</td>\n",
       "      <td>1</td>\n",
       "      <td>36</td>\n",
       "      <td>среднее</td>\n",
       "      <td>1</td>\n",
       "      <td>женат / замужем</td>\n",
       "      <td>0</td>\n",
       "      <td>F</td>\n",
       "      <td>сотрудник</td>\n",
       "      <td>0</td>\n",
       "      <td>112080</td>\n",
       "      <td>приобретение автомобиля</td>\n",
       "      <td>11</td>\n",
       "      <td>автомобиль</td>\n",
       "      <td>семья с 1 или 2 детьми</td>\n",
       "    </tr>\n",
       "    <tr>\n",
       "      <td>2</td>\n",
       "      <td>0</td>\n",
       "      <td>33</td>\n",
       "      <td>среднее</td>\n",
       "      <td>1</td>\n",
       "      <td>женат / замужем</td>\n",
       "      <td>0</td>\n",
       "      <td>M</td>\n",
       "      <td>сотрудник</td>\n",
       "      <td>0</td>\n",
       "      <td>145885</td>\n",
       "      <td>покупка жилья</td>\n",
       "      <td>15</td>\n",
       "      <td>жилье</td>\n",
       "      <td>семья без детей</td>\n",
       "    </tr>\n",
       "    <tr>\n",
       "      <td>3</td>\n",
       "      <td>3</td>\n",
       "      <td>32</td>\n",
       "      <td>среднее</td>\n",
       "      <td>1</td>\n",
       "      <td>женат / замужем</td>\n",
       "      <td>0</td>\n",
       "      <td>M</td>\n",
       "      <td>сотрудник</td>\n",
       "      <td>0</td>\n",
       "      <td>267628</td>\n",
       "      <td>дополнительное образование</td>\n",
       "      <td>11</td>\n",
       "      <td>образование</td>\n",
       "      <td>многодетная семья</td>\n",
       "    </tr>\n",
       "    <tr>\n",
       "      <td>4</td>\n",
       "      <td>0</td>\n",
       "      <td>53</td>\n",
       "      <td>среднее</td>\n",
       "      <td>1</td>\n",
       "      <td>гражданский брак</td>\n",
       "      <td>1</td>\n",
       "      <td>F</td>\n",
       "      <td>пенсионер</td>\n",
       "      <td>0</td>\n",
       "      <td>158616</td>\n",
       "      <td>сыграть свадьбу</td>\n",
       "      <td>932</td>\n",
       "      <td>свадьба</td>\n",
       "      <td>семья без детей</td>\n",
       "    </tr>\n",
       "  </tbody>\n",
       "</table>\n",
       "</div>"
      ],
      "text/plain": [
       "   children_number  age_in_years education  education_id     family_status  \\\n",
       "0                1            42    высшее             0   женат / замужем   \n",
       "1                1            36   среднее             1   женат / замужем   \n",
       "2                0            33   среднее             1   женат / замужем   \n",
       "3                3            32   среднее             1   женат / замужем   \n",
       "4                0            53   среднее             1  гражданский брак   \n",
       "\n",
       "   family_status_id gender employment_type  debt  monthly_income  \\\n",
       "0                 0      F       сотрудник     0          253875   \n",
       "1                 0      F       сотрудник     0          112080   \n",
       "2                 0      M       сотрудник     0          145885   \n",
       "3                 0      M       сотрудник     0          267628   \n",
       "4                 1      F       пенсионер     0          158616   \n",
       "\n",
       "               credit_purpose  years_employed purpose_type  \\\n",
       "0               покупка жилья              23        жилье   \n",
       "1     приобретение автомобиля              11   автомобиль   \n",
       "2               покупка жилья              15        жилье   \n",
       "3  дополнительное образование              11  образование   \n",
       "4             сыграть свадьбу             932      свадьба   \n",
       "\n",
       "     children_number_type  \n",
       "0  семья с 1 или 2 детьми  \n",
       "1  семья с 1 или 2 детьми  \n",
       "2         семья без детей  \n",
       "3       многодетная семья  \n",
       "4         семья без детей  "
      ]
     },
     "execution_count": 73,
     "metadata": {},
     "output_type": "execute_result"
    }
   ],
   "source": [
    "# проверка добавления столбца 'children_number_type'\n",
    "data.head(5)"
   ]
  },
  {
   "cell_type": "markdown",
   "metadata": {},
   "source": [
    "**Категоризация по ежемесячному доходу**"
   ]
  },
  {
   "cell_type": "code",
   "execution_count": 74,
   "metadata": {},
   "outputs": [
    {
     "data": {
      "text/plain": [
       "count      21453\n",
       "mean      165232\n",
       "std        98213\n",
       "min        20667\n",
       "25%       107310\n",
       "50%       143485\n",
       "75%       195799\n",
       "max      2265604\n",
       "Name: monthly_income, dtype: int64"
      ]
     },
     "execution_count": 74,
     "metadata": {},
     "output_type": "execute_result"
    }
   ],
   "source": [
    "# обзор столбца `monthly_income`\n",
    "data['monthly_income'].describe().astype(int)"
   ]
  },
  {
   "cell_type": "markdown",
   "metadata": {},
   "source": [
    "Можно категоризовать ежемесячный доход по квантилям:\n",
    "1. 0% - 25%: низкий;\n",
    "2. 25% - 75%: средний;\n",
    "3. 75% - 100%: высокий."
   ]
  },
  {
   "cell_type": "code",
   "execution_count": 75,
   "metadata": {},
   "outputs": [],
   "source": [
    "# определение функции распределения ежемесячного дохода по заданным категориям\n",
    "def monthly_income_categorizer(income):\n",
    "    \"\"\"Функция разбивает значения ежемесячного дохода на 3 категории: низкий, средний и высокий.\n",
    "    \"\"\"\n",
    "    if income <= 100000:\n",
    "        return 'низкий'\n",
    "    elif 100000 < income <= 200000:\n",
    "        return 'средний'\n",
    "    else:\n",
    "        return 'высокий'"
   ]
  },
  {
   "cell_type": "code",
   "execution_count": 76,
   "metadata": {},
   "outputs": [],
   "source": [
    "# применение функции \n",
    "data['monthly_income_status'] = data['monthly_income'].apply(monthly_income_categorizer)"
   ]
  },
  {
   "cell_type": "markdown",
   "metadata": {},
   "source": [
    "<div class=\"alert alert-success\">\n",
    "    \n",
    "<b> Комментарий от ревьюера</b>\n",
    "    \n",
    "Для выделения категорий по уровню дохода удобно использовать метод cut()/qcut(), [пример](https://dfedorov.spb.ru/pandas/Разделение%20данных%20в%20Pandas%20с%20помощью%20qcut%20и%20cut.html)\n",
    "</div>\n"
   ]
  },
  {
   "cell_type": "markdown",
   "metadata": {},
   "source": [
    "<div class=\"alert alert-info\">\n",
    "\n",
    "<b>Комментарий студента</b>\n",
    "\n",
    "Хорошо, посмотрю\n",
    "</div>"
   ]
  },
  {
   "cell_type": "code",
   "execution_count": 77,
   "metadata": {},
   "outputs": [
    {
     "data": {
      "text/html": [
       "<div>\n",
       "<style scoped>\n",
       "    .dataframe tbody tr th:only-of-type {\n",
       "        vertical-align: middle;\n",
       "    }\n",
       "\n",
       "    .dataframe tbody tr th {\n",
       "        vertical-align: top;\n",
       "    }\n",
       "\n",
       "    .dataframe thead th {\n",
       "        text-align: right;\n",
       "    }\n",
       "</style>\n",
       "<table border=\"1\" class=\"dataframe\">\n",
       "  <thead>\n",
       "    <tr style=\"text-align: right;\">\n",
       "      <th></th>\n",
       "      <th>children_number</th>\n",
       "      <th>age_in_years</th>\n",
       "      <th>education</th>\n",
       "      <th>education_id</th>\n",
       "      <th>family_status</th>\n",
       "      <th>family_status_id</th>\n",
       "      <th>gender</th>\n",
       "      <th>employment_type</th>\n",
       "      <th>debt</th>\n",
       "      <th>monthly_income</th>\n",
       "      <th>credit_purpose</th>\n",
       "      <th>years_employed</th>\n",
       "      <th>purpose_type</th>\n",
       "      <th>children_number_type</th>\n",
       "      <th>monthly_income_status</th>\n",
       "    </tr>\n",
       "  </thead>\n",
       "  <tbody>\n",
       "    <tr>\n",
       "      <td>0</td>\n",
       "      <td>1</td>\n",
       "      <td>42</td>\n",
       "      <td>высшее</td>\n",
       "      <td>0</td>\n",
       "      <td>женат / замужем</td>\n",
       "      <td>0</td>\n",
       "      <td>F</td>\n",
       "      <td>сотрудник</td>\n",
       "      <td>0</td>\n",
       "      <td>253875</td>\n",
       "      <td>покупка жилья</td>\n",
       "      <td>23</td>\n",
       "      <td>жилье</td>\n",
       "      <td>семья с 1 или 2 детьми</td>\n",
       "      <td>высокий</td>\n",
       "    </tr>\n",
       "    <tr>\n",
       "      <td>1</td>\n",
       "      <td>1</td>\n",
       "      <td>36</td>\n",
       "      <td>среднее</td>\n",
       "      <td>1</td>\n",
       "      <td>женат / замужем</td>\n",
       "      <td>0</td>\n",
       "      <td>F</td>\n",
       "      <td>сотрудник</td>\n",
       "      <td>0</td>\n",
       "      <td>112080</td>\n",
       "      <td>приобретение автомобиля</td>\n",
       "      <td>11</td>\n",
       "      <td>автомобиль</td>\n",
       "      <td>семья с 1 или 2 детьми</td>\n",
       "      <td>средний</td>\n",
       "    </tr>\n",
       "    <tr>\n",
       "      <td>2</td>\n",
       "      <td>0</td>\n",
       "      <td>33</td>\n",
       "      <td>среднее</td>\n",
       "      <td>1</td>\n",
       "      <td>женат / замужем</td>\n",
       "      <td>0</td>\n",
       "      <td>M</td>\n",
       "      <td>сотрудник</td>\n",
       "      <td>0</td>\n",
       "      <td>145885</td>\n",
       "      <td>покупка жилья</td>\n",
       "      <td>15</td>\n",
       "      <td>жилье</td>\n",
       "      <td>семья без детей</td>\n",
       "      <td>средний</td>\n",
       "    </tr>\n",
       "    <tr>\n",
       "      <td>3</td>\n",
       "      <td>3</td>\n",
       "      <td>32</td>\n",
       "      <td>среднее</td>\n",
       "      <td>1</td>\n",
       "      <td>женат / замужем</td>\n",
       "      <td>0</td>\n",
       "      <td>M</td>\n",
       "      <td>сотрудник</td>\n",
       "      <td>0</td>\n",
       "      <td>267628</td>\n",
       "      <td>дополнительное образование</td>\n",
       "      <td>11</td>\n",
       "      <td>образование</td>\n",
       "      <td>многодетная семья</td>\n",
       "      <td>высокий</td>\n",
       "    </tr>\n",
       "    <tr>\n",
       "      <td>4</td>\n",
       "      <td>0</td>\n",
       "      <td>53</td>\n",
       "      <td>среднее</td>\n",
       "      <td>1</td>\n",
       "      <td>гражданский брак</td>\n",
       "      <td>1</td>\n",
       "      <td>F</td>\n",
       "      <td>пенсионер</td>\n",
       "      <td>0</td>\n",
       "      <td>158616</td>\n",
       "      <td>сыграть свадьбу</td>\n",
       "      <td>932</td>\n",
       "      <td>свадьба</td>\n",
       "      <td>семья без детей</td>\n",
       "      <td>средний</td>\n",
       "    </tr>\n",
       "  </tbody>\n",
       "</table>\n",
       "</div>"
      ],
      "text/plain": [
       "   children_number  age_in_years education  education_id     family_status  \\\n",
       "0                1            42    высшее             0   женат / замужем   \n",
       "1                1            36   среднее             1   женат / замужем   \n",
       "2                0            33   среднее             1   женат / замужем   \n",
       "3                3            32   среднее             1   женат / замужем   \n",
       "4                0            53   среднее             1  гражданский брак   \n",
       "\n",
       "   family_status_id gender employment_type  debt  monthly_income  \\\n",
       "0                 0      F       сотрудник     0          253875   \n",
       "1                 0      F       сотрудник     0          112080   \n",
       "2                 0      M       сотрудник     0          145885   \n",
       "3                 0      M       сотрудник     0          267628   \n",
       "4                 1      F       пенсионер     0          158616   \n",
       "\n",
       "               credit_purpose  years_employed purpose_type  \\\n",
       "0               покупка жилья              23        жилье   \n",
       "1     приобретение автомобиля              11   автомобиль   \n",
       "2               покупка жилья              15        жилье   \n",
       "3  дополнительное образование              11  образование   \n",
       "4             сыграть свадьбу             932      свадьба   \n",
       "\n",
       "     children_number_type monthly_income_status  \n",
       "0  семья с 1 или 2 детьми               высокий  \n",
       "1  семья с 1 или 2 детьми               средний  \n",
       "2         семья без детей               средний  \n",
       "3       многодетная семья               высокий  \n",
       "4         семья без детей               средний  "
      ]
     },
     "execution_count": 77,
     "metadata": {},
     "output_type": "execute_result"
    }
   ],
   "source": [
    "# проверка добавления столбца 'monthly_income_status'\n",
    "data.head(5)"
   ]
  },
  {
   "cell_type": "markdown",
   "metadata": {},
   "source": [
    "**Вывод**"
   ]
  },
  {
   "cell_type": "markdown",
   "metadata": {},
   "source": [
    "Сгруппировав количество детей в семьях клиентов и ежемесячный доход, можно узнать вероятности того, будет ли задолженность по кредиту у клиентов, относящихся к определенным категориям."
   ]
  },
  {
   "cell_type": "markdown",
   "metadata": {},
   "source": [
    "<div class=\"alert alert-success\">\n",
    "    \n",
    "<b> Комментарий от ревьюера</b>\n",
    "    \n",
    "Ты отлично справилась с добавлением категорий пользователей\n",
    "</div>\n",
    "\n"
   ]
  },
  {
   "cell_type": "markdown",
   "metadata": {},
   "source": [
    "## Шаг 3. Ответьте на вопросы"
   ]
  },
  {
   "cell_type": "markdown",
   "metadata": {},
   "source": [
    "Перед тем как отвечать на вопросы о зависимости определенных параметров клиентов банка от потенциального наличия задолженности, необходимо определить функцию, которая будет вычислять эту вероятность."
   ]
  },
  {
   "cell_type": "code",
   "execution_count": 78,
   "metadata": {},
   "outputs": [],
   "source": [
    "# определение функции расчета вероятности получить задолженность по кредиту в зависимости от категории, к которой относится клиент\n",
    "def category_debt(category):\n",
    "    \"\"\"Функция группирует столбец 'debt' по указанной категории,\n",
    "    затем подсчитывает все факты наличия задолженности,\n",
    "    делит на общее число клиентов (вычисляет среднее значение столбца 'debt)'.\n",
    "    Далее преобразовывает данные в DataFrame и сортирует по возрастанию столбца 'debt'.\n",
    "    \"\"\"\n",
    "    return ((data.groupby(category)['debt'].mean())*100).to_frame().sort_values(by='debt')"
   ]
  },
  {
   "cell_type": "markdown",
   "metadata": {},
   "source": [
    "- Есть ли зависимость между наличием детей и возвратом кредита в срок?"
   ]
  },
  {
   "cell_type": "code",
   "execution_count": 79,
   "metadata": {},
   "outputs": [
    {
     "data": {
      "text/html": [
       "<div>\n",
       "<style scoped>\n",
       "    .dataframe tbody tr th:only-of-type {\n",
       "        vertical-align: middle;\n",
       "    }\n",
       "\n",
       "    .dataframe tbody tr th {\n",
       "        vertical-align: top;\n",
       "    }\n",
       "\n",
       "    .dataframe thead th {\n",
       "        text-align: right;\n",
       "    }\n",
       "</style>\n",
       "<table border=\"1\" class=\"dataframe\">\n",
       "  <thead>\n",
       "    <tr style=\"text-align: right;\">\n",
       "      <th></th>\n",
       "      <th>debt</th>\n",
       "    </tr>\n",
       "    <tr>\n",
       "      <th>children_number_type</th>\n",
       "      <th></th>\n",
       "    </tr>\n",
       "  </thead>\n",
       "  <tbody>\n",
       "    <tr>\n",
       "      <td>семья без детей</td>\n",
       "      <td>7.544358</td>\n",
       "    </tr>\n",
       "    <tr>\n",
       "      <td>многодетная семья</td>\n",
       "      <td>8.157895</td>\n",
       "    </tr>\n",
       "    <tr>\n",
       "      <td>семья с 1 или 2 детьми</td>\n",
       "      <td>9.265359</td>\n",
       "    </tr>\n",
       "  </tbody>\n",
       "</table>\n",
       "</div>"
      ],
      "text/plain": [
       "                            debt\n",
       "children_number_type            \n",
       "семья без детей         7.544358\n",
       "многодетная семья       8.157895\n",
       "семья с 1 или 2 детьми  9.265359"
      ]
     },
     "execution_count": 79,
     "metadata": {},
     "output_type": "execute_result"
    }
   ],
   "source": [
    "# применение функции category_debt к столбцу 'children_number_type'\n",
    "category_debt('children_number_type')"
   ]
  },
  {
   "cell_type": "markdown",
   "metadata": {},
   "source": [
    "**Вывод**"
   ]
  },
  {
   "cell_type": "markdown",
   "metadata": {},
   "source": [
    "Да, зависимость есть. Более вероятно, что клиенты без детей погасят кредит в срок (вероятность получить долг-7.5%)."
   ]
  },
  {
   "cell_type": "markdown",
   "metadata": {},
   "source": [
    "<div class=\"alert alert-success\">\n",
    "    \n",
    "<b> Комментарий от ревьюера</b>\n",
    "    \n",
    "Все супер, но было бы неплохо посмотреть на размеры групп. Если группы маленькие, результаты анализа могут быть нерепрезентативны\n",
    "</div>\n",
    "\n"
   ]
  },
  {
   "cell_type": "markdown",
   "metadata": {},
   "source": [
    "<div class=\"alert alert-info\">\n",
    "\n",
    "<b>Комментарий студента</b>\n",
    "\n",
    "Да, поняла. Число элементов в группах должно быть примерно одинаковым\n",
    "</div>"
   ]
  },
  {
   "cell_type": "markdown",
   "metadata": {},
   "source": [
    "<div class=\"alert alert-success\">\n",
    "    \n",
    "<b> Комментарий от ревьюера 2</b>\n",
    "\n",
    "Группы могут быть разного размера, главное, чтобы в них не было слишком мало элементов.\n",
    "\n",
    "\n",
    "</div>\n"
   ]
  },
  {
   "cell_type": "markdown",
   "metadata": {},
   "source": [
    "- Есть ли зависимость между семейным положением и возвратом кредита в срок?"
   ]
  },
  {
   "cell_type": "code",
   "execution_count": 80,
   "metadata": {},
   "outputs": [
    {
     "data": {
      "text/html": [
       "<div>\n",
       "<style scoped>\n",
       "    .dataframe tbody tr th:only-of-type {\n",
       "        vertical-align: middle;\n",
       "    }\n",
       "\n",
       "    .dataframe tbody tr th {\n",
       "        vertical-align: top;\n",
       "    }\n",
       "\n",
       "    .dataframe thead th {\n",
       "        text-align: right;\n",
       "    }\n",
       "</style>\n",
       "<table border=\"1\" class=\"dataframe\">\n",
       "  <thead>\n",
       "    <tr style=\"text-align: right;\">\n",
       "      <th></th>\n",
       "      <th>debt</th>\n",
       "    </tr>\n",
       "    <tr>\n",
       "      <th>family_status</th>\n",
       "      <th></th>\n",
       "    </tr>\n",
       "  </thead>\n",
       "  <tbody>\n",
       "    <tr>\n",
       "      <td>вдовец / вдова</td>\n",
       "      <td>6.569343</td>\n",
       "    </tr>\n",
       "    <tr>\n",
       "      <td>в разводе</td>\n",
       "      <td>7.112971</td>\n",
       "    </tr>\n",
       "    <tr>\n",
       "      <td>женат / замужем</td>\n",
       "      <td>7.545182</td>\n",
       "    </tr>\n",
       "    <tr>\n",
       "      <td>гражданский брак</td>\n",
       "      <td>9.349398</td>\n",
       "    </tr>\n",
       "    <tr>\n",
       "      <td>не женат / не замужем</td>\n",
       "      <td>9.750890</td>\n",
       "    </tr>\n",
       "  </tbody>\n",
       "</table>\n",
       "</div>"
      ],
      "text/plain": [
       "                           debt\n",
       "family_status                  \n",
       "вдовец / вдова         6.569343\n",
       "в разводе              7.112971\n",
       "женат / замужем        7.545182\n",
       "гражданский брак       9.349398\n",
       "не женат / не замужем  9.750890"
      ]
     },
     "execution_count": 80,
     "metadata": {},
     "output_type": "execute_result"
    }
   ],
   "source": [
    "# применение функции category_debt к столбцу 'family_status'\n",
    "category_debt('family_status')"
   ]
  },
  {
   "cell_type": "markdown",
   "metadata": {},
   "source": [
    "**Вывод**"
   ]
  },
  {
   "cell_type": "markdown",
   "metadata": {},
   "source": [
    "Да, зависимость прослеживается. Более вероятно, что вдовцы/вдовы и разведенные клиенты погасят кредит в срок (6.6% и 7.1%), в отличие от людей, находящихся в неофициальных отношениях (9.3% и 9.8%)."
   ]
  },
  {
   "cell_type": "markdown",
   "metadata": {},
   "source": [
    "- Есть ли зависимость между уровнем дохода и возвратом кредита в срок?"
   ]
  },
  {
   "cell_type": "code",
   "execution_count": 81,
   "metadata": {},
   "outputs": [
    {
     "data": {
      "text/html": [
       "<div>\n",
       "<style scoped>\n",
       "    .dataframe tbody tr th:only-of-type {\n",
       "        vertical-align: middle;\n",
       "    }\n",
       "\n",
       "    .dataframe tbody tr th {\n",
       "        vertical-align: top;\n",
       "    }\n",
       "\n",
       "    .dataframe thead th {\n",
       "        text-align: right;\n",
       "    }\n",
       "</style>\n",
       "<table border=\"1\" class=\"dataframe\">\n",
       "  <thead>\n",
       "    <tr style=\"text-align: right;\">\n",
       "      <th></th>\n",
       "      <th>debt</th>\n",
       "    </tr>\n",
       "    <tr>\n",
       "      <th>monthly_income_status</th>\n",
       "      <th></th>\n",
       "    </tr>\n",
       "  </thead>\n",
       "  <tbody>\n",
       "    <tr>\n",
       "      <td>высокий</td>\n",
       "      <td>7.068115</td>\n",
       "    </tr>\n",
       "    <tr>\n",
       "      <td>низкий</td>\n",
       "      <td>7.930108</td>\n",
       "    </tr>\n",
       "    <tr>\n",
       "      <td>средний</td>\n",
       "      <td>8.629654</td>\n",
       "    </tr>\n",
       "  </tbody>\n",
       "</table>\n",
       "</div>"
      ],
      "text/plain": [
       "                           debt\n",
       "monthly_income_status          \n",
       "высокий                7.068115\n",
       "низкий                 7.930108\n",
       "средний                8.629654"
      ]
     },
     "execution_count": 81,
     "metadata": {},
     "output_type": "execute_result"
    }
   ],
   "source": [
    "# применение функции category_debt к столбцу 'monthly_income_status'\n",
    "category_debt('monthly_income_status')"
   ]
  },
  {
   "cell_type": "markdown",
   "metadata": {},
   "source": [
    "**Вывод**"
   ]
  },
  {
   "cell_type": "markdown",
   "metadata": {},
   "source": [
    "Из полученных данных следует, что большая вероятность (8.6%) получить задолженность по кредиту у людей со средним уровнем зарплаты."
   ]
  },
  {
   "cell_type": "markdown",
   "metadata": {},
   "source": [
    "- Как разные цели кредита влияют на его возврат в срок?"
   ]
  },
  {
   "cell_type": "code",
   "execution_count": 82,
   "metadata": {},
   "outputs": [
    {
     "data": {
      "text/html": [
       "<div>\n",
       "<style scoped>\n",
       "    .dataframe tbody tr th:only-of-type {\n",
       "        vertical-align: middle;\n",
       "    }\n",
       "\n",
       "    .dataframe tbody tr th {\n",
       "        vertical-align: top;\n",
       "    }\n",
       "\n",
       "    .dataframe thead th {\n",
       "        text-align: right;\n",
       "    }\n",
       "</style>\n",
       "<table border=\"1\" class=\"dataframe\">\n",
       "  <thead>\n",
       "    <tr style=\"text-align: right;\">\n",
       "      <th></th>\n",
       "      <th>debt</th>\n",
       "    </tr>\n",
       "    <tr>\n",
       "      <th>purpose_type</th>\n",
       "      <th></th>\n",
       "    </tr>\n",
       "  </thead>\n",
       "  <tbody>\n",
       "    <tr>\n",
       "      <td>ремонт</td>\n",
       "      <td>5.766063</td>\n",
       "    </tr>\n",
       "    <tr>\n",
       "      <td>жилье</td>\n",
       "      <td>7.085388</td>\n",
       "    </tr>\n",
       "    <tr>\n",
       "      <td>недвижимость</td>\n",
       "      <td>7.379249</td>\n",
       "    </tr>\n",
       "    <tr>\n",
       "      <td>строительство</td>\n",
       "      <td>7.667732</td>\n",
       "    </tr>\n",
       "    <tr>\n",
       "      <td>свадьба</td>\n",
       "      <td>8.003442</td>\n",
       "    </tr>\n",
       "    <tr>\n",
       "      <td>образование</td>\n",
       "      <td>9.220035</td>\n",
       "    </tr>\n",
       "    <tr>\n",
       "      <td>автомобиль</td>\n",
       "      <td>9.359034</td>\n",
       "    </tr>\n",
       "  </tbody>\n",
       "</table>\n",
       "</div>"
      ],
      "text/plain": [
       "                   debt\n",
       "purpose_type           \n",
       "ремонт         5.766063\n",
       "жилье          7.085388\n",
       "недвижимость   7.379249\n",
       "строительство  7.667732\n",
       "свадьба        8.003442\n",
       "образование    9.220035\n",
       "автомобиль     9.359034"
      ]
     },
     "execution_count": 82,
     "metadata": {},
     "output_type": "execute_result"
    }
   ],
   "source": [
    "# применение функции category_debt к столбцу 'purpose_type'\n",
    "category_debt('purpose_type')"
   ]
  },
  {
   "cell_type": "markdown",
   "metadata": {},
   "source": [
    "**Вывод**"
   ]
  },
  {
   "cell_type": "markdown",
   "metadata": {},
   "source": [
    "Менее вероятно, что клиент с целью \"ремонт\" не выплатит кредит вовремя (5.8%). В отличие от клиента, у которого взят кредит для оплаты целей из категории \"автомобиль\" (9.4%)."
   ]
  },
  {
   "cell_type": "markdown",
   "metadata": {},
   "source": [
    "<div class=\"alert alert-success\">\n",
    "    \n",
    "<b> Комментарий от ревьюера</b>\n",
    "    \n",
    "Все верно\n",
    "</div>\n",
    "\n"
   ]
  },
  {
   "cell_type": "markdown",
   "metadata": {},
   "source": [
    "## Шаг 4. Общий вывод"
   ]
  },
  {
   "cell_type": "markdown",
   "metadata": {},
   "source": [
    "Гипотеза о том, влияет ли семейное положение и количество детей клиента на факт погашения кредита в срок, ответ - влияет.\n",
    "\n",
    "Клиенты с **самой низкой вероятностью** получить задолженность по кредиту:\n",
    "\n",
    "- не имеющие детей;\n",
    "- имеющие официально зарегестрированные отношениями (или вдовы/вдовцы/разведенные);\n",
    "- с высоким ежемесячным доходом.\n",
    "\n",
    "Клиенты с **самой высокой вероятностью** получить задолженность по кредиту:\n",
    "    \n",
    "- имеющие 1 или 2 ребенка;\n",
    "- состоящие в неофициальном браке или без отношений;\n",
    "- со средним ежемесячным доходом."
   ]
  },
  {
   "cell_type": "markdown",
   "metadata": {},
   "source": [
    "## Рекомендации банку"
   ]
  },
  {
   "cell_type": "markdown",
   "metadata": {},
   "source": [
    "1. Записывать стаж работы в годах.\n",
    "2. Добавить функцию валидации при внесении данных на сервер (базу данных) для избежания появления дубликатов.\n",
    "3. Добавить проверку при вводе нереальных числовых значений на сайте/приложении банка: возраст, стаж, количество детей."
   ]
  },
  {
   "cell_type": "markdown",
   "metadata": {},
   "source": [
    "<div class=\"alert alert-success\">\n",
    "    \n",
    "<b> Комментарий от ревьюера</b>\n",
    "    \n",
    "Хороший вывод\n",
    "</div>\n",
    "\n"
   ]
  },
  {
   "cell_type": "markdown",
   "metadata": {},
   "source": [
    "<div class=\"alert alert-success\">\n",
    "    \n",
    "<b> Комментарий от ревьюера</b>\n",
    "    \n",
    "Спасибо за твою работу! Ты хорошо справилась с подготовкой и анализом данных. У тебя получились логичные комментарии и выводы.\n",
    "\n",
    "Замечаний к проекту нет, но я верну работу на случай, если у тебя появились вопросы к моим комментариям. Если вопросов нет, можешь прислать проект без изменений, и я его приму.\n",
    "\n",
    "</div>\n",
    "\n"
   ]
  },
  {
   "cell_type": "markdown",
   "metadata": {},
   "source": [
    "<div class=\"alert alert-info\">\n",
    "\n",
    "<b>Комментарий студента</b>\n",
    "\n",
    "Ярослав, спасибо за твои советы по улучшению кода :)\n",
    "</div>"
   ]
  },
  {
   "cell_type": "markdown",
   "metadata": {},
   "source": [
    "<div class=\"alert alert-success\">\n",
    "<b> Комментарий от ревьюера 2</b>\n",
    "\n",
    "Спасибо, что учла мои комментарии. Надеюсь, эта работа была полезна для тебя. Я принимаю проект и желаю удачи в прохождении курса!\n",
    "\n",
    "</div> "
   ]
  },
  {
   "cell_type": "markdown",
   "metadata": {},
   "source": [
    "## Чек-лист готовности проекта\n",
    "\n",
    "Поставьте 'x' в выполненных пунктах. Далее нажмите Shift+Enter."
   ]
  },
  {
   "cell_type": "markdown",
   "metadata": {},
   "source": [
    "- [x]  открыт файл;\n",
    "- [x]  файл изучен;\n",
    "- [x]  определены пропущенные значения;\n",
    "- [x]  заполнены пропущенные значения;\n",
    "- [x]  есть пояснение, какие пропущенные значения обнаружены;\n",
    "- [x]  описаны возможные причины появления пропусков в данных;\n",
    "- [x]  объяснено, по какому принципу заполнены пропуски;\n",
    "- [x]  заменен вещественный тип данных на целочисленный;\n",
    "- [x]  есть пояснение, какой метод используется для изменения типа данных и почему;\n",
    "- [x]  удалены дубликаты;\n",
    "- [x]  есть пояснение, какой метод используется для поиска и удаления дубликатов;\n",
    "- [x]  описаны возможные причины появления дубликатов в данных;\n",
    "- [x]  выделены леммы в значениях столбца с целями получения кредита;\n",
    "- [x]  описан процесс лемматизации;\n",
    "- [x]  данные категоризированы;\n",
    "- [x]  есть объяснение принципа категоризации данных;\n",
    "- [x]  есть ответ на вопрос: \"Есть ли зависимость между наличием детей и возвратом кредита в срок?\";\n",
    "- [x]  есть ответ на вопрос: \"Есть ли зависимость между семейным положением и возвратом кредита в срок?\";\n",
    "- [x]  есть ответ на вопрос: \"Есть ли зависимость между уровнем дохода и возвратом кредита в срок?\";\n",
    "- [x]  есть ответ на вопрос: \"Как разные цели кредита влияют на его возврат в срок?\";\n",
    "- [x]  в каждом этапе есть выводы;\n",
    "- [x]  есть общий вывод."
   ]
  }
 ],
 "metadata": {
  "ExecuteTimeLog": [
   {
    "duration": 916,
    "start_time": "2021-11-03T06:21:06.624Z"
   },
   {
    "duration": 61,
    "start_time": "2021-11-03T06:21:15.084Z"
   },
   {
    "duration": 63,
    "start_time": "2021-11-03T06:35:43.671Z"
   },
   {
    "duration": 3,
    "start_time": "2021-11-03T06:36:45.326Z"
   },
   {
    "duration": 54,
    "start_time": "2021-11-03T06:36:46.899Z"
   },
   {
    "duration": 13,
    "start_time": "2021-11-03T06:36:47.671Z"
   },
   {
    "duration": 14,
    "start_time": "2021-11-03T06:38:04.858Z"
   },
   {
    "duration": 11,
    "start_time": "2021-11-03T06:59:31.434Z"
   },
   {
    "duration": 6,
    "start_time": "2021-11-03T07:12:18.509Z"
   },
   {
    "duration": 5,
    "start_time": "2021-11-03T07:12:19.446Z"
   },
   {
    "duration": 10,
    "start_time": "2021-11-03T07:12:20.342Z"
   },
   {
    "duration": 34,
    "start_time": "2021-11-03T07:22:53.345Z"
   },
   {
    "duration": 31,
    "start_time": "2021-11-03T07:23:02.402Z"
   },
   {
    "duration": 32,
    "start_time": "2021-11-03T07:23:09.076Z"
   },
   {
    "duration": 11,
    "start_time": "2021-11-03T07:24:48.578Z"
   },
   {
    "duration": 560,
    "start_time": "2021-11-05T12:12:59.570Z"
   },
   {
    "duration": 51,
    "start_time": "2021-11-05T12:13:01.448Z"
   },
   {
    "duration": 27,
    "start_time": "2021-11-05T12:13:06.838Z"
   },
   {
    "duration": 10,
    "start_time": "2021-11-05T12:13:54.449Z"
   },
   {
    "duration": 30,
    "start_time": "2021-11-05T12:13:58.811Z"
   },
   {
    "duration": 12,
    "start_time": "2021-11-05T12:18:14.632Z"
   },
   {
    "duration": 7,
    "start_time": "2021-11-05T12:39:04.218Z"
   },
   {
    "duration": 11,
    "start_time": "2021-11-05T12:40:03.524Z"
   },
   {
    "duration": 5,
    "start_time": "2021-11-05T12:40:19.602Z"
   },
   {
    "duration": 11,
    "start_time": "2021-11-05T12:40:21.522Z"
   },
   {
    "duration": 5,
    "start_time": "2021-11-05T12:40:37.768Z"
   },
   {
    "duration": 12,
    "start_time": "2021-11-05T12:40:39.073Z"
   },
   {
    "duration": 10,
    "start_time": "2021-11-05T12:43:39.021Z"
   },
   {
    "duration": 6,
    "start_time": "2021-11-05T12:44:18.214Z"
   },
   {
    "duration": 12,
    "start_time": "2021-11-05T12:44:20.323Z"
   },
   {
    "duration": 9,
    "start_time": "2021-11-05T12:44:26.067Z"
   },
   {
    "duration": 495,
    "start_time": "2021-11-05T12:44:36.443Z"
   },
   {
    "duration": 49,
    "start_time": "2021-11-05T12:44:36.940Z"
   },
   {
    "duration": 19,
    "start_time": "2021-11-05T12:44:36.993Z"
   },
   {
    "duration": 16,
    "start_time": "2021-11-05T12:44:37.013Z"
   },
   {
    "duration": 30,
    "start_time": "2021-11-05T12:44:37.031Z"
   },
   {
    "duration": 6,
    "start_time": "2021-11-05T12:44:37.063Z"
   },
   {
    "duration": 29,
    "start_time": "2021-11-05T12:44:37.071Z"
   },
   {
    "duration": 9,
    "start_time": "2021-11-05T12:44:37.102Z"
   },
   {
    "duration": 3,
    "start_time": "2021-11-05T12:44:37.113Z"
   },
   {
    "duration": 5,
    "start_time": "2021-11-05T12:44:37.118Z"
   },
   {
    "duration": 10,
    "start_time": "2021-11-05T12:44:37.125Z"
   },
   {
    "duration": 244,
    "start_time": "2021-11-05T12:44:37.136Z"
   },
   {
    "duration": 9,
    "start_time": "2021-11-05T12:56:13.402Z"
   },
   {
    "duration": 31,
    "start_time": "2021-11-05T12:56:39.947Z"
   },
   {
    "duration": 9,
    "start_time": "2021-11-05T12:56:54.291Z"
   },
   {
    "duration": 20,
    "start_time": "2021-11-05T12:57:27.359Z"
   },
   {
    "duration": 19,
    "start_time": "2021-11-05T12:57:58.438Z"
   },
   {
    "duration": 8,
    "start_time": "2021-11-05T12:58:12.856Z"
   },
   {
    "duration": 18,
    "start_time": "2021-11-05T12:58:38.702Z"
   },
   {
    "duration": 7,
    "start_time": "2021-11-05T12:59:05.891Z"
   },
   {
    "duration": 14,
    "start_time": "2021-11-05T12:59:45.238Z"
   },
   {
    "duration": 7,
    "start_time": "2021-11-05T13:17:42.903Z"
   },
   {
    "duration": 24,
    "start_time": "2021-11-05T13:18:23.450Z"
   },
   {
    "duration": 4,
    "start_time": "2021-11-05T13:21:07.305Z"
   },
   {
    "duration": 164,
    "start_time": "2021-11-05T13:21:28.818Z"
   },
   {
    "duration": 173,
    "start_time": "2021-11-05T13:21:42.336Z"
   },
   {
    "duration": 169,
    "start_time": "2021-11-05T13:21:44.736Z"
   },
   {
    "duration": 4,
    "start_time": "2021-11-05T13:22:00.883Z"
   },
   {
    "duration": 3,
    "start_time": "2021-11-05T13:22:03.168Z"
   },
   {
    "duration": 4,
    "start_time": "2021-11-05T13:22:05.227Z"
   },
   {
    "duration": 5,
    "start_time": "2021-11-05T13:23:25.917Z"
   },
   {
    "duration": 195,
    "start_time": "2021-11-05T13:23:54.342Z"
   },
   {
    "duration": 5,
    "start_time": "2021-11-05T13:24:13.429Z"
   },
   {
    "duration": 65,
    "start_time": "2021-11-05T13:26:06.841Z"
   },
   {
    "duration": 172,
    "start_time": "2021-11-05T13:26:14.081Z"
   },
   {
    "duration": 169,
    "start_time": "2021-11-05T13:26:26.710Z"
   },
   {
    "duration": 170,
    "start_time": "2021-11-05T13:26:37.137Z"
   },
   {
    "duration": 5,
    "start_time": "2021-11-05T13:26:47.073Z"
   },
   {
    "duration": 185,
    "start_time": "2021-11-05T13:27:05.893Z"
   },
   {
    "duration": 163,
    "start_time": "2021-11-05T13:27:12.536Z"
   },
   {
    "duration": 4,
    "start_time": "2021-11-05T13:27:24.058Z"
   },
   {
    "duration": 4,
    "start_time": "2021-11-05T13:30:42.703Z"
   },
   {
    "duration": 4,
    "start_time": "2021-11-05T13:30:59.832Z"
   },
   {
    "duration": 6,
    "start_time": "2021-11-05T13:35:15.647Z"
   },
   {
    "duration": 5,
    "start_time": "2021-11-05T13:36:39.552Z"
   },
   {
    "duration": 5,
    "start_time": "2021-11-05T13:38:35.182Z"
   },
   {
    "duration": 4,
    "start_time": "2021-11-05T13:39:12.094Z"
   },
   {
    "duration": 5,
    "start_time": "2021-11-05T13:39:20.846Z"
   },
   {
    "duration": 5,
    "start_time": "2021-11-05T13:39:31.490Z"
   },
   {
    "duration": 5,
    "start_time": "2021-11-05T13:39:44.085Z"
   },
   {
    "duration": 5,
    "start_time": "2021-11-05T13:39:45.634Z"
   },
   {
    "duration": 4629,
    "start_time": "2021-11-05T13:43:42.119Z"
   },
   {
    "duration": 6,
    "start_time": "2021-11-05T13:43:56.075Z"
   },
   {
    "duration": 6,
    "start_time": "2021-11-05T13:44:28.247Z"
   },
   {
    "duration": 6,
    "start_time": "2021-11-05T13:45:57.357Z"
   },
   {
    "duration": 3,
    "start_time": "2021-11-05T13:45:59.988Z"
   },
   {
    "duration": 163,
    "start_time": "2021-11-05T13:57:09.497Z"
   },
   {
    "duration": 8,
    "start_time": "2021-11-05T13:57:15.530Z"
   },
   {
    "duration": 3,
    "start_time": "2021-11-05T14:09:22.788Z"
   },
   {
    "duration": 12,
    "start_time": "2021-11-05T14:11:30.045Z"
   },
   {
    "duration": 522,
    "start_time": "2021-11-05T14:18:14.557Z"
   },
   {
    "duration": 53,
    "start_time": "2021-11-05T14:18:15.081Z"
   },
   {
    "duration": 17,
    "start_time": "2021-11-05T14:18:15.136Z"
   },
   {
    "duration": 11,
    "start_time": "2021-11-05T14:18:15.155Z"
   },
   {
    "duration": 47,
    "start_time": "2021-11-05T14:18:15.167Z"
   },
   {
    "duration": 6,
    "start_time": "2021-11-05T14:18:15.216Z"
   },
   {
    "duration": 11,
    "start_time": "2021-11-05T14:18:15.223Z"
   },
   {
    "duration": 6,
    "start_time": "2021-11-05T14:18:15.235Z"
   },
   {
    "duration": 7,
    "start_time": "2021-11-05T14:18:15.243Z"
   },
   {
    "duration": 4,
    "start_time": "2021-11-05T14:18:15.252Z"
   },
   {
    "duration": 34,
    "start_time": "2021-11-05T14:18:15.257Z"
   },
   {
    "duration": 6,
    "start_time": "2021-11-05T14:18:15.292Z"
   },
   {
    "duration": 7,
    "start_time": "2021-11-05T14:18:15.299Z"
   },
   {
    "duration": 10,
    "start_time": "2021-11-05T14:18:15.307Z"
   },
   {
    "duration": 54,
    "start_time": "2021-11-05T14:18:15.318Z"
   },
   {
    "duration": 50,
    "start_time": "2021-11-05T14:18:15.323Z"
   },
   {
    "duration": 47,
    "start_time": "2021-11-05T14:18:15.327Z"
   },
   {
    "duration": 44,
    "start_time": "2021-11-05T14:18:15.331Z"
   },
   {
    "duration": 25,
    "start_time": "2021-11-05T14:18:15.351Z"
   },
   {
    "duration": 21,
    "start_time": "2021-11-05T14:18:15.356Z"
   },
   {
    "duration": 18,
    "start_time": "2021-11-05T14:18:15.360Z"
   },
   {
    "duration": 16,
    "start_time": "2021-11-05T14:18:15.363Z"
   },
   {
    "duration": 15,
    "start_time": "2021-11-05T14:18:15.365Z"
   },
   {
    "duration": 13,
    "start_time": "2021-11-05T14:18:15.368Z"
   },
   {
    "duration": 10,
    "start_time": "2021-11-05T14:18:31.349Z"
   },
   {
    "duration": 21,
    "start_time": "2021-11-05T14:19:37.810Z"
   },
   {
    "duration": 5,
    "start_time": "2021-11-05T14:22:46.053Z"
   },
   {
    "duration": 9,
    "start_time": "2021-11-05T14:22:54.865Z"
   },
   {
    "duration": 26,
    "start_time": "2021-11-05T14:27:20.743Z"
   },
   {
    "duration": 22,
    "start_time": "2021-11-05T14:30:22.332Z"
   },
   {
    "duration": 11,
    "start_time": "2021-11-05T14:31:09.685Z"
   },
   {
    "duration": 26,
    "start_time": "2021-11-05T14:31:12.900Z"
   },
   {
    "duration": 22,
    "start_time": "2021-11-05T14:31:48.100Z"
   },
   {
    "duration": 33,
    "start_time": "2021-11-05T14:35:35.713Z"
   },
   {
    "duration": 37,
    "start_time": "2021-11-05T14:36:16.446Z"
   },
   {
    "duration": 32,
    "start_time": "2021-11-05T14:37:31.856Z"
   },
   {
    "duration": 29,
    "start_time": "2021-11-05T14:37:58.288Z"
   },
   {
    "duration": 9,
    "start_time": "2021-11-05T14:38:09.777Z"
   },
   {
    "duration": 8,
    "start_time": "2021-11-05T14:39:39.848Z"
   },
   {
    "duration": 9,
    "start_time": "2021-11-05T14:39:51.486Z"
   },
   {
    "duration": 8,
    "start_time": "2021-11-05T14:40:00.181Z"
   },
   {
    "duration": 7,
    "start_time": "2021-11-05T14:40:17.183Z"
   },
   {
    "duration": 8,
    "start_time": "2021-11-05T14:40:24.325Z"
   },
   {
    "duration": 8,
    "start_time": "2021-11-05T14:40:55.914Z"
   },
   {
    "duration": 27,
    "start_time": "2021-11-05T14:41:55.752Z"
   },
   {
    "duration": 137,
    "start_time": "2021-11-05T14:43:51.679Z"
   },
   {
    "duration": 4,
    "start_time": "2021-11-05T14:44:01.219Z"
   },
   {
    "duration": 6,
    "start_time": "2021-11-05T14:44:29.980Z"
   },
   {
    "duration": 4,
    "start_time": "2021-11-05T14:53:42.001Z"
   },
   {
    "duration": 9,
    "start_time": "2021-11-05T14:54:47.589Z"
   },
   {
    "duration": 5,
    "start_time": "2021-11-05T14:57:44.756Z"
   },
   {
    "duration": 13,
    "start_time": "2021-11-05T14:58:13.094Z"
   },
   {
    "duration": 10,
    "start_time": "2021-11-05T15:06:26.541Z"
   },
   {
    "duration": 21,
    "start_time": "2021-11-05T15:06:39.522Z"
   },
   {
    "duration": 4320,
    "start_time": "2021-11-05T15:06:45.840Z"
   },
   {
    "duration": 3,
    "start_time": "2021-11-05T15:07:26.063Z"
   },
   {
    "duration": 13,
    "start_time": "2021-11-05T15:07:29.928Z"
   },
   {
    "duration": 10,
    "start_time": "2021-11-05T15:07:34.102Z"
   },
   {
    "duration": 6,
    "start_time": "2021-11-05T15:08:16.510Z"
   },
   {
    "duration": 13,
    "start_time": "2021-11-05T15:08:18.258Z"
   },
   {
    "duration": 15,
    "start_time": "2021-11-05T15:10:12.283Z"
   },
   {
    "duration": 17,
    "start_time": "2021-11-05T15:12:48.960Z"
   },
   {
    "duration": 11,
    "start_time": "2021-11-05T15:13:02.486Z"
   },
   {
    "duration": 5,
    "start_time": "2021-11-05T15:18:38.122Z"
   },
   {
    "duration": 4,
    "start_time": "2021-11-05T15:19:24.772Z"
   },
   {
    "duration": 199,
    "start_time": "2021-11-05T15:22:21.905Z"
   },
   {
    "duration": 12,
    "start_time": "2021-11-05T15:22:32.405Z"
   },
   {
    "duration": 183,
    "start_time": "2021-11-05T15:29:50.789Z"
   },
   {
    "duration": 182,
    "start_time": "2021-11-05T15:30:13.652Z"
   },
   {
    "duration": 184,
    "start_time": "2021-11-05T15:32:46.146Z"
   },
   {
    "duration": 191,
    "start_time": "2021-11-05T15:32:57.897Z"
   },
   {
    "duration": 7,
    "start_time": "2021-11-05T15:34:31.775Z"
   },
   {
    "duration": 13,
    "start_time": "2021-11-05T15:34:47.482Z"
   },
   {
    "duration": 10,
    "start_time": "2021-11-05T15:34:58.243Z"
   },
   {
    "duration": 10,
    "start_time": "2021-11-05T15:35:07.850Z"
   },
   {
    "duration": 10,
    "start_time": "2021-11-05T15:35:18.008Z"
   },
   {
    "duration": 11,
    "start_time": "2021-11-05T15:35:45.617Z"
   },
   {
    "duration": 10,
    "start_time": "2021-11-05T15:35:59.369Z"
   },
   {
    "duration": 9,
    "start_time": "2021-11-05T15:36:03.800Z"
   },
   {
    "duration": 6,
    "start_time": "2021-11-05T15:36:06.090Z"
   },
   {
    "duration": 12,
    "start_time": "2021-11-05T15:36:07.715Z"
   },
   {
    "duration": 15,
    "start_time": "2021-11-05T15:36:10.511Z"
   },
   {
    "duration": 10,
    "start_time": "2021-11-05T15:36:12.366Z"
   },
   {
    "duration": 8,
    "start_time": "2021-11-05T15:36:31.459Z"
   },
   {
    "duration": 4,
    "start_time": "2021-11-05T15:42:26.597Z"
   },
   {
    "duration": 165,
    "start_time": "2021-11-05T15:48:19.100Z"
   },
   {
    "duration": 1305,
    "start_time": "2021-11-05T15:48:45.836Z"
   },
   {
    "duration": 4,
    "start_time": "2021-11-05T15:52:53.515Z"
   },
   {
    "duration": 548,
    "start_time": "2021-11-05T15:52:55.661Z"
   },
   {
    "duration": 9,
    "start_time": "2021-11-05T15:53:09.868Z"
   },
   {
    "duration": 57,
    "start_time": "2021-11-05T15:53:46.144Z"
   },
   {
    "duration": 6,
    "start_time": "2021-11-05T15:53:56.891Z"
   },
   {
    "duration": 5,
    "start_time": "2021-11-05T15:54:26.153Z"
   },
   {
    "duration": 11,
    "start_time": "2021-11-05T16:01:07.375Z"
   },
   {
    "duration": 9,
    "start_time": "2021-11-05T16:01:51.533Z"
   },
   {
    "duration": 191,
    "start_time": "2021-11-05T16:03:20.515Z"
   },
   {
    "duration": 15,
    "start_time": "2021-11-05T16:03:45.546Z"
   },
   {
    "duration": 14,
    "start_time": "2021-11-05T16:03:52.723Z"
   },
   {
    "duration": 707,
    "start_time": "2021-11-05T16:03:57.155Z"
   },
   {
    "duration": 16,
    "start_time": "2021-11-05T16:04:01.661Z"
   },
   {
    "duration": 10,
    "start_time": "2021-11-05T16:04:26.234Z"
   },
   {
    "duration": 10,
    "start_time": "2021-11-05T16:04:57.359Z"
   },
   {
    "duration": 9,
    "start_time": "2021-11-05T16:05:05.592Z"
   },
   {
    "duration": 9,
    "start_time": "2021-11-05T16:05:08.577Z"
   },
   {
    "duration": 7,
    "start_time": "2021-11-05T16:10:09.495Z"
   },
   {
    "duration": 8,
    "start_time": "2021-11-05T16:11:13.193Z"
   },
   {
    "duration": 9,
    "start_time": "2021-11-05T16:11:19.309Z"
   },
   {
    "duration": 21,
    "start_time": "2021-11-05T16:12:11.707Z"
   },
   {
    "duration": 19,
    "start_time": "2021-11-05T16:12:32.940Z"
   },
   {
    "duration": 20,
    "start_time": "2021-11-05T16:13:17.248Z"
   },
   {
    "duration": 21,
    "start_time": "2021-11-05T16:13:28.326Z"
   },
   {
    "duration": 15,
    "start_time": "2021-11-05T16:18:30.079Z"
   },
   {
    "duration": 7,
    "start_time": "2021-11-05T16:18:34.535Z"
   },
   {
    "duration": 14,
    "start_time": "2021-11-05T16:20:47.222Z"
   },
   {
    "duration": 8,
    "start_time": "2021-11-05T16:20:48.692Z"
   },
   {
    "duration": 4,
    "start_time": "2021-11-05T16:21:06.727Z"
   },
   {
    "duration": 547,
    "start_time": "2021-11-05T16:21:43.477Z"
   },
   {
    "duration": 11,
    "start_time": "2021-11-05T16:21:50.793Z"
   },
   {
    "duration": 5,
    "start_time": "2021-11-05T16:24:14.588Z"
   },
   {
    "duration": 10,
    "start_time": "2021-11-05T16:24:18.740Z"
   },
   {
    "duration": 9,
    "start_time": "2021-11-05T16:24:22.090Z"
   },
   {
    "duration": 5,
    "start_time": "2021-11-05T16:26:50.302Z"
   },
   {
    "duration": 13,
    "start_time": "2021-11-05T16:34:48.185Z"
   },
   {
    "duration": 4,
    "start_time": "2021-11-05T16:41:14.150Z"
   },
   {
    "duration": 4,
    "start_time": "2021-11-05T16:41:15.509Z"
   },
   {
    "duration": 11,
    "start_time": "2021-11-05T16:41:20.538Z"
   },
   {
    "duration": 20,
    "start_time": "2021-11-05T19:03:25.473Z"
   },
   {
    "duration": 12,
    "start_time": "2021-11-05T19:03:56.659Z"
   },
   {
    "duration": 14,
    "start_time": "2021-11-05T19:04:11.619Z"
   },
   {
    "duration": 13,
    "start_time": "2021-11-05T19:04:20.238Z"
   },
   {
    "duration": 17,
    "start_time": "2021-11-05T19:06:05.391Z"
   },
   {
    "duration": 13,
    "start_time": "2021-11-05T19:06:08.397Z"
   },
   {
    "duration": 14,
    "start_time": "2021-11-05T19:06:15.569Z"
   },
   {
    "duration": 5,
    "start_time": "2021-11-05T19:07:44.230Z"
   },
   {
    "duration": 11,
    "start_time": "2021-11-05T19:08:13.060Z"
   },
   {
    "duration": 6,
    "start_time": "2021-11-05T19:08:40.291Z"
   },
   {
    "duration": 5,
    "start_time": "2021-11-05T19:11:38.749Z"
   },
   {
    "duration": 12,
    "start_time": "2021-11-05T19:11:42.231Z"
   },
   {
    "duration": 7,
    "start_time": "2021-11-05T19:11:57.876Z"
   },
   {
    "duration": 5,
    "start_time": "2021-11-05T19:14:16.213Z"
   },
   {
    "duration": 17,
    "start_time": "2021-11-05T19:15:07.886Z"
   },
   {
    "duration": 18,
    "start_time": "2021-11-05T19:16:17.507Z"
   },
   {
    "duration": 16,
    "start_time": "2021-11-05T19:16:22.996Z"
   },
   {
    "duration": 6,
    "start_time": "2021-11-05T19:38:03.350Z"
   },
   {
    "duration": 8,
    "start_time": "2021-11-05T19:47:03.922Z"
   },
   {
    "duration": 522,
    "start_time": "2021-11-05T19:50:59.952Z"
   },
   {
    "duration": 2,
    "start_time": "2021-11-05T19:51:14.591Z"
   },
   {
    "duration": 167,
    "start_time": "2021-11-05T19:51:15.852Z"
   },
   {
    "duration": 169,
    "start_time": "2021-11-05T19:51:23.570Z"
   },
   {
    "duration": 4,
    "start_time": "2021-11-05T19:51:27.229Z"
   },
   {
    "duration": 3,
    "start_time": "2021-11-05T19:51:29.263Z"
   },
   {
    "duration": 3315,
    "start_time": "2021-11-05T19:51:33.550Z"
   },
   {
    "duration": 5,
    "start_time": "2021-11-05T19:53:04.166Z"
   },
   {
    "duration": 10,
    "start_time": "2021-11-05T19:53:26.519Z"
   },
   {
    "duration": 2,
    "start_time": "2021-11-05T20:02:56.819Z"
   },
   {
    "duration": 3,
    "start_time": "2021-11-05T20:02:59.482Z"
   },
   {
    "duration": 5419,
    "start_time": "2021-11-05T20:03:01.723Z"
   },
   {
    "duration": 3,
    "start_time": "2021-11-05T20:04:23.397Z"
   },
   {
    "duration": 2633,
    "start_time": "2021-11-05T20:04:25.361Z"
   },
   {
    "duration": 13,
    "start_time": "2021-11-05T20:04:30.539Z"
   },
   {
    "duration": 17,
    "start_time": "2021-11-05T20:05:18.222Z"
   },
   {
    "duration": 12,
    "start_time": "2021-11-05T20:05:36.334Z"
   },
   {
    "duration": 12,
    "start_time": "2021-11-05T20:05:44.264Z"
   },
   {
    "duration": 19,
    "start_time": "2021-11-05T20:11:15.947Z"
   },
   {
    "duration": 5,
    "start_time": "2021-11-05T20:31:21.270Z"
   },
   {
    "duration": 21,
    "start_time": "2021-11-05T20:31:47.288Z"
   },
   {
    "duration": 5,
    "start_time": "2021-11-05T20:37:16.801Z"
   },
   {
    "duration": 22,
    "start_time": "2021-11-05T20:39:51.629Z"
   },
   {
    "duration": 558,
    "start_time": "2021-11-05T20:40:30.707Z"
   },
   {
    "duration": 530,
    "start_time": "2021-11-05T20:40:31.267Z"
   },
   {
    "duration": 17,
    "start_time": "2021-11-05T20:40:31.799Z"
   },
   {
    "duration": 9,
    "start_time": "2021-11-05T20:40:31.818Z"
   },
   {
    "duration": 30,
    "start_time": "2021-11-05T20:40:31.829Z"
   },
   {
    "duration": 7,
    "start_time": "2021-11-05T20:40:31.860Z"
   },
   {
    "duration": 33,
    "start_time": "2021-11-05T20:40:31.869Z"
   },
   {
    "duration": 5,
    "start_time": "2021-11-05T20:40:31.906Z"
   },
   {
    "duration": 6,
    "start_time": "2021-11-05T20:40:31.914Z"
   },
   {
    "duration": 5,
    "start_time": "2021-11-05T20:40:31.922Z"
   },
   {
    "duration": 7,
    "start_time": "2021-11-05T20:40:31.929Z"
   },
   {
    "duration": 15,
    "start_time": "2021-11-05T20:40:31.938Z"
   },
   {
    "duration": 8,
    "start_time": "2021-11-05T20:40:31.954Z"
   },
   {
    "duration": 29,
    "start_time": "2021-11-05T20:40:31.963Z"
   },
   {
    "duration": 64,
    "start_time": "2021-11-05T20:40:31.993Z"
   },
   {
    "duration": -494,
    "start_time": "2021-11-05T20:40:32.554Z"
   },
   {
    "duration": -498,
    "start_time": "2021-11-05T20:40:32.558Z"
   },
   {
    "duration": -501,
    "start_time": "2021-11-05T20:40:32.562Z"
   },
   {
    "duration": -503,
    "start_time": "2021-11-05T20:40:32.565Z"
   },
   {
    "duration": -506,
    "start_time": "2021-11-05T20:40:32.569Z"
   },
   {
    "duration": -509,
    "start_time": "2021-11-05T20:40:32.573Z"
   },
   {
    "duration": -512,
    "start_time": "2021-11-05T20:40:32.577Z"
   },
   {
    "duration": -515,
    "start_time": "2021-11-05T20:40:32.581Z"
   },
   {
    "duration": -518,
    "start_time": "2021-11-05T20:40:32.585Z"
   },
   {
    "duration": -520,
    "start_time": "2021-11-05T20:40:32.588Z"
   },
   {
    "duration": -524,
    "start_time": "2021-11-05T20:40:32.593Z"
   },
   {
    "duration": -526,
    "start_time": "2021-11-05T20:40:32.596Z"
   },
   {
    "duration": -530,
    "start_time": "2021-11-05T20:40:32.600Z"
   },
   {
    "duration": -533,
    "start_time": "2021-11-05T20:40:32.604Z"
   },
   {
    "duration": -535,
    "start_time": "2021-11-05T20:40:32.607Z"
   },
   {
    "duration": -537,
    "start_time": "2021-11-05T20:40:32.610Z"
   },
   {
    "duration": -541,
    "start_time": "2021-11-05T20:40:32.615Z"
   },
   {
    "duration": -543,
    "start_time": "2021-11-05T20:40:32.618Z"
   },
   {
    "duration": -546,
    "start_time": "2021-11-05T20:40:32.622Z"
   },
   {
    "duration": -548,
    "start_time": "2021-11-05T20:40:32.625Z"
   },
   {
    "duration": -551,
    "start_time": "2021-11-05T20:40:32.629Z"
   },
   {
    "duration": -574,
    "start_time": "2021-11-05T20:40:32.653Z"
   },
   {
    "duration": -578,
    "start_time": "2021-11-05T20:40:32.658Z"
   },
   {
    "duration": -583,
    "start_time": "2021-11-05T20:40:32.664Z"
   },
   {
    "duration": -587,
    "start_time": "2021-11-05T20:40:32.669Z"
   },
   {
    "duration": -590,
    "start_time": "2021-11-05T20:40:32.673Z"
   },
   {
    "duration": -593,
    "start_time": "2021-11-05T20:40:32.677Z"
   },
   {
    "duration": -595,
    "start_time": "2021-11-05T20:40:32.680Z"
   },
   {
    "duration": -599,
    "start_time": "2021-11-05T20:40:32.685Z"
   },
   {
    "duration": -603,
    "start_time": "2021-11-05T20:40:32.689Z"
   },
   {
    "duration": -605,
    "start_time": "2021-11-05T20:40:32.693Z"
   },
   {
    "duration": -608,
    "start_time": "2021-11-05T20:40:32.696Z"
   },
   {
    "duration": -611,
    "start_time": "2021-11-05T20:40:32.700Z"
   },
   {
    "duration": -614,
    "start_time": "2021-11-05T20:40:32.704Z"
   },
   {
    "duration": -617,
    "start_time": "2021-11-05T20:40:32.708Z"
   },
   {
    "duration": -620,
    "start_time": "2021-11-05T20:40:32.712Z"
   },
   {
    "duration": -623,
    "start_time": "2021-11-05T20:40:32.716Z"
   },
   {
    "duration": -626,
    "start_time": "2021-11-05T20:40:32.720Z"
   },
   {
    "duration": -628,
    "start_time": "2021-11-05T20:40:32.723Z"
   },
   {
    "duration": -631,
    "start_time": "2021-11-05T20:40:32.727Z"
   },
   {
    "duration": -634,
    "start_time": "2021-11-05T20:40:32.731Z"
   },
   {
    "duration": -636,
    "start_time": "2021-11-05T20:40:32.735Z"
   },
   {
    "duration": -640,
    "start_time": "2021-11-05T20:40:32.740Z"
   },
   {
    "duration": -642,
    "start_time": "2021-11-05T20:40:32.743Z"
   },
   {
    "duration": -646,
    "start_time": "2021-11-05T20:40:32.748Z"
   },
   {
    "duration": -660,
    "start_time": "2021-11-05T20:40:32.763Z"
   },
   {
    "duration": -662,
    "start_time": "2021-11-05T20:40:32.768Z"
   },
   {
    "duration": 238,
    "start_time": "2021-11-05T20:40:32.107Z"
   },
   {
    "duration": -473,
    "start_time": "2021-11-05T20:40:32.820Z"
   },
   {
    "duration": -479,
    "start_time": "2021-11-05T20:40:32.827Z"
   },
   {
    "duration": -481,
    "start_time": "2021-11-05T20:40:32.830Z"
   },
   {
    "duration": -485,
    "start_time": "2021-11-05T20:40:32.835Z"
   },
   {
    "duration": -488,
    "start_time": "2021-11-05T20:40:32.839Z"
   },
   {
    "duration": -490,
    "start_time": "2021-11-05T20:40:32.842Z"
   },
   {
    "duration": -493,
    "start_time": "2021-11-05T20:40:32.846Z"
   },
   {
    "duration": -496,
    "start_time": "2021-11-05T20:40:32.850Z"
   },
   {
    "duration": -498,
    "start_time": "2021-11-05T20:40:32.853Z"
   },
   {
    "duration": 571,
    "start_time": "2021-11-05T20:41:07.691Z"
   },
   {
    "duration": 51,
    "start_time": "2021-11-05T20:41:08.263Z"
   },
   {
    "duration": 16,
    "start_time": "2021-11-05T20:41:08.316Z"
   },
   {
    "duration": 14,
    "start_time": "2021-11-05T20:41:08.334Z"
   },
   {
    "duration": 30,
    "start_time": "2021-11-05T20:41:08.349Z"
   },
   {
    "duration": 16,
    "start_time": "2021-11-05T20:41:08.380Z"
   },
   {
    "duration": 10,
    "start_time": "2021-11-05T20:41:08.397Z"
   },
   {
    "duration": 5,
    "start_time": "2021-11-05T20:41:08.409Z"
   },
   {
    "duration": 6,
    "start_time": "2021-11-05T20:41:08.415Z"
   },
   {
    "duration": 7,
    "start_time": "2021-11-05T20:41:08.422Z"
   },
   {
    "duration": 9,
    "start_time": "2021-11-05T20:41:08.431Z"
   },
   {
    "duration": 5,
    "start_time": "2021-11-05T20:41:08.441Z"
   },
   {
    "duration": 5,
    "start_time": "2021-11-05T20:41:08.447Z"
   },
   {
    "duration": 6,
    "start_time": "2021-11-05T20:41:08.453Z"
   },
   {
    "duration": 50,
    "start_time": "2021-11-05T20:41:08.460Z"
   },
   {
    "duration": 7,
    "start_time": "2021-11-05T20:41:08.512Z"
   },
   {
    "duration": 8,
    "start_time": "2021-11-05T20:41:08.520Z"
   },
   {
    "duration": 20,
    "start_time": "2021-11-05T20:41:08.529Z"
   },
   {
    "duration": 2,
    "start_time": "2021-11-05T20:41:08.551Z"
   },
   {
    "duration": 38,
    "start_time": "2021-11-05T20:41:08.554Z"
   },
   {
    "duration": 7,
    "start_time": "2021-11-05T20:41:08.594Z"
   },
   {
    "duration": 6,
    "start_time": "2021-11-05T20:41:08.602Z"
   },
   {
    "duration": 11,
    "start_time": "2021-11-05T20:41:08.611Z"
   },
   {
    "duration": 3,
    "start_time": "2021-11-05T20:41:08.625Z"
   },
   {
    "duration": 14,
    "start_time": "2021-11-05T20:41:08.630Z"
   },
   {
    "duration": 6,
    "start_time": "2021-11-05T20:41:08.645Z"
   },
   {
    "duration": 39,
    "start_time": "2021-11-05T20:41:08.653Z"
   },
   {
    "duration": 9,
    "start_time": "2021-11-05T20:41:08.693Z"
   },
   {
    "duration": 8,
    "start_time": "2021-11-05T20:41:08.703Z"
   },
   {
    "duration": 13,
    "start_time": "2021-11-05T20:41:08.712Z"
   },
   {
    "duration": 14,
    "start_time": "2021-11-05T20:41:08.727Z"
   },
   {
    "duration": 7,
    "start_time": "2021-11-05T20:41:08.742Z"
   },
   {
    "duration": 4,
    "start_time": "2021-11-05T20:41:08.750Z"
   },
   {
    "duration": 578,
    "start_time": "2021-11-05T20:41:08.756Z"
   },
   {
    "duration": 3,
    "start_time": "2021-11-05T20:41:09.336Z"
   },
   {
    "duration": 12,
    "start_time": "2021-11-05T20:41:09.341Z"
   },
   {
    "duration": 13,
    "start_time": "2021-11-05T20:41:09.355Z"
   },
   {
    "duration": 6,
    "start_time": "2021-11-05T20:41:09.369Z"
   },
   {
    "duration": 2,
    "start_time": "2021-11-05T20:41:09.391Z"
   },
   {
    "duration": 558,
    "start_time": "2021-11-05T20:41:09.395Z"
   },
   {
    "duration": 4,
    "start_time": "2021-11-05T20:41:09.955Z"
   },
   {
    "duration": 15,
    "start_time": "2021-11-05T20:41:09.960Z"
   },
   {
    "duration": 21,
    "start_time": "2021-11-05T20:41:09.976Z"
   },
   {
    "duration": 9,
    "start_time": "2021-11-05T20:41:09.999Z"
   },
   {
    "duration": 5,
    "start_time": "2021-11-05T20:41:10.010Z"
   },
   {
    "duration": 6,
    "start_time": "2021-11-05T20:41:10.017Z"
   },
   {
    "duration": 14,
    "start_time": "2021-11-05T20:41:10.024Z"
   },
   {
    "duration": 14,
    "start_time": "2021-11-05T20:41:10.039Z"
   },
   {
    "duration": 41,
    "start_time": "2021-11-05T20:41:10.054Z"
   },
   {
    "duration": 13,
    "start_time": "2021-11-05T20:41:10.096Z"
   },
   {
    "duration": 5,
    "start_time": "2021-11-05T20:41:10.110Z"
   },
   {
    "duration": 16,
    "start_time": "2021-11-05T20:41:10.116Z"
   },
   {
    "duration": 11,
    "start_time": "2021-11-05T20:41:10.133Z"
   },
   {
    "duration": 11,
    "start_time": "2021-11-05T20:41:10.145Z"
   },
   {
    "duration": 20,
    "start_time": "2021-11-05T20:41:10.157Z"
   },
   {
    "duration": 18,
    "start_time": "2021-11-05T20:41:10.179Z"
   },
   {
    "duration": 18,
    "start_time": "2021-11-05T20:41:10.198Z"
   },
   {
    "duration": 35,
    "start_time": "2021-11-05T20:41:10.218Z"
   },
   {
    "duration": 19,
    "start_time": "2021-11-05T20:41:10.255Z"
   },
   {
    "duration": 17,
    "start_time": "2021-11-05T20:41:10.275Z"
   },
   {
    "duration": 4,
    "start_time": "2021-11-05T20:41:10.293Z"
   },
   {
    "duration": 4,
    "start_time": "2021-11-05T20:41:10.298Z"
   },
   {
    "duration": 17,
    "start_time": "2021-11-05T20:41:10.304Z"
   },
   {
    "duration": 15,
    "start_time": "2021-11-05T20:41:10.323Z"
   },
   {
    "duration": 9,
    "start_time": "2021-11-05T20:41:10.340Z"
   },
   {
    "duration": 3241,
    "start_time": "2021-11-05T20:41:10.351Z"
   },
   {
    "duration": 13,
    "start_time": "2021-11-05T20:41:13.594Z"
   },
   {
    "duration": 29,
    "start_time": "2021-11-05T20:41:13.611Z"
   },
   {
    "duration": 59,
    "start_time": "2021-11-05T20:41:13.643Z"
   },
   {
    "duration": 44,
    "start_time": "2021-11-05T20:41:13.660Z"
   },
   {
    "duration": 16,
    "start_time": "2021-11-05T20:41:13.688Z"
   },
   {
    "duration": 9,
    "start_time": "2021-11-05T20:43:42.538Z"
   },
   {
    "duration": 4,
    "start_time": "2021-11-05T20:43:56.103Z"
   },
   {
    "duration": 593,
    "start_time": "2021-11-05T20:45:00.365Z"
   },
   {
    "duration": 52,
    "start_time": "2021-11-05T20:45:00.960Z"
   },
   {
    "duration": 19,
    "start_time": "2021-11-05T20:45:01.014Z"
   },
   {
    "duration": 15,
    "start_time": "2021-11-05T20:45:01.035Z"
   },
   {
    "duration": 48,
    "start_time": "2021-11-05T20:45:01.051Z"
   },
   {
    "duration": 7,
    "start_time": "2021-11-05T20:45:01.100Z"
   },
   {
    "duration": 19,
    "start_time": "2021-11-05T20:45:01.108Z"
   },
   {
    "duration": 14,
    "start_time": "2021-11-05T20:45:01.129Z"
   },
   {
    "duration": 16,
    "start_time": "2021-11-05T20:45:01.145Z"
   },
   {
    "duration": 15,
    "start_time": "2021-11-05T20:45:01.163Z"
   },
   {
    "duration": 12,
    "start_time": "2021-11-05T20:45:01.180Z"
   },
   {
    "duration": 16,
    "start_time": "2021-11-05T20:45:01.193Z"
   },
   {
    "duration": 11,
    "start_time": "2021-11-05T20:45:01.210Z"
   },
   {
    "duration": 19,
    "start_time": "2021-11-05T20:45:01.223Z"
   },
   {
    "duration": 32,
    "start_time": "2021-11-05T20:45:01.244Z"
   },
   {
    "duration": 4,
    "start_time": "2021-11-05T20:45:01.278Z"
   },
   {
    "duration": 12,
    "start_time": "2021-11-05T20:45:01.284Z"
   },
   {
    "duration": 22,
    "start_time": "2021-11-05T20:45:01.297Z"
   },
   {
    "duration": 9,
    "start_time": "2021-11-05T20:45:01.321Z"
   },
   {
    "duration": 28,
    "start_time": "2021-11-05T20:45:01.331Z"
   },
   {
    "duration": 3,
    "start_time": "2021-11-05T20:45:01.360Z"
   },
   {
    "duration": 21,
    "start_time": "2021-11-05T20:45:01.365Z"
   },
   {
    "duration": 15,
    "start_time": "2021-11-05T20:45:01.389Z"
   },
   {
    "duration": 4,
    "start_time": "2021-11-05T20:45:01.407Z"
   },
   {
    "duration": 20,
    "start_time": "2021-11-05T20:45:01.413Z"
   },
   {
    "duration": 17,
    "start_time": "2021-11-05T20:45:01.435Z"
   },
   {
    "duration": 24,
    "start_time": "2021-11-05T20:45:01.454Z"
   },
   {
    "duration": 18,
    "start_time": "2021-11-05T20:45:01.480Z"
   },
   {
    "duration": 24,
    "start_time": "2021-11-05T20:45:01.500Z"
   },
   {
    "duration": 27,
    "start_time": "2021-11-05T20:45:01.525Z"
   },
   {
    "duration": 21,
    "start_time": "2021-11-05T20:45:01.554Z"
   },
   {
    "duration": 32,
    "start_time": "2021-11-05T20:45:01.577Z"
   },
   {
    "duration": 22,
    "start_time": "2021-11-05T20:45:01.611Z"
   },
   {
    "duration": 6,
    "start_time": "2021-11-05T20:45:01.635Z"
   },
   {
    "duration": 21,
    "start_time": "2021-11-05T20:45:01.643Z"
   },
   {
    "duration": 576,
    "start_time": "2021-11-05T20:45:01.666Z"
   },
   {
    "duration": 5,
    "start_time": "2021-11-05T20:45:02.244Z"
   },
   {
    "duration": 14,
    "start_time": "2021-11-05T20:45:02.250Z"
   },
   {
    "duration": 25,
    "start_time": "2021-11-05T20:45:02.266Z"
   },
   {
    "duration": 6,
    "start_time": "2021-11-05T20:45:02.293Z"
   },
   {
    "duration": 10,
    "start_time": "2021-11-05T20:45:02.300Z"
   },
   {
    "duration": 564,
    "start_time": "2021-11-05T20:45:02.311Z"
   },
   {
    "duration": 4,
    "start_time": "2021-11-05T20:45:02.877Z"
   },
   {
    "duration": 16,
    "start_time": "2021-11-05T20:45:02.883Z"
   },
   {
    "duration": 9,
    "start_time": "2021-11-05T20:45:02.900Z"
   },
   {
    "duration": 13,
    "start_time": "2021-11-05T20:45:02.911Z"
   },
   {
    "duration": 12,
    "start_time": "2021-11-05T20:45:02.925Z"
   },
   {
    "duration": 5,
    "start_time": "2021-11-05T20:45:02.938Z"
   },
   {
    "duration": 23,
    "start_time": "2021-11-05T20:45:02.945Z"
   },
   {
    "duration": 14,
    "start_time": "2021-11-05T20:45:02.970Z"
   },
   {
    "duration": 18,
    "start_time": "2021-11-05T20:45:02.985Z"
   },
   {
    "duration": 12,
    "start_time": "2021-11-05T20:45:03.005Z"
   },
   {
    "duration": 4,
    "start_time": "2021-11-05T20:45:03.019Z"
   },
   {
    "duration": 11,
    "start_time": "2021-11-05T20:45:03.024Z"
   },
   {
    "duration": 9,
    "start_time": "2021-11-05T20:45:03.037Z"
   },
   {
    "duration": 11,
    "start_time": "2021-11-05T20:45:03.048Z"
   },
   {
    "duration": 35,
    "start_time": "2021-11-05T20:45:03.060Z"
   },
   {
    "duration": 14,
    "start_time": "2021-11-05T20:45:03.096Z"
   },
   {
    "duration": 5,
    "start_time": "2021-11-05T20:45:03.111Z"
   },
   {
    "duration": 18,
    "start_time": "2021-11-05T20:45:03.118Z"
   },
   {
    "duration": 16,
    "start_time": "2021-11-05T20:45:03.137Z"
   },
   {
    "duration": 13,
    "start_time": "2021-11-05T20:45:03.155Z"
   },
   {
    "duration": 23,
    "start_time": "2021-11-05T20:45:03.170Z"
   },
   {
    "duration": 2,
    "start_time": "2021-11-05T20:45:03.194Z"
   },
   {
    "duration": 7,
    "start_time": "2021-11-05T20:45:03.198Z"
   },
   {
    "duration": 3,
    "start_time": "2021-11-05T20:45:03.207Z"
   },
   {
    "duration": 6,
    "start_time": "2021-11-05T20:45:03.211Z"
   },
   {
    "duration": 3177,
    "start_time": "2021-11-05T20:45:03.221Z"
   },
   {
    "duration": 14,
    "start_time": "2021-11-05T20:45:06.400Z"
   },
   {
    "duration": 23,
    "start_time": "2021-11-05T20:45:06.415Z"
   },
   {
    "duration": 57,
    "start_time": "2021-11-05T20:45:06.439Z"
   },
   {
    "duration": 6,
    "start_time": "2021-11-05T20:45:06.492Z"
   },
   {
    "duration": 1,
    "start_time": "2021-11-05T20:45:06.498Z"
   },
   {
    "duration": 13,
    "start_time": "2021-11-05T20:46:24.586Z"
   },
   {
    "duration": 12,
    "start_time": "2021-11-05T20:46:54.411Z"
   },
   {
    "duration": 8,
    "start_time": "2021-11-05T20:47:04.950Z"
   },
   {
    "duration": 8,
    "start_time": "2021-11-05T20:55:59.595Z"
   },
   {
    "duration": 3,
    "start_time": "2021-11-05T20:56:03.455Z"
   },
   {
    "duration": 246,
    "start_time": "2021-11-05T20:56:05.779Z"
   },
   {
    "duration": 8,
    "start_time": "2021-11-05T20:56:13.515Z"
   },
   {
    "duration": 11,
    "start_time": "2021-11-05T20:56:15.144Z"
   },
   {
    "duration": 4,
    "start_time": "2021-11-05T21:11:50.729Z"
   },
   {
    "duration": 6,
    "start_time": "2021-11-05T21:12:00.626Z"
   },
   {
    "duration": 12,
    "start_time": "2021-11-05T21:12:02.569Z"
   },
   {
    "duration": 167,
    "start_time": "2021-11-05T21:16:51.033Z"
   },
   {
    "duration": 14,
    "start_time": "2021-11-05T21:16:56.972Z"
   },
   {
    "duration": 8,
    "start_time": "2021-11-05T21:16:58.320Z"
   },
   {
    "duration": 167,
    "start_time": "2021-11-05T21:27:42.514Z"
   },
   {
    "duration": 8,
    "start_time": "2021-11-05T21:27:45.167Z"
   },
   {
    "duration": 8,
    "start_time": "2021-11-05T21:27:46.571Z"
   },
   {
    "duration": 7,
    "start_time": "2021-11-05T21:27:55.597Z"
   },
   {
    "duration": 175,
    "start_time": "2021-11-05T21:38:27.095Z"
   },
   {
    "duration": 172,
    "start_time": "2021-11-05T21:38:33.055Z"
   },
   {
    "duration": 7,
    "start_time": "2021-11-05T21:38:37.850Z"
   },
   {
    "duration": 16,
    "start_time": "2021-11-05T21:38:39.423Z"
   },
   {
    "duration": 5523,
    "start_time": "2021-11-05T21:42:18.123Z"
   },
   {
    "duration": 4026,
    "start_time": "2021-11-05T21:42:35.196Z"
   },
   {
    "duration": 4893,
    "start_time": "2021-11-05T21:42:42.583Z"
   },
   {
    "duration": 5020,
    "start_time": "2021-11-05T21:44:11.730Z"
   },
   {
    "duration": 3,
    "start_time": "2021-11-05T21:44:31.552Z"
   },
   {
    "duration": 186,
    "start_time": "2021-11-05T21:45:31.291Z"
   },
   {
    "duration": 7,
    "start_time": "2021-11-05T21:45:48.247Z"
   },
   {
    "duration": 5,
    "start_time": "2021-11-05T21:46:02.714Z"
   },
   {
    "duration": 6,
    "start_time": "2021-11-05T21:46:10.723Z"
   },
   {
    "duration": 6,
    "start_time": "2021-11-05T21:46:45.077Z"
   },
   {
    "duration": 12,
    "start_time": "2021-11-05T21:47:48.414Z"
   },
   {
    "duration": 219,
    "start_time": "2021-11-05T21:48:44.396Z"
   },
   {
    "duration": 6,
    "start_time": "2021-11-05T21:48:51.884Z"
   },
   {
    "duration": 4,
    "start_time": "2021-11-05T21:49:00.039Z"
   },
   {
    "duration": 186,
    "start_time": "2021-11-05T21:54:51.618Z"
   },
   {
    "duration": 5,
    "start_time": "2021-11-05T21:55:04.391Z"
   },
   {
    "duration": 3,
    "start_time": "2021-11-05T21:56:00.009Z"
   },
   {
    "duration": 4,
    "start_time": "2021-11-05T21:56:02.687Z"
   },
   {
    "duration": 3,
    "start_time": "2021-11-05T21:56:28.802Z"
   },
   {
    "duration": 4,
    "start_time": "2021-11-05T21:56:30.660Z"
   },
   {
    "duration": 6,
    "start_time": "2021-11-05T21:57:03.504Z"
   },
   {
    "duration": 5,
    "start_time": "2021-11-05T21:57:05.305Z"
   },
   {
    "duration": 173,
    "start_time": "2021-11-05T21:57:23.644Z"
   },
   {
    "duration": 168,
    "start_time": "2021-11-05T21:57:30.540Z"
   },
   {
    "duration": 5,
    "start_time": "2021-11-05T21:57:44.080Z"
   },
   {
    "duration": 5,
    "start_time": "2021-11-05T21:57:45.673Z"
   },
   {
    "duration": 2,
    "start_time": "2021-11-05T22:03:36.717Z"
   },
   {
    "duration": 9,
    "start_time": "2021-11-05T22:03:38.472Z"
   },
   {
    "duration": 180,
    "start_time": "2021-11-05T22:05:03.381Z"
   },
   {
    "duration": 8,
    "start_time": "2021-11-05T22:05:13.740Z"
   },
   {
    "duration": 4,
    "start_time": "2021-11-05T22:05:26.570Z"
   },
   {
    "duration": 8,
    "start_time": "2021-11-05T22:05:33.213Z"
   },
   {
    "duration": 8,
    "start_time": "2021-11-05T22:06:45.039Z"
   },
   {
    "duration": 8,
    "start_time": "2021-11-05T22:06:48.504Z"
   },
   {
    "duration": 3,
    "start_time": "2021-11-05T22:19:59.543Z"
   },
   {
    "duration": 9,
    "start_time": "2021-11-05T22:20:02.547Z"
   },
   {
    "duration": 10,
    "start_time": "2021-11-05T22:22:05.856Z"
   },
   {
    "duration": 9,
    "start_time": "2021-11-05T22:24:00.315Z"
   },
   {
    "duration": 7,
    "start_time": "2021-11-05T22:26:40.490Z"
   },
   {
    "duration": 3,
    "start_time": "2021-11-05T22:28:46.367Z"
   },
   {
    "duration": 9,
    "start_time": "2021-11-05T22:28:48.427Z"
   },
   {
    "duration": 3,
    "start_time": "2021-11-05T22:29:38.345Z"
   },
   {
    "duration": 10,
    "start_time": "2021-11-05T22:29:39.917Z"
   },
   {
    "duration": 3,
    "start_time": "2021-11-05T22:31:33.768Z"
   },
   {
    "duration": 9,
    "start_time": "2021-11-05T22:31:35.544Z"
   },
   {
    "duration": 3,
    "start_time": "2021-11-05T22:31:43.214Z"
   },
   {
    "duration": 9,
    "start_time": "2021-11-05T22:31:44.914Z"
   },
   {
    "duration": 3,
    "start_time": "2021-11-05T22:32:00.188Z"
   },
   {
    "duration": 10,
    "start_time": "2021-11-05T22:32:01.521Z"
   },
   {
    "duration": 3,
    "start_time": "2021-11-05T22:32:11.051Z"
   },
   {
    "duration": 9,
    "start_time": "2021-11-05T22:32:12.241Z"
   },
   {
    "duration": 58,
    "start_time": "2021-11-05T22:32:38.084Z"
   },
   {
    "duration": 53,
    "start_time": "2021-11-05T22:32:51.241Z"
   },
   {
    "duration": 3,
    "start_time": "2021-11-05T22:33:12.916Z"
   },
   {
    "duration": 10,
    "start_time": "2021-11-05T22:33:15.060Z"
   },
   {
    "duration": 65,
    "start_time": "2021-11-05T22:33:45.384Z"
   },
   {
    "duration": 3,
    "start_time": "2021-11-05T22:33:56.828Z"
   },
   {
    "duration": 9,
    "start_time": "2021-11-05T22:33:58.849Z"
   },
   {
    "duration": 3,
    "start_time": "2021-11-05T22:34:38.916Z"
   },
   {
    "duration": 9,
    "start_time": "2021-11-05T22:34:40.329Z"
   },
   {
    "duration": 9,
    "start_time": "2021-11-05T22:34:43.796Z"
   },
   {
    "duration": 9,
    "start_time": "2021-11-05T22:38:30.161Z"
   },
   {
    "duration": 10,
    "start_time": "2021-11-05T22:39:38.391Z"
   },
   {
    "duration": 539,
    "start_time": "2021-11-05T23:07:11.636Z"
   },
   {
    "duration": 57,
    "start_time": "2021-11-05T23:07:12.177Z"
   },
   {
    "duration": 17,
    "start_time": "2021-11-05T23:07:12.236Z"
   },
   {
    "duration": 18,
    "start_time": "2021-11-05T23:07:12.255Z"
   },
   {
    "duration": 45,
    "start_time": "2021-11-05T23:07:12.275Z"
   },
   {
    "duration": 63,
    "start_time": "2021-11-05T23:07:12.322Z"
   },
   {
    "duration": -2,
    "start_time": "2021-11-05T23:07:12.390Z"
   },
   {
    "duration": -8,
    "start_time": "2021-11-05T23:07:12.397Z"
   },
   {
    "duration": -12,
    "start_time": "2021-11-05T23:07:12.402Z"
   },
   {
    "duration": -18,
    "start_time": "2021-11-05T23:07:12.409Z"
   },
   {
    "duration": -22,
    "start_time": "2021-11-05T23:07:12.414Z"
   },
   {
    "duration": -24,
    "start_time": "2021-11-05T23:07:12.418Z"
   },
   {
    "duration": -28,
    "start_time": "2021-11-05T23:07:12.423Z"
   },
   {
    "duration": -32,
    "start_time": "2021-11-05T23:07:12.429Z"
   },
   {
    "duration": -36,
    "start_time": "2021-11-05T23:07:12.434Z"
   },
   {
    "duration": -40,
    "start_time": "2021-11-05T23:07:12.439Z"
   },
   {
    "duration": -42,
    "start_time": "2021-11-05T23:07:12.443Z"
   },
   {
    "duration": -46,
    "start_time": "2021-11-05T23:07:12.448Z"
   },
   {
    "duration": -48,
    "start_time": "2021-11-05T23:07:12.452Z"
   },
   {
    "duration": -52,
    "start_time": "2021-11-05T23:07:12.457Z"
   },
   {
    "duration": -55,
    "start_time": "2021-11-05T23:07:12.462Z"
   },
   {
    "duration": -80,
    "start_time": "2021-11-05T23:07:12.488Z"
   },
   {
    "duration": -89,
    "start_time": "2021-11-05T23:07:12.498Z"
   },
   {
    "duration": -94,
    "start_time": "2021-11-05T23:07:12.504Z"
   },
   {
    "duration": -98,
    "start_time": "2021-11-05T23:07:12.509Z"
   },
   {
    "duration": -102,
    "start_time": "2021-11-05T23:07:12.514Z"
   },
   {
    "duration": -105,
    "start_time": "2021-11-05T23:07:12.518Z"
   },
   {
    "duration": -111,
    "start_time": "2021-11-05T23:07:12.525Z"
   },
   {
    "duration": -114,
    "start_time": "2021-11-05T23:07:12.529Z"
   },
   {
    "duration": -118,
    "start_time": "2021-11-05T23:07:12.534Z"
   },
   {
    "duration": -121,
    "start_time": "2021-11-05T23:07:12.538Z"
   },
   {
    "duration": -129,
    "start_time": "2021-11-05T23:07:12.547Z"
   },
   {
    "duration": -132,
    "start_time": "2021-11-05T23:07:12.551Z"
   },
   {
    "duration": -136,
    "start_time": "2021-11-05T23:07:12.556Z"
   },
   {
    "duration": -139,
    "start_time": "2021-11-05T23:07:12.560Z"
   },
   {
    "duration": -142,
    "start_time": "2021-11-05T23:07:12.564Z"
   },
   {
    "duration": -146,
    "start_time": "2021-11-05T23:07:12.569Z"
   },
   {
    "duration": -150,
    "start_time": "2021-11-05T23:07:12.574Z"
   },
   {
    "duration": -153,
    "start_time": "2021-11-05T23:07:12.578Z"
   },
   {
    "duration": -157,
    "start_time": "2021-11-05T23:07:12.583Z"
   },
   {
    "duration": -169,
    "start_time": "2021-11-05T23:07:12.596Z"
   },
   {
    "duration": -173,
    "start_time": "2021-11-05T23:07:12.601Z"
   },
   {
    "duration": -176,
    "start_time": "2021-11-05T23:07:12.605Z"
   },
   {
    "duration": -181,
    "start_time": "2021-11-05T23:07:12.611Z"
   },
   {
    "duration": -184,
    "start_time": "2021-11-05T23:07:12.615Z"
   },
   {
    "duration": -209,
    "start_time": "2021-11-05T23:07:12.641Z"
   },
   {
    "duration": -213,
    "start_time": "2021-11-05T23:07:12.645Z"
   },
   {
    "duration": -217,
    "start_time": "2021-11-05T23:07:12.650Z"
   },
   {
    "duration": -220,
    "start_time": "2021-11-05T23:07:12.654Z"
   },
   {
    "duration": -225,
    "start_time": "2021-11-05T23:07:12.659Z"
   },
   {
    "duration": -171,
    "start_time": "2021-11-05T23:07:12.662Z"
   },
   {
    "duration": -173,
    "start_time": "2021-11-05T23:07:12.667Z"
   },
   {
    "duration": -177,
    "start_time": "2021-11-05T23:07:12.672Z"
   },
   {
    "duration": -180,
    "start_time": "2021-11-05T23:07:12.677Z"
   },
   {
    "duration": -182,
    "start_time": "2021-11-05T23:07:12.681Z"
   },
   {
    "duration": -185,
    "start_time": "2021-11-05T23:07:12.686Z"
   },
   {
    "duration": -250,
    "start_time": "2021-11-05T23:07:12.752Z"
   },
   {
    "duration": -253,
    "start_time": "2021-11-05T23:07:12.757Z"
   },
   {
    "duration": -256,
    "start_time": "2021-11-05T23:07:12.762Z"
   },
   {
    "duration": -260,
    "start_time": "2021-11-05T23:07:12.767Z"
   },
   {
    "duration": -263,
    "start_time": "2021-11-05T23:07:12.771Z"
   },
   {
    "duration": -266,
    "start_time": "2021-11-05T23:07:12.776Z"
   },
   {
    "duration": -269,
    "start_time": "2021-11-05T23:07:12.780Z"
   },
   {
    "duration": -272,
    "start_time": "2021-11-05T23:07:12.784Z"
   },
   {
    "duration": -275,
    "start_time": "2021-11-05T23:07:12.788Z"
   },
   {
    "duration": -279,
    "start_time": "2021-11-05T23:07:12.793Z"
   },
   {
    "duration": -291,
    "start_time": "2021-11-05T23:07:12.806Z"
   },
   {
    "duration": -295,
    "start_time": "2021-11-05T23:07:12.811Z"
   },
   {
    "duration": -326,
    "start_time": "2021-11-05T23:07:12.843Z"
   },
   {
    "duration": -330,
    "start_time": "2021-11-05T23:07:12.848Z"
   },
   {
    "duration": -333,
    "start_time": "2021-11-05T23:07:12.852Z"
   },
   {
    "duration": -345,
    "start_time": "2021-11-05T23:07:12.865Z"
   },
   {
    "duration": -349,
    "start_time": "2021-11-05T23:07:12.870Z"
   },
   {
    "duration": -373,
    "start_time": "2021-11-05T23:07:12.895Z"
   },
   {
    "duration": -377,
    "start_time": "2021-11-05T23:07:12.899Z"
   },
   {
    "duration": -386,
    "start_time": "2021-11-05T23:07:12.910Z"
   },
   {
    "duration": -389,
    "start_time": "2021-11-05T23:07:12.914Z"
   },
   {
    "duration": -398,
    "start_time": "2021-11-05T23:07:12.923Z"
   },
   {
    "duration": -401,
    "start_time": "2021-11-05T23:07:12.927Z"
   },
   {
    "duration": -412,
    "start_time": "2021-11-05T23:07:12.940Z"
   },
   {
    "duration": -415,
    "start_time": "2021-11-05T23:07:12.944Z"
   },
   {
    "duration": -419,
    "start_time": "2021-11-05T23:07:12.949Z"
   },
   {
    "duration": -361,
    "start_time": "2021-11-05T23:07:12.953Z"
   },
   {
    "duration": -365,
    "start_time": "2021-11-05T23:07:12.958Z"
   },
   {
    "duration": 2162,
    "start_time": "2021-11-05T23:07:46.857Z"
   },
   {
    "duration": 51,
    "start_time": "2021-11-05T23:07:49.021Z"
   },
   {
    "duration": 20,
    "start_time": "2021-11-05T23:07:49.074Z"
   },
   {
    "duration": 16,
    "start_time": "2021-11-05T23:07:49.097Z"
   },
   {
    "duration": 36,
    "start_time": "2021-11-05T23:07:49.115Z"
   },
   {
    "duration": 7,
    "start_time": "2021-11-05T23:07:49.153Z"
   },
   {
    "duration": 43,
    "start_time": "2021-11-05T23:07:49.162Z"
   },
   {
    "duration": 6,
    "start_time": "2021-11-05T23:07:49.208Z"
   },
   {
    "duration": 8,
    "start_time": "2021-11-05T23:07:49.216Z"
   },
   {
    "duration": 4,
    "start_time": "2021-11-05T23:07:49.226Z"
   },
   {
    "duration": 7,
    "start_time": "2021-11-05T23:07:49.232Z"
   },
   {
    "duration": 5,
    "start_time": "2021-11-05T23:07:49.241Z"
   },
   {
    "duration": 5,
    "start_time": "2021-11-05T23:07:49.248Z"
   },
   {
    "duration": 6,
    "start_time": "2021-11-05T23:07:49.254Z"
   },
   {
    "duration": 51,
    "start_time": "2021-11-05T23:07:49.262Z"
   },
   {
    "duration": 4,
    "start_time": "2021-11-05T23:07:49.315Z"
   },
   {
    "duration": 6,
    "start_time": "2021-11-05T23:07:49.321Z"
   },
   {
    "duration": 8,
    "start_time": "2021-11-05T23:07:49.329Z"
   },
   {
    "duration": 7,
    "start_time": "2021-11-05T23:07:49.339Z"
   },
   {
    "duration": 20,
    "start_time": "2021-11-05T23:07:49.348Z"
   },
   {
    "duration": 32,
    "start_time": "2021-11-05T23:07:49.369Z"
   },
   {
    "duration": 11,
    "start_time": "2021-11-05T23:07:49.403Z"
   },
   {
    "duration": 4,
    "start_time": "2021-11-05T23:07:49.418Z"
   },
   {
    "duration": 3,
    "start_time": "2021-11-05T23:07:49.424Z"
   },
   {
    "duration": 14,
    "start_time": "2021-11-05T23:07:49.429Z"
   },
   {
    "duration": 4,
    "start_time": "2021-11-05T23:07:49.444Z"
   },
   {
    "duration": 13,
    "start_time": "2021-11-05T23:07:49.449Z"
   },
   {
    "duration": 34,
    "start_time": "2021-11-05T23:07:49.463Z"
   },
   {
    "duration": 12,
    "start_time": "2021-11-05T23:07:49.499Z"
   },
   {
    "duration": 9,
    "start_time": "2021-11-05T23:07:49.513Z"
   },
   {
    "duration": 7,
    "start_time": "2021-11-05T23:07:49.524Z"
   },
   {
    "duration": 12,
    "start_time": "2021-11-05T23:07:49.533Z"
   },
   {
    "duration": 53,
    "start_time": "2021-11-05T23:07:49.547Z"
   },
   {
    "duration": 8,
    "start_time": "2021-11-05T23:07:49.602Z"
   },
   {
    "duration": 5,
    "start_time": "2021-11-05T23:07:49.611Z"
   },
   {
    "duration": 638,
    "start_time": "2021-11-05T23:07:49.618Z"
   },
   {
    "duration": 5,
    "start_time": "2021-11-05T23:07:50.258Z"
   },
   {
    "duration": 10,
    "start_time": "2021-11-05T23:07:50.264Z"
   },
   {
    "duration": 30,
    "start_time": "2021-11-05T23:07:50.276Z"
   },
   {
    "duration": 7,
    "start_time": "2021-11-05T23:07:50.308Z"
   },
   {
    "duration": 5,
    "start_time": "2021-11-05T23:07:50.317Z"
   },
   {
    "duration": 597,
    "start_time": "2021-11-05T23:07:50.323Z"
   },
   {
    "duration": 4,
    "start_time": "2021-11-05T23:07:50.921Z"
   },
   {
    "duration": 15,
    "start_time": "2021-11-05T23:07:50.926Z"
   },
   {
    "duration": 11,
    "start_time": "2021-11-05T23:07:50.943Z"
   },
   {
    "duration": 13,
    "start_time": "2021-11-05T23:07:50.955Z"
   },
   {
    "duration": 3,
    "start_time": "2021-11-05T23:07:50.969Z"
   },
   {
    "duration": 20,
    "start_time": "2021-11-05T23:07:50.974Z"
   },
   {
    "duration": 12,
    "start_time": "2021-11-05T23:07:50.998Z"
   },
   {
    "duration": 12,
    "start_time": "2021-11-05T23:07:51.011Z"
   },
   {
    "duration": 14,
    "start_time": "2021-11-05T23:07:51.024Z"
   },
   {
    "duration": 13,
    "start_time": "2021-11-05T23:07:51.039Z"
   },
   {
    "duration": 4,
    "start_time": "2021-11-05T23:07:51.053Z"
   },
   {
    "duration": 45,
    "start_time": "2021-11-05T23:07:51.058Z"
   },
   {
    "duration": 7,
    "start_time": "2021-11-05T23:07:51.104Z"
   },
   {
    "duration": 8,
    "start_time": "2021-11-05T23:07:51.113Z"
   },
   {
    "duration": 16,
    "start_time": "2021-11-05T23:07:51.122Z"
   },
   {
    "duration": 10,
    "start_time": "2021-11-05T23:07:51.140Z"
   },
   {
    "duration": 5,
    "start_time": "2021-11-05T23:07:51.152Z"
   },
   {
    "duration": 42,
    "start_time": "2021-11-05T23:07:51.159Z"
   },
   {
    "duration": 20,
    "start_time": "2021-11-05T23:07:51.203Z"
   },
   {
    "duration": 15,
    "start_time": "2021-11-05T23:07:51.225Z"
   },
   {
    "duration": 4,
    "start_time": "2021-11-05T23:07:51.241Z"
   },
   {
    "duration": 4,
    "start_time": "2021-11-05T23:07:51.246Z"
   },
   {
    "duration": 8,
    "start_time": "2021-11-05T23:07:51.252Z"
   },
   {
    "duration": 2,
    "start_time": "2021-11-05T23:07:51.262Z"
   },
   {
    "duration": 32,
    "start_time": "2021-11-05T23:07:51.266Z"
   },
   {
    "duration": 3424,
    "start_time": "2021-11-05T23:07:51.305Z"
   },
   {
    "duration": 13,
    "start_time": "2021-11-05T23:07:54.732Z"
   },
   {
    "duration": 40,
    "start_time": "2021-11-05T23:07:54.746Z"
   },
   {
    "duration": 8,
    "start_time": "2021-11-05T23:07:54.788Z"
   },
   {
    "duration": 12,
    "start_time": "2021-11-05T23:07:54.798Z"
   },
   {
    "duration": 20,
    "start_time": "2021-11-05T23:07:54.812Z"
   },
   {
    "duration": 20,
    "start_time": "2021-11-05T23:07:54.834Z"
   },
   {
    "duration": 3,
    "start_time": "2021-11-05T23:07:54.856Z"
   },
   {
    "duration": 30,
    "start_time": "2021-11-05T23:07:54.860Z"
   },
   {
    "duration": 43,
    "start_time": "2021-11-05T23:07:54.892Z"
   },
   {
    "duration": 23,
    "start_time": "2021-11-05T23:07:54.936Z"
   },
   {
    "duration": 47,
    "start_time": "2021-11-05T23:07:54.960Z"
   },
   {
    "duration": 15,
    "start_time": "2021-11-05T23:07:55.009Z"
   },
   {
    "duration": 29,
    "start_time": "2021-11-05T23:07:55.025Z"
   },
   {
    "duration": 26,
    "start_time": "2021-11-05T23:07:55.055Z"
   },
   {
    "duration": 79,
    "start_time": "2021-11-05T23:07:55.082Z"
   },
   {
    "duration": 533,
    "start_time": "2021-11-05T23:08:09.534Z"
   },
   {
    "duration": 55,
    "start_time": "2021-11-05T23:08:10.069Z"
   },
   {
    "duration": 17,
    "start_time": "2021-11-05T23:08:10.126Z"
   },
   {
    "duration": 13,
    "start_time": "2021-11-05T23:08:10.145Z"
   },
   {
    "duration": 49,
    "start_time": "2021-11-05T23:08:10.159Z"
   },
   {
    "duration": 6,
    "start_time": "2021-11-05T23:08:10.210Z"
   },
   {
    "duration": 12,
    "start_time": "2021-11-05T23:08:10.217Z"
   },
   {
    "duration": 5,
    "start_time": "2021-11-05T23:08:10.232Z"
   },
   {
    "duration": 5,
    "start_time": "2021-11-05T23:08:10.239Z"
   },
   {
    "duration": 7,
    "start_time": "2021-11-05T23:08:10.245Z"
   },
   {
    "duration": 8,
    "start_time": "2021-11-05T23:08:10.253Z"
   },
   {
    "duration": 41,
    "start_time": "2021-11-05T23:08:10.262Z"
   },
   {
    "duration": 4,
    "start_time": "2021-11-05T23:08:10.304Z"
   },
   {
    "duration": 7,
    "start_time": "2021-11-05T23:08:10.309Z"
   },
   {
    "duration": 19,
    "start_time": "2021-11-05T23:08:10.318Z"
   },
   {
    "duration": 5,
    "start_time": "2021-11-05T23:08:10.339Z"
   },
   {
    "duration": 7,
    "start_time": "2021-11-05T23:08:10.346Z"
   },
   {
    "duration": 8,
    "start_time": "2021-11-05T23:08:10.354Z"
   },
   {
    "duration": 37,
    "start_time": "2021-11-05T23:08:10.364Z"
   },
   {
    "duration": 24,
    "start_time": "2021-11-05T23:08:10.404Z"
   },
   {
    "duration": 3,
    "start_time": "2021-11-05T23:08:10.429Z"
   },
   {
    "duration": 10,
    "start_time": "2021-11-05T23:08:10.434Z"
   },
   {
    "duration": 4,
    "start_time": "2021-11-05T23:08:10.448Z"
   },
   {
    "duration": 7,
    "start_time": "2021-11-05T23:08:10.454Z"
   },
   {
    "duration": 36,
    "start_time": "2021-11-05T23:08:10.462Z"
   },
   {
    "duration": 12,
    "start_time": "2021-11-05T23:08:10.500Z"
   },
   {
    "duration": 12,
    "start_time": "2021-11-05T23:08:10.513Z"
   },
   {
    "duration": 6,
    "start_time": "2021-11-05T23:08:10.527Z"
   },
   {
    "duration": 10,
    "start_time": "2021-11-05T23:08:10.535Z"
   },
   {
    "duration": 9,
    "start_time": "2021-11-05T23:08:10.546Z"
   },
   {
    "duration": 40,
    "start_time": "2021-11-05T23:08:10.556Z"
   },
   {
    "duration": 14,
    "start_time": "2021-11-05T23:08:10.598Z"
   },
   {
    "duration": 14,
    "start_time": "2021-11-05T23:08:10.613Z"
   },
   {
    "duration": 6,
    "start_time": "2021-11-05T23:08:10.629Z"
   },
   {
    "duration": 9,
    "start_time": "2021-11-05T23:08:10.637Z"
   },
   {
    "duration": 589,
    "start_time": "2021-11-05T23:08:10.648Z"
   },
   {
    "duration": 4,
    "start_time": "2021-11-05T23:08:11.239Z"
   },
   {
    "duration": 19,
    "start_time": "2021-11-05T23:08:11.244Z"
   },
   {
    "duration": 24,
    "start_time": "2021-11-05T23:08:11.265Z"
   },
   {
    "duration": 8,
    "start_time": "2021-11-05T23:08:11.291Z"
   },
   {
    "duration": 7,
    "start_time": "2021-11-05T23:08:11.301Z"
   },
   {
    "duration": 576,
    "start_time": "2021-11-05T23:08:11.309Z"
   },
   {
    "duration": 8,
    "start_time": "2021-11-05T23:08:11.886Z"
   },
   {
    "duration": 17,
    "start_time": "2021-11-05T23:08:11.895Z"
   },
   {
    "duration": 8,
    "start_time": "2021-11-05T23:08:11.913Z"
   },
   {
    "duration": 9,
    "start_time": "2021-11-05T23:08:11.923Z"
   },
   {
    "duration": 3,
    "start_time": "2021-11-05T23:08:11.933Z"
   },
   {
    "duration": 7,
    "start_time": "2021-11-05T23:08:11.938Z"
   },
   {
    "duration": 13,
    "start_time": "2021-11-05T23:08:11.946Z"
   },
   {
    "duration": 43,
    "start_time": "2021-11-05T23:08:11.960Z"
   },
   {
    "duration": 15,
    "start_time": "2021-11-05T23:08:12.004Z"
   },
   {
    "duration": 12,
    "start_time": "2021-11-05T23:08:12.020Z"
   },
   {
    "duration": 4,
    "start_time": "2021-11-05T23:08:12.034Z"
   },
   {
    "duration": 13,
    "start_time": "2021-11-05T23:08:12.039Z"
   },
   {
    "duration": 8,
    "start_time": "2021-11-05T23:08:12.054Z"
   },
   {
    "duration": 35,
    "start_time": "2021-11-05T23:08:12.063Z"
   },
   {
    "duration": 14,
    "start_time": "2021-11-05T23:08:12.100Z"
   },
   {
    "duration": 11,
    "start_time": "2021-11-05T23:08:12.115Z"
   },
   {
    "duration": 5,
    "start_time": "2021-11-05T23:08:12.128Z"
   },
   {
    "duration": 19,
    "start_time": "2021-11-05T23:08:12.135Z"
   },
   {
    "duration": 16,
    "start_time": "2021-11-05T23:08:12.155Z"
   },
   {
    "duration": 19,
    "start_time": "2021-11-05T23:08:12.193Z"
   },
   {
    "duration": 4,
    "start_time": "2021-11-05T23:08:12.213Z"
   },
   {
    "duration": 3,
    "start_time": "2021-11-05T23:08:12.219Z"
   },
   {
    "duration": 7,
    "start_time": "2021-11-05T23:08:12.223Z"
   },
   {
    "duration": 13,
    "start_time": "2021-11-05T23:08:12.232Z"
   },
   {
    "duration": 5,
    "start_time": "2021-11-05T23:08:12.247Z"
   },
   {
    "duration": 3419,
    "start_time": "2021-11-05T23:08:12.256Z"
   },
   {
    "duration": 31,
    "start_time": "2021-11-05T23:08:15.677Z"
   },
   {
    "duration": 29,
    "start_time": "2021-11-05T23:08:15.710Z"
   },
   {
    "duration": 4,
    "start_time": "2021-11-05T23:08:15.741Z"
   },
   {
    "duration": 19,
    "start_time": "2021-11-05T23:08:15.747Z"
   },
   {
    "duration": 25,
    "start_time": "2021-11-05T23:08:15.768Z"
   },
   {
    "duration": 14,
    "start_time": "2021-11-05T23:08:15.795Z"
   },
   {
    "duration": 4,
    "start_time": "2021-11-05T23:08:15.811Z"
   },
   {
    "duration": 15,
    "start_time": "2021-11-05T23:08:15.816Z"
   },
   {
    "duration": 21,
    "start_time": "2021-11-05T23:08:15.833Z"
   },
   {
    "duration": 4,
    "start_time": "2021-11-05T23:08:15.855Z"
   },
   {
    "duration": 35,
    "start_time": "2021-11-05T23:08:15.861Z"
   },
   {
    "duration": 10,
    "start_time": "2021-11-05T23:08:15.904Z"
   },
   {
    "duration": 9,
    "start_time": "2021-11-05T23:08:15.915Z"
   },
   {
    "duration": 9,
    "start_time": "2021-11-05T23:08:15.925Z"
   },
   {
    "duration": 782,
    "start_time": "2021-11-06T17:35:44.332Z"
   },
   {
    "duration": 66,
    "start_time": "2021-11-06T17:35:45.116Z"
   },
   {
    "duration": 35,
    "start_time": "2021-11-06T17:35:45.185Z"
   },
   {
    "duration": 15,
    "start_time": "2021-11-06T17:35:45.223Z"
   },
   {
    "duration": 77,
    "start_time": "2021-11-06T17:35:45.241Z"
   },
   {
    "duration": 10,
    "start_time": "2021-11-06T17:35:45.321Z"
   },
   {
    "duration": 18,
    "start_time": "2021-11-06T17:35:45.334Z"
   },
   {
    "duration": 8,
    "start_time": "2021-11-06T17:35:45.355Z"
   },
   {
    "duration": 42,
    "start_time": "2021-11-06T17:35:45.366Z"
   },
   {
    "duration": 7,
    "start_time": "2021-11-06T17:35:45.410Z"
   },
   {
    "duration": 9,
    "start_time": "2021-11-06T17:35:45.419Z"
   },
   {
    "duration": 8,
    "start_time": "2021-11-06T17:35:45.430Z"
   },
   {
    "duration": 5,
    "start_time": "2021-11-06T17:35:45.440Z"
   },
   {
    "duration": 55,
    "start_time": "2021-11-06T17:35:45.447Z"
   },
   {
    "duration": 39,
    "start_time": "2021-11-06T17:35:45.505Z"
   },
   {
    "duration": 10,
    "start_time": "2021-11-06T17:35:45.546Z"
   },
   {
    "duration": 12,
    "start_time": "2021-11-06T17:35:45.559Z"
   },
   {
    "duration": 12,
    "start_time": "2021-11-06T17:35:45.602Z"
   },
   {
    "duration": 13,
    "start_time": "2021-11-06T17:35:45.616Z"
   },
   {
    "duration": 44,
    "start_time": "2021-11-06T17:35:45.631Z"
   },
   {
    "duration": 5,
    "start_time": "2021-11-06T17:35:45.700Z"
   },
   {
    "duration": 16,
    "start_time": "2021-11-06T17:35:45.707Z"
   },
   {
    "duration": 11,
    "start_time": "2021-11-06T17:35:45.729Z"
   },
   {
    "duration": 4,
    "start_time": "2021-11-06T17:35:45.744Z"
   },
   {
    "duration": 51,
    "start_time": "2021-11-06T17:35:45.750Z"
   },
   {
    "duration": 6,
    "start_time": "2021-11-06T17:35:45.803Z"
   },
   {
    "duration": 19,
    "start_time": "2021-11-06T17:35:45.812Z"
   },
   {
    "duration": 11,
    "start_time": "2021-11-06T17:35:45.834Z"
   },
   {
    "duration": 53,
    "start_time": "2021-11-06T17:35:45.847Z"
   },
   {
    "duration": 13,
    "start_time": "2021-11-06T17:35:45.903Z"
   },
   {
    "duration": 9,
    "start_time": "2021-11-06T17:35:45.918Z"
   },
   {
    "duration": 21,
    "start_time": "2021-11-06T17:35:45.930Z"
   },
   {
    "duration": 64,
    "start_time": "2021-11-06T17:35:45.953Z"
   },
   {
    "duration": 10,
    "start_time": "2021-11-06T17:35:46.020Z"
   },
   {
    "duration": 6,
    "start_time": "2021-11-06T17:35:46.033Z"
   },
   {
    "duration": 1153,
    "start_time": "2021-11-06T17:35:46.041Z"
   },
   {
    "duration": 7,
    "start_time": "2021-11-06T17:35:47.197Z"
   },
   {
    "duration": 17,
    "start_time": "2021-11-06T17:35:47.207Z"
   },
   {
    "duration": 21,
    "start_time": "2021-11-06T17:35:47.227Z"
   },
   {
    "duration": 11,
    "start_time": "2021-11-06T17:35:47.250Z"
   },
   {
    "duration": 38,
    "start_time": "2021-11-06T17:35:47.263Z"
   },
   {
    "duration": 1107,
    "start_time": "2021-11-06T17:35:47.304Z"
   },
   {
    "duration": 6,
    "start_time": "2021-11-06T17:35:48.413Z"
   },
   {
    "duration": 17,
    "start_time": "2021-11-06T17:35:48.422Z"
   },
   {
    "duration": 11,
    "start_time": "2021-11-06T17:35:48.442Z"
   },
   {
    "duration": 48,
    "start_time": "2021-11-06T17:35:48.456Z"
   },
   {
    "duration": 5,
    "start_time": "2021-11-06T17:35:48.507Z"
   },
   {
    "duration": 8,
    "start_time": "2021-11-06T17:35:48.514Z"
   },
   {
    "duration": 20,
    "start_time": "2021-11-06T17:35:48.524Z"
   },
   {
    "duration": 20,
    "start_time": "2021-11-06T17:35:48.546Z"
   },
   {
    "duration": 25,
    "start_time": "2021-11-06T17:35:48.601Z"
   },
   {
    "duration": 21,
    "start_time": "2021-11-06T17:35:48.628Z"
   },
   {
    "duration": 6,
    "start_time": "2021-11-06T17:35:48.651Z"
   },
   {
    "duration": 51,
    "start_time": "2021-11-06T17:35:48.659Z"
   },
   {
    "duration": 9,
    "start_time": "2021-11-06T17:35:48.713Z"
   },
   {
    "duration": 19,
    "start_time": "2021-11-06T17:35:48.724Z"
   },
   {
    "duration": 27,
    "start_time": "2021-11-06T17:35:48.745Z"
   },
   {
    "duration": 31,
    "start_time": "2021-11-06T17:35:48.775Z"
   },
   {
    "duration": 17,
    "start_time": "2021-11-06T17:35:48.809Z"
   },
   {
    "duration": 29,
    "start_time": "2021-11-06T17:35:48.829Z"
   },
   {
    "duration": 39,
    "start_time": "2021-11-06T17:35:48.861Z"
   },
   {
    "duration": 22,
    "start_time": "2021-11-06T17:35:48.903Z"
   },
   {
    "duration": 12,
    "start_time": "2021-11-06T17:35:48.928Z"
   },
   {
    "duration": 14,
    "start_time": "2021-11-06T17:35:48.942Z"
   },
   {
    "duration": 15,
    "start_time": "2021-11-06T17:35:48.958Z"
   },
   {
    "duration": 12,
    "start_time": "2021-11-06T17:35:48.975Z"
   },
   {
    "duration": 21,
    "start_time": "2021-11-06T17:35:48.989Z"
   },
   {
    "duration": 4518,
    "start_time": "2021-11-06T17:35:49.018Z"
   },
   {
    "duration": 21,
    "start_time": "2021-11-06T17:35:53.540Z"
   },
   {
    "duration": 55,
    "start_time": "2021-11-06T17:35:53.563Z"
   },
   {
    "duration": 4,
    "start_time": "2021-11-06T17:35:53.620Z"
   },
   {
    "duration": 16,
    "start_time": "2021-11-06T17:35:53.627Z"
   },
   {
    "duration": 19,
    "start_time": "2021-11-06T17:35:53.646Z"
   },
   {
    "duration": 38,
    "start_time": "2021-11-06T17:35:53.667Z"
   },
   {
    "duration": 4,
    "start_time": "2021-11-06T17:35:53.707Z"
   },
   {
    "duration": 15,
    "start_time": "2021-11-06T17:35:53.714Z"
   },
   {
    "duration": 21,
    "start_time": "2021-11-06T17:35:53.732Z"
   },
   {
    "duration": 4,
    "start_time": "2021-11-06T17:35:53.756Z"
   },
   {
    "duration": 20,
    "start_time": "2021-11-06T17:35:53.800Z"
   },
   {
    "duration": 14,
    "start_time": "2021-11-06T17:35:53.823Z"
   },
   {
    "duration": 14,
    "start_time": "2021-11-06T17:35:53.839Z"
   },
   {
    "duration": 47,
    "start_time": "2021-11-06T17:35:53.855Z"
   },
   {
    "duration": 34,
    "start_time": "2021-11-06T18:06:34.665Z"
   },
   {
    "duration": 424,
    "start_time": "2021-11-06T18:22:26.574Z"
   },
   {
    "duration": 296,
    "start_time": "2021-11-06T18:22:29.179Z"
   },
   {
    "duration": 274,
    "start_time": "2021-11-06T18:22:37.492Z"
   },
   {
    "duration": 109,
    "start_time": "2021-11-06T18:22:53.485Z"
   },
   {
    "duration": 10,
    "start_time": "2021-11-06T18:22:56.493Z"
   },
   {
    "duration": 278,
    "start_time": "2021-11-06T18:23:10.220Z"
   },
   {
    "duration": 12,
    "start_time": "2021-11-06T18:23:27.953Z"
   },
   {
    "duration": 15,
    "start_time": "2021-11-06T18:23:29.677Z"
   },
   {
    "duration": 9,
    "start_time": "2021-11-06T18:36:19.704Z"
   },
   {
    "duration": 1750,
    "start_time": "2021-11-08T13:50:11.792Z"
   },
   {
    "duration": 686,
    "start_time": "2021-11-08T13:50:13.545Z"
   },
   {
    "duration": 37,
    "start_time": "2021-11-08T13:50:14.234Z"
   },
   {
    "duration": 17,
    "start_time": "2021-11-08T13:50:14.274Z"
   },
   {
    "duration": 84,
    "start_time": "2021-11-08T13:50:14.294Z"
   },
   {
    "duration": 10,
    "start_time": "2021-11-08T13:50:14.381Z"
   },
   {
    "duration": 18,
    "start_time": "2021-11-08T13:50:14.393Z"
   },
   {
    "duration": 8,
    "start_time": "2021-11-08T13:50:14.415Z"
   },
   {
    "duration": 15,
    "start_time": "2021-11-08T13:50:14.426Z"
   },
   {
    "duration": 34,
    "start_time": "2021-11-08T13:50:14.444Z"
   },
   {
    "duration": 15,
    "start_time": "2021-11-08T13:50:14.480Z"
   },
   {
    "duration": 12,
    "start_time": "2021-11-08T13:50:14.497Z"
   },
   {
    "duration": 7,
    "start_time": "2021-11-08T13:50:14.512Z"
   },
   {
    "duration": 20,
    "start_time": "2021-11-08T13:50:14.521Z"
   },
   {
    "duration": 55,
    "start_time": "2021-11-08T13:50:14.543Z"
   },
   {
    "duration": 18,
    "start_time": "2021-11-08T13:50:14.601Z"
   },
   {
    "duration": 15,
    "start_time": "2021-11-08T13:50:14.622Z"
   },
   {
    "duration": 37,
    "start_time": "2021-11-08T13:50:14.639Z"
   },
   {
    "duration": 17,
    "start_time": "2021-11-08T13:50:14.679Z"
   },
   {
    "duration": 53,
    "start_time": "2021-11-08T13:50:14.698Z"
   },
   {
    "duration": 4,
    "start_time": "2021-11-08T13:50:14.753Z"
   },
   {
    "duration": 13,
    "start_time": "2021-11-08T13:50:14.776Z"
   },
   {
    "duration": 1018,
    "start_time": "2021-11-08T13:50:14.796Z"
   },
   {
    "duration": 5,
    "start_time": "2021-11-08T13:50:15.817Z"
   },
   {
    "duration": 35,
    "start_time": "2021-11-08T13:50:15.825Z"
   },
   {
    "duration": 18,
    "start_time": "2021-11-08T13:50:15.863Z"
   },
   {
    "duration": 26,
    "start_time": "2021-11-08T13:50:15.885Z"
   },
   {
    "duration": 14,
    "start_time": "2021-11-08T13:50:15.914Z"
   },
   {
    "duration": 51,
    "start_time": "2021-11-08T13:50:15.931Z"
   },
   {
    "duration": 13,
    "start_time": "2021-11-08T13:50:15.986Z"
   },
   {
    "duration": 9,
    "start_time": "2021-11-08T13:50:16.002Z"
   },
   {
    "duration": 59,
    "start_time": "2021-11-08T13:50:16.013Z"
   },
   {
    "duration": 29,
    "start_time": "2021-11-08T13:50:16.074Z"
   },
   {
    "duration": 12,
    "start_time": "2021-11-08T13:50:16.105Z"
   },
   {
    "duration": 8,
    "start_time": "2021-11-08T13:50:16.120Z"
   },
   {
    "duration": 1170,
    "start_time": "2021-11-08T13:50:16.131Z"
   },
   {
    "duration": 7,
    "start_time": "2021-11-08T13:50:17.304Z"
   },
   {
    "duration": 16,
    "start_time": "2021-11-08T13:50:17.314Z"
   },
   {
    "duration": 55,
    "start_time": "2021-11-08T13:50:17.333Z"
   },
   {
    "duration": 15,
    "start_time": "2021-11-08T13:50:17.391Z"
   },
   {
    "duration": 12,
    "start_time": "2021-11-08T13:50:17.409Z"
   },
   {
    "duration": 1150,
    "start_time": "2021-11-08T13:50:17.424Z"
   },
   {
    "duration": 7,
    "start_time": "2021-11-08T13:50:18.579Z"
   },
   {
    "duration": 24,
    "start_time": "2021-11-08T13:50:18.589Z"
   },
   {
    "duration": 18,
    "start_time": "2021-11-08T13:50:18.616Z"
   },
   {
    "duration": 35,
    "start_time": "2021-11-08T13:50:18.637Z"
   },
   {
    "duration": 14,
    "start_time": "2021-11-08T13:50:18.674Z"
   },
   {
    "duration": 6,
    "start_time": "2021-11-08T13:50:18.690Z"
   },
   {
    "duration": 22,
    "start_time": "2021-11-08T13:50:18.698Z"
   },
   {
    "duration": 61,
    "start_time": "2021-11-08T13:50:18.723Z"
   },
   {
    "duration": 33,
    "start_time": "2021-11-08T13:50:18.787Z"
   },
   {
    "duration": 50,
    "start_time": "2021-11-08T13:50:18.823Z"
   },
   {
    "duration": 8,
    "start_time": "2021-11-08T13:50:18.876Z"
   },
   {
    "duration": 20,
    "start_time": "2021-11-08T13:50:18.887Z"
   },
   {
    "duration": 11,
    "start_time": "2021-11-08T13:50:18.910Z"
   },
   {
    "duration": 51,
    "start_time": "2021-11-08T13:50:18.924Z"
   },
   {
    "duration": 24,
    "start_time": "2021-11-08T13:50:18.978Z"
   },
   {
    "duration": 13,
    "start_time": "2021-11-08T13:50:19.004Z"
   },
   {
    "duration": 18,
    "start_time": "2021-11-08T13:50:19.020Z"
   },
   {
    "duration": 56,
    "start_time": "2021-11-08T13:50:19.041Z"
   },
   {
    "duration": 28,
    "start_time": "2021-11-08T13:50:19.100Z"
   },
   {
    "duration": 54,
    "start_time": "2021-11-08T13:50:19.130Z"
   },
   {
    "duration": 10,
    "start_time": "2021-11-08T13:50:19.190Z"
   },
   {
    "duration": 6,
    "start_time": "2021-11-08T13:50:19.203Z"
   },
   {
    "duration": 30,
    "start_time": "2021-11-08T13:50:19.211Z"
   },
   {
    "duration": 4,
    "start_time": "2021-11-08T13:50:19.244Z"
   },
   {
    "duration": 40,
    "start_time": "2021-11-08T13:50:19.250Z"
   },
   {
    "duration": 5097,
    "start_time": "2021-11-08T13:50:19.298Z"
   },
   {
    "duration": 31,
    "start_time": "2021-11-08T13:50:24.400Z"
   },
   {
    "duration": 58,
    "start_time": "2021-11-08T13:50:24.433Z"
   },
   {
    "duration": 5,
    "start_time": "2021-11-08T13:50:24.493Z"
   },
   {
    "duration": 16,
    "start_time": "2021-11-08T13:50:24.500Z"
   },
   {
    "duration": 20,
    "start_time": "2021-11-08T13:50:24.518Z"
   },
   {
    "duration": 15,
    "start_time": "2021-11-08T13:50:24.568Z"
   },
   {
    "duration": 6,
    "start_time": "2021-11-08T13:50:24.587Z"
   },
   {
    "duration": 20,
    "start_time": "2021-11-08T13:50:24.596Z"
   },
   {
    "duration": 56,
    "start_time": "2021-11-08T13:50:24.619Z"
   },
   {
    "duration": 11,
    "start_time": "2021-11-08T13:50:24.678Z"
   },
   {
    "duration": 30,
    "start_time": "2021-11-08T13:50:24.691Z"
   },
   {
    "duration": 14,
    "start_time": "2021-11-08T13:50:24.724Z"
   },
   {
    "duration": 46,
    "start_time": "2021-11-08T13:50:24.741Z"
   },
   {
    "duration": 14,
    "start_time": "2021-11-08T13:50:24.790Z"
   },
   {
    "duration": 804,
    "start_time": "2021-11-08T15:10:23.726Z"
   },
   {
    "duration": 73,
    "start_time": "2021-11-08T15:10:24.533Z"
   },
   {
    "duration": 30,
    "start_time": "2021-11-08T15:10:24.609Z"
   },
   {
    "duration": 28,
    "start_time": "2021-11-08T15:10:24.642Z"
   },
   {
    "duration": 49,
    "start_time": "2021-11-08T15:10:24.672Z"
   },
   {
    "duration": 9,
    "start_time": "2021-11-08T15:10:24.723Z"
   },
   {
    "duration": 46,
    "start_time": "2021-11-08T15:10:24.734Z"
   },
   {
    "duration": 6,
    "start_time": "2021-11-08T15:10:24.784Z"
   },
   {
    "duration": 15,
    "start_time": "2021-11-08T15:10:24.794Z"
   },
   {
    "duration": 9,
    "start_time": "2021-11-08T15:10:24.812Z"
   },
   {
    "duration": 22,
    "start_time": "2021-11-08T15:10:24.824Z"
   },
   {
    "duration": 9,
    "start_time": "2021-11-08T15:10:24.867Z"
   },
   {
    "duration": 9,
    "start_time": "2021-11-08T15:10:24.878Z"
   },
   {
    "duration": 8,
    "start_time": "2021-11-08T15:10:24.889Z"
   },
   {
    "duration": 67,
    "start_time": "2021-11-08T15:10:24.900Z"
   },
   {
    "duration": 8,
    "start_time": "2021-11-08T15:10:24.969Z"
   },
   {
    "duration": 17,
    "start_time": "2021-11-08T15:10:24.980Z"
   },
   {
    "duration": 14,
    "start_time": "2021-11-08T15:10:25.000Z"
   },
   {
    "duration": 14,
    "start_time": "2021-11-08T15:10:25.016Z"
   },
   {
    "duration": 66,
    "start_time": "2021-11-08T15:10:25.032Z"
   },
   {
    "duration": 5,
    "start_time": "2021-11-08T15:10:25.100Z"
   },
   {
    "duration": 14,
    "start_time": "2021-11-08T15:10:25.107Z"
   },
   {
    "duration": 44,
    "start_time": "2021-11-08T15:10:25.127Z"
   },
   {
    "duration": 4,
    "start_time": "2021-11-08T15:10:25.175Z"
   },
   {
    "duration": 27,
    "start_time": "2021-11-08T15:10:25.182Z"
   },
   {
    "duration": 11,
    "start_time": "2021-11-08T15:10:25.212Z"
   },
   {
    "duration": 42,
    "start_time": "2021-11-08T15:10:25.226Z"
   },
   {
    "duration": 14,
    "start_time": "2021-11-08T15:10:25.271Z"
   },
   {
    "duration": 17,
    "start_time": "2021-11-08T15:10:25.288Z"
   },
   {
    "duration": 13,
    "start_time": "2021-11-08T15:10:25.308Z"
   },
   {
    "duration": 46,
    "start_time": "2021-11-08T15:10:25.324Z"
   },
   {
    "duration": 21,
    "start_time": "2021-11-08T15:10:25.373Z"
   },
   {
    "duration": 23,
    "start_time": "2021-11-08T15:10:25.397Z"
   },
   {
    "duration": 11,
    "start_time": "2021-11-08T15:10:25.422Z"
   },
   {
    "duration": 5,
    "start_time": "2021-11-08T15:10:25.468Z"
   },
   {
    "duration": 1186,
    "start_time": "2021-11-08T15:10:25.476Z"
   },
   {
    "duration": 7,
    "start_time": "2021-11-08T15:10:26.666Z"
   },
   {
    "duration": 12,
    "start_time": "2021-11-08T15:10:26.675Z"
   },
   {
    "duration": 20,
    "start_time": "2021-11-08T15:10:26.690Z"
   },
   {
    "duration": 9,
    "start_time": "2021-11-08T15:10:26.713Z"
   },
   {
    "duration": 45,
    "start_time": "2021-11-08T15:10:26.724Z"
   },
   {
    "duration": 1059,
    "start_time": "2021-11-08T15:10:26.771Z"
   },
   {
    "duration": 6,
    "start_time": "2021-11-08T15:10:27.833Z"
   },
   {
    "duration": 30,
    "start_time": "2021-11-08T15:10:27.842Z"
   },
   {
    "duration": 13,
    "start_time": "2021-11-08T15:10:27.875Z"
   },
   {
    "duration": 14,
    "start_time": "2021-11-08T15:10:27.891Z"
   },
   {
    "duration": 5,
    "start_time": "2021-11-08T15:10:27.907Z"
   },
   {
    "duration": 14,
    "start_time": "2021-11-08T15:10:27.914Z"
   },
   {
    "duration": 48,
    "start_time": "2021-11-08T15:10:27.931Z"
   },
   {
    "duration": 21,
    "start_time": "2021-11-08T15:10:27.981Z"
   },
   {
    "duration": 26,
    "start_time": "2021-11-08T15:10:28.005Z"
   },
   {
    "duration": 51,
    "start_time": "2021-11-08T15:10:28.033Z"
   },
   {
    "duration": 8,
    "start_time": "2021-11-08T15:10:28.087Z"
   },
   {
    "duration": 20,
    "start_time": "2021-11-08T15:10:28.098Z"
   },
   {
    "duration": 11,
    "start_time": "2021-11-08T15:10:28.121Z"
   },
   {
    "duration": 7,
    "start_time": "2021-11-08T15:10:28.168Z"
   },
   {
    "duration": 21,
    "start_time": "2021-11-08T15:10:28.177Z"
   },
   {
    "duration": 15,
    "start_time": "2021-11-08T15:10:28.200Z"
   },
   {
    "duration": 19,
    "start_time": "2021-11-08T15:10:28.218Z"
   },
   {
    "duration": 48,
    "start_time": "2021-11-08T15:10:28.240Z"
   },
   {
    "duration": 25,
    "start_time": "2021-11-08T15:10:28.290Z"
   },
   {
    "duration": 50,
    "start_time": "2021-11-08T15:10:28.318Z"
   },
   {
    "duration": 8,
    "start_time": "2021-11-08T15:10:28.371Z"
   },
   {
    "duration": 3,
    "start_time": "2021-11-08T15:10:28.382Z"
   },
   {
    "duration": 16,
    "start_time": "2021-11-08T15:10:28.388Z"
   },
   {
    "duration": 4,
    "start_time": "2021-11-08T15:10:28.407Z"
   },
   {
    "duration": 6,
    "start_time": "2021-11-08T15:10:28.414Z"
   },
   {
    "duration": 4666,
    "start_time": "2021-11-08T15:10:28.428Z"
   },
   {
    "duration": 22,
    "start_time": "2021-11-08T15:10:33.097Z"
   },
   {
    "duration": 51,
    "start_time": "2021-11-08T15:10:33.122Z"
   },
   {
    "duration": 4,
    "start_time": "2021-11-08T15:10:33.176Z"
   },
   {
    "duration": 14,
    "start_time": "2021-11-08T15:10:33.183Z"
   },
   {
    "duration": 19,
    "start_time": "2021-11-08T15:10:33.200Z"
   },
   {
    "duration": 46,
    "start_time": "2021-11-08T15:10:33.221Z"
   },
   {
    "duration": 4,
    "start_time": "2021-11-08T15:10:33.270Z"
   },
   {
    "duration": 14,
    "start_time": "2021-11-08T15:10:33.277Z"
   },
   {
    "duration": 25,
    "start_time": "2021-11-08T15:10:33.294Z"
   },
   {
    "duration": 6,
    "start_time": "2021-11-08T15:10:33.322Z"
   },
   {
    "duration": 51,
    "start_time": "2021-11-08T15:10:33.331Z"
   },
   {
    "duration": 15,
    "start_time": "2021-11-08T15:10:33.384Z"
   },
   {
    "duration": 15,
    "start_time": "2021-11-08T15:10:33.401Z"
   },
   {
    "duration": 62,
    "start_time": "2021-11-08T15:10:33.419Z"
   },
   {
    "duration": 486,
    "start_time": "2021-11-08T15:20:11.689Z"
   },
   {
    "duration": 37,
    "start_time": "2021-11-08T15:20:16.961Z"
   }
  ],
  "kernelspec": {
   "display_name": "Python 3",
   "language": "python",
   "name": "python3"
  },
  "language_info": {
   "codemirror_mode": {
    "name": "ipython",
    "version": 3
   },
   "file_extension": ".py",
   "mimetype": "text/x-python",
   "name": "python",
   "nbconvert_exporter": "python",
   "pygments_lexer": "ipython3",
   "version": "3.7.8"
  },
  "toc": {
   "base_numbering": 1,
   "nav_menu": {},
   "number_sections": true,
   "sideBar": true,
   "skip_h1_title": true,
   "title_cell": "Table of Contents",
   "title_sidebar": "Contents",
   "toc_cell": false,
   "toc_position": {},
   "toc_section_display": true,
   "toc_window_display": false
  }
 },
 "nbformat": 4,
 "nbformat_minor": 2
}
