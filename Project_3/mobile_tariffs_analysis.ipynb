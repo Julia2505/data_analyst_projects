{
 "cells": [
  {
   "cell_type": "markdown",
   "metadata": {},
   "source": [
    "<div style=\"border:solid purple 2px; padding: 20px\"> \n",
    "\n",
    "Юлия привет! 👋\n",
    "\n",
    "Меня зовут Рустам Муртазин, и я буду делать ревью проектной работы по статистическому анализу данных. Давай будем общаться на **«ты»**. Если это неприемлемо, обязательно напиши мне в комментариях — мы перейдем на **«вы»**.\n",
    "\n",
    "Цель моей работы — не указать на ошибки, а поделиться опытом, и помочь сделать проект еще лучше, чтобы повалить всех своим решением 😁 Комментарии в работе позволят тебе расставить приоритеты.\n",
    "\n",
    "Обрати внимание в первую очередь на те, что помечаны <span style=\"color:red\">красным цветом</span>. После их доработки проект будет принят. <span style=\"color:green\">Зеленым цветом</span> отмечены удачные и элегантные решения, на которые можно опираться в будущих проектах. <span style=\"color:orange\">Оранжевым цветом</span> выделено то, что в следующий раз можно сделать по-другому. Ты можешь учесть эти комментарии при выполнении будущих заданий или доработать проект сейчас (однако это не обязательно). Также в проекте могут быть небольшие «лайфхаки» по Python, не относящиеся к проекту, их я выделил в фиолетовую рамку)\n",
    "\n",
    "Давай работать над проектом в диалоге: если ты **что-то меняешь** в проекте по моим рекомендациям — **пиши об этом**. Выбери для своих комментариев какой-то заметный цвет, так мне будет легче отследить изменения. Пожалуйста, **не перемещай, не изменяй и не удаляй мои комментарии**. Всё это поможет выполнить повторную проверку твоего проекта оперативнее».\n",
    "\n",
    "---\n",
    "\n",
    "У тебя получилась отличная работа! Ты отлично визуализируешь распределения, чтобы понять, как ведут себя данные. У тебя аккуратный и понятный код 💪 Мне понравился твой очень вдумчивый подход к работе\n",
    "\n",
    "Как ни старался, критичных проблем я не нашел, ты точно готова идти дальше. Успехов в дальнейшем прохождении курса! 😊\n",
    "\n",
    "![](https://i.gifer.com/7V3.gif)\n",
    "\n",
    "</div>"
   ]
  },
  {
   "cell_type": "markdown",
   "metadata": {},
   "source": [
    "# Определение перспективного тарифа для телеком-компании"
   ]
  },
  {
   "cell_type": "markdown",
   "metadata": {},
   "source": [
    "Вы аналитик компании «Мегалайн» — федерального оператора сотовой связи. Клиентам предлагают два тарифных плана: «Смарт» и «Ультра». Чтобы скорректировать рекламный бюджет, коммерческий департамент хочет понять, какой тариф приносит больше денег.\n",
    "Вам предстоит сделать предварительный анализ тарифов на небольшой выборке клиентов. В вашем распоряжении данные 500 пользователей «Мегалайна»: кто они, откуда, каким тарифом пользуются, сколько звонков и сообщений каждый отправил за 2018 год. Нужно проанализировать поведение клиентов и сделать вывод — какой тариф лучше.\n",
    "\n",
    "**Описание тарифов**\n",
    "**Тариф «Смарт»**\n",
    " 1. Ежемесячная плата: 550 рублей\n",
    " 2. Включено 500 минут разговора, 50 сообщений и 15 Гб интернет-трафика\n",
    " 3. Стоимость услуг сверх тарифного пакета: 1. минута разговора: 3 рубля («Мегалайн» всегда округляет вверх значения минут и мегабайтов. Если пользователь проговорил всего 1 секунду, в тарифе засчитывается целая минута); 2. сообщение: 3 рубля; 3. 1 Гб интернет-трафика: 200 рублей.\n",
    "**Тариф «Ультра»**\n",
    " 1. Ежемесячная плата: 1950 рублей\n",
    " 2. Включено 3000 минут разговора, 1000 сообщений и 30 Гб интернет-трафика\n",
    " 3. Стоимость услуг сверх тарифного пакета: 1. минута разговора: 1 рубль; 2. сообщение: 1 рубль; 3. 1 Гб интернет-трафика: 150 рублей.\n",
    "                    \n",
    "**Примечание:**\n",
    "«Мегалайн» всегда округляет секунды до минут, а мегабайты — до гигабайт. Каждый звонок округляется отдельно: даже если он длился всего 1 секунду, будет засчитан как 1 минута.\n",
    "Для веб-трафика отдельные сессии не считаются. Вместо этого общая сумма за месяц округляется в бо́льшую сторону. Если абонент использует 1025 мегабайт в этом месяце, с него возьмут плату за 2 гигабайта.                   "
   ]
  },
  {
   "cell_type": "markdown",
   "metadata": {},
   "source": [
    "**Цель исследования**:\n",
    "Выбрать наиболее прибыльный тариф\n",
    "\n",
    "**Ход исследования**\n",
    " 1. Изучение данных из файла\n",
    " 2. Предобработка данных\n",
    " 3. Расчёты и добавление результатов в таблиц\n",
    " 4. Исследовательский анализ данных\n",
    " 5. Проверка гипотез\n",
    " 6. Общий вывод"
   ]
  },
  {
   "cell_type": "markdown",
   "metadata": {},
   "source": [
    "## Изучение данных из файла"
   ]
  },
  {
   "cell_type": "code",
   "execution_count": 1,
   "metadata": {},
   "outputs": [],
   "source": [
    "# импорт библиотеки pandas\n",
    "import pandas as pd"
   ]
  },
  {
   "cell_type": "code",
   "execution_count": 2,
   "metadata": {},
   "outputs": [],
   "source": [
    "# импорт библиотеки matplotlib\n",
    "import matplotlib.pyplot as plt"
   ]
  },
  {
   "cell_type": "code",
   "execution_count": 3,
   "metadata": {},
   "outputs": [],
   "source": [
    "# импорт библиотеки numpy\n",
    "import numpy as np"
   ]
  },
  {
   "cell_type": "code",
   "execution_count": 4,
   "metadata": {},
   "outputs": [],
   "source": [
    "# импорт stats из библиотеки scipy\n",
    "from scipy import stats as st"
   ]
  },
  {
   "cell_type": "code",
   "execution_count": 5,
   "metadata": {},
   "outputs": [],
   "source": [
    "# чтение файлов и сохранение в переменные\n",
    "calls = pd.read_csv('/datasets/calls.csv')\n",
    "internet = pd.read_csv('/datasets/internet.csv')\n",
    "messages = pd.read_csv('/datasets/messages.csv')\n",
    "tariffs = pd.read_csv('/datasets/tariffs.csv')\n",
    "users = pd.read_csv('/datasets/users.csv')"
   ]
  },
  {
   "cell_type": "markdown",
   "metadata": {},
   "source": [
    "### Описание таблицы calls"
   ]
  },
  {
   "cell_type": "markdown",
   "metadata": {},
   "source": [
    "Таблица calls (информация о звонках):\n",
    "* `id` — уникальный номер звонка\n",
    "* `call_date` — дата звонка\n",
    "* `duration` — длительность звонка в минутах\n",
    "* `user_id` — идентификатор пользователя, сделавшего звонок"
   ]
  },
  {
   "cell_type": "code",
   "execution_count": 6,
   "metadata": {},
   "outputs": [
    {
     "data": {
      "text/html": [
       "<div>\n",
       "<style scoped>\n",
       "    .dataframe tbody tr th:only-of-type {\n",
       "        vertical-align: middle;\n",
       "    }\n",
       "\n",
       "    .dataframe tbody tr th {\n",
       "        vertical-align: top;\n",
       "    }\n",
       "\n",
       "    .dataframe thead th {\n",
       "        text-align: right;\n",
       "    }\n",
       "</style>\n",
       "<table border=\"1\" class=\"dataframe\">\n",
       "  <thead>\n",
       "    <tr style=\"text-align: right;\">\n",
       "      <th></th>\n",
       "      <th>id</th>\n",
       "      <th>call_date</th>\n",
       "      <th>duration</th>\n",
       "      <th>user_id</th>\n",
       "    </tr>\n",
       "  </thead>\n",
       "  <tbody>\n",
       "    <tr>\n",
       "      <td>0</td>\n",
       "      <td>1000_0</td>\n",
       "      <td>2018-07-25</td>\n",
       "      <td>0.00</td>\n",
       "      <td>1000</td>\n",
       "    </tr>\n",
       "    <tr>\n",
       "      <td>1</td>\n",
       "      <td>1000_1</td>\n",
       "      <td>2018-08-17</td>\n",
       "      <td>0.00</td>\n",
       "      <td>1000</td>\n",
       "    </tr>\n",
       "    <tr>\n",
       "      <td>2</td>\n",
       "      <td>1000_2</td>\n",
       "      <td>2018-06-11</td>\n",
       "      <td>2.85</td>\n",
       "      <td>1000</td>\n",
       "    </tr>\n",
       "    <tr>\n",
       "      <td>3</td>\n",
       "      <td>1000_3</td>\n",
       "      <td>2018-09-21</td>\n",
       "      <td>13.80</td>\n",
       "      <td>1000</td>\n",
       "    </tr>\n",
       "    <tr>\n",
       "      <td>4</td>\n",
       "      <td>1000_4</td>\n",
       "      <td>2018-12-15</td>\n",
       "      <td>5.18</td>\n",
       "      <td>1000</td>\n",
       "    </tr>\n",
       "  </tbody>\n",
       "</table>\n",
       "</div>"
      ],
      "text/plain": [
       "       id   call_date  duration  user_id\n",
       "0  1000_0  2018-07-25      0.00     1000\n",
       "1  1000_1  2018-08-17      0.00     1000\n",
       "2  1000_2  2018-06-11      2.85     1000\n",
       "3  1000_3  2018-09-21     13.80     1000\n",
       "4  1000_4  2018-12-15      5.18     1000"
      ]
     },
     "execution_count": 6,
     "metadata": {},
     "output_type": "execute_result"
    }
   ],
   "source": [
    "# просмотр первых 10 строк таблицы\n",
    "calls.head()"
   ]
  },
  {
   "cell_type": "code",
   "execution_count": 7,
   "metadata": {
    "scrolled": false
   },
   "outputs": [
    {
     "name": "stdout",
     "output_type": "stream",
     "text": [
      "<class 'pandas.core.frame.DataFrame'>\n",
      "RangeIndex: 202607 entries, 0 to 202606\n",
      "Data columns (total 4 columns):\n",
      "id           202607 non-null object\n",
      "call_date    202607 non-null object\n",
      "duration     202607 non-null float64\n",
      "user_id      202607 non-null int64\n",
      "dtypes: float64(1), int64(1), object(2)\n",
      "memory usage: 6.2+ MB\n"
     ]
    }
   ],
   "source": [
    "# получение общей информации о таблице\n",
    "calls.info()"
   ]
  },
  {
   "cell_type": "markdown",
   "metadata": {},
   "source": [
    "<div class=\"alert alert-success\">\n",
    "<h2> Комментарий ревьюера ✔️ <a class=\"tocSkip\"> </h2>\n",
    "\n",
    "Пайплан первичной обработки можно усилить добавив [describe](https://pandas.pydata.org/pandas-docs/stable/reference/api/pandas.DataFrame.describe.html) "
   ]
  },
  {
   "cell_type": "markdown",
   "metadata": {},
   "source": [
    "В таблице четыре столбца. В столбцах встречается 3 типа данных:\n",
    "* `int64` (1 столбец);\n",
    "* `float64` (1 столбец);\n",
    "* `object` (2 столбца).\n",
    "Пропусков в таблице нет. Так как «Мегалайн» всегда округляет секунды до минут, то надо поменять тип данных в 'duration' на *int*.\n",
    "А в `call_date` - на тип datetime."
   ]
  },
  {
   "cell_type": "code",
   "execution_count": 8,
   "metadata": {},
   "outputs": [
    {
     "data": {
      "text/plain": [
       "0"
      ]
     },
     "execution_count": 8,
     "metadata": {},
     "output_type": "execute_result"
    }
   ],
   "source": [
    "# проверка на дубликаты\n",
    "calls.duplicated().sum()"
   ]
  },
  {
   "cell_type": "markdown",
   "metadata": {},
   "source": [
    "### Описание таблицы internet"
   ]
  },
  {
   "cell_type": "markdown",
   "metadata": {},
   "source": [
    "Таблица internet (информация об интернет-сессиях):\n",
    "* `id` — уникальный номер сессии\n",
    "* `mb_used` — объём потраченного за сессию интернет-трафика (в мегабайтах)\n",
    "* `session_date` — дата интернет-сессии\n",
    "* `user_id` — идентификатор пользователя"
   ]
  },
  {
   "cell_type": "code",
   "execution_count": 9,
   "metadata": {},
   "outputs": [
    {
     "data": {
      "text/html": [
       "<div>\n",
       "<style scoped>\n",
       "    .dataframe tbody tr th:only-of-type {\n",
       "        vertical-align: middle;\n",
       "    }\n",
       "\n",
       "    .dataframe tbody tr th {\n",
       "        vertical-align: top;\n",
       "    }\n",
       "\n",
       "    .dataframe thead th {\n",
       "        text-align: right;\n",
       "    }\n",
       "</style>\n",
       "<table border=\"1\" class=\"dataframe\">\n",
       "  <thead>\n",
       "    <tr style=\"text-align: right;\">\n",
       "      <th></th>\n",
       "      <th>Unnamed: 0</th>\n",
       "      <th>id</th>\n",
       "      <th>mb_used</th>\n",
       "      <th>session_date</th>\n",
       "      <th>user_id</th>\n",
       "    </tr>\n",
       "  </thead>\n",
       "  <tbody>\n",
       "    <tr>\n",
       "      <td>0</td>\n",
       "      <td>0</td>\n",
       "      <td>1000_0</td>\n",
       "      <td>112.95</td>\n",
       "      <td>2018-11-25</td>\n",
       "      <td>1000</td>\n",
       "    </tr>\n",
       "    <tr>\n",
       "      <td>1</td>\n",
       "      <td>1</td>\n",
       "      <td>1000_1</td>\n",
       "      <td>1052.81</td>\n",
       "      <td>2018-09-07</td>\n",
       "      <td>1000</td>\n",
       "    </tr>\n",
       "    <tr>\n",
       "      <td>2</td>\n",
       "      <td>2</td>\n",
       "      <td>1000_2</td>\n",
       "      <td>1197.26</td>\n",
       "      <td>2018-06-25</td>\n",
       "      <td>1000</td>\n",
       "    </tr>\n",
       "    <tr>\n",
       "      <td>3</td>\n",
       "      <td>3</td>\n",
       "      <td>1000_3</td>\n",
       "      <td>550.27</td>\n",
       "      <td>2018-08-22</td>\n",
       "      <td>1000</td>\n",
       "    </tr>\n",
       "    <tr>\n",
       "      <td>4</td>\n",
       "      <td>4</td>\n",
       "      <td>1000_4</td>\n",
       "      <td>302.56</td>\n",
       "      <td>2018-09-24</td>\n",
       "      <td>1000</td>\n",
       "    </tr>\n",
       "  </tbody>\n",
       "</table>\n",
       "</div>"
      ],
      "text/plain": [
       "   Unnamed: 0      id  mb_used session_date  user_id\n",
       "0           0  1000_0   112.95   2018-11-25     1000\n",
       "1           1  1000_1  1052.81   2018-09-07     1000\n",
       "2           2  1000_2  1197.26   2018-06-25     1000\n",
       "3           3  1000_3   550.27   2018-08-22     1000\n",
       "4           4  1000_4   302.56   2018-09-24     1000"
      ]
     },
     "execution_count": 9,
     "metadata": {},
     "output_type": "execute_result"
    }
   ],
   "source": [
    "# просмотр первых 10 строк таблицы\n",
    "internet.head()"
   ]
  },
  {
   "cell_type": "code",
   "execution_count": 10,
   "metadata": {},
   "outputs": [
    {
     "name": "stdout",
     "output_type": "stream",
     "text": [
      "<class 'pandas.core.frame.DataFrame'>\n",
      "RangeIndex: 149396 entries, 0 to 149395\n",
      "Data columns (total 5 columns):\n",
      "Unnamed: 0      149396 non-null int64\n",
      "id              149396 non-null object\n",
      "mb_used         149396 non-null float64\n",
      "session_date    149396 non-null object\n",
      "user_id         149396 non-null int64\n",
      "dtypes: float64(1), int64(2), object(2)\n",
      "memory usage: 5.7+ MB\n"
     ]
    }
   ],
   "source": [
    "# получение общей информации о таблице\n",
    "internet.info()"
   ]
  },
  {
   "cell_type": "markdown",
   "metadata": {},
   "source": [
    "В таблице пять столбцов. В столбцах встречается 3 типа данных:\n",
    "* `int64` (2 столбца);\n",
    "* `float64` (1 столбец);\n",
    "* `object` (2 столбца).\n",
    "Пропусков в таблице нет. Так как «Мегалайн» всегда округляет мегабайты до гигабайт за месяц, то надо создать новый столбец со значениями в гигабайтах. А в `session_date` - на тип datetime. В датасете есть столбец `Unnamed: 0`, дублирующий порядковые номера строк. Его надо удалить. "
   ]
  },
  {
   "cell_type": "code",
   "execution_count": 11,
   "metadata": {},
   "outputs": [
    {
     "data": {
      "text/plain": [
       "0"
      ]
     },
     "execution_count": 11,
     "metadata": {},
     "output_type": "execute_result"
    }
   ],
   "source": [
    "# проверка на дубликаты\n",
    "internet.duplicated().sum()"
   ]
  },
  {
   "cell_type": "markdown",
   "metadata": {},
   "source": [
    "### Описание таблицы messages"
   ]
  },
  {
   "cell_type": "markdown",
   "metadata": {},
   "source": [
    "Таблица messages (информация о сообщениях):\n",
    "* `id` — уникальный номер сообщения\n",
    "* `message_date` — дата сообщения\n",
    "* `user_id` — идентификатор пользователя, отправившего сообщение"
   ]
  },
  {
   "cell_type": "code",
   "execution_count": 12,
   "metadata": {},
   "outputs": [
    {
     "data": {
      "text/html": [
       "<div>\n",
       "<style scoped>\n",
       "    .dataframe tbody tr th:only-of-type {\n",
       "        vertical-align: middle;\n",
       "    }\n",
       "\n",
       "    .dataframe tbody tr th {\n",
       "        vertical-align: top;\n",
       "    }\n",
       "\n",
       "    .dataframe thead th {\n",
       "        text-align: right;\n",
       "    }\n",
       "</style>\n",
       "<table border=\"1\" class=\"dataframe\">\n",
       "  <thead>\n",
       "    <tr style=\"text-align: right;\">\n",
       "      <th></th>\n",
       "      <th>id</th>\n",
       "      <th>message_date</th>\n",
       "      <th>user_id</th>\n",
       "    </tr>\n",
       "  </thead>\n",
       "  <tbody>\n",
       "    <tr>\n",
       "      <td>0</td>\n",
       "      <td>1000_0</td>\n",
       "      <td>2018-06-27</td>\n",
       "      <td>1000</td>\n",
       "    </tr>\n",
       "    <tr>\n",
       "      <td>1</td>\n",
       "      <td>1000_1</td>\n",
       "      <td>2018-10-08</td>\n",
       "      <td>1000</td>\n",
       "    </tr>\n",
       "    <tr>\n",
       "      <td>2</td>\n",
       "      <td>1000_2</td>\n",
       "      <td>2018-08-04</td>\n",
       "      <td>1000</td>\n",
       "    </tr>\n",
       "    <tr>\n",
       "      <td>3</td>\n",
       "      <td>1000_3</td>\n",
       "      <td>2018-06-16</td>\n",
       "      <td>1000</td>\n",
       "    </tr>\n",
       "    <tr>\n",
       "      <td>4</td>\n",
       "      <td>1000_4</td>\n",
       "      <td>2018-12-05</td>\n",
       "      <td>1000</td>\n",
       "    </tr>\n",
       "  </tbody>\n",
       "</table>\n",
       "</div>"
      ],
      "text/plain": [
       "       id message_date  user_id\n",
       "0  1000_0   2018-06-27     1000\n",
       "1  1000_1   2018-10-08     1000\n",
       "2  1000_2   2018-08-04     1000\n",
       "3  1000_3   2018-06-16     1000\n",
       "4  1000_4   2018-12-05     1000"
      ]
     },
     "execution_count": 12,
     "metadata": {},
     "output_type": "execute_result"
    }
   ],
   "source": [
    "# просмотр первых 10 строк таблицы\n",
    "messages.head()"
   ]
  },
  {
   "cell_type": "code",
   "execution_count": 13,
   "metadata": {},
   "outputs": [
    {
     "name": "stdout",
     "output_type": "stream",
     "text": [
      "<class 'pandas.core.frame.DataFrame'>\n",
      "RangeIndex: 123036 entries, 0 to 123035\n",
      "Data columns (total 3 columns):\n",
      "id              123036 non-null object\n",
      "message_date    123036 non-null object\n",
      "user_id         123036 non-null int64\n",
      "dtypes: int64(1), object(2)\n",
      "memory usage: 2.8+ MB\n"
     ]
    }
   ],
   "source": [
    "# получение общей информации о таблице\n",
    "messages.info()"
   ]
  },
  {
   "cell_type": "markdown",
   "metadata": {},
   "source": [
    "В таблице три столбца. В столбцах встречается 2 типа данных:\n",
    "* `int64` (1 столбец);\n",
    "* `object` (2 столбца).\n",
    "Пропусков в таблице нет. В `message_date` тип надо сменить на datetime."
   ]
  },
  {
   "cell_type": "code",
   "execution_count": 14,
   "metadata": {},
   "outputs": [
    {
     "data": {
      "text/plain": [
       "0"
      ]
     },
     "execution_count": 14,
     "metadata": {},
     "output_type": "execute_result"
    }
   ],
   "source": [
    "# проверка на дубликаты\n",
    "messages.duplicated().sum()"
   ]
  },
  {
   "cell_type": "markdown",
   "metadata": {},
   "source": [
    "<div style=\"border:solid purple 5px; padding: 20px\"> \n",
    "<h2 align=\"center\"> Рубрика «Питонячий лайфхакер» <a class=\"tocSkip\"> </h2>\n",
    "\n",
    "<h3> PEP 8 - руководство по написанию кода на Python  <a class=\"tocSkip\"> </h3>\n",
    "\n",
    "В python есть своя философия. Именно отсюда берутся определенные правила и стандарты. В пайтон такое соглашение назвали PEP 8. PEP 8 создан на основе рекомендаций Гуидо ван Россума (создатель языка Python) с добавлениями от Барри Уорсо (соратник).\n",
    "\n",
    "Единый стиль оформления делает код понятным для самого программиста и его коллег с разным уровнем подготовки. В идеале наиболее сложный фрагмент кода должен быть понятен с первого прочтения. Это упрощает командную разработку и обучение новичков, позволяет вам быстро возвращаться к собственным давним проектам.\n",
    "\n",
    "Каждый уважающий себя питонист обязан знать этот стандарт. Читайте [оригинал](https://www.python.org/dev/peps/pep-0008/) или [перевод](https://pythonworld.ru/osnovy/pep-8-rukovodstvo-po-napisaniyu-koda-na-python.html), главное  —  вдумчиво!\n",
    "\n",
    "Когда проект небольшой, несложно следить за качеством кода, но вот когда проект принимает маштабы ... часто это становиться проблемой. В этом случае выручат скрипты автоматической проверки кода. Кстати, PyCharm проверяет написанное «на лету». А если вы привыкли работать в Jupyter, то на GitHub есть целый раздел [Python Code Quality Authority](https://github.com/PyCQA/), где хранятся утилиты для повышения качества кода, в том числе для проверки стиля на соответствие PEP 8: flake8, pycodestyle, pep8-naming.\n",
    "\n",
    "![](https://i.ibb.co/Gv0PvHQ/mini-magick20171220-84-vtyy26.png)"
   ]
  },
  {
   "cell_type": "markdown",
   "metadata": {},
   "source": [
    "### Описание таблицы tariffs"
   ]
  },
  {
   "cell_type": "markdown",
   "metadata": {},
   "source": [
    "Таблица tariffs (информация о тарифах):\n",
    "* `tariff_name` — название тарифа\n",
    "* `rub_monthly_fee` — ежемесячная абонентская плата в рублях\n",
    "`minutes_included` — количество минут разговора в месяц, включённых в абонентскую плату\n",
    "* `messages_included` — количество сообщений в месяц, включённых в абонентскую плату\n",
    "* `mb_per_month_included` — объём интернет-трафика, включённого в абонентскую плату (в мегабайтах)\n",
    "* `rub_per_minute` — стоимость минуты разговора сверх тарифного пакета (например, если в тарифе 100 минут разговора в месяц, то со 101 минуты будет взиматься плата)\n",
    "* `rub_per_message` — стоимость отправки сообщения сверх тарифного пакета\n",
    "* `rub_per_gb` — стоимость дополнительного гигабайта интернет-трафика сверх тарифного пакета (1 гигабайт = 1024 мегабайта)"
   ]
  },
  {
   "cell_type": "code",
   "execution_count": 15,
   "metadata": {},
   "outputs": [
    {
     "data": {
      "text/html": [
       "<div>\n",
       "<style scoped>\n",
       "    .dataframe tbody tr th:only-of-type {\n",
       "        vertical-align: middle;\n",
       "    }\n",
       "\n",
       "    .dataframe tbody tr th {\n",
       "        vertical-align: top;\n",
       "    }\n",
       "\n",
       "    .dataframe thead th {\n",
       "        text-align: right;\n",
       "    }\n",
       "</style>\n",
       "<table border=\"1\" class=\"dataframe\">\n",
       "  <thead>\n",
       "    <tr style=\"text-align: right;\">\n",
       "      <th></th>\n",
       "      <th>messages_included</th>\n",
       "      <th>mb_per_month_included</th>\n",
       "      <th>minutes_included</th>\n",
       "      <th>rub_monthly_fee</th>\n",
       "      <th>rub_per_gb</th>\n",
       "      <th>rub_per_message</th>\n",
       "      <th>rub_per_minute</th>\n",
       "      <th>tariff_name</th>\n",
       "    </tr>\n",
       "  </thead>\n",
       "  <tbody>\n",
       "    <tr>\n",
       "      <td>0</td>\n",
       "      <td>50</td>\n",
       "      <td>15360</td>\n",
       "      <td>500</td>\n",
       "      <td>550</td>\n",
       "      <td>200</td>\n",
       "      <td>3</td>\n",
       "      <td>3</td>\n",
       "      <td>smart</td>\n",
       "    </tr>\n",
       "    <tr>\n",
       "      <td>1</td>\n",
       "      <td>1000</td>\n",
       "      <td>30720</td>\n",
       "      <td>3000</td>\n",
       "      <td>1950</td>\n",
       "      <td>150</td>\n",
       "      <td>1</td>\n",
       "      <td>1</td>\n",
       "      <td>ultra</td>\n",
       "    </tr>\n",
       "  </tbody>\n",
       "</table>\n",
       "</div>"
      ],
      "text/plain": [
       "   messages_included  mb_per_month_included  minutes_included  \\\n",
       "0                 50                  15360               500   \n",
       "1               1000                  30720              3000   \n",
       "\n",
       "   rub_monthly_fee  rub_per_gb  rub_per_message  rub_per_minute tariff_name  \n",
       "0              550         200                3               3       smart  \n",
       "1             1950         150                1               1       ultra  "
      ]
     },
     "execution_count": 15,
     "metadata": {},
     "output_type": "execute_result"
    }
   ],
   "source": [
    "# просмотр первых 10 строк таблицы\n",
    "tariffs.head()"
   ]
  },
  {
   "cell_type": "code",
   "execution_count": 16,
   "metadata": {},
   "outputs": [
    {
     "name": "stdout",
     "output_type": "stream",
     "text": [
      "<class 'pandas.core.frame.DataFrame'>\n",
      "RangeIndex: 2 entries, 0 to 1\n",
      "Data columns (total 8 columns):\n",
      "messages_included        2 non-null int64\n",
      "mb_per_month_included    2 non-null int64\n",
      "minutes_included         2 non-null int64\n",
      "rub_monthly_fee          2 non-null int64\n",
      "rub_per_gb               2 non-null int64\n",
      "rub_per_message          2 non-null int64\n",
      "rub_per_minute           2 non-null int64\n",
      "tariff_name              2 non-null object\n",
      "dtypes: int64(7), object(1)\n",
      "memory usage: 256.0+ bytes\n"
     ]
    }
   ],
   "source": [
    "# получение общей информации о таблице\n",
    "tariffs.info()"
   ]
  },
  {
   "cell_type": "markdown",
   "metadata": {},
   "source": [
    "В таблице восемь столбцов. В столбцах встречается 2 типа данных:\n",
    "* `int64` (2 столбца);\n",
    "* `object` (2 столбца).\n",
    "Эта таблица содержит характеристики тарифов. В ней ничего менять не надо."
   ]
  },
  {
   "cell_type": "markdown",
   "metadata": {},
   "source": [
    "### Описание таблицы users"
   ]
  },
  {
   "cell_type": "markdown",
   "metadata": {},
   "source": [
    "Таблица users (информация о пользователях):\n",
    "* `user_id` — уникальный идентификатор пользователя\n",
    "* `first_name` — имя пользователя\n",
    "* `last_name` — фамилия пользователя\n",
    "* `age` — возраст пользователя (годы)\n",
    "* `reg_date` — дата подключения тарифа (день, месяц, год)\n",
    "* `churn_date` — дата прекращения пользования тарифом (если значение пропущено, то тариф ещё действовал на момент выгрузки данных)\n",
    "* `city` — город проживания пользователя\n",
    "* `tarif` — название тарифного плана"
   ]
  },
  {
   "cell_type": "code",
   "execution_count": 17,
   "metadata": {},
   "outputs": [
    {
     "data": {
      "text/html": [
       "<div>\n",
       "<style scoped>\n",
       "    .dataframe tbody tr th:only-of-type {\n",
       "        vertical-align: middle;\n",
       "    }\n",
       "\n",
       "    .dataframe tbody tr th {\n",
       "        vertical-align: top;\n",
       "    }\n",
       "\n",
       "    .dataframe thead th {\n",
       "        text-align: right;\n",
       "    }\n",
       "</style>\n",
       "<table border=\"1\" class=\"dataframe\">\n",
       "  <thead>\n",
       "    <tr style=\"text-align: right;\">\n",
       "      <th></th>\n",
       "      <th>user_id</th>\n",
       "      <th>age</th>\n",
       "      <th>churn_date</th>\n",
       "      <th>city</th>\n",
       "      <th>first_name</th>\n",
       "      <th>last_name</th>\n",
       "      <th>reg_date</th>\n",
       "      <th>tariff</th>\n",
       "    </tr>\n",
       "  </thead>\n",
       "  <tbody>\n",
       "    <tr>\n",
       "      <td>0</td>\n",
       "      <td>1000</td>\n",
       "      <td>52</td>\n",
       "      <td>NaN</td>\n",
       "      <td>Краснодар</td>\n",
       "      <td>Рафаил</td>\n",
       "      <td>Верещагин</td>\n",
       "      <td>2018-05-25</td>\n",
       "      <td>ultra</td>\n",
       "    </tr>\n",
       "    <tr>\n",
       "      <td>1</td>\n",
       "      <td>1001</td>\n",
       "      <td>41</td>\n",
       "      <td>NaN</td>\n",
       "      <td>Москва</td>\n",
       "      <td>Иван</td>\n",
       "      <td>Ежов</td>\n",
       "      <td>2018-11-01</td>\n",
       "      <td>smart</td>\n",
       "    </tr>\n",
       "    <tr>\n",
       "      <td>2</td>\n",
       "      <td>1002</td>\n",
       "      <td>59</td>\n",
       "      <td>NaN</td>\n",
       "      <td>Стерлитамак</td>\n",
       "      <td>Евгений</td>\n",
       "      <td>Абрамович</td>\n",
       "      <td>2018-06-17</td>\n",
       "      <td>smart</td>\n",
       "    </tr>\n",
       "    <tr>\n",
       "      <td>3</td>\n",
       "      <td>1003</td>\n",
       "      <td>23</td>\n",
       "      <td>NaN</td>\n",
       "      <td>Москва</td>\n",
       "      <td>Белла</td>\n",
       "      <td>Белякова</td>\n",
       "      <td>2018-08-17</td>\n",
       "      <td>ultra</td>\n",
       "    </tr>\n",
       "    <tr>\n",
       "      <td>4</td>\n",
       "      <td>1004</td>\n",
       "      <td>68</td>\n",
       "      <td>NaN</td>\n",
       "      <td>Новокузнецк</td>\n",
       "      <td>Татьяна</td>\n",
       "      <td>Авдеенко</td>\n",
       "      <td>2018-05-14</td>\n",
       "      <td>ultra</td>\n",
       "    </tr>\n",
       "  </tbody>\n",
       "</table>\n",
       "</div>"
      ],
      "text/plain": [
       "   user_id  age churn_date         city first_name  last_name    reg_date  \\\n",
       "0     1000   52        NaN    Краснодар     Рафаил  Верещагин  2018-05-25   \n",
       "1     1001   41        NaN       Москва       Иван       Ежов  2018-11-01   \n",
       "2     1002   59        NaN  Стерлитамак    Евгений  Абрамович  2018-06-17   \n",
       "3     1003   23        NaN       Москва      Белла   Белякова  2018-08-17   \n",
       "4     1004   68        NaN  Новокузнецк    Татьяна   Авдеенко  2018-05-14   \n",
       "\n",
       "  tariff  \n",
       "0  ultra  \n",
       "1  smart  \n",
       "2  smart  \n",
       "3  ultra  \n",
       "4  ultra  "
      ]
     },
     "execution_count": 17,
     "metadata": {},
     "output_type": "execute_result"
    }
   ],
   "source": [
    "# просмотр первых 10 строк таблицы\n",
    "users.head()"
   ]
  },
  {
   "cell_type": "code",
   "execution_count": 18,
   "metadata": {},
   "outputs": [
    {
     "name": "stdout",
     "output_type": "stream",
     "text": [
      "<class 'pandas.core.frame.DataFrame'>\n",
      "RangeIndex: 500 entries, 0 to 499\n",
      "Data columns (total 8 columns):\n",
      "user_id       500 non-null int64\n",
      "age           500 non-null int64\n",
      "churn_date    38 non-null object\n",
      "city          500 non-null object\n",
      "first_name    500 non-null object\n",
      "last_name     500 non-null object\n",
      "reg_date      500 non-null object\n",
      "tariff        500 non-null object\n",
      "dtypes: int64(2), object(6)\n",
      "memory usage: 31.4+ KB\n"
     ]
    }
   ],
   "source": [
    "# получение общей информации о таблице\n",
    "users.info()"
   ]
  },
  {
   "cell_type": "markdown",
   "metadata": {},
   "source": [
    "В таблице восемь столбцов. В столбцах встречается 2 типа данных:\n",
    "* `int64` (2 столбца);\n",
    "* `object` (2 столбца).\n",
    "Есть пропуски в столбце `churn_date`. В `reg_date` надо заменить тип данных на datetime."
   ]
  },
  {
   "cell_type": "code",
   "execution_count": 19,
   "metadata": {},
   "outputs": [
    {
     "data": {
      "text/plain": [
       "0"
      ]
     },
     "execution_count": 19,
     "metadata": {},
     "output_type": "execute_result"
    }
   ],
   "source": [
    "# проверка на дубликаты\n",
    "users.duplicated().sum()"
   ]
  },
  {
   "cell_type": "markdown",
   "metadata": {},
   "source": [
    "<div class=\"alert alert-success\">\n",
    "<h2> Комментарий ревьюера ✔️ <a class=\"tocSkip\"> </h2>\n",
    "\n",
    "Для каждой таблицы ты принимаешь одни и те же методы, почему бы не написать под это дело функцию и не использовать цикл для датарфеймов?)"
   ]
  },
  {
   "cell_type": "markdown",
   "metadata": {},
   "source": [
    "### Вывод"
   ]
  },
  {
   "cell_type": "markdown",
   "metadata": {},
   "source": [
    "Данные в таблицах выглядят удобными для проведения дальнейшего анализа. Надо только провести следующую предобработку отдельных столбцов:\n",
    "* замена типов данных в столбцах с датой на тип данных datetime;\n",
    "* округление секунд до минут;\n",
    "* округление мегабайт до целых чисел;\n",
    "* удаление столбца, дублирующего порядковые номера строк датафрейма и столбца, имеющего пропуски.\n",
    "Столбец `churn_date` из таблицы `users` можно удалить. Маловероятно что он потребуется для анализа и проверки гипотез."
   ]
  },
  {
   "cell_type": "markdown",
   "metadata": {},
   "source": [
    "## Предобработка данных"
   ]
  },
  {
   "cell_type": "markdown",
   "metadata": {},
   "source": [
    "### Замена на тип данных datetime"
   ]
  },
  {
   "cell_type": "code",
   "execution_count": 20,
   "metadata": {},
   "outputs": [],
   "source": [
    "# смена типа данных в столбце call_date\n",
    "calls['call_date'] = pd.to_datetime(calls['call_date'], format = '%Y-%m-%d')"
   ]
  },
  {
   "cell_type": "code",
   "execution_count": 21,
   "metadata": {},
   "outputs": [],
   "source": [
    "# смена типа данных в столбце session_date\n",
    "internet['session_date'] = pd.to_datetime(internet['session_date'], format = '%Y-%m-%d')"
   ]
  },
  {
   "cell_type": "code",
   "execution_count": 22,
   "metadata": {},
   "outputs": [],
   "source": [
    "# смена типа данных в столбце reg_date\n",
    "users['reg_date'] = pd.to_datetime(users['reg_date'], format = '%Y-%m-%d')"
   ]
  },
  {
   "cell_type": "code",
   "execution_count": 23,
   "metadata": {},
   "outputs": [],
   "source": [
    "# смена типа данных в столбце message_date\n",
    "messages['message_date'] = pd.to_datetime(messages['message_date'], format = '%Y-%m-%d')"
   ]
  },
  {
   "cell_type": "markdown",
   "metadata": {},
   "source": [
    "### Удаление столбца, дублирующего порядковые номера строк датафрейма"
   ]
  },
  {
   "cell_type": "code",
   "execution_count": 24,
   "metadata": {},
   "outputs": [],
   "source": [
    "del internet['Unnamed: 0']"
   ]
  },
  {
   "cell_type": "markdown",
   "metadata": {},
   "source": [
    "<div class=\"alert alert-success\">\n",
    "<h2> Комментарий ревьюера ✔️ <a class=\"tocSkip\"> </h2>\n",
    "\n",
    "Кстати, этот столбец можно было указать в качестве индексов, во время загрузки датафрейма. Для этого тебе нужно задать параметр [index_col](https://pandas.pydata.org/pandas-docs/stable/reference/api/pandas.read_excel.html)"
   ]
  },
  {
   "cell_type": "markdown",
   "metadata": {},
   "source": [
    "### Заполнение пропусков в столбце `churn_date` таблицы `users`"
   ]
  },
  {
   "cell_type": "markdown",
   "metadata": {},
   "source": [
    "Пропуски можно заполнить с предположением того что максимальный возраст человека составляет 100 лет. То есть он доживает до этого возраста и автоматически прекращает пользоваться тарифом. Для этого необходимо прибавить к текущей дате разницу между 100 и возрастом абонента и заполнить этим значением пропуски. Месяц и число пусть будет сегодняшним числом."
   ]
  },
  {
   "cell_type": "code",
   "execution_count": 25,
   "metadata": {},
   "outputs": [],
   "source": [
    "def fillna_churn_date(column):\n",
    "    if pd.isnull(column[\"churn_date\"]):\n",
    "        max_age = 100\n",
    "        diff = max_age - column['age'] \n",
    "        churn_date = str(2021 + diff)+'-12-06'\n",
    "        column[\"churn_date\"] = pd.to_datetime(churn_date, format = '%Y-%m-%d')\n",
    "    return column\n",
    "users = users.apply(fillna_churn_date, axis = 1)"
   ]
  },
  {
   "cell_type": "code",
   "execution_count": 26,
   "metadata": {},
   "outputs": [
    {
     "data": {
      "text/html": [
       "<div>\n",
       "<style scoped>\n",
       "    .dataframe tbody tr th:only-of-type {\n",
       "        vertical-align: middle;\n",
       "    }\n",
       "\n",
       "    .dataframe tbody tr th {\n",
       "        vertical-align: top;\n",
       "    }\n",
       "\n",
       "    .dataframe thead th {\n",
       "        text-align: right;\n",
       "    }\n",
       "</style>\n",
       "<table border=\"1\" class=\"dataframe\">\n",
       "  <thead>\n",
       "    <tr style=\"text-align: right;\">\n",
       "      <th></th>\n",
       "      <th>user_id</th>\n",
       "      <th>age</th>\n",
       "      <th>churn_date</th>\n",
       "      <th>city</th>\n",
       "      <th>first_name</th>\n",
       "      <th>last_name</th>\n",
       "      <th>reg_date</th>\n",
       "      <th>tariff</th>\n",
       "    </tr>\n",
       "  </thead>\n",
       "  <tbody>\n",
       "    <tr>\n",
       "      <td>0</td>\n",
       "      <td>1000</td>\n",
       "      <td>52</td>\n",
       "      <td>2069-12-06</td>\n",
       "      <td>Краснодар</td>\n",
       "      <td>Рафаил</td>\n",
       "      <td>Верещагин</td>\n",
       "      <td>2018-05-25</td>\n",
       "      <td>ultra</td>\n",
       "    </tr>\n",
       "    <tr>\n",
       "      <td>1</td>\n",
       "      <td>1001</td>\n",
       "      <td>41</td>\n",
       "      <td>2080-12-06</td>\n",
       "      <td>Москва</td>\n",
       "      <td>Иван</td>\n",
       "      <td>Ежов</td>\n",
       "      <td>2018-11-01</td>\n",
       "      <td>smart</td>\n",
       "    </tr>\n",
       "    <tr>\n",
       "      <td>2</td>\n",
       "      <td>1002</td>\n",
       "      <td>59</td>\n",
       "      <td>2062-12-06</td>\n",
       "      <td>Стерлитамак</td>\n",
       "      <td>Евгений</td>\n",
       "      <td>Абрамович</td>\n",
       "      <td>2018-06-17</td>\n",
       "      <td>smart</td>\n",
       "    </tr>\n",
       "    <tr>\n",
       "      <td>3</td>\n",
       "      <td>1003</td>\n",
       "      <td>23</td>\n",
       "      <td>2098-12-06</td>\n",
       "      <td>Москва</td>\n",
       "      <td>Белла</td>\n",
       "      <td>Белякова</td>\n",
       "      <td>2018-08-17</td>\n",
       "      <td>ultra</td>\n",
       "    </tr>\n",
       "    <tr>\n",
       "      <td>4</td>\n",
       "      <td>1004</td>\n",
       "      <td>68</td>\n",
       "      <td>2053-12-06</td>\n",
       "      <td>Новокузнецк</td>\n",
       "      <td>Татьяна</td>\n",
       "      <td>Авдеенко</td>\n",
       "      <td>2018-05-14</td>\n",
       "      <td>ultra</td>\n",
       "    </tr>\n",
       "  </tbody>\n",
       "</table>\n",
       "</div>"
      ],
      "text/plain": [
       "   user_id  age churn_date         city first_name  last_name   reg_date  \\\n",
       "0     1000   52 2069-12-06    Краснодар     Рафаил  Верещагин 2018-05-25   \n",
       "1     1001   41 2080-12-06       Москва       Иван       Ежов 2018-11-01   \n",
       "2     1002   59 2062-12-06  Стерлитамак    Евгений  Абрамович 2018-06-17   \n",
       "3     1003   23 2098-12-06       Москва      Белла   Белякова 2018-08-17   \n",
       "4     1004   68 2053-12-06  Новокузнецк    Татьяна   Авдеенко 2018-05-14   \n",
       "\n",
       "  tariff  \n",
       "0  ultra  \n",
       "1  smart  \n",
       "2  smart  \n",
       "3  ultra  \n",
       "4  ultra  "
      ]
     },
     "execution_count": 26,
     "metadata": {},
     "output_type": "execute_result"
    }
   ],
   "source": [
    "users.head()"
   ]
  },
  {
   "cell_type": "markdown",
   "metadata": {},
   "source": [
    "<div class=\"alert alert-success\">\n",
    "<h2> Комментарий ревьюера ✔️ <a class=\"tocSkip\"> </h2>\n",
    "\n",
    "Класс, а можно было и оставить как есть. Иногда это оправдано, а внашем случае отсутствие какой-либо даты говорит нам о том, что пользователь все еще является клиентом компании"
   ]
  },
  {
   "cell_type": "markdown",
   "metadata": {},
   "source": [
    "### Округление секунд до минут"
   ]
  },
  {
   "cell_type": "code",
   "execution_count": 27,
   "metadata": {},
   "outputs": [],
   "source": [
    "# округление значений столбца до ближайшего целого и смена типа на int\n",
    "calls['duration'] = calls['duration'].apply(np.ceil).astype('int')"
   ]
  },
  {
   "cell_type": "markdown",
   "metadata": {},
   "source": [
    "<div class=\"alert alert-success\">\n",
    "<h2> Комментарий ревьюера ✔️ <a class=\"tocSkip\"> </h2>\n",
    "\n",
    "Молодец, что не забыл про округление данных!"
   ]
  },
  {
   "cell_type": "markdown",
   "metadata": {},
   "source": [
    "### Создание общей таблицы для анализа"
   ]
  },
  {
   "cell_type": "markdown",
   "metadata": {},
   "source": [
    "Перед выполнением исследовательского и статистического анализов надо сконструировать общую таблицу из четырех имеющихся, добавив в нее данные по пользователям, вычисленные по месяцам. Следующие столбцы необходимо включить в датасет:\n",
    "* количество сделанных звонков и израсходованных минут разговора по месяцам;\n",
    "* количество отправленных сообщений по месяцам;\n",
    "* объем израсходованного интернет-трафика по месяцам"
   ]
  },
  {
   "cell_type": "code",
   "execution_count": 28,
   "metadata": {},
   "outputs": [],
   "source": [
    "messages['month'] = messages['message_date'].dt.month\n",
    "calls['month'] = calls['call_date'].dt.month\n",
    "internet['month'] = internet['session_date'].dt.month"
   ]
  },
  {
   "cell_type": "markdown",
   "metadata": {},
   "source": [
    "<div class=\"alert alert-success\">\n",
    "<h2> Комментарий ревьюера ✔️ <a class=\"tocSkip\"> </h2>\n",
    "\n",
    "Обычно в датафрейме содержатся данные нескольких лет - и тогда метод `month` может привести к ошибке: например, июнь 2019 и июнь 2020 могут стать одним месяцем. Чтобы этого избежать, можно использовать метод `astype('datetime64[M]')`. Он приводит дату к формату первое число - месяц - год"
   ]
  },
  {
   "cell_type": "markdown",
   "metadata": {},
   "source": [
    "Групировка данных по идентификатору пользователя и месяцу. Объединение их по merge. Затем добавление к ним таблицу пользователей и тарифы. Затем подсчет помесячной выручки"
   ]
  },
  {
   "cell_type": "code",
   "execution_count": 29,
   "metadata": {},
   "outputs": [],
   "source": [
    "grouper = ['user_id', 'month']\n",
    "calls = calls.groupby(['user_id', 'month']).agg({'duration': 'sum', 'id': 'count'}).reset_index().rename(columns={'duration': \"calls_duration\", 'id': \"calls_quantity\"})\n",
    "calls['calls_duration'] = calls['calls_duration'].astype('int')"
   ]
  },
  {
   "cell_type": "code",
   "execution_count": 30,
   "metadata": {},
   "outputs": [],
   "source": [
    "internet = internet.groupby(grouper).agg({'mb_used': 'sum'}).reset_index()"
   ]
  },
  {
   "cell_type": "code",
   "execution_count": 31,
   "metadata": {},
   "outputs": [],
   "source": [
    "# подсчет количества СМС каждого пользователя за каждый месяц\n",
    "messages = messages.groupby(grouper).agg({'id': 'count'}).reset_index().rename(columns={\"id\": \"messages_quantity\"})\n",
    "messages['messages_quantity'] = messages['messages_quantity'].astype('int')"
   ]
  },
  {
   "cell_type": "markdown",
   "metadata": {},
   "source": [
    "Далее все таблицы постепенно объединяются в одну итоговую. Для этого используется метод .merge библиотеки pandas. Метод объединения - outer. При нем объединяются все значения, даже если некоторые из них есть только в одной таблице"
   ]
  },
  {
   "cell_type": "code",
   "execution_count": 32,
   "metadata": {},
   "outputs": [],
   "source": [
    "# объединение таблиц calls и internet методом merge \n",
    "data = calls.merge(internet, on = grouper, how = 'outer')"
   ]
  },
  {
   "cell_type": "code",
   "execution_count": 33,
   "metadata": {},
   "outputs": [],
   "source": [
    "# объединение таблиц data и messages методом merge \n",
    "data = data.merge(messages, on = grouper, how = 'outer')"
   ]
  },
  {
   "cell_type": "code",
   "execution_count": 34,
   "metadata": {},
   "outputs": [],
   "source": [
    "# объединение таблиц data и users методом merge \n",
    "data = data.merge(users, on = grouper[0], how = 'outer')"
   ]
  },
  {
   "cell_type": "markdown",
   "metadata": {},
   "source": [
    "<div class=\"alert alert-success\">\n",
    "<h2> Комментарий ревьюера ✔️ <a class=\"tocSkip\"> </h2>\n",
    "\n",
    "Молодец, что проводишь объединение задавая параметр `how='outer'`. Так мы не потеряем данные"
   ]
  },
  {
   "cell_type": "code",
   "execution_count": 35,
   "metadata": {},
   "outputs": [],
   "source": [
    "# переименовывание столбца для объединения\n",
    "tariffs['tariff'] = tariffs['tariff_name'].rename(columns={\"tariff\": \"tariff_name\"})"
   ]
  },
  {
   "cell_type": "code",
   "execution_count": 36,
   "metadata": {},
   "outputs": [],
   "source": [
    "# объединение таблиц data и tariffs методом merge \n",
    "data = data.merge(tariffs, on = 'tariff', how = 'outer')"
   ]
  },
  {
   "cell_type": "code",
   "execution_count": 37,
   "metadata": {},
   "outputs": [
    {
     "name": "stdout",
     "output_type": "stream",
     "text": [
      "<class 'pandas.core.frame.DataFrame'>\n",
      "Int64Index: 3216 entries, 0 to 3215\n",
      "Data columns (total 21 columns):\n",
      "user_id                  3216 non-null int64\n",
      "month                    3214 non-null float64\n",
      "calls_duration           3174 non-null float64\n",
      "calls_quantity           3174 non-null float64\n",
      "mb_used                  3203 non-null float64\n",
      "messages_quantity        2717 non-null float64\n",
      "age                      3216 non-null int64\n",
      "churn_date               3216 non-null datetime64[ns]\n",
      "city                     3216 non-null object\n",
      "first_name               3216 non-null object\n",
      "last_name                3216 non-null object\n",
      "reg_date                 3216 non-null datetime64[ns]\n",
      "tariff                   3216 non-null object\n",
      "messages_included        3216 non-null int64\n",
      "mb_per_month_included    3216 non-null int64\n",
      "minutes_included         3216 non-null int64\n",
      "rub_monthly_fee          3216 non-null int64\n",
      "rub_per_gb               3216 non-null int64\n",
      "rub_per_message          3216 non-null int64\n",
      "rub_per_minute           3216 non-null int64\n",
      "tariff_name              3216 non-null object\n",
      "dtypes: datetime64[ns](2), float64(5), int64(9), object(5)\n",
      "memory usage: 552.8+ KB\n"
     ]
    }
   ],
   "source": [
    "# вывод итоговой информации о таблице data\n",
    "data.info()"
   ]
  },
  {
   "cell_type": "code",
   "execution_count": 38,
   "metadata": {},
   "outputs": [
    {
     "data": {
      "text/html": [
       "<div>\n",
       "<style scoped>\n",
       "    .dataframe tbody tr th:only-of-type {\n",
       "        vertical-align: middle;\n",
       "    }\n",
       "\n",
       "    .dataframe tbody tr th {\n",
       "        vertical-align: top;\n",
       "    }\n",
       "\n",
       "    .dataframe thead th {\n",
       "        text-align: right;\n",
       "    }\n",
       "</style>\n",
       "<table border=\"1\" class=\"dataframe\">\n",
       "  <thead>\n",
       "    <tr style=\"text-align: right;\">\n",
       "      <th></th>\n",
       "      <th>user_id</th>\n",
       "      <th>month</th>\n",
       "      <th>calls_duration</th>\n",
       "      <th>calls_quantity</th>\n",
       "      <th>mb_used</th>\n",
       "      <th>messages_quantity</th>\n",
       "      <th>age</th>\n",
       "      <th>churn_date</th>\n",
       "      <th>city</th>\n",
       "      <th>first_name</th>\n",
       "      <th>...</th>\n",
       "      <th>reg_date</th>\n",
       "      <th>tariff</th>\n",
       "      <th>messages_included</th>\n",
       "      <th>mb_per_month_included</th>\n",
       "      <th>minutes_included</th>\n",
       "      <th>rub_monthly_fee</th>\n",
       "      <th>rub_per_gb</th>\n",
       "      <th>rub_per_message</th>\n",
       "      <th>rub_per_minute</th>\n",
       "      <th>tariff_name</th>\n",
       "    </tr>\n",
       "  </thead>\n",
       "  <tbody>\n",
       "    <tr>\n",
       "      <td>0</td>\n",
       "      <td>1000</td>\n",
       "      <td>5.0</td>\n",
       "      <td>159.0</td>\n",
       "      <td>22.0</td>\n",
       "      <td>2253.49</td>\n",
       "      <td>22.0</td>\n",
       "      <td>52</td>\n",
       "      <td>2069-12-06</td>\n",
       "      <td>Краснодар</td>\n",
       "      <td>Рафаил</td>\n",
       "      <td>...</td>\n",
       "      <td>2018-05-25</td>\n",
       "      <td>ultra</td>\n",
       "      <td>1000</td>\n",
       "      <td>30720</td>\n",
       "      <td>3000</td>\n",
       "      <td>1950</td>\n",
       "      <td>150</td>\n",
       "      <td>1</td>\n",
       "      <td>1</td>\n",
       "      <td>ultra</td>\n",
       "    </tr>\n",
       "    <tr>\n",
       "      <td>1</td>\n",
       "      <td>1000</td>\n",
       "      <td>6.0</td>\n",
       "      <td>172.0</td>\n",
       "      <td>43.0</td>\n",
       "      <td>23233.77</td>\n",
       "      <td>60.0</td>\n",
       "      <td>52</td>\n",
       "      <td>2069-12-06</td>\n",
       "      <td>Краснодар</td>\n",
       "      <td>Рафаил</td>\n",
       "      <td>...</td>\n",
       "      <td>2018-05-25</td>\n",
       "      <td>ultra</td>\n",
       "      <td>1000</td>\n",
       "      <td>30720</td>\n",
       "      <td>3000</td>\n",
       "      <td>1950</td>\n",
       "      <td>150</td>\n",
       "      <td>1</td>\n",
       "      <td>1</td>\n",
       "      <td>ultra</td>\n",
       "    </tr>\n",
       "    <tr>\n",
       "      <td>2</td>\n",
       "      <td>1000</td>\n",
       "      <td>7.0</td>\n",
       "      <td>340.0</td>\n",
       "      <td>47.0</td>\n",
       "      <td>14003.64</td>\n",
       "      <td>75.0</td>\n",
       "      <td>52</td>\n",
       "      <td>2069-12-06</td>\n",
       "      <td>Краснодар</td>\n",
       "      <td>Рафаил</td>\n",
       "      <td>...</td>\n",
       "      <td>2018-05-25</td>\n",
       "      <td>ultra</td>\n",
       "      <td>1000</td>\n",
       "      <td>30720</td>\n",
       "      <td>3000</td>\n",
       "      <td>1950</td>\n",
       "      <td>150</td>\n",
       "      <td>1</td>\n",
       "      <td>1</td>\n",
       "      <td>ultra</td>\n",
       "    </tr>\n",
       "    <tr>\n",
       "      <td>3</td>\n",
       "      <td>1000</td>\n",
       "      <td>8.0</td>\n",
       "      <td>408.0</td>\n",
       "      <td>52.0</td>\n",
       "      <td>14055.93</td>\n",
       "      <td>81.0</td>\n",
       "      <td>52</td>\n",
       "      <td>2069-12-06</td>\n",
       "      <td>Краснодар</td>\n",
       "      <td>Рафаил</td>\n",
       "      <td>...</td>\n",
       "      <td>2018-05-25</td>\n",
       "      <td>ultra</td>\n",
       "      <td>1000</td>\n",
       "      <td>30720</td>\n",
       "      <td>3000</td>\n",
       "      <td>1950</td>\n",
       "      <td>150</td>\n",
       "      <td>1</td>\n",
       "      <td>1</td>\n",
       "      <td>ultra</td>\n",
       "    </tr>\n",
       "    <tr>\n",
       "      <td>4</td>\n",
       "      <td>1000</td>\n",
       "      <td>9.0</td>\n",
       "      <td>466.0</td>\n",
       "      <td>58.0</td>\n",
       "      <td>14568.91</td>\n",
       "      <td>57.0</td>\n",
       "      <td>52</td>\n",
       "      <td>2069-12-06</td>\n",
       "      <td>Краснодар</td>\n",
       "      <td>Рафаил</td>\n",
       "      <td>...</td>\n",
       "      <td>2018-05-25</td>\n",
       "      <td>ultra</td>\n",
       "      <td>1000</td>\n",
       "      <td>30720</td>\n",
       "      <td>3000</td>\n",
       "      <td>1950</td>\n",
       "      <td>150</td>\n",
       "      <td>1</td>\n",
       "      <td>1</td>\n",
       "      <td>ultra</td>\n",
       "    </tr>\n",
       "  </tbody>\n",
       "</table>\n",
       "<p>5 rows × 21 columns</p>\n",
       "</div>"
      ],
      "text/plain": [
       "   user_id  month  calls_duration  calls_quantity   mb_used  \\\n",
       "0     1000    5.0           159.0            22.0   2253.49   \n",
       "1     1000    6.0           172.0            43.0  23233.77   \n",
       "2     1000    7.0           340.0            47.0  14003.64   \n",
       "3     1000    8.0           408.0            52.0  14055.93   \n",
       "4     1000    9.0           466.0            58.0  14568.91   \n",
       "\n",
       "   messages_quantity  age churn_date       city first_name  ...   reg_date  \\\n",
       "0               22.0   52 2069-12-06  Краснодар     Рафаил  ... 2018-05-25   \n",
       "1               60.0   52 2069-12-06  Краснодар     Рафаил  ... 2018-05-25   \n",
       "2               75.0   52 2069-12-06  Краснодар     Рафаил  ... 2018-05-25   \n",
       "3               81.0   52 2069-12-06  Краснодар     Рафаил  ... 2018-05-25   \n",
       "4               57.0   52 2069-12-06  Краснодар     Рафаил  ... 2018-05-25   \n",
       "\n",
       "  tariff messages_included  mb_per_month_included  minutes_included  \\\n",
       "0  ultra              1000                  30720              3000   \n",
       "1  ultra              1000                  30720              3000   \n",
       "2  ultra              1000                  30720              3000   \n",
       "3  ultra              1000                  30720              3000   \n",
       "4  ultra              1000                  30720              3000   \n",
       "\n",
       "   rub_monthly_fee  rub_per_gb  rub_per_message  rub_per_minute  tariff_name  \n",
       "0             1950         150                1               1        ultra  \n",
       "1             1950         150                1               1        ultra  \n",
       "2             1950         150                1               1        ultra  \n",
       "3             1950         150                1               1        ultra  \n",
       "4             1950         150                1               1        ultra  \n",
       "\n",
       "[5 rows x 21 columns]"
      ]
     },
     "execution_count": 38,
     "metadata": {},
     "output_type": "execute_result"
    }
   ],
   "source": [
    "# вывод первых 5 строк\n",
    "data.head()"
   ]
  },
  {
   "cell_type": "code",
   "execution_count": 39,
   "metadata": {
    "scrolled": true
   },
   "outputs": [
    {
     "data": {
      "text/plain": [
       "user_id                    0\n",
       "month                      2\n",
       "calls_duration            42\n",
       "calls_quantity            42\n",
       "mb_used                   13\n",
       "messages_quantity        499\n",
       "age                        0\n",
       "churn_date                 0\n",
       "city                       0\n",
       "first_name                 0\n",
       "last_name                  0\n",
       "reg_date                   0\n",
       "tariff                     0\n",
       "messages_included          0\n",
       "mb_per_month_included      0\n",
       "minutes_included           0\n",
       "rub_monthly_fee            0\n",
       "rub_per_gb                 0\n",
       "rub_per_message            0\n",
       "rub_per_minute             0\n",
       "tariff_name                0\n",
       "dtype: int64"
      ]
     },
     "execution_count": 39,
     "metadata": {},
     "output_type": "execute_result"
    }
   ],
   "source": [
    "# проверка на пропуски\n",
    "data.isna().sum()"
   ]
  },
  {
   "cell_type": "markdown",
   "metadata": {},
   "source": [
    "В столбце появилось 2 пропуска. Стоит посмотреть на строки их содержащие."
   ]
  },
  {
   "cell_type": "code",
   "execution_count": 40,
   "metadata": {
    "scrolled": true
   },
   "outputs": [
    {
     "data": {
      "text/html": [
       "<div>\n",
       "<style scoped>\n",
       "    .dataframe tbody tr th:only-of-type {\n",
       "        vertical-align: middle;\n",
       "    }\n",
       "\n",
       "    .dataframe tbody tr th {\n",
       "        vertical-align: top;\n",
       "    }\n",
       "\n",
       "    .dataframe thead th {\n",
       "        text-align: right;\n",
       "    }\n",
       "</style>\n",
       "<table border=\"1\" class=\"dataframe\">\n",
       "  <thead>\n",
       "    <tr style=\"text-align: right;\">\n",
       "      <th></th>\n",
       "      <th>user_id</th>\n",
       "      <th>month</th>\n",
       "      <th>calls_duration</th>\n",
       "      <th>calls_quantity</th>\n",
       "      <th>mb_used</th>\n",
       "      <th>messages_quantity</th>\n",
       "      <th>age</th>\n",
       "      <th>churn_date</th>\n",
       "      <th>city</th>\n",
       "      <th>first_name</th>\n",
       "      <th>...</th>\n",
       "      <th>reg_date</th>\n",
       "      <th>tariff</th>\n",
       "      <th>messages_included</th>\n",
       "      <th>mb_per_month_included</th>\n",
       "      <th>minutes_included</th>\n",
       "      <th>rub_monthly_fee</th>\n",
       "      <th>rub_per_gb</th>\n",
       "      <th>rub_per_message</th>\n",
       "      <th>rub_per_minute</th>\n",
       "      <th>tariff_name</th>\n",
       "    </tr>\n",
       "  </thead>\n",
       "  <tbody>\n",
       "    <tr>\n",
       "      <td>985</td>\n",
       "      <td>1128</td>\n",
       "      <td>NaN</td>\n",
       "      <td>NaN</td>\n",
       "      <td>NaN</td>\n",
       "      <td>NaN</td>\n",
       "      <td>NaN</td>\n",
       "      <td>51</td>\n",
       "      <td>2018-12-23</td>\n",
       "      <td>Волжский</td>\n",
       "      <td>Ксения</td>\n",
       "      <td>...</td>\n",
       "      <td>2018-12-15</td>\n",
       "      <td>ultra</td>\n",
       "      <td>1000</td>\n",
       "      <td>30720</td>\n",
       "      <td>3000</td>\n",
       "      <td>1950</td>\n",
       "      <td>150</td>\n",
       "      <td>1</td>\n",
       "      <td>1</td>\n",
       "      <td>ultra</td>\n",
       "    </tr>\n",
       "    <tr>\n",
       "      <td>3215</td>\n",
       "      <td>1371</td>\n",
       "      <td>NaN</td>\n",
       "      <td>NaN</td>\n",
       "      <td>NaN</td>\n",
       "      <td>NaN</td>\n",
       "      <td>NaN</td>\n",
       "      <td>50</td>\n",
       "      <td>2018-12-30</td>\n",
       "      <td>Омск</td>\n",
       "      <td>Ириней</td>\n",
       "      <td>...</td>\n",
       "      <td>2018-12-25</td>\n",
       "      <td>smart</td>\n",
       "      <td>50</td>\n",
       "      <td>15360</td>\n",
       "      <td>500</td>\n",
       "      <td>550</td>\n",
       "      <td>200</td>\n",
       "      <td>3</td>\n",
       "      <td>3</td>\n",
       "      <td>smart</td>\n",
       "    </tr>\n",
       "  </tbody>\n",
       "</table>\n",
       "<p>2 rows × 21 columns</p>\n",
       "</div>"
      ],
      "text/plain": [
       "      user_id  month  calls_duration  calls_quantity  mb_used  \\\n",
       "985      1128    NaN             NaN             NaN      NaN   \n",
       "3215     1371    NaN             NaN             NaN      NaN   \n",
       "\n",
       "      messages_quantity  age churn_date      city first_name  ...   reg_date  \\\n",
       "985                 NaN   51 2018-12-23  Волжский     Ксения  ... 2018-12-15   \n",
       "3215                NaN   50 2018-12-30      Омск     Ириней  ... 2018-12-25   \n",
       "\n",
       "     tariff messages_included  mb_per_month_included  minutes_included  \\\n",
       "985   ultra              1000                  30720              3000   \n",
       "3215  smart                50                  15360               500   \n",
       "\n",
       "      rub_monthly_fee  rub_per_gb  rub_per_message  rub_per_minute  \\\n",
       "985              1950         150                1               1   \n",
       "3215              550         200                3               3   \n",
       "\n",
       "      tariff_name  \n",
       "985         ultra  \n",
       "3215        smart  \n",
       "\n",
       "[2 rows x 21 columns]"
      ]
     },
     "metadata": {},
     "output_type": "display_data"
    }
   ],
   "source": [
    "display(data[data['month'].isna()])"
   ]
  },
  {
   "cell_type": "markdown",
   "metadata": {},
   "source": [
    "Судя по датам, эти клиенты подключили тариф и по прошествии 5(7) дней отключились от него. Таких строк всего 2, стоит от них избавиться."
   ]
  },
  {
   "cell_type": "code",
   "execution_count": 41,
   "metadata": {},
   "outputs": [],
   "source": [
    "data = data.dropna(subset = ['month'])"
   ]
  },
  {
   "cell_type": "markdown",
   "metadata": {},
   "source": [
    "<div class=\"alert alert-success\">\n",
    "<h2> Комментарий ревьюера ✔️ <a class=\"tocSkip\"> </h2>\n",
    "\n",
    "Согласен с решением"
   ]
  },
  {
   "cell_type": "markdown",
   "metadata": {},
   "source": [
    "Оставшиеся пропуски появились из-за того что объединение происходило способом `outer`. Какие-то пользователи не отправляли СМС или не звонили. Информации об этом в изначальных таблицах нет, в итоговой она отображена в NaN. Пропуски можно заполнить нулями."
   ]
  },
  {
   "cell_type": "code",
   "execution_count": 42,
   "metadata": {},
   "outputs": [],
   "source": [
    "# применение метода .fillna ко всему датасету\n",
    "data = data.fillna(0)"
   ]
  },
  {
   "cell_type": "markdown",
   "metadata": {},
   "source": [
    "<div class=\"alert alert-success\">\n",
    "<h2> Комментарий ревьюера ✔️ <a class=\"tocSkip\"> </h2>\n",
    "\n",
    "Все верно, обработка пропусков важна на данном этапе"
   ]
  },
  {
   "cell_type": "markdown",
   "metadata": {},
   "source": [
    "Далее надо заменить типы данных в столбцах с `float` на `int` для удобства вычислений. А также с учетом того что Мегалайн округляет дробные значения до большего целого."
   ]
  },
  {
   "cell_type": "code",
   "execution_count": 43,
   "metadata": {},
   "outputs": [],
   "source": [
    "# замена типов данных в некоторых столбцах\n",
    "data = data.astype({'month':'int',\n",
    "                    'calls_duration':'int',\n",
    "                    'calls_quantity':'int',\n",
    "                    'mb_used':'int',\n",
    "                    'messages_quantity':'int'})"
   ]
  },
  {
   "cell_type": "markdown",
   "metadata": {},
   "source": [
    "<div class=\"alert alert-warning\">\n",
    "<h2> Комментарий ревьюера ⚠️ <a class=\"tocSkip\"> </h2>\n",
    "\n",
    "Классное решение с применением цикла! По mb_used я бы конечно оставил как есть, ведь дальше мы округляем до Гб, т.е наше значение будет меньше"
   ]
  },
  {
   "cell_type": "code",
   "execution_count": 44,
   "metadata": {},
   "outputs": [
    {
     "name": "stdout",
     "output_type": "stream",
     "text": [
      "<class 'pandas.core.frame.DataFrame'>\n",
      "Int64Index: 3214 entries, 0 to 3214\n",
      "Data columns (total 21 columns):\n",
      "user_id                  3214 non-null int64\n",
      "month                    3214 non-null int64\n",
      "calls_duration           3214 non-null int64\n",
      "calls_quantity           3214 non-null int64\n",
      "mb_used                  3214 non-null int64\n",
      "messages_quantity        3214 non-null int64\n",
      "age                      3214 non-null int64\n",
      "churn_date               3214 non-null datetime64[ns]\n",
      "city                     3214 non-null object\n",
      "first_name               3214 non-null object\n",
      "last_name                3214 non-null object\n",
      "reg_date                 3214 non-null datetime64[ns]\n",
      "tariff                   3214 non-null object\n",
      "messages_included        3214 non-null int64\n",
      "mb_per_month_included    3214 non-null int64\n",
      "minutes_included         3214 non-null int64\n",
      "rub_monthly_fee          3214 non-null int64\n",
      "rub_per_gb               3214 non-null int64\n",
      "rub_per_message          3214 non-null int64\n",
      "rub_per_minute           3214 non-null int64\n",
      "tariff_name              3214 non-null object\n",
      "dtypes: datetime64[ns](2), int64(14), object(5)\n",
      "memory usage: 552.4+ KB\n"
     ]
    }
   ],
   "source": [
    "# итоговая проверка\n",
    "data.info()"
   ]
  },
  {
   "cell_type": "markdown",
   "metadata": {},
   "source": [
    "<div style=\"border:solid purple 5px; padding: 20px\"> \n",
    "<h2 align=\"center\"> Рубрика «Питонячий лайфхакер» <a class=\"tocSkip\"> </h2>\n",
    "\n",
    "<h3> Широкоформатный Jupyter <a class=\"tocSkip\"> </h3>\n",
    "\n",
    "Расширяем границы, или как сделать работу более комфортной (не всем нравится 😄)\n",
    "\n",
    "    from IPython.core.display import display, HTML\n",
    "    display(HTML(\"<style>.container { width:90% !important; }</style>\"))"
   ]
  },
  {
   "cell_type": "code",
   "execution_count": 45,
   "metadata": {},
   "outputs": [
    {
     "data": {
      "text/html": [
       "<div>\n",
       "<style scoped>\n",
       "    .dataframe tbody tr th:only-of-type {\n",
       "        vertical-align: middle;\n",
       "    }\n",
       "\n",
       "    .dataframe tbody tr th {\n",
       "        vertical-align: top;\n",
       "    }\n",
       "\n",
       "    .dataframe thead th {\n",
       "        text-align: right;\n",
       "    }\n",
       "</style>\n",
       "<table border=\"1\" class=\"dataframe\">\n",
       "  <thead>\n",
       "    <tr style=\"text-align: right;\">\n",
       "      <th></th>\n",
       "      <th>user_id</th>\n",
       "      <th>month</th>\n",
       "      <th>calls_duration</th>\n",
       "      <th>calls_quantity</th>\n",
       "      <th>mb_used</th>\n",
       "      <th>messages_quantity</th>\n",
       "      <th>age</th>\n",
       "      <th>churn_date</th>\n",
       "      <th>city</th>\n",
       "      <th>first_name</th>\n",
       "      <th>...</th>\n",
       "      <th>reg_date</th>\n",
       "      <th>tariff</th>\n",
       "      <th>messages_included</th>\n",
       "      <th>mb_per_month_included</th>\n",
       "      <th>minutes_included</th>\n",
       "      <th>rub_monthly_fee</th>\n",
       "      <th>rub_per_gb</th>\n",
       "      <th>rub_per_message</th>\n",
       "      <th>rub_per_minute</th>\n",
       "      <th>tariff_name</th>\n",
       "    </tr>\n",
       "  </thead>\n",
       "  <tbody>\n",
       "    <tr>\n",
       "      <td>0</td>\n",
       "      <td>1000</td>\n",
       "      <td>5</td>\n",
       "      <td>159</td>\n",
       "      <td>22</td>\n",
       "      <td>2253</td>\n",
       "      <td>22</td>\n",
       "      <td>52</td>\n",
       "      <td>2069-12-06</td>\n",
       "      <td>Краснодар</td>\n",
       "      <td>Рафаил</td>\n",
       "      <td>...</td>\n",
       "      <td>2018-05-25</td>\n",
       "      <td>ultra</td>\n",
       "      <td>1000</td>\n",
       "      <td>30720</td>\n",
       "      <td>3000</td>\n",
       "      <td>1950</td>\n",
       "      <td>150</td>\n",
       "      <td>1</td>\n",
       "      <td>1</td>\n",
       "      <td>ultra</td>\n",
       "    </tr>\n",
       "    <tr>\n",
       "      <td>1</td>\n",
       "      <td>1000</td>\n",
       "      <td>6</td>\n",
       "      <td>172</td>\n",
       "      <td>43</td>\n",
       "      <td>23233</td>\n",
       "      <td>60</td>\n",
       "      <td>52</td>\n",
       "      <td>2069-12-06</td>\n",
       "      <td>Краснодар</td>\n",
       "      <td>Рафаил</td>\n",
       "      <td>...</td>\n",
       "      <td>2018-05-25</td>\n",
       "      <td>ultra</td>\n",
       "      <td>1000</td>\n",
       "      <td>30720</td>\n",
       "      <td>3000</td>\n",
       "      <td>1950</td>\n",
       "      <td>150</td>\n",
       "      <td>1</td>\n",
       "      <td>1</td>\n",
       "      <td>ultra</td>\n",
       "    </tr>\n",
       "    <tr>\n",
       "      <td>2</td>\n",
       "      <td>1000</td>\n",
       "      <td>7</td>\n",
       "      <td>340</td>\n",
       "      <td>47</td>\n",
       "      <td>14003</td>\n",
       "      <td>75</td>\n",
       "      <td>52</td>\n",
       "      <td>2069-12-06</td>\n",
       "      <td>Краснодар</td>\n",
       "      <td>Рафаил</td>\n",
       "      <td>...</td>\n",
       "      <td>2018-05-25</td>\n",
       "      <td>ultra</td>\n",
       "      <td>1000</td>\n",
       "      <td>30720</td>\n",
       "      <td>3000</td>\n",
       "      <td>1950</td>\n",
       "      <td>150</td>\n",
       "      <td>1</td>\n",
       "      <td>1</td>\n",
       "      <td>ultra</td>\n",
       "    </tr>\n",
       "    <tr>\n",
       "      <td>3</td>\n",
       "      <td>1000</td>\n",
       "      <td>8</td>\n",
       "      <td>408</td>\n",
       "      <td>52</td>\n",
       "      <td>14055</td>\n",
       "      <td>81</td>\n",
       "      <td>52</td>\n",
       "      <td>2069-12-06</td>\n",
       "      <td>Краснодар</td>\n",
       "      <td>Рафаил</td>\n",
       "      <td>...</td>\n",
       "      <td>2018-05-25</td>\n",
       "      <td>ultra</td>\n",
       "      <td>1000</td>\n",
       "      <td>30720</td>\n",
       "      <td>3000</td>\n",
       "      <td>1950</td>\n",
       "      <td>150</td>\n",
       "      <td>1</td>\n",
       "      <td>1</td>\n",
       "      <td>ultra</td>\n",
       "    </tr>\n",
       "    <tr>\n",
       "      <td>4</td>\n",
       "      <td>1000</td>\n",
       "      <td>9</td>\n",
       "      <td>466</td>\n",
       "      <td>58</td>\n",
       "      <td>14568</td>\n",
       "      <td>57</td>\n",
       "      <td>52</td>\n",
       "      <td>2069-12-06</td>\n",
       "      <td>Краснодар</td>\n",
       "      <td>Рафаил</td>\n",
       "      <td>...</td>\n",
       "      <td>2018-05-25</td>\n",
       "      <td>ultra</td>\n",
       "      <td>1000</td>\n",
       "      <td>30720</td>\n",
       "      <td>3000</td>\n",
       "      <td>1950</td>\n",
       "      <td>150</td>\n",
       "      <td>1</td>\n",
       "      <td>1</td>\n",
       "      <td>ultra</td>\n",
       "    </tr>\n",
       "  </tbody>\n",
       "</table>\n",
       "<p>5 rows × 21 columns</p>\n",
       "</div>"
      ],
      "text/plain": [
       "   user_id  month  calls_duration  calls_quantity  mb_used  messages_quantity  \\\n",
       "0     1000      5             159              22     2253                 22   \n",
       "1     1000      6             172              43    23233                 60   \n",
       "2     1000      7             340              47    14003                 75   \n",
       "3     1000      8             408              52    14055                 81   \n",
       "4     1000      9             466              58    14568                 57   \n",
       "\n",
       "   age churn_date       city first_name  ...   reg_date tariff  \\\n",
       "0   52 2069-12-06  Краснодар     Рафаил  ... 2018-05-25  ultra   \n",
       "1   52 2069-12-06  Краснодар     Рафаил  ... 2018-05-25  ultra   \n",
       "2   52 2069-12-06  Краснодар     Рафаил  ... 2018-05-25  ultra   \n",
       "3   52 2069-12-06  Краснодар     Рафаил  ... 2018-05-25  ultra   \n",
       "4   52 2069-12-06  Краснодар     Рафаил  ... 2018-05-25  ultra   \n",
       "\n",
       "  messages_included  mb_per_month_included  minutes_included  rub_monthly_fee  \\\n",
       "0              1000                  30720              3000             1950   \n",
       "1              1000                  30720              3000             1950   \n",
       "2              1000                  30720              3000             1950   \n",
       "3              1000                  30720              3000             1950   \n",
       "4              1000                  30720              3000             1950   \n",
       "\n",
       "   rub_per_gb  rub_per_message  rub_per_minute  tariff_name  \n",
       "0         150                1               1        ultra  \n",
       "1         150                1               1        ultra  \n",
       "2         150                1               1        ultra  \n",
       "3         150                1               1        ultra  \n",
       "4         150                1               1        ultra  \n",
       "\n",
       "[5 rows x 21 columns]"
      ]
     },
     "execution_count": 45,
     "metadata": {},
     "output_type": "execute_result"
    }
   ],
   "source": [
    "# вывод первых 5 строк итоговой таблицы\n",
    "data.head()"
   ]
  },
  {
   "cell_type": "markdown",
   "metadata": {},
   "source": [
    "### Помесячная выручка с каждого пользователя\n",
    "\n",
    "(вычтите бесплатный лимит из суммарного количества звонков, сообщений и интернет-трафика; остаток умножьте на значение из тарифного плана; прибавьте абонентскую плату, соответствующую тарифному плану)"
   ]
  },
  {
   "cell_type": "markdown",
   "metadata": {},
   "source": [
    "Сначала надо добавить столбец с количеством гигабайтов, израсходованных каждым пользователем с округлением дробных чисел до большего целого."
   ]
  },
  {
   "cell_type": "code",
   "execution_count": 46,
   "metadata": {},
   "outputs": [],
   "source": [
    "# добавление столбца с переводом мегабайтов в гигабайты\n",
    "data['gb_used'] = (data['mb_used']/1024).apply(np.ceil).astype('int')"
   ]
  },
  {
   "cell_type": "code",
   "execution_count": 47,
   "metadata": {},
   "outputs": [],
   "source": [
    "# добавление столбца с общим числом потраченных минут\n",
    "data['minutes_total'] = data['calls_duration']"
   ]
  },
  {
   "cell_type": "code",
   "execution_count": 48,
   "metadata": {},
   "outputs": [
    {
     "name": "stdout",
     "output_type": "stream",
     "text": [
      "<class 'pandas.core.frame.DataFrame'>\n",
      "Int64Index: 3214 entries, 0 to 3214\n",
      "Data columns (total 23 columns):\n",
      "user_id                  3214 non-null int64\n",
      "month                    3214 non-null int64\n",
      "calls_duration           3214 non-null int64\n",
      "calls_quantity           3214 non-null int64\n",
      "mb_used                  3214 non-null int64\n",
      "messages_quantity        3214 non-null int64\n",
      "age                      3214 non-null int64\n",
      "churn_date               3214 non-null datetime64[ns]\n",
      "city                     3214 non-null object\n",
      "first_name               3214 non-null object\n",
      "last_name                3214 non-null object\n",
      "reg_date                 3214 non-null datetime64[ns]\n",
      "tariff                   3214 non-null object\n",
      "messages_included        3214 non-null int64\n",
      "mb_per_month_included    3214 non-null int64\n",
      "minutes_included         3214 non-null int64\n",
      "rub_monthly_fee          3214 non-null int64\n",
      "rub_per_gb               3214 non-null int64\n",
      "rub_per_message          3214 non-null int64\n",
      "rub_per_minute           3214 non-null int64\n",
      "tariff_name              3214 non-null object\n",
      "gb_used                  3214 non-null int64\n",
      "minutes_total            3214 non-null int64\n",
      "dtypes: datetime64[ns](2), int64(16), object(5)\n",
      "memory usage: 602.6+ KB\n"
     ]
    }
   ],
   "source": [
    "data.info()"
   ]
  },
  {
   "cell_type": "code",
   "execution_count": 49,
   "metadata": {},
   "outputs": [],
   "source": [
    "# функция вычисления помесячной выручки с каждого пользователя\n",
    "def get_month_income(df):\n",
    "    minutes_over = (df['minutes_total'] - df['minutes_included']) * df['rub_per_minute']\n",
    "    messages_over = (df['messages_quantity'] - df['messages_included']) * df['rub_per_message']\n",
    "    gb_over = (df['gb_used'] - df['mb_per_month_included']/1024) * df['rub_per_gb']\n",
    " \n",
    "    if minutes_over < 0:\n",
    "        minutes_over = 0\n",
    "    if messages_over < 0:\n",
    "        messages_over = 0\n",
    "    if gb_over < 0:\n",
    "        gb_over = 0\n",
    "    month_income = minutes_over + messages_over + gb_over + df['rub_monthly_fee']\n",
    "    return month_income"
   ]
  },
  {
   "cell_type": "markdown",
   "metadata": {},
   "source": [
    "<div class=\"alert alert-success\">\n",
    "<h2> Комментарий ревьюера ✔️ <a class=\"tocSkip\"> </h2>\n",
    "\n",
    "Шикарная реализация!"
   ]
  },
  {
   "cell_type": "code",
   "execution_count": 50,
   "metadata": {},
   "outputs": [],
   "source": [
    "# вычисление помесячной выручки с каждого пользователя\n",
    "data['month_income'] = data.apply(get_month_income, axis = 1).astype('int')"
   ]
  },
  {
   "cell_type": "code",
   "execution_count": 51,
   "metadata": {},
   "outputs": [
    {
     "data": {
      "text/html": [
       "<div>\n",
       "<style scoped>\n",
       "    .dataframe tbody tr th:only-of-type {\n",
       "        vertical-align: middle;\n",
       "    }\n",
       "\n",
       "    .dataframe tbody tr th {\n",
       "        vertical-align: top;\n",
       "    }\n",
       "\n",
       "    .dataframe thead th {\n",
       "        text-align: right;\n",
       "    }\n",
       "</style>\n",
       "<table border=\"1\" class=\"dataframe\">\n",
       "  <thead>\n",
       "    <tr style=\"text-align: right;\">\n",
       "      <th></th>\n",
       "      <th>user_id</th>\n",
       "      <th>month</th>\n",
       "      <th>calls_duration</th>\n",
       "      <th>calls_quantity</th>\n",
       "      <th>mb_used</th>\n",
       "      <th>messages_quantity</th>\n",
       "      <th>age</th>\n",
       "      <th>churn_date</th>\n",
       "      <th>city</th>\n",
       "      <th>first_name</th>\n",
       "      <th>...</th>\n",
       "      <th>mb_per_month_included</th>\n",
       "      <th>minutes_included</th>\n",
       "      <th>rub_monthly_fee</th>\n",
       "      <th>rub_per_gb</th>\n",
       "      <th>rub_per_message</th>\n",
       "      <th>rub_per_minute</th>\n",
       "      <th>tariff_name</th>\n",
       "      <th>gb_used</th>\n",
       "      <th>minutes_total</th>\n",
       "      <th>month_income</th>\n",
       "    </tr>\n",
       "  </thead>\n",
       "  <tbody>\n",
       "    <tr>\n",
       "      <td>0</td>\n",
       "      <td>1000</td>\n",
       "      <td>5</td>\n",
       "      <td>159</td>\n",
       "      <td>22</td>\n",
       "      <td>2253</td>\n",
       "      <td>22</td>\n",
       "      <td>52</td>\n",
       "      <td>2069-12-06</td>\n",
       "      <td>Краснодар</td>\n",
       "      <td>Рафаил</td>\n",
       "      <td>...</td>\n",
       "      <td>30720</td>\n",
       "      <td>3000</td>\n",
       "      <td>1950</td>\n",
       "      <td>150</td>\n",
       "      <td>1</td>\n",
       "      <td>1</td>\n",
       "      <td>ultra</td>\n",
       "      <td>3</td>\n",
       "      <td>159</td>\n",
       "      <td>1950</td>\n",
       "    </tr>\n",
       "    <tr>\n",
       "      <td>1</td>\n",
       "      <td>1000</td>\n",
       "      <td>6</td>\n",
       "      <td>172</td>\n",
       "      <td>43</td>\n",
       "      <td>23233</td>\n",
       "      <td>60</td>\n",
       "      <td>52</td>\n",
       "      <td>2069-12-06</td>\n",
       "      <td>Краснодар</td>\n",
       "      <td>Рафаил</td>\n",
       "      <td>...</td>\n",
       "      <td>30720</td>\n",
       "      <td>3000</td>\n",
       "      <td>1950</td>\n",
       "      <td>150</td>\n",
       "      <td>1</td>\n",
       "      <td>1</td>\n",
       "      <td>ultra</td>\n",
       "      <td>23</td>\n",
       "      <td>172</td>\n",
       "      <td>1950</td>\n",
       "    </tr>\n",
       "    <tr>\n",
       "      <td>2</td>\n",
       "      <td>1000</td>\n",
       "      <td>7</td>\n",
       "      <td>340</td>\n",
       "      <td>47</td>\n",
       "      <td>14003</td>\n",
       "      <td>75</td>\n",
       "      <td>52</td>\n",
       "      <td>2069-12-06</td>\n",
       "      <td>Краснодар</td>\n",
       "      <td>Рафаил</td>\n",
       "      <td>...</td>\n",
       "      <td>30720</td>\n",
       "      <td>3000</td>\n",
       "      <td>1950</td>\n",
       "      <td>150</td>\n",
       "      <td>1</td>\n",
       "      <td>1</td>\n",
       "      <td>ultra</td>\n",
       "      <td>14</td>\n",
       "      <td>340</td>\n",
       "      <td>1950</td>\n",
       "    </tr>\n",
       "    <tr>\n",
       "      <td>3</td>\n",
       "      <td>1000</td>\n",
       "      <td>8</td>\n",
       "      <td>408</td>\n",
       "      <td>52</td>\n",
       "      <td>14055</td>\n",
       "      <td>81</td>\n",
       "      <td>52</td>\n",
       "      <td>2069-12-06</td>\n",
       "      <td>Краснодар</td>\n",
       "      <td>Рафаил</td>\n",
       "      <td>...</td>\n",
       "      <td>30720</td>\n",
       "      <td>3000</td>\n",
       "      <td>1950</td>\n",
       "      <td>150</td>\n",
       "      <td>1</td>\n",
       "      <td>1</td>\n",
       "      <td>ultra</td>\n",
       "      <td>14</td>\n",
       "      <td>408</td>\n",
       "      <td>1950</td>\n",
       "    </tr>\n",
       "    <tr>\n",
       "      <td>4</td>\n",
       "      <td>1000</td>\n",
       "      <td>9</td>\n",
       "      <td>466</td>\n",
       "      <td>58</td>\n",
       "      <td>14568</td>\n",
       "      <td>57</td>\n",
       "      <td>52</td>\n",
       "      <td>2069-12-06</td>\n",
       "      <td>Краснодар</td>\n",
       "      <td>Рафаил</td>\n",
       "      <td>...</td>\n",
       "      <td>30720</td>\n",
       "      <td>3000</td>\n",
       "      <td>1950</td>\n",
       "      <td>150</td>\n",
       "      <td>1</td>\n",
       "      <td>1</td>\n",
       "      <td>ultra</td>\n",
       "      <td>15</td>\n",
       "      <td>466</td>\n",
       "      <td>1950</td>\n",
       "    </tr>\n",
       "  </tbody>\n",
       "</table>\n",
       "<p>5 rows × 24 columns</p>\n",
       "</div>"
      ],
      "text/plain": [
       "   user_id  month  calls_duration  calls_quantity  mb_used  messages_quantity  \\\n",
       "0     1000      5             159              22     2253                 22   \n",
       "1     1000      6             172              43    23233                 60   \n",
       "2     1000      7             340              47    14003                 75   \n",
       "3     1000      8             408              52    14055                 81   \n",
       "4     1000      9             466              58    14568                 57   \n",
       "\n",
       "   age churn_date       city first_name  ... mb_per_month_included  \\\n",
       "0   52 2069-12-06  Краснодар     Рафаил  ...                 30720   \n",
       "1   52 2069-12-06  Краснодар     Рафаил  ...                 30720   \n",
       "2   52 2069-12-06  Краснодар     Рафаил  ...                 30720   \n",
       "3   52 2069-12-06  Краснодар     Рафаил  ...                 30720   \n",
       "4   52 2069-12-06  Краснодар     Рафаил  ...                 30720   \n",
       "\n",
       "  minutes_included rub_monthly_fee  rub_per_gb  rub_per_message  \\\n",
       "0             3000            1950         150                1   \n",
       "1             3000            1950         150                1   \n",
       "2             3000            1950         150                1   \n",
       "3             3000            1950         150                1   \n",
       "4             3000            1950         150                1   \n",
       "\n",
       "   rub_per_minute  tariff_name  gb_used  minutes_total  month_income  \n",
       "0               1        ultra        3            159          1950  \n",
       "1               1        ultra       23            172          1950  \n",
       "2               1        ultra       14            340          1950  \n",
       "3               1        ultra       14            408          1950  \n",
       "4               1        ultra       15            466          1950  \n",
       "\n",
       "[5 rows x 24 columns]"
      ]
     },
     "execution_count": 51,
     "metadata": {},
     "output_type": "execute_result"
    }
   ],
   "source": [
    "# проверка\n",
    "data.head()"
   ]
  },
  {
   "cell_type": "markdown",
   "metadata": {},
   "source": [
    "### Вывод"
   ]
  },
  {
   "cell_type": "markdown",
   "metadata": {},
   "source": [
    "Данные обработаны и готовы к дальнейшему анализу."
   ]
  },
  {
   "cell_type": "markdown",
   "metadata": {},
   "source": [
    "## Исследовательский анализ данных"
   ]
  },
  {
   "cell_type": "markdown",
   "metadata": {},
   "source": [
    "- сколько минут разговора требуется пользователям каждого тарифа в месяц, \n",
    "- сколько сообщений требуется пользователям каждого тарифа в месяц;\n",
    "- какой объём интернет-трафика требуется пользователям каждого тарифа в месяц;\n",
    "- подсчитано среднее количество, дисперсия и стандартное отклонение; \n",
    "- построены гистограммы, описаны распределения;"
   ]
  },
  {
   "cell_type": "code",
   "execution_count": 52,
   "metadata": {
    "scrolled": true
   },
   "outputs": [
    {
     "data": {
      "image/png": "[encoded data removed]",
      "text/plain": [
       "<Figure size 720x504 with 1 Axes>"
      ]
     },
     "metadata": {
      "needs_background": "light"
     },
     "output_type": "display_data"
    },
    {
     "data": {
      "image/png": "[encoded data removed]",
      "text/plain": [
       "<Figure size 720x504 with 1 Axes>"
      ]
     },
     "metadata": {
      "needs_background": "light"
     },
     "output_type": "display_data"
    },
    {
     "data": {
      "image/png": "[encoded data removed]",
      "text/plain": [
       "<Figure size 720x504 with 1 Axes>"
      ]
     },
     "metadata": {
      "needs_background": "light"
     },
     "output_type": "display_data"
    },
    {
     "data": {
      "image/png": "[encoded data removed]",
      "text/plain": [
       "<Figure size 720x504 with 1 Axes>"
      ]
     },
     "metadata": {
      "needs_background": "light"
     },
     "output_type": "display_data"
    }
   ],
   "source": [
    "columns_to_research = ['minutes_total', 'messages_quantity', 'gb_used', 'month_income']\n",
    "tariffs = ['smart', 'ultra']\n",
    "for col in columns_to_research:\n",
    "        data.loc[data.loc[:,'tariff'] == tariffs[0]][col].plot(kind = 'hist',\n",
    "                                                            bins = 30,\n",
    "                                                            label = 'smart', \n",
    "                                                            figsize = (10,7))\n",
    "        data.loc[data.loc[:,'tariff'] == tariffs[1]][col].plot(kind = 'hist',\n",
    "                                                             bins = 30,\n",
    "                                                             alpha =0.6,\n",
    "                                                             label = 'ultra',\n",
    "                                                             figsize = (10,7))\n",
    "        plt.title(col)\n",
    "        plt.legend()\n",
    "        plt.grid()\n",
    "        plt.show()    "
   ]
  },
  {
   "cell_type": "markdown",
   "metadata": {},
   "source": [
    "<div class=\"alert alert-success\">\n",
    "<h2> Комментарий ревьюера ✔️ <a class=\"tocSkip\"> </h2>\n",
    "\n",
    "Круууууто! Я бы еще сетку добавил) Кстати, если тебе поднадоел стандартный `matplotlib`, попробуй пострить графики с помощью [plotly](https://plotly.github.io/plotly.py-docs/generated/plotly.express.histogram.html)"
   ]
  },
  {
   "cell_type": "markdown",
   "metadata": {},
   "source": [
    "Графики для значений с тарифом `ultra` в большинстве скошены вправо гистограммы скошены вправо, а в тарифе smart гистограммы скошены влево."
   ]
  },
  {
   "cell_type": "code",
   "execution_count": 53,
   "metadata": {},
   "outputs": [
    {
     "data": {
      "text/html": [
       "<style  type=\"text/css\" >\n",
       "</style><table id=\"T_57e9b2c6_583b_11ec_b187_02420a391e24\" ><thead>    <tr>        <th class=\"blank\" ></th>        <th class=\"index_name level0\" >tariff</th>        <th class=\"col_heading level0 col0\" >smart</th>        <th class=\"col_heading level0 col1\" >ultra</th>    </tr></thead><tbody>\n",
       "                <tr>\n",
       "                        <th id=\"T_57e9b2c6_583b_11ec_b187_02420a391e24level0_row0\" class=\"row_heading level0 row0\" rowspan=4>mean</th>\n",
       "                        <th id=\"T_57e9b2c6_583b_11ec_b187_02420a391e24level1_row0\" class=\"row_heading level1 row0\" >gb_used</th>\n",
       "                        <td id=\"T_57e9b2c6_583b_11ec_b187_02420a391e24row0_col0\" class=\"data row0 col0\" >16.33</td>\n",
       "                        <td id=\"T_57e9b2c6_583b_11ec_b187_02420a391e24row0_col1\" class=\"data row0 col1\" >19.49</td>\n",
       "            </tr>\n",
       "            <tr>\n",
       "                                <th id=\"T_57e9b2c6_583b_11ec_b187_02420a391e24level1_row1\" class=\"row_heading level1 row1\" >messages_quantity</th>\n",
       "                        <td id=\"T_57e9b2c6_583b_11ec_b187_02420a391e24row1_col0\" class=\"data row1 col0\" >33.38</td>\n",
       "                        <td id=\"T_57e9b2c6_583b_11ec_b187_02420a391e24row1_col1\" class=\"data row1 col1\" >49.36</td>\n",
       "            </tr>\n",
       "            <tr>\n",
       "                                <th id=\"T_57e9b2c6_583b_11ec_b187_02420a391e24level1_row2\" class=\"row_heading level1 row2\" >minutes_total</th>\n",
       "                        <td id=\"T_57e9b2c6_583b_11ec_b187_02420a391e24row2_col0\" class=\"data row2 col0\" >417.93</td>\n",
       "                        <td id=\"T_57e9b2c6_583b_11ec_b187_02420a391e24row2_col1\" class=\"data row2 col1\" >526.62</td>\n",
       "            </tr>\n",
       "            <tr>\n",
       "                                <th id=\"T_57e9b2c6_583b_11ec_b187_02420a391e24level1_row3\" class=\"row_heading level1 row3\" >month_income</th>\n",
       "                        <td id=\"T_57e9b2c6_583b_11ec_b187_02420a391e24row3_col0\" class=\"data row3 col0\" >1289.97</td>\n",
       "                        <td id=\"T_57e9b2c6_583b_11ec_b187_02420a391e24row3_col1\" class=\"data row3 col1\" >2070.15</td>\n",
       "            </tr>\n",
       "            <tr>\n",
       "                        <th id=\"T_57e9b2c6_583b_11ec_b187_02420a391e24level0_row4\" class=\"row_heading level0 row4\" rowspan=4>median</th>\n",
       "                        <th id=\"T_57e9b2c6_583b_11ec_b187_02420a391e24level1_row4\" class=\"row_heading level1 row4\" >gb_used</th>\n",
       "                        <td id=\"T_57e9b2c6_583b_11ec_b187_02420a391e24row4_col0\" class=\"data row4 col0\" >17</td>\n",
       "                        <td id=\"T_57e9b2c6_583b_11ec_b187_02420a391e24row4_col1\" class=\"data row4 col1\" >19</td>\n",
       "            </tr>\n",
       "            <tr>\n",
       "                                <th id=\"T_57e9b2c6_583b_11ec_b187_02420a391e24level1_row5\" class=\"row_heading level1 row5\" >messages_quantity</th>\n",
       "                        <td id=\"T_57e9b2c6_583b_11ec_b187_02420a391e24row5_col0\" class=\"data row5 col0\" >28</td>\n",
       "                        <td id=\"T_57e9b2c6_583b_11ec_b187_02420a391e24row5_col1\" class=\"data row5 col1\" >38</td>\n",
       "            </tr>\n",
       "            <tr>\n",
       "                                <th id=\"T_57e9b2c6_583b_11ec_b187_02420a391e24level1_row6\" class=\"row_heading level1 row6\" >minutes_total</th>\n",
       "                        <td id=\"T_57e9b2c6_583b_11ec_b187_02420a391e24row6_col0\" class=\"data row6 col0\" >422</td>\n",
       "                        <td id=\"T_57e9b2c6_583b_11ec_b187_02420a391e24row6_col1\" class=\"data row6 col1\" >518</td>\n",
       "            </tr>\n",
       "            <tr>\n",
       "                                <th id=\"T_57e9b2c6_583b_11ec_b187_02420a391e24level1_row7\" class=\"row_heading level1 row7\" >month_income</th>\n",
       "                        <td id=\"T_57e9b2c6_583b_11ec_b187_02420a391e24row7_col0\" class=\"data row7 col0\" >1023</td>\n",
       "                        <td id=\"T_57e9b2c6_583b_11ec_b187_02420a391e24row7_col1\" class=\"data row7 col1\" >1950</td>\n",
       "            </tr>\n",
       "            <tr>\n",
       "                        <th id=\"T_57e9b2c6_583b_11ec_b187_02420a391e24level0_row8\" class=\"row_heading level0 row8\" rowspan=4>var</th>\n",
       "                        <th id=\"T_57e9b2c6_583b_11ec_b187_02420a391e24level1_row8\" class=\"row_heading level1 row8\" >gb_used</th>\n",
       "                        <td id=\"T_57e9b2c6_583b_11ec_b187_02420a391e24row8_col0\" class=\"data row8 col0\" >33.03</td>\n",
       "                        <td id=\"T_57e9b2c6_583b_11ec_b187_02420a391e24row8_col1\" class=\"data row8 col1\" >97.09</td>\n",
       "            </tr>\n",
       "            <tr>\n",
       "                                <th id=\"T_57e9b2c6_583b_11ec_b187_02420a391e24level1_row9\" class=\"row_heading level1 row9\" >messages_quantity</th>\n",
       "                        <td id=\"T_57e9b2c6_583b_11ec_b187_02420a391e24row9_col0\" class=\"data row9 col0\" >796.81</td>\n",
       "                        <td id=\"T_57e9b2c6_583b_11ec_b187_02420a391e24row9_col1\" class=\"data row9 col1\" >2285.27</td>\n",
       "            </tr>\n",
       "            <tr>\n",
       "                                <th id=\"T_57e9b2c6_583b_11ec_b187_02420a391e24level1_row10\" class=\"row_heading level1 row10\" >minutes_total</th>\n",
       "                        <td id=\"T_57e9b2c6_583b_11ec_b187_02420a391e24row10_col0\" class=\"data row10 col0\" >36219.3</td>\n",
       "                        <td id=\"T_57e9b2c6_583b_11ec_b187_02420a391e24row10_col1\" class=\"data row10 col1\" >100874</td>\n",
       "            </tr>\n",
       "            <tr>\n",
       "                                <th id=\"T_57e9b2c6_583b_11ec_b187_02420a391e24level1_row11\" class=\"row_heading level1 row11\" >month_income</th>\n",
       "                        <td id=\"T_57e9b2c6_583b_11ec_b187_02420a391e24row11_col0\" class=\"data row11 col0\" >669786</td>\n",
       "                        <td id=\"T_57e9b2c6_583b_11ec_b187_02420a391e24row11_col1\" class=\"data row11 col1\" >141517</td>\n",
       "            </tr>\n",
       "            <tr>\n",
       "                        <th id=\"T_57e9b2c6_583b_11ec_b187_02420a391e24level0_row12\" class=\"row_heading level0 row12\" rowspan=4>std</th>\n",
       "                        <th id=\"T_57e9b2c6_583b_11ec_b187_02420a391e24level1_row12\" class=\"row_heading level1 row12\" >gb_used</th>\n",
       "                        <td id=\"T_57e9b2c6_583b_11ec_b187_02420a391e24row12_col0\" class=\"data row12 col0\" >5.75</td>\n",
       "                        <td id=\"T_57e9b2c6_583b_11ec_b187_02420a391e24row12_col1\" class=\"data row12 col1\" >9.85</td>\n",
       "            </tr>\n",
       "            <tr>\n",
       "                                <th id=\"T_57e9b2c6_583b_11ec_b187_02420a391e24level1_row13\" class=\"row_heading level1 row13\" >messages_quantity</th>\n",
       "                        <td id=\"T_57e9b2c6_583b_11ec_b187_02420a391e24row13_col0\" class=\"data row13 col0\" >28.23</td>\n",
       "                        <td id=\"T_57e9b2c6_583b_11ec_b187_02420a391e24row13_col1\" class=\"data row13 col1\" >47.8</td>\n",
       "            </tr>\n",
       "            <tr>\n",
       "                                <th id=\"T_57e9b2c6_583b_11ec_b187_02420a391e24level1_row14\" class=\"row_heading level1 row14\" >minutes_total</th>\n",
       "                        <td id=\"T_57e9b2c6_583b_11ec_b187_02420a391e24row14_col0\" class=\"data row14 col0\" >190.31</td>\n",
       "                        <td id=\"T_57e9b2c6_583b_11ec_b187_02420a391e24row14_col1\" class=\"data row14 col1\" >317.61</td>\n",
       "            </tr>\n",
       "            <tr>\n",
       "                                <th id=\"T_57e9b2c6_583b_11ec_b187_02420a391e24level1_row15\" class=\"row_heading level1 row15\" >month_income</th>\n",
       "                        <td id=\"T_57e9b2c6_583b_11ec_b187_02420a391e24row15_col0\" class=\"data row15 col0\" >818.4</td>\n",
       "                        <td id=\"T_57e9b2c6_583b_11ec_b187_02420a391e24row15_col1\" class=\"data row15 col1\" >376.19</td>\n",
       "            </tr>\n",
       "    </tbody></table>"
      ],
      "text/plain": [
       "<pandas.io.formats.style.Styler at 0x7f6039db6d90>"
      ]
     },
     "execution_count": 53,
     "metadata": {},
     "output_type": "execute_result"
    }
   ],
   "source": [
    "# построение сводной таблицы для подсчета ключевых характеристик исследуемых столбцов\n",
    "data.pivot_table(index = 'tariff', values = columns_to_research, aggfunc = ['mean', 'median', 'var', 'std']).round(2).T.style"
   ]
  },
  {
   "cell_type": "markdown",
   "metadata": {},
   "source": [
    "<div class=\"alert alert-success\">\n",
    "<h2> Комментарий ревьюера ✔️ <a class=\"tocSkip\"> </h2>\n",
    "\n",
    "Огонь 🔥 Я сам обычно предлагаю студентам такое решение"
   ]
  },
  {
   "cell_type": "markdown",
   "metadata": {},
   "source": [
    "Скошенность графиков подтверждают данные медианы и среднего, приведенные в сводной таблице. Пользователи тарифа `Ультра` не тратят весь базовый пакет минут и количества СМС, в отличие от тарифа `Смарт`"
   ]
  },
  {
   "cell_type": "markdown",
   "metadata": {},
   "source": [
    "### Гистограмма количества потраченных минут"
   ]
  },
  {
   "cell_type": "markdown",
   "metadata": {},
   "source": [
    "На тарифе `Смарт` люди разговаривают в месяц в течение 230-600 минут. Медиана равна 422, лимит по тарифу - 500 минут. Значит люди используют все включенные минуты в тариф и даже покупают добавочные.\n",
    "Абоненты тарифа `Ультра` мало разговаривают по телефону (частота на графике значительно ниже, чем у абонентов `Смарт`). Среднее значение - 527 минут.\n",
    "Медиана тарифа `Ультра` больше, чем медиана тарифа `Смарт`."
   ]
  },
  {
   "cell_type": "markdown",
   "metadata": {},
   "source": [
    "### Гистограмма количества отправленных СМС"
   ]
  },
  {
   "cell_type": "markdown",
   "metadata": {},
   "source": [
    "Ситуация аналогична гистограмме с количеством потраченных минут. Пользователи `Смарт` чаще отправляют СМС, чем `Ультра`. Среднее значение для первой категории - 34 СМС, для второй - 50 СМС."
   ]
  },
  {
   "cell_type": "markdown",
   "metadata": {},
   "source": [
    "### Гистограмма количества потраченных гигабайт"
   ]
  },
  {
   "cell_type": "markdown",
   "metadata": {},
   "source": [
    "Пользователи с тарифом `Смарт` в среднем в месяц используют от 11 до 22 Гб трафика. Медианное значение - 17, это выше количества Гб, заложенных в пакет (15 Гб). Значит пользователи тарифа регулярно докупают дополнительные гигабайты.\n",
    "Пользователи с тарифом `Ультра` в среднем в месяц используют от 10 до 30 Гб трафика. Разброс значений больше. Медианное значение - 19, это ниже количества Гб, заложенного в пакет (30 Гб). К концу месяца чаще всего остаются неиспользованные Гб."
   ]
  },
  {
   "cell_type": "markdown",
   "metadata": {},
   "source": [
    "<div style=\"border:solid purple 5px; padding: 20px\"> \n",
    "<h2 align=\"center\"> Рубрика «Питонячий лайфхакер» <a class=\"tocSkip\"> </h2>\n",
    "\n",
    "<h3> Функция zip <a class=\"tocSkip\"> </h3>\n",
    "\n",
    "Функция zip создаёт итератор, который комбинирует элементы нескольких списков. Это позволяет осуществлять параллельный обход списков в циклах for или, например, выполнять параллельную сортировку.\n",
    "\n",
    "![](https://i.ibb.co/MPPZ6TL/image.png)"
   ]
  },
  {
   "cell_type": "markdown",
   "metadata": {},
   "source": [
    "### Гистограмма ежемесячного дохода"
   ]
  },
  {
   "cell_type": "markdown",
   "metadata": {},
   "source": [
    "Подавляющее большинство пользователей тарифа `Ультра` платят только абонентскую плату за тариф без дополнительных расходов. А пользователям тарифа `Смарт` в основном не хватает фиксированного пакета услуг. Чтобы подсчитать общий медианный доход с пользователей каждого тарифа, надо посчитать их число и умножить на медианное значение, взятое из таблицы.  "
   ]
  },
  {
   "cell_type": "code",
   "execution_count": 54,
   "metadata": {},
   "outputs": [
    {
     "name": "stdout",
     "output_type": "stream",
     "text": [
      "Число пользователей тарифа smart: 2229\n",
      "Число пользователей тарифа ultra: 985\n",
      "Общий доход с пользователей тарифа smart: 2280267\n",
      "Общий доход с пользователей тарифа ultra: 4346550\n"
     ]
    }
   ],
   "source": [
    "# число пользователей тарифа smart\n",
    "users_number_smart = (data.loc[:,'tariff'] == tariffs[0]).value_counts()[1]\n",
    "print('Число пользователей тарифа smart:', users_number_smart)\n",
    "# число пользователей тарифа ultra\n",
    "users_number_ultra = (data.loc[:,'tariff'] == tariffs[1]).value_counts()[1]\n",
    "print('Число пользователей тарифа ultra:', users_number_ultra)\n",
    "\n",
    "# общий доход с пользователей тарифов\n",
    "print('Общий доход с пользователей тарифа smart:', users_number_smart * 1023)\n",
    "print('Общий доход с пользователей тарифа ultra:', users_number_smart * 1950)"
   ]
  },
  {
   "cell_type": "markdown",
   "metadata": {},
   "source": [
    "Пользователей тарифа `Ультра` меньше, но доход больше. Пользователей тарифа `Смарт` больше, но доход меньше. Значения различаются примерно в 2 раза."
   ]
  },
  {
   "cell_type": "markdown",
   "metadata": {},
   "source": [
    "### Вывод"
   ]
  },
  {
   "cell_type": "markdown",
   "metadata": {},
   "source": [
    "Можно предположить, что тариф `Смарт` приобретают люди с низким и/или средним достатком, предполагая что сэкономят. Но при этом тратят больше за дополнительные минуты, сообщения или трафик. Тариф `Ультра` приобретают люди с более высоким достатком, берут пакеты \"с запасом\", при этом не расходуя их."
   ]
  },
  {
   "cell_type": "markdown",
   "metadata": {},
   "source": [
    "<div class=\"alert alert-success\">\n",
    "<h2> Комментарий ревьюера ✔️ <a class=\"tocSkip\"> </h2>\n",
    "\n",
    "Хороший блок, качественно выполнен, молодец 👏\n",
    "\n",
    "</div>"
   ]
  },
  {
   "cell_type": "markdown",
   "metadata": {},
   "source": [
    "## Проверка гипотез"
   ]
  },
  {
   "cell_type": "markdown",
   "metadata": {},
   "source": [
    "* средняя выручка пользователей тарифов «Ультра» и «Смарт» различаются;\n",
    "* средняя выручка пользователей из Москвы отличается от выручки пользователей из других регионов."
   ]
  },
  {
   "cell_type": "code",
   "execution_count": 55,
   "metadata": {},
   "outputs": [],
   "source": [
    "# примем критический уровень статистической значимости равным 0.05\n",
    "alpha = 0.05"
   ]
  },
  {
   "cell_type": "markdown",
   "metadata": {},
   "source": [
    "### Первая гипотеза"
   ]
  },
  {
   "cell_type": "markdown",
   "metadata": {},
   "source": [
    "* Нулевая гипотеза (Н0): средняя выручка пользователей тарифов «Ультра» и «Смарт» равны\n",
    "* Альтернативная гипотеза (Н1) : средняя выручка пользователей тарифов «Ультра» и «Смарт» различается"
   ]
  },
  {
   "cell_type": "markdown",
   "metadata": {},
   "source": [
    "<div class=\"alert alert-success\">\n",
    "<h2> Комментарий ревьюера ✔️ <a class=\"tocSkip\"> </h2>\n",
    "\n",
    "Отлично, гипотезы сформулированы правильно\n",
    "\n",
    "</div>"
   ]
  },
  {
   "cell_type": "code",
   "execution_count": 56,
   "metadata": {
    "scrolled": true
   },
   "outputs": [
    {
     "name": "stdout",
     "output_type": "stream",
     "text": [
      "p-значение: 1.4229814360764067e-160\n",
      "Отвергаем нулевую гипотезу\n"
     ]
    }
   ],
   "source": [
    "income_from_smart = data.loc[data.loc[:,'tariff'] == 'smart']['month_income']\n",
    "income_from_ultra = data.loc[data.loc[:,'tariff'] == 'ultra']['month_income']\n",
    "result = st.ttest_ind(income_from_smart, income_from_ultra) \n",
    "print('p-значение:', result.pvalue)\n",
    "if result.pvalue < alpha:\n",
    "    print(\"Отвергаем нулевую гипотезу\")\n",
    "else:\n",
    "    print(\"Не получилось отвергнуть нулевую гипотезу\")"
   ]
  },
  {
   "cell_type": "markdown",
   "metadata": {},
   "source": [
    "### Вывод"
   ]
  },
  {
   "cell_type": "markdown",
   "metadata": {},
   "source": [
    "Гипотеза о том, что средняя выручка пользователей тарифов «Ультра» и «Смарт» равны, отвергается"
   ]
  },
  {
   "cell_type": "markdown",
   "metadata": {},
   "source": [
    "### Вторая гипотеза"
   ]
  },
  {
   "cell_type": "markdown",
   "metadata": {},
   "source": [
    "* Нулевая гипотеза (Н0): средняя выручка пользователей из Москвы равна выручке пользователей из других регионов\n",
    "* Альтернативная гипотеза (Н1): средняя выручка пользователей из Москвы отличается от выручки пользователей из других регионов"
   ]
  },
  {
   "cell_type": "code",
   "execution_count": 57,
   "metadata": {},
   "outputs": [
    {
     "name": "stdout",
     "output_type": "stream",
     "text": [
      "p-значение: 0.5257376663729298\n",
      "Не получилось отвергнуть нулевую гипотезу\n"
     ]
    }
   ],
   "source": [
    "city_moscow = data.loc[data.loc[:,'city'] == 'Москва']['month_income']\n",
    "city_other = data.loc[data.loc[:,'city'] != 'Москва']['month_income']\n",
    "result_city = st.ttest_ind(city_moscow, city_other, equal_var=False)\n",
    "print('p-значение:', result_city.pvalue)\n",
    "if result_city.pvalue < alpha:\n",
    "    print(\"Отвергаем нулевую гипотезу\")\n",
    "else:\n",
    "    print(\"Не получилось отвергнуть нулевую гипотезу\")"
   ]
  },
  {
   "cell_type": "markdown",
   "metadata": {},
   "source": [
    "<div class=\"alert alert-success\">\n",
    "<h2> Комментарий ревьюера ✔️ <a class=\"tocSkip\"> </h2>\n",
    "\n",
    "Сами тесты выполнены корректно, молодец!"
   ]
  },
  {
   "cell_type": "markdown",
   "metadata": {},
   "source": [
    "### Вывод"
   ]
  },
  {
   "cell_type": "markdown",
   "metadata": {},
   "source": [
    "Гипотеза о том, что средняя выручка пользователей из Москвы равна выручке пользователей из других регионов, не отвергается. Выручка с пользователей из Москвы аналогична выручке из регионов России."
   ]
  },
  {
   "cell_type": "markdown",
   "metadata": {},
   "source": [
    "## Общий вывод"
   ]
  },
  {
   "cell_type": "markdown",
   "metadata": {},
   "source": [
    "Судя по данным, тариф `Ультра` более выгоден, но в то же время менее популярен. Компании \"Мегалайн\" можно дать рекомендацию по созданию некого промежуточного тарифа между `Смарт` и `Ультра`, что позволяло бы клиенту комфотнее пользоваться услугами без дополнительных плат. То есть можно включить среднее число добавочных услуг, обычно докупаемых пользователем к тарифу `Смарт`. Сумму за него тоже увеличить соразмерно стоимости итоговых услуг. При этом доход компании не уменьшится, потому что средний пользователь не будет дополнительно покупать эти включенные услуги. Также этот потенциальный тариф будет выглядеть выгодней благодаря отсутствию дополнительных затрат, а следовательно, и положительным отзывам пользователей."
   ]
  },
  {
   "cell_type": "markdown",
   "metadata": {},
   "source": [
    "<div class=\"alert alert-success\">\n",
    "<h2> Комментарий ревьюера ✔️ <a class=\"tocSkip\"> </h2>\n",
    "\n",
    "Согласен с выводом"
   ]
  },
  {
   "cell_type": "markdown",
   "metadata": {},
   "source": [
    "## Чек-лист готовности проекта"
   ]
  },
  {
   "cell_type": "markdown",
   "metadata": {},
   "source": [
    "- [x]  открыт файл\n",
    "- [x]  файлы изучены (выведены первые строки, метод info())\n",
    "- [x]  определены пропущенные значения\n",
    "- [x]  заполнены пропущенные значения\n",
    "- [x]  есть пояснение, какие пропущенные значения обнаружены\n",
    "- [x]  изменены типы данных\n",
    "- [x]  есть пояснение, в каких столбцах изменены типы и почему\n",
    "- [x]  подсчет: количество сделанных звонков и израсходованных минут разговора по месяцам;\n",
    "- [x]  подсчет: количество отправленных сообщений по месяцам;\n",
    "- [x]  подсчет: объем израсходованного интернет-трафика по месяцам;\n",
    "- [x]  сколько минут разговора требуется пользователям каждого тарифа в месяц, \n",
    "- [x]  сколько сообщений требуется пользователям каждого тарифа в месяц;\n",
    "- [x]  какой объём интернет-трафика требуется пользователям каждого тарифа в месяц;\n",
    "- [x]  подсчитано среднее количество, дисперсия и стандартное отклонение; \n",
    "- [x]  построены гистограммы, описаны распределения;\n",
    "- [x]  гипотеза: средняя выручка пользователей тарифов «Ультра» и «Смарт» различаются;\n",
    "- [x]  гипотеза: средняя выручка пользователей из Москвы отличается от выручки пользователей из других регионов;\n",
    "- [x]  в каждом этапе есть выводы\n",
    "- [x]  есть общий вывод"
   ]
  }
 ],
 "metadata": {
  "ExecuteTimeLog": [
   {
    "duration": 588,
    "start_time": "2021-11-30T13:36:00.171Z"
   },
   {
    "duration": 78,
    "start_time": "2021-11-30T13:36:01.207Z"
   },
   {
    "duration": 2,
    "start_time": "2021-11-30T13:36:01.933Z"
   },
   {
    "duration": 435,
    "start_time": "2021-11-30T13:36:02.490Z"
   },
   {
    "duration": 389,
    "start_time": "2021-11-30T13:36:03.142Z"
   },
   {
    "duration": 12,
    "start_time": "2021-11-30T13:36:18.893Z"
   },
   {
    "duration": 21,
    "start_time": "2021-11-30T13:36:26.657Z"
   },
   {
    "duration": 8,
    "start_time": "2021-11-30T13:40:32.827Z"
   },
   {
    "duration": 17,
    "start_time": "2021-11-30T13:40:44.600Z"
   },
   {
    "duration": 9,
    "start_time": "2021-11-30T13:41:41.186Z"
   },
   {
    "duration": 6,
    "start_time": "2021-11-30T13:41:49.194Z"
   },
   {
    "duration": 14,
    "start_time": "2021-11-30T13:42:13.930Z"
   },
   {
    "duration": 6,
    "start_time": "2021-11-30T13:42:25.266Z"
   },
   {
    "duration": 7,
    "start_time": "2021-11-30T13:42:44.889Z"
   },
   {
    "duration": 15,
    "start_time": "2021-11-30T13:43:02.490Z"
   },
   {
    "duration": 13,
    "start_time": "2021-11-30T13:53:23.456Z"
   },
   {
    "duration": 8,
    "start_time": "2021-11-30T13:53:31.362Z"
   },
   {
    "duration": 338,
    "start_time": "2021-11-30T13:54:02.824Z"
   },
   {
    "duration": 3,
    "start_time": "2021-11-30T13:55:52.704Z"
   },
   {
    "duration": 9,
    "start_time": "2021-11-30T13:55:55.408Z"
   },
   {
    "duration": 744,
    "start_time": "2021-12-01T05:09:46.319Z"
   },
   {
    "duration": 117,
    "start_time": "2021-12-01T05:09:48.433Z"
   },
   {
    "duration": 3,
    "start_time": "2021-12-01T05:09:49.250Z"
   },
   {
    "duration": 501,
    "start_time": "2021-12-01T05:09:50.001Z"
   },
   {
    "duration": 548,
    "start_time": "2021-12-01T05:09:50.770Z"
   },
   {
    "duration": 16,
    "start_time": "2021-12-01T05:09:55.787Z"
   },
   {
    "duration": 27,
    "start_time": "2021-12-01T05:09:59.945Z"
   },
   {
    "duration": 10,
    "start_time": "2021-12-01T05:12:29.896Z"
   },
   {
    "duration": 5,
    "start_time": "2021-12-01T05:14:32.457Z"
   },
   {
    "duration": 7,
    "start_time": "2021-12-01T05:15:12.468Z"
   },
   {
    "duration": 12,
    "start_time": "2021-12-01T05:15:17.028Z"
   },
   {
    "duration": 20,
    "start_time": "2021-12-01T05:19:29.818Z"
   },
   {
    "duration": 11,
    "start_time": "2021-12-01T05:19:46.749Z"
   },
   {
    "duration": 11,
    "start_time": "2021-12-01T05:20:03.290Z"
   },
   {
    "duration": 13,
    "start_time": "2021-12-01T05:20:23.338Z"
   },
   {
    "duration": 45,
    "start_time": "2021-12-01T05:27:43.821Z"
   },
   {
    "duration": 22,
    "start_time": "2021-12-01T05:27:48.132Z"
   },
   {
    "duration": 12,
    "start_time": "2021-12-01T05:27:52.332Z"
   },
   {
    "duration": 7,
    "start_time": "2021-12-01T05:27:58.900Z"
   },
   {
    "duration": 25,
    "start_time": "2021-12-01T05:28:00.616Z"
   },
   {
    "duration": 11,
    "start_time": "2021-12-01T05:28:08.086Z"
   },
   {
    "duration": 12,
    "start_time": "2021-12-01T05:49:59.913Z"
   },
   {
    "duration": 25,
    "start_time": "2021-12-01T05:50:00.914Z"
   },
   {
    "duration": 10,
    "start_time": "2021-12-01T05:50:05.299Z"
   },
   {
    "duration": 20,
    "start_time": "2021-12-01T05:50:07.794Z"
   },
   {
    "duration": 12,
    "start_time": "2021-12-01T05:51:36.910Z"
   },
   {
    "duration": 9,
    "start_time": "2021-12-01T05:51:38.668Z"
   },
   {
    "duration": 6,
    "start_time": "2021-12-01T06:31:20.077Z"
   },
   {
    "duration": 414,
    "start_time": "2021-12-01T06:44:38.075Z"
   },
   {
    "duration": 284,
    "start_time": "2021-12-01T06:44:43.594Z"
   },
   {
    "duration": 15,
    "start_time": "2021-12-01T06:46:00.543Z"
   },
   {
    "duration": 10,
    "start_time": "2021-12-01T06:46:04.153Z"
   },
   {
    "duration": 11,
    "start_time": "2021-12-01T06:46:13.354Z"
   },
   {
    "duration": 31,
    "start_time": "2021-12-01T06:46:14.577Z"
   },
   {
    "duration": 6,
    "start_time": "2021-12-01T06:46:16.970Z"
   },
   {
    "duration": 6,
    "start_time": "2021-12-01T06:46:20.706Z"
   },
   {
    "duration": 25,
    "start_time": "2021-12-01T06:46:22.058Z"
   },
   {
    "duration": 14,
    "start_time": "2021-12-01T06:46:32.177Z"
   },
   {
    "duration": 5,
    "start_time": "2021-12-01T06:47:20.641Z"
   },
   {
    "duration": 13,
    "start_time": "2021-12-01T06:47:35.160Z"
   },
   {
    "duration": 39,
    "start_time": "2021-12-01T06:53:26.476Z"
   },
   {
    "duration": 25,
    "start_time": "2021-12-01T06:53:36.299Z"
   },
   {
    "duration": 43,
    "start_time": "2021-12-01T06:57:08.973Z"
   },
   {
    "duration": 26,
    "start_time": "2021-12-01T06:57:09.849Z"
   },
   {
    "duration": 6,
    "start_time": "2021-12-01T06:58:26.008Z"
   },
   {
    "duration": 6214,
    "start_time": "2021-12-01T07:00:36.943Z"
   },
   {
    "duration": 9,
    "start_time": "2021-12-01T07:00:57.710Z"
   },
   {
    "duration": 7593,
    "start_time": "2021-12-01T07:04:21.419Z"
   },
   {
    "duration": 5,
    "start_time": "2021-12-01T07:04:33.523Z"
   },
   {
    "duration": 10,
    "start_time": "2021-12-01T07:05:45.410Z"
   },
   {
    "duration": 71,
    "start_time": "2021-12-01T07:06:12.298Z"
   },
   {
    "duration": 65,
    "start_time": "2021-12-01T07:06:23.234Z"
   },
   {
    "duration": 137,
    "start_time": "2021-12-01T07:06:31.626Z"
   },
   {
    "duration": 7,
    "start_time": "2021-12-01T07:09:21.077Z"
   },
   {
    "duration": 27,
    "start_time": "2021-12-01T07:09:22.854Z"
   },
   {
    "duration": 37,
    "start_time": "2021-12-01T07:09:33.535Z"
   },
   {
    "duration": 25,
    "start_time": "2021-12-01T07:09:34.391Z"
   },
   {
    "duration": 7,
    "start_time": "2021-12-01T07:09:36.231Z"
   },
   {
    "duration": 37,
    "start_time": "2021-12-01T07:09:37.607Z"
   },
   {
    "duration": 38,
    "start_time": "2021-12-01T07:09:51.375Z"
   },
   {
    "duration": 25,
    "start_time": "2021-12-01T07:09:52.377Z"
   },
   {
    "duration": 43,
    "start_time": "2021-12-01T07:10:03.763Z"
   },
   {
    "duration": 25,
    "start_time": "2021-12-01T07:10:05.008Z"
   },
   {
    "duration": 5,
    "start_time": "2021-12-01T07:17:07.627Z"
   },
   {
    "duration": 6,
    "start_time": "2021-12-01T07:17:13.569Z"
   },
   {
    "duration": 4,
    "start_time": "2021-12-01T07:17:21.393Z"
   },
   {
    "duration": 5,
    "start_time": "2021-12-01T07:17:22.114Z"
   },
   {
    "duration": 21,
    "start_time": "2021-12-01T07:17:27.915Z"
   },
   {
    "duration": 4,
    "start_time": "2021-12-01T07:17:44.913Z"
   },
   {
    "duration": 26,
    "start_time": "2021-12-01T07:17:45.793Z"
   },
   {
    "duration": 28,
    "start_time": "2021-12-01T07:19:32.912Z"
   },
   {
    "duration": 4,
    "start_time": "2021-12-01T07:24:02.941Z"
   },
   {
    "duration": 5,
    "start_time": "2021-12-01T07:24:06.902Z"
   },
   {
    "duration": 16,
    "start_time": "2021-12-01T07:24:09.948Z"
   },
   {
    "duration": 4,
    "start_time": "2021-12-01T07:24:29.956Z"
   },
   {
    "duration": 17,
    "start_time": "2021-12-01T07:24:30.941Z"
   },
   {
    "duration": 4,
    "start_time": "2021-12-01T07:24:51.324Z"
   },
   {
    "duration": 30,
    "start_time": "2021-12-01T07:24:52.628Z"
   },
   {
    "duration": 24,
    "start_time": "2021-12-01T07:32:06.863Z"
   },
   {
    "duration": 12,
    "start_time": "2021-12-01T07:32:08.328Z"
   },
   {
    "duration": 33072,
    "start_time": "2021-12-01T07:32:09.247Z"
   },
   {
    "duration": 13,
    "start_time": "2021-12-01T07:32:45.558Z"
   },
   {
    "duration": 17,
    "start_time": "2021-12-01T07:32:54.502Z"
   },
   {
    "duration": 13,
    "start_time": "2021-12-01T07:32:58.486Z"
   },
   {
    "duration": 34795,
    "start_time": "2021-12-01T07:33:44.701Z"
   },
   {
    "duration": 18,
    "start_time": "2021-12-01T07:34:25.533Z"
   },
   {
    "duration": 80891,
    "start_time": "2021-12-01T07:38:53.929Z"
   },
   {
    "duration": 19,
    "start_time": "2021-12-01T07:40:16.713Z"
   },
   {
    "duration": 19,
    "start_time": "2021-12-01T07:40:21.909Z"
   },
   {
    "duration": 17,
    "start_time": "2021-12-01T07:40:26.474Z"
   },
   {
    "duration": 23,
    "start_time": "2021-12-01T07:41:47.879Z"
   },
   {
    "duration": 102,
    "start_time": "2021-12-01T07:42:12.566Z"
   },
   {
    "duration": 12,
    "start_time": "2021-12-01T07:42:16.081Z"
   },
   {
    "duration": 6,
    "start_time": "2021-12-01T07:42:46.456Z"
   },
   {
    "duration": 277,
    "start_time": "2021-12-01T07:42:53.290Z"
   },
   {
    "duration": 7,
    "start_time": "2021-12-01T07:43:06.598Z"
   },
   {
    "duration": 6,
    "start_time": "2021-12-01T07:46:59.481Z"
   },
   {
    "duration": 15,
    "start_time": "2021-12-01T07:48:03.127Z"
   },
   {
    "duration": 24,
    "start_time": "2021-12-01T07:49:34.939Z"
   },
   {
    "duration": 87664,
    "start_time": "2021-12-01T07:49:36.057Z"
   },
   {
    "duration": 6,
    "start_time": "2021-12-01T07:52:46.111Z"
   },
   {
    "duration": 17,
    "start_time": "2021-12-01T07:52:54.359Z"
   },
   {
    "duration": 3,
    "start_time": "2021-12-01T07:54:55.806Z"
   },
   {
    "duration": 267,
    "start_time": "2021-12-01T07:54:58.263Z"
   },
   {
    "duration": 21,
    "start_time": "2021-12-01T07:55:50.387Z"
   },
   {
    "duration": 29,
    "start_time": "2021-12-01T07:55:55.837Z"
   },
   {
    "duration": 7100,
    "start_time": "2021-12-01T07:56:28.318Z"
   },
   {
    "duration": 8676,
    "start_time": "2021-12-01T07:57:04.138Z"
   },
   {
    "duration": 16,
    "start_time": "2021-12-01T07:57:30.757Z"
   },
   {
    "duration": 26,
    "start_time": "2021-12-01T07:57:54.299Z"
   },
   {
    "duration": 324,
    "start_time": "2021-12-01T07:58:53.912Z"
   },
   {
    "duration": 12,
    "start_time": "2021-12-01T07:58:57.220Z"
   },
   {
    "duration": 16,
    "start_time": "2021-12-01T08:02:08.920Z"
   },
   {
    "duration": 5,
    "start_time": "2021-12-01T08:02:15.265Z"
   },
   {
    "duration": 16,
    "start_time": "2021-12-01T08:02:16.592Z"
   },
   {
    "duration": 16,
    "start_time": "2021-12-01T10:06:38.198Z"
   },
   {
    "duration": 7,
    "start_time": "2021-12-01T10:06:59.227Z"
   },
   {
    "duration": 15,
    "start_time": "2021-12-01T10:07:00.065Z"
   },
   {
    "duration": 21,
    "start_time": "2021-12-01T10:12:22.230Z"
   },
   {
    "duration": 18,
    "start_time": "2021-12-01T10:14:15.573Z"
   },
   {
    "duration": 19,
    "start_time": "2021-12-01T10:14:36.036Z"
   },
   {
    "duration": 26,
    "start_time": "2021-12-01T10:15:30.740Z"
   },
   {
    "duration": 15,
    "start_time": "2021-12-01T10:15:34.544Z"
   },
   {
    "duration": 8,
    "start_time": "2021-12-01T10:15:45.028Z"
   },
   {
    "duration": 9,
    "start_time": "2021-12-01T10:15:52.691Z"
   },
   {
    "duration": 760,
    "start_time": "2021-12-01T10:19:59.833Z"
   },
   {
    "duration": 130,
    "start_time": "2021-12-01T10:20:00.596Z"
   },
   {
    "duration": 4,
    "start_time": "2021-12-01T10:20:00.730Z"
   },
   {
    "duration": 565,
    "start_time": "2021-12-01T10:20:00.737Z"
   },
   {
    "duration": 552,
    "start_time": "2021-12-01T10:20:01.305Z"
   },
   {
    "duration": 20,
    "start_time": "2021-12-01T10:20:01.859Z"
   },
   {
    "duration": 45,
    "start_time": "2021-12-01T10:20:01.881Z"
   },
   {
    "duration": 161,
    "start_time": "2021-12-01T10:20:01.930Z"
   },
   {
    "duration": 13,
    "start_time": "2021-12-01T10:20:02.096Z"
   },
   {
    "duration": 25,
    "start_time": "2021-12-01T10:20:02.130Z"
   },
   {
    "duration": 162,
    "start_time": "2021-12-01T10:20:02.158Z"
   },
   {
    "duration": 14,
    "start_time": "2021-12-01T10:20:02.323Z"
   },
   {
    "duration": 48,
    "start_time": "2021-12-01T10:20:02.341Z"
   },
   {
    "duration": 79,
    "start_time": "2021-12-01T10:20:02.393Z"
   },
   {
    "duration": 13,
    "start_time": "2021-12-01T10:20:02.475Z"
   },
   {
    "duration": 20,
    "start_time": "2021-12-01T10:20:02.491Z"
   },
   {
    "duration": 41,
    "start_time": "2021-12-01T10:20:02.514Z"
   },
   {
    "duration": 17,
    "start_time": "2021-12-01T10:20:02.558Z"
   },
   {
    "duration": 25,
    "start_time": "2021-12-01T10:20:02.578Z"
   },
   {
    "duration": 49,
    "start_time": "2021-12-01T10:20:02.605Z"
   },
   {
    "duration": 29,
    "start_time": "2021-12-01T10:20:02.657Z"
   },
   {
    "duration": 10,
    "start_time": "2021-12-01T10:20:02.689Z"
   },
   {
    "duration": 48,
    "start_time": "2021-12-01T10:20:02.704Z"
   },
   {
    "duration": 6,
    "start_time": "2021-12-01T10:20:02.755Z"
   },
   {
    "duration": 31,
    "start_time": "2021-12-01T10:20:02.763Z"
   },
   {
    "duration": 135,
    "start_time": "2021-12-01T10:20:02.796Z"
   },
   {
    "duration": 80953,
    "start_time": "2021-12-01T10:20:02.934Z"
   },
   {
    "duration": 7,
    "start_time": "2021-12-01T10:21:23.889Z"
   },
   {
    "duration": 423,
    "start_time": "2021-12-01T10:21:23.898Z"
   },
   {
    "duration": -9,
    "start_time": "2021-12-01T10:21:24.333Z"
   },
   {
    "duration": -10,
    "start_time": "2021-12-01T10:21:24.335Z"
   },
   {
    "duration": -10,
    "start_time": "2021-12-01T10:21:24.337Z"
   },
   {
    "duration": 5,
    "start_time": "2021-12-01T10:25:15.877Z"
   },
   {
    "duration": 403,
    "start_time": "2021-12-01T10:26:12.170Z"
   },
   {
    "duration": 775,
    "start_time": "2021-12-01T10:26:56.039Z"
   },
   {
    "duration": 124,
    "start_time": "2021-12-01T10:26:56.817Z"
   },
   {
    "duration": 3,
    "start_time": "2021-12-01T10:26:56.947Z"
   },
   {
    "duration": 554,
    "start_time": "2021-12-01T10:26:56.952Z"
   },
   {
    "duration": 550,
    "start_time": "2021-12-01T10:26:57.508Z"
   },
   {
    "duration": 15,
    "start_time": "2021-12-01T10:26:58.061Z"
   },
   {
    "duration": 33,
    "start_time": "2021-12-01T10:26:58.080Z"
   },
   {
    "duration": 143,
    "start_time": "2021-12-01T10:26:58.116Z"
   },
   {
    "duration": 12,
    "start_time": "2021-12-01T10:26:58.261Z"
   },
   {
    "duration": 29,
    "start_time": "2021-12-01T10:26:58.275Z"
   },
   {
    "duration": 141,
    "start_time": "2021-12-01T10:26:58.306Z"
   },
   {
    "duration": 9,
    "start_time": "2021-12-01T10:26:58.450Z"
   },
   {
    "duration": 24,
    "start_time": "2021-12-01T10:26:58.462Z"
   },
   {
    "duration": 93,
    "start_time": "2021-12-01T10:26:58.489Z"
   },
   {
    "duration": 12,
    "start_time": "2021-12-01T10:26:58.584Z"
   },
   {
    "duration": 32,
    "start_time": "2021-12-01T10:26:58.598Z"
   },
   {
    "duration": 21,
    "start_time": "2021-12-01T10:26:58.633Z"
   },
   {
    "duration": 11,
    "start_time": "2021-12-01T10:26:58.657Z"
   },
   {
    "duration": 15,
    "start_time": "2021-12-01T10:26:58.670Z"
   },
   {
    "duration": 286,
    "start_time": "2021-12-01T10:26:58.688Z"
   },
   {
    "duration": 18,
    "start_time": "2021-12-01T10:26:58.959Z"
   },
   {
    "duration": 17,
    "start_time": "2021-12-01T10:26:58.961Z"
   },
   {
    "duration": 17,
    "start_time": "2021-12-01T10:26:58.963Z"
   },
   {
    "duration": 16,
    "start_time": "2021-12-01T10:26:58.965Z"
   },
   {
    "duration": 4,
    "start_time": "2021-12-01T10:26:58.979Z"
   },
   {
    "duration": 3,
    "start_time": "2021-12-01T10:26:58.981Z"
   },
   {
    "duration": 4,
    "start_time": "2021-12-01T10:26:58.982Z"
   },
   {
    "duration": 4,
    "start_time": "2021-12-01T10:26:58.984Z"
   },
   {
    "duration": 3,
    "start_time": "2021-12-01T10:26:58.986Z"
   },
   {
    "duration": 4,
    "start_time": "2021-12-01T10:26:58.987Z"
   },
   {
    "duration": 3,
    "start_time": "2021-12-01T10:26:58.989Z"
   },
   {
    "duration": 4,
    "start_time": "2021-12-01T10:26:58.990Z"
   },
   {
    "duration": 3,
    "start_time": "2021-12-01T10:26:58.992Z"
   },
   {
    "duration": 4,
    "start_time": "2021-12-01T10:26:58.993Z"
   },
   {
    "duration": 795,
    "start_time": "2021-12-01T10:27:19.197Z"
   },
   {
    "duration": 127,
    "start_time": "2021-12-01T10:27:19.995Z"
   },
   {
    "duration": 4,
    "start_time": "2021-12-01T10:27:20.125Z"
   },
   {
    "duration": 473,
    "start_time": "2021-12-01T10:27:20.132Z"
   },
   {
    "duration": 557,
    "start_time": "2021-12-01T10:27:20.607Z"
   },
   {
    "duration": 16,
    "start_time": "2021-12-01T10:27:21.167Z"
   },
   {
    "duration": 37,
    "start_time": "2021-12-01T10:27:21.186Z"
   },
   {
    "duration": 147,
    "start_time": "2021-12-01T10:27:21.225Z"
   },
   {
    "duration": 11,
    "start_time": "2021-12-01T10:27:21.376Z"
   },
   {
    "duration": 44,
    "start_time": "2021-12-01T10:27:21.390Z"
   },
   {
    "duration": 136,
    "start_time": "2021-12-01T10:27:21.436Z"
   },
   {
    "duration": 10,
    "start_time": "2021-12-01T10:27:21.574Z"
   },
   {
    "duration": 45,
    "start_time": "2021-12-01T10:27:21.587Z"
   },
   {
    "duration": 78,
    "start_time": "2021-12-01T10:27:21.636Z"
   },
   {
    "duration": 13,
    "start_time": "2021-12-01T10:27:21.730Z"
   },
   {
    "duration": 26,
    "start_time": "2021-12-01T10:27:21.745Z"
   },
   {
    "duration": 21,
    "start_time": "2021-12-01T10:27:21.774Z"
   },
   {
    "duration": 23,
    "start_time": "2021-12-01T10:27:21.798Z"
   },
   {
    "duration": 16,
    "start_time": "2021-12-01T10:27:21.829Z"
   },
   {
    "duration": 45,
    "start_time": "2021-12-01T10:27:21.848Z"
   },
   {
    "duration": 65,
    "start_time": "2021-12-01T10:27:21.896Z"
   },
   {
    "duration": 6,
    "start_time": "2021-12-01T10:27:21.964Z"
   },
   {
    "duration": 41,
    "start_time": "2021-12-01T10:27:21.973Z"
   },
   {
    "duration": 14,
    "start_time": "2021-12-01T10:27:22.016Z"
   },
   {
    "duration": 7,
    "start_time": "2021-12-01T10:27:22.033Z"
   },
   {
    "duration": 9,
    "start_time": "2021-12-01T10:27:22.043Z"
   },
   {
    "duration": 23,
    "start_time": "2021-12-01T10:27:22.057Z"
   },
   {
    "duration": 10,
    "start_time": "2021-12-01T10:27:22.083Z"
   },
   {
    "duration": 17,
    "start_time": "2021-12-01T10:27:22.096Z"
   },
   {
    "duration": 33,
    "start_time": "2021-12-01T10:27:22.116Z"
   },
   {
    "duration": 36,
    "start_time": "2021-12-01T10:27:22.151Z"
   },
   {
    "duration": 22,
    "start_time": "2021-12-01T10:27:22.190Z"
   },
   {
    "duration": 10,
    "start_time": "2021-12-01T10:27:22.215Z"
   },
   {
    "duration": 12,
    "start_time": "2021-12-01T10:32:12.329Z"
   },
   {
    "duration": 12,
    "start_time": "2021-12-01T10:32:18.916Z"
   },
   {
    "duration": 11,
    "start_time": "2021-12-01T10:35:14.150Z"
   },
   {
    "duration": 21,
    "start_time": "2021-12-01T10:36:24.947Z"
   },
   {
    "duration": 10,
    "start_time": "2021-12-01T10:36:31.516Z"
   },
   {
    "duration": 807,
    "start_time": "2021-12-01T10:39:21.790Z"
   },
   {
    "duration": 128,
    "start_time": "2021-12-01T10:39:22.599Z"
   },
   {
    "duration": 4,
    "start_time": "2021-12-01T10:39:22.731Z"
   },
   {
    "duration": 461,
    "start_time": "2021-12-01T10:39:22.738Z"
   },
   {
    "duration": 539,
    "start_time": "2021-12-01T10:39:23.202Z"
   },
   {
    "duration": 16,
    "start_time": "2021-12-01T10:39:23.743Z"
   },
   {
    "duration": 38,
    "start_time": "2021-12-01T10:39:23.761Z"
   },
   {
    "duration": 138,
    "start_time": "2021-12-01T10:39:23.803Z"
   },
   {
    "duration": 11,
    "start_time": "2021-12-01T10:39:23.944Z"
   },
   {
    "duration": 28,
    "start_time": "2021-12-01T10:39:23.958Z"
   },
   {
    "duration": 129,
    "start_time": "2021-12-01T10:39:23.988Z"
   },
   {
    "duration": 14,
    "start_time": "2021-12-01T10:39:24.119Z"
   },
   {
    "duration": 19,
    "start_time": "2021-12-01T10:39:24.136Z"
   },
   {
    "duration": 87,
    "start_time": "2021-12-01T10:39:24.158Z"
   },
   {
    "duration": 11,
    "start_time": "2021-12-01T10:39:24.247Z"
   },
   {
    "duration": 13,
    "start_time": "2021-12-01T10:39:24.260Z"
   },
   {
    "duration": 15,
    "start_time": "2021-12-01T10:39:24.275Z"
   },
   {
    "duration": 40,
    "start_time": "2021-12-01T10:39:24.293Z"
   },
   {
    "duration": 16,
    "start_time": "2021-12-01T10:39:24.336Z"
   },
   {
    "duration": 44,
    "start_time": "2021-12-01T10:39:24.355Z"
   },
   {
    "duration": 41,
    "start_time": "2021-12-01T10:39:24.402Z"
   },
   {
    "duration": 8,
    "start_time": "2021-12-01T10:39:24.446Z"
   },
   {
    "duration": 35,
    "start_time": "2021-12-01T10:39:24.460Z"
   },
   {
    "duration": 6,
    "start_time": "2021-12-01T10:39:24.498Z"
   },
   {
    "duration": 9,
    "start_time": "2021-12-01T10:39:24.530Z"
   },
   {
    "duration": 4,
    "start_time": "2021-12-01T10:39:24.542Z"
   },
   {
    "duration": 9,
    "start_time": "2021-12-01T10:39:24.549Z"
   },
   {
    "duration": 11,
    "start_time": "2021-12-01T10:39:24.560Z"
   },
   {
    "duration": 18,
    "start_time": "2021-12-01T10:39:24.573Z"
   },
   {
    "duration": 19,
    "start_time": "2021-12-01T10:39:24.593Z"
   },
   {
    "duration": 30,
    "start_time": "2021-12-01T10:39:24.614Z"
   },
   {
    "duration": 8338,
    "start_time": "2021-12-01T10:39:24.647Z"
   },
   {
    "duration": -8,
    "start_time": "2021-12-01T10:39:32.996Z"
   },
   {
    "duration": -8,
    "start_time": "2021-12-01T10:39:32.998Z"
   },
   {
    "duration": 260616,
    "start_time": "2021-12-01T10:40:03.306Z"
   },
   {
    "duration": 992,
    "start_time": "2021-12-06T03:47:28.402Z"
   },
   {
    "duration": 186,
    "start_time": "2021-12-06T03:47:30.179Z"
   },
   {
    "duration": 4,
    "start_time": "2021-12-06T03:47:31.035Z"
   },
   {
    "duration": 560,
    "start_time": "2021-12-06T03:47:31.887Z"
   },
   {
    "duration": 550,
    "start_time": "2021-12-06T03:47:32.863Z"
   },
   {
    "duration": 16,
    "start_time": "2021-12-06T03:47:35.929Z"
   },
   {
    "duration": 27,
    "start_time": "2021-12-06T03:47:36.879Z"
   },
   {
    "duration": 131,
    "start_time": "2021-12-06T03:47:39.761Z"
   },
   {
    "duration": 11,
    "start_time": "2021-12-06T03:47:41.471Z"
   },
   {
    "duration": 24,
    "start_time": "2021-12-06T03:47:43.928Z"
   },
   {
    "duration": 109,
    "start_time": "2021-12-06T03:47:45.336Z"
   },
   {
    "duration": 10,
    "start_time": "2021-12-06T03:47:47.895Z"
   },
   {
    "duration": 32,
    "start_time": "2021-12-06T03:47:49.112Z"
   },
   {
    "duration": 80,
    "start_time": "2021-12-06T03:47:51.728Z"
   },
   {
    "duration": 12,
    "start_time": "2021-12-06T03:47:54.042Z"
   },
   {
    "duration": 9,
    "start_time": "2021-12-06T03:47:55.878Z"
   },
   {
    "duration": 14,
    "start_time": "2021-12-06T03:47:58.311Z"
   },
   {
    "duration": 10,
    "start_time": "2021-12-06T03:48:00.343Z"
   },
   {
    "duration": 10,
    "start_time": "2021-12-06T03:48:02.479Z"
   },
   {
    "duration": 40,
    "start_time": "2021-12-06T03:48:05.503Z"
   },
   {
    "duration": 29,
    "start_time": "2021-12-06T03:48:06.408Z"
   },
   {
    "duration": 5,
    "start_time": "2021-12-06T03:48:07.233Z"
   },
   {
    "duration": 24,
    "start_time": "2021-12-06T03:48:07.991Z"
   },
   {
    "duration": 5,
    "start_time": "2021-12-06T03:48:10.144Z"
   },
   {
    "duration": 7,
    "start_time": "2021-12-06T03:48:12.127Z"
   },
   {
    "duration": 7,
    "start_time": "2021-12-06T03:48:38.244Z"
   },
   {
    "duration": 21,
    "start_time": "2021-12-06T03:48:43.096Z"
   },
   {
    "duration": 12,
    "start_time": "2021-12-06T04:13:24.703Z"
   },
   {
    "duration": 434,
    "start_time": "2021-12-06T04:18:41.528Z"
   },
   {
    "duration": 85,
    "start_time": "2021-12-06T04:20:25.982Z"
   },
   {
    "duration": 47,
    "start_time": "2021-12-06T04:20:28.654Z"
   },
   {
    "duration": 13,
    "start_time": "2021-12-06T04:20:30.704Z"
   },
   {
    "duration": 12,
    "start_time": "2021-12-06T04:24:12.101Z"
   },
   {
    "duration": 10,
    "start_time": "2021-12-06T04:26:18.050Z"
   },
   {
    "duration": 201,
    "start_time": "2021-12-06T04:26:53.385Z"
   },
   {
    "duration": 5,
    "start_time": "2021-12-06T04:27:06.721Z"
   },
   {
    "duration": 12,
    "start_time": "2021-12-06T04:27:15.071Z"
   },
   {
    "duration": 736,
    "start_time": "2021-12-06T04:28:58.698Z"
   },
   {
    "duration": 121,
    "start_time": "2021-12-06T04:28:59.437Z"
   },
   {
    "duration": 3,
    "start_time": "2021-12-06T04:28:59.561Z"
   },
   {
    "duration": 510,
    "start_time": "2021-12-06T04:28:59.567Z"
   },
   {
    "duration": 544,
    "start_time": "2021-12-06T04:29:00.079Z"
   },
   {
    "duration": 16,
    "start_time": "2021-12-06T04:29:00.626Z"
   },
   {
    "duration": 32,
    "start_time": "2021-12-06T04:29:00.644Z"
   },
   {
    "duration": 162,
    "start_time": "2021-12-06T04:29:00.682Z"
   },
   {
    "duration": 12,
    "start_time": "2021-12-06T04:29:00.847Z"
   },
   {
    "duration": 36,
    "start_time": "2021-12-06T04:29:00.861Z"
   },
   {
    "duration": 134,
    "start_time": "2021-12-06T04:29:00.900Z"
   },
   {
    "duration": 10,
    "start_time": "2021-12-06T04:29:01.036Z"
   },
   {
    "duration": 37,
    "start_time": "2021-12-06T04:29:01.049Z"
   },
   {
    "duration": 62,
    "start_time": "2021-12-06T04:29:01.088Z"
   },
   {
    "duration": 33,
    "start_time": "2021-12-06T04:29:01.152Z"
   },
   {
    "duration": 28,
    "start_time": "2021-12-06T04:29:01.187Z"
   },
   {
    "duration": 33,
    "start_time": "2021-12-06T04:29:01.217Z"
   },
   {
    "duration": 15,
    "start_time": "2021-12-06T04:29:01.252Z"
   },
   {
    "duration": 25,
    "start_time": "2021-12-06T04:29:01.270Z"
   },
   {
    "duration": 54,
    "start_time": "2021-12-06T04:29:01.298Z"
   },
   {
    "duration": 46,
    "start_time": "2021-12-06T04:29:01.355Z"
   },
   {
    "duration": 9,
    "start_time": "2021-12-06T04:29:01.405Z"
   },
   {
    "duration": 42,
    "start_time": "2021-12-06T04:29:01.422Z"
   },
   {
    "duration": 7,
    "start_time": "2021-12-06T04:29:01.483Z"
   },
   {
    "duration": 11,
    "start_time": "2021-12-06T04:29:01.493Z"
   },
   {
    "duration": 3,
    "start_time": "2021-12-06T04:29:01.507Z"
   },
   {
    "duration": 19,
    "start_time": "2021-12-06T04:29:01.513Z"
   },
   {
    "duration": 7,
    "start_time": "2021-12-06T04:29:01.535Z"
   },
   {
    "duration": 8,
    "start_time": "2021-12-06T04:29:01.545Z"
   },
   {
    "duration": 28,
    "start_time": "2021-12-06T04:29:01.556Z"
   },
   {
    "duration": 79,
    "start_time": "2021-12-06T04:29:01.587Z"
   },
   {
    "duration": 19,
    "start_time": "2021-12-06T04:29:01.669Z"
   },
   {
    "duration": 23,
    "start_time": "2021-12-06T04:29:01.690Z"
   },
   {
    "duration": 24,
    "start_time": "2021-12-06T04:29:01.715Z"
   },
   {
    "duration": 12,
    "start_time": "2021-12-06T04:29:01.741Z"
   },
   {
    "duration": 13,
    "start_time": "2021-12-06T04:29:01.756Z"
   },
   {
    "duration": 29,
    "start_time": "2021-12-06T04:29:01.772Z"
   },
   {
    "duration": 111,
    "start_time": "2021-12-06T04:29:01.804Z"
   },
   {
    "duration": -40,
    "start_time": "2021-12-06T04:29:01.957Z"
   },
   {
    "duration": 44,
    "start_time": "2021-12-06T04:29:32.123Z"
   },
   {
    "duration": 398,
    "start_time": "2021-12-06T04:29:36.218Z"
   },
   {
    "duration": 12,
    "start_time": "2021-12-06T04:30:33.553Z"
   },
   {
    "duration": 10,
    "start_time": "2021-12-06T04:30:35.157Z"
   },
   {
    "duration": 19,
    "start_time": "2021-12-06T04:30:39.858Z"
   },
   {
    "duration": 11,
    "start_time": "2021-12-06T04:30:48.123Z"
   },
   {
    "duration": 16,
    "start_time": "2021-12-06T04:34:52.926Z"
   },
   {
    "duration": 16,
    "start_time": "2021-12-06T04:35:00.710Z"
   },
   {
    "duration": 11,
    "start_time": "2021-12-06T04:35:15.494Z"
   },
   {
    "duration": 8,
    "start_time": "2021-12-06T04:35:41.269Z"
   },
   {
    "duration": 10,
    "start_time": "2021-12-06T04:36:18.997Z"
   },
   {
    "duration": 9,
    "start_time": "2021-12-06T04:36:20.153Z"
   },
   {
    "duration": 8,
    "start_time": "2021-12-06T04:36:21.420Z"
   },
   {
    "duration": 8,
    "start_time": "2021-12-06T04:36:41.661Z"
   },
   {
    "duration": 12,
    "start_time": "2021-12-06T04:36:47.901Z"
   },
   {
    "duration": 10,
    "start_time": "2021-12-06T04:36:48.691Z"
   },
   {
    "duration": 8,
    "start_time": "2021-12-06T04:36:51.547Z"
   },
   {
    "duration": 297,
    "start_time": "2021-12-06T04:39:35.817Z"
   },
   {
    "duration": 3,
    "start_time": "2021-12-06T04:39:45.331Z"
   },
   {
    "duration": 6,
    "start_time": "2021-12-06T04:39:51.426Z"
   },
   {
    "duration": 31,
    "start_time": "2021-12-06T04:39:55.203Z"
   },
   {
    "duration": 11,
    "start_time": "2021-12-06T04:42:16.131Z"
   },
   {
    "duration": 11,
    "start_time": "2021-12-06T04:44:42.423Z"
   },
   {
    "duration": 22,
    "start_time": "2021-12-06T04:45:15.127Z"
   },
   {
    "duration": 12,
    "start_time": "2021-12-06T04:45:16.062Z"
   },
   {
    "duration": 31,
    "start_time": "2021-12-06T04:45:27.579Z"
   },
   {
    "duration": 13,
    "start_time": "2021-12-06T04:45:28.233Z"
   },
   {
    "duration": 36,
    "start_time": "2021-12-06T04:46:55.309Z"
   },
   {
    "duration": 13,
    "start_time": "2021-12-06T04:46:56.565Z"
   },
   {
    "duration": 35,
    "start_time": "2021-12-06T04:47:15.119Z"
   },
   {
    "duration": 13,
    "start_time": "2021-12-06T04:47:15.708Z"
   },
   {
    "duration": 11,
    "start_time": "2021-12-06T04:48:06.627Z"
   },
   {
    "duration": 22,
    "start_time": "2021-12-06T04:48:19.691Z"
   },
   {
    "duration": 11,
    "start_time": "2021-12-06T04:48:38.371Z"
   },
   {
    "duration": 9,
    "start_time": "2021-12-06T04:48:40.307Z"
   },
   {
    "duration": 13,
    "start_time": "2021-12-06T04:48:42.076Z"
   },
   {
    "duration": 8,
    "start_time": "2021-12-06T04:49:00.076Z"
   },
   {
    "duration": 14,
    "start_time": "2021-12-06T04:54:30.655Z"
   },
   {
    "duration": 11,
    "start_time": "2021-12-06T04:54:32.401Z"
   },
   {
    "duration": 19,
    "start_time": "2021-12-06T04:54:34.842Z"
   },
   {
    "duration": 8,
    "start_time": "2021-12-06T04:56:43.874Z"
   },
   {
    "duration": 314,
    "start_time": "2021-12-06T04:59:19.851Z"
   },
   {
    "duration": 13,
    "start_time": "2021-12-06T05:01:24.416Z"
   },
   {
    "duration": 11,
    "start_time": "2021-12-06T05:01:27.233Z"
   },
   {
    "duration": 23,
    "start_time": "2021-12-06T05:01:28.426Z"
   },
   {
    "duration": 1005,
    "start_time": "2021-12-06T05:45:08.477Z"
   },
   {
    "duration": 183,
    "start_time": "2021-12-06T05:45:09.485Z"
   },
   {
    "duration": 3,
    "start_time": "2021-12-06T05:45:09.672Z"
   },
   {
    "duration": 663,
    "start_time": "2021-12-06T05:45:09.678Z"
   },
   {
    "duration": 561,
    "start_time": "2021-12-06T05:45:10.344Z"
   },
   {
    "duration": 18,
    "start_time": "2021-12-06T05:45:10.908Z"
   },
   {
    "duration": 30,
    "start_time": "2021-12-06T05:45:10.929Z"
   },
   {
    "duration": 157,
    "start_time": "2021-12-06T05:45:10.963Z"
   },
   {
    "duration": 12,
    "start_time": "2021-12-06T05:45:11.122Z"
   },
   {
    "duration": 46,
    "start_time": "2021-12-06T05:45:11.136Z"
   },
   {
    "duration": 108,
    "start_time": "2021-12-06T05:45:11.184Z"
   },
   {
    "duration": 10,
    "start_time": "2021-12-06T05:45:11.294Z"
   },
   {
    "duration": 21,
    "start_time": "2021-12-06T05:45:11.307Z"
   },
   {
    "duration": 96,
    "start_time": "2021-12-06T05:45:11.330Z"
   },
   {
    "duration": 11,
    "start_time": "2021-12-06T05:45:11.428Z"
   },
   {
    "duration": 9,
    "start_time": "2021-12-06T05:45:11.441Z"
   },
   {
    "duration": 40,
    "start_time": "2021-12-06T05:45:11.453Z"
   },
   {
    "duration": 12,
    "start_time": "2021-12-06T05:45:11.496Z"
   },
   {
    "duration": 10,
    "start_time": "2021-12-06T05:45:11.510Z"
   },
   {
    "duration": 76,
    "start_time": "2021-12-06T05:45:11.522Z"
   },
   {
    "duration": 28,
    "start_time": "2021-12-06T05:45:11.600Z"
   },
   {
    "duration": 6,
    "start_time": "2021-12-06T05:45:11.630Z"
   },
   {
    "duration": 56,
    "start_time": "2021-12-06T05:45:11.641Z"
   },
   {
    "duration": 8,
    "start_time": "2021-12-06T05:45:11.700Z"
   },
   {
    "duration": 4,
    "start_time": "2021-12-06T05:45:11.711Z"
   },
   {
    "duration": 630,
    "start_time": "2021-12-06T05:45:11.717Z"
   },
   {
    "duration": -77,
    "start_time": "2021-12-06T05:45:12.426Z"
   },
   {
    "duration": -78,
    "start_time": "2021-12-06T05:45:12.428Z"
   },
   {
    "duration": -77,
    "start_time": "2021-12-06T05:45:12.429Z"
   },
   {
    "duration": -78,
    "start_time": "2021-12-06T05:45:12.431Z"
   },
   {
    "duration": -78,
    "start_time": "2021-12-06T05:45:12.432Z"
   },
   {
    "duration": -78,
    "start_time": "2021-12-06T05:45:12.434Z"
   },
   {
    "duration": -78,
    "start_time": "2021-12-06T05:45:12.435Z"
   },
   {
    "duration": -78,
    "start_time": "2021-12-06T05:45:12.437Z"
   },
   {
    "duration": -78,
    "start_time": "2021-12-06T05:45:12.438Z"
   },
   {
    "duration": -78,
    "start_time": "2021-12-06T05:45:12.440Z"
   },
   {
    "duration": -78,
    "start_time": "2021-12-06T05:45:12.441Z"
   },
   {
    "duration": -78,
    "start_time": "2021-12-06T05:45:12.442Z"
   },
   {
    "duration": -79,
    "start_time": "2021-12-06T05:45:12.444Z"
   },
   {
    "duration": -84,
    "start_time": "2021-12-06T05:45:12.450Z"
   },
   {
    "duration": -88,
    "start_time": "2021-12-06T05:45:12.456Z"
   },
   {
    "duration": -91,
    "start_time": "2021-12-06T05:45:12.460Z"
   },
   {
    "duration": -97,
    "start_time": "2021-12-06T05:45:12.467Z"
   },
   {
    "duration": -102,
    "start_time": "2021-12-06T05:45:12.473Z"
   },
   {
    "duration": -102,
    "start_time": "2021-12-06T05:45:12.474Z"
   },
   {
    "duration": -103,
    "start_time": "2021-12-06T05:45:12.477Z"
   },
   {
    "duration": -106,
    "start_time": "2021-12-06T05:45:12.481Z"
   },
   {
    "duration": -107,
    "start_time": "2021-12-06T05:45:12.483Z"
   },
   {
    "duration": 501,
    "start_time": "2021-12-06T05:45:29.555Z"
   },
   {
    "duration": 233,
    "start_time": "2021-12-06T05:45:53.674Z"
   },
   {
    "duration": 17,
    "start_time": "2021-12-06T05:46:03.738Z"
   },
   {
    "duration": 880,
    "start_time": "2021-12-06T05:48:11.156Z"
   },
   {
    "duration": 109,
    "start_time": "2021-12-06T05:48:12.039Z"
   },
   {
    "duration": 3,
    "start_time": "2021-12-06T05:48:12.150Z"
   },
   {
    "duration": 527,
    "start_time": "2021-12-06T05:48:12.156Z"
   },
   {
    "duration": 535,
    "start_time": "2021-12-06T05:48:12.686Z"
   },
   {
    "duration": 15,
    "start_time": "2021-12-06T05:48:13.223Z"
   },
   {
    "duration": 31,
    "start_time": "2021-12-06T05:48:13.241Z"
   },
   {
    "duration": 218,
    "start_time": "2021-12-06T05:48:13.276Z"
   },
   {
    "duration": 16,
    "start_time": "2021-12-06T05:48:13.503Z"
   },
   {
    "duration": 23,
    "start_time": "2021-12-06T05:48:13.522Z"
   },
   {
    "duration": 158,
    "start_time": "2021-12-06T05:48:13.549Z"
   },
   {
    "duration": 15,
    "start_time": "2021-12-06T05:48:13.710Z"
   },
   {
    "duration": 55,
    "start_time": "2021-12-06T05:48:13.728Z"
   },
   {
    "duration": 67,
    "start_time": "2021-12-06T05:48:13.786Z"
   },
   {
    "duration": 32,
    "start_time": "2021-12-06T05:48:13.855Z"
   },
   {
    "duration": 14,
    "start_time": "2021-12-06T05:48:13.890Z"
   },
   {
    "duration": 15,
    "start_time": "2021-12-06T05:48:13.906Z"
   },
   {
    "duration": 9,
    "start_time": "2021-12-06T05:48:13.923Z"
   },
   {
    "duration": 53,
    "start_time": "2021-12-06T05:48:13.934Z"
   },
   {
    "duration": 40,
    "start_time": "2021-12-06T05:48:13.989Z"
   },
   {
    "duration": 51,
    "start_time": "2021-12-06T05:48:14.031Z"
   },
   {
    "duration": 6,
    "start_time": "2021-12-06T05:48:14.084Z"
   },
   {
    "duration": 26,
    "start_time": "2021-12-06T05:48:14.095Z"
   },
   {
    "duration": 6,
    "start_time": "2021-12-06T05:48:14.125Z"
   },
   {
    "duration": 266,
    "start_time": "2021-12-06T05:48:14.133Z"
   },
   {
    "duration": 15,
    "start_time": "2021-12-06T05:48:14.402Z"
   },
   {
    "duration": 12,
    "start_time": "2021-12-06T05:48:14.420Z"
   },
   {
    "duration": 4,
    "start_time": "2021-12-06T05:48:14.434Z"
   },
   {
    "duration": 42,
    "start_time": "2021-12-06T05:48:14.441Z"
   },
   {
    "duration": 8,
    "start_time": "2021-12-06T05:48:14.485Z"
   },
   {
    "duration": 7,
    "start_time": "2021-12-06T05:48:14.495Z"
   },
   {
    "duration": 8,
    "start_time": "2021-12-06T05:48:14.504Z"
   },
   {
    "duration": 95,
    "start_time": "2021-12-06T05:48:14.514Z"
   },
   {
    "duration": 49,
    "start_time": "2021-12-06T05:48:14.611Z"
   },
   {
    "duration": 28,
    "start_time": "2021-12-06T05:48:14.662Z"
   },
   {
    "duration": 22,
    "start_time": "2021-12-06T05:48:14.693Z"
   },
   {
    "duration": 11,
    "start_time": "2021-12-06T05:48:14.718Z"
   },
   {
    "duration": 55,
    "start_time": "2021-12-06T05:48:14.732Z"
   },
   {
    "duration": 26,
    "start_time": "2021-12-06T05:48:14.790Z"
   },
   {
    "duration": 12,
    "start_time": "2021-12-06T05:48:14.819Z"
   },
   {
    "duration": 9,
    "start_time": "2021-12-06T05:48:14.834Z"
   },
   {
    "duration": 45,
    "start_time": "2021-12-06T05:48:14.846Z"
   },
   {
    "duration": 13,
    "start_time": "2021-12-06T05:48:14.894Z"
   },
   {
    "duration": 17,
    "start_time": "2021-12-06T05:48:14.909Z"
   },
   {
    "duration": 60,
    "start_time": "2021-12-06T05:48:14.929Z"
   },
   {
    "duration": 10,
    "start_time": "2021-12-06T05:48:14.991Z"
   },
   {
    "duration": 116,
    "start_time": "2021-12-06T05:48:15.003Z"
   },
   {
    "duration": -50,
    "start_time": "2021-12-06T05:48:15.172Z"
   },
   {
    "duration": 7131,
    "start_time": "2021-12-06T05:49:03.309Z"
   },
   {
    "duration": 10,
    "start_time": "2021-12-06T05:57:25.998Z"
   },
   {
    "duration": 907,
    "start_time": "2021-12-06T06:01:41.467Z"
   },
   {
    "duration": 193,
    "start_time": "2021-12-06T06:01:42.378Z"
   },
   {
    "duration": 8,
    "start_time": "2021-12-06T06:01:42.575Z"
   },
   {
    "duration": 668,
    "start_time": "2021-12-06T06:01:42.586Z"
   },
   {
    "duration": 756,
    "start_time": "2021-12-06T06:01:43.257Z"
   },
   {
    "duration": 20,
    "start_time": "2021-12-06T06:01:44.017Z"
   },
   {
    "duration": 30,
    "start_time": "2021-12-06T06:01:44.040Z"
   },
   {
    "duration": 152,
    "start_time": "2021-12-06T06:01:44.074Z"
   },
   {
    "duration": 12,
    "start_time": "2021-12-06T06:01:44.231Z"
   },
   {
    "duration": 58,
    "start_time": "2021-12-06T06:01:44.247Z"
   },
   {
    "duration": 124,
    "start_time": "2021-12-06T06:01:44.308Z"
   },
   {
    "duration": 12,
    "start_time": "2021-12-06T06:01:44.435Z"
   },
   {
    "duration": 52,
    "start_time": "2021-12-06T06:01:44.450Z"
   },
   {
    "duration": 70,
    "start_time": "2021-12-06T06:01:44.504Z"
   },
   {
    "duration": 11,
    "start_time": "2021-12-06T06:01:44.582Z"
   },
   {
    "duration": 12,
    "start_time": "2021-12-06T06:01:44.595Z"
   },
   {
    "duration": 24,
    "start_time": "2021-12-06T06:01:44.610Z"
   },
   {
    "duration": 44,
    "start_time": "2021-12-06T06:01:44.637Z"
   },
   {
    "duration": 18,
    "start_time": "2021-12-06T06:01:44.684Z"
   },
   {
    "duration": 46,
    "start_time": "2021-12-06T06:01:44.705Z"
   },
   {
    "duration": 57,
    "start_time": "2021-12-06T06:01:44.753Z"
   },
   {
    "duration": 5,
    "start_time": "2021-12-06T06:01:44.813Z"
   },
   {
    "duration": 28,
    "start_time": "2021-12-06T06:01:44.823Z"
   },
   {
    "duration": 29,
    "start_time": "2021-12-06T06:01:44.854Z"
   },
   {
    "duration": 295,
    "start_time": "2021-12-06T06:01:44.887Z"
   },
   {
    "duration": 16,
    "start_time": "2021-12-06T06:01:45.185Z"
   },
   {
    "duration": 15,
    "start_time": "2021-12-06T06:01:45.204Z"
   },
   {
    "duration": 8,
    "start_time": "2021-12-06T06:01:45.222Z"
   },
   {
    "duration": 6,
    "start_time": "2021-12-06T06:01:45.233Z"
   },
   {
    "duration": 7,
    "start_time": "2021-12-06T06:01:45.242Z"
   },
   {
    "duration": 5,
    "start_time": "2021-12-06T06:01:45.251Z"
   },
   {
    "duration": 4,
    "start_time": "2021-12-06T06:01:45.292Z"
   },
   {
    "duration": 92,
    "start_time": "2021-12-06T06:01:45.299Z"
   },
   {
    "duration": 51,
    "start_time": "2021-12-06T06:01:45.393Z"
   },
   {
    "duration": 37,
    "start_time": "2021-12-06T06:01:45.446Z"
   },
   {
    "duration": 29,
    "start_time": "2021-12-06T06:01:45.487Z"
   },
   {
    "duration": 12,
    "start_time": "2021-12-06T06:01:45.518Z"
   },
   {
    "duration": 9,
    "start_time": "2021-12-06T06:01:45.533Z"
   },
   {
    "duration": 44,
    "start_time": "2021-12-06T06:01:45.545Z"
   },
   {
    "duration": 5,
    "start_time": "2021-12-06T06:01:45.591Z"
   },
   {
    "duration": 15,
    "start_time": "2021-12-06T06:01:45.607Z"
   },
   {
    "duration": 15,
    "start_time": "2021-12-06T06:01:45.626Z"
   },
   {
    "duration": 73,
    "start_time": "2021-12-06T06:01:45.644Z"
   },
   {
    "duration": 10,
    "start_time": "2021-12-06T06:01:45.720Z"
   },
   {
    "duration": 93,
    "start_time": "2021-12-06T06:01:45.733Z"
   },
   {
    "duration": -40,
    "start_time": "2021-12-06T06:01:45.869Z"
   },
   {
    "duration": 18,
    "start_time": "2021-12-06T06:16:17.840Z"
   },
   {
    "duration": 42,
    "start_time": "2021-12-06T06:16:36.761Z"
   },
   {
    "duration": 31,
    "start_time": "2021-12-06T07:51:59.809Z"
   },
   {
    "duration": 10,
    "start_time": "2021-12-06T07:59:27.420Z"
   },
   {
    "duration": 22,
    "start_time": "2021-12-06T07:59:30.655Z"
   },
   {
    "duration": 12,
    "start_time": "2021-12-06T07:59:39.155Z"
   },
   {
    "duration": 22,
    "start_time": "2021-12-06T09:21:09.588Z"
   },
   {
    "duration": 10,
    "start_time": "2021-12-06T09:21:18.046Z"
   },
   {
    "duration": 9,
    "start_time": "2021-12-06T09:21:20.791Z"
   },
   {
    "duration": 15,
    "start_time": "2021-12-06T09:22:13.922Z"
   },
   {
    "duration": 34,
    "start_time": "2021-12-06T09:23:47.149Z"
   },
   {
    "duration": 11,
    "start_time": "2021-12-06T09:25:36.197Z"
   },
   {
    "duration": 28,
    "start_time": "2021-12-06T09:25:39.248Z"
   },
   {
    "duration": 13,
    "start_time": "2021-12-06T09:27:04.984Z"
   },
   {
    "duration": 28,
    "start_time": "2021-12-06T09:27:13.263Z"
   },
   {
    "duration": 13,
    "start_time": "2021-12-06T09:31:41.973Z"
   },
   {
    "duration": 13,
    "start_time": "2021-12-06T09:33:51.693Z"
   },
   {
    "duration": 15,
    "start_time": "2021-12-06T09:33:54.123Z"
   },
   {
    "duration": 27,
    "start_time": "2021-12-06T09:34:36.156Z"
   },
   {
    "duration": 39,
    "start_time": "2021-12-06T10:14:36.442Z"
   },
   {
    "duration": 10,
    "start_time": "2021-12-06T10:15:28.227Z"
   },
   {
    "duration": 9507,
    "start_time": "2021-12-06T10:15:31.281Z"
   },
   {
    "duration": 5,
    "start_time": "2021-12-06T10:19:13.015Z"
   },
   {
    "duration": 7,
    "start_time": "2021-12-06T10:19:14.864Z"
   },
   {
    "duration": 644,
    "start_time": "2021-12-06T10:19:18.853Z"
   },
   {
    "duration": 805,
    "start_time": "2021-12-06T10:19:48.441Z"
   },
   {
    "duration": 128,
    "start_time": "2021-12-06T10:19:49.249Z"
   },
   {
    "duration": 3,
    "start_time": "2021-12-06T10:19:49.380Z"
   },
   {
    "duration": 487,
    "start_time": "2021-12-06T10:19:49.385Z"
   },
   {
    "duration": 553,
    "start_time": "2021-12-06T10:19:49.875Z"
   },
   {
    "duration": 18,
    "start_time": "2021-12-06T10:19:50.431Z"
   },
   {
    "duration": 26,
    "start_time": "2021-12-06T10:19:50.452Z"
   },
   {
    "duration": 157,
    "start_time": "2021-12-06T10:19:50.482Z"
   },
   {
    "duration": 12,
    "start_time": "2021-12-06T10:19:50.642Z"
   },
   {
    "duration": 65,
    "start_time": "2021-12-06T10:19:50.656Z"
   },
   {
    "duration": 113,
    "start_time": "2021-12-06T10:19:50.724Z"
   },
   {
    "duration": 11,
    "start_time": "2021-12-06T10:19:50.841Z"
   },
   {
    "duration": 26,
    "start_time": "2021-12-06T10:19:50.854Z"
   },
   {
    "duration": 81,
    "start_time": "2021-12-06T10:19:50.883Z"
   },
   {
    "duration": 12,
    "start_time": "2021-12-06T10:19:50.966Z"
   },
   {
    "duration": 13,
    "start_time": "2021-12-06T10:19:50.980Z"
   },
   {
    "duration": 38,
    "start_time": "2021-12-06T10:19:50.996Z"
   },
   {
    "duration": 40,
    "start_time": "2021-12-06T10:19:51.040Z"
   },
   {
    "duration": 14,
    "start_time": "2021-12-06T10:19:51.083Z"
   },
   {
    "duration": 50,
    "start_time": "2021-12-06T10:19:51.099Z"
   },
   {
    "duration": 29,
    "start_time": "2021-12-06T10:19:51.152Z"
   },
   {
    "duration": 6,
    "start_time": "2021-12-06T10:19:51.184Z"
   },
   {
    "duration": 53,
    "start_time": "2021-12-06T10:19:51.196Z"
   },
   {
    "duration": 5,
    "start_time": "2021-12-06T10:19:51.252Z"
   },
   {
    "duration": 257,
    "start_time": "2021-12-06T10:19:51.259Z"
   },
   {
    "duration": 18,
    "start_time": "2021-12-06T10:19:51.522Z"
   },
   {
    "duration": 14,
    "start_time": "2021-12-06T10:19:51.543Z"
   },
   {
    "duration": 6,
    "start_time": "2021-12-06T10:19:51.559Z"
   },
   {
    "duration": 21,
    "start_time": "2021-12-06T10:19:51.567Z"
   },
   {
    "duration": 7,
    "start_time": "2021-12-06T10:19:51.591Z"
   },
   {
    "duration": 22,
    "start_time": "2021-12-06T10:19:51.601Z"
   },
   {
    "duration": 28,
    "start_time": "2021-12-06T10:19:51.625Z"
   },
   {
    "duration": 79,
    "start_time": "2021-12-06T10:19:51.656Z"
   },
   {
    "duration": 48,
    "start_time": "2021-12-06T10:19:51.738Z"
   },
   {
    "duration": 44,
    "start_time": "2021-12-06T10:19:51.789Z"
   },
   {
    "duration": 27,
    "start_time": "2021-12-06T10:19:51.835Z"
   },
   {
    "duration": 11,
    "start_time": "2021-12-06T10:19:51.865Z"
   },
   {
    "duration": 11,
    "start_time": "2021-12-06T10:19:51.878Z"
   },
   {
    "duration": 41,
    "start_time": "2021-12-06T10:19:51.892Z"
   },
   {
    "duration": 9,
    "start_time": "2021-12-06T10:19:51.935Z"
   },
   {
    "duration": 17,
    "start_time": "2021-12-06T10:19:51.947Z"
   },
   {
    "duration": 15,
    "start_time": "2021-12-06T10:19:51.967Z"
   },
   {
    "duration": 66,
    "start_time": "2021-12-06T10:19:51.984Z"
   },
   {
    "duration": 10,
    "start_time": "2021-12-06T10:19:52.053Z"
   },
   {
    "duration": 57,
    "start_time": "2021-12-06T10:19:52.065Z"
   },
   {
    "duration": 15,
    "start_time": "2021-12-06T10:19:52.125Z"
   },
   {
    "duration": 14,
    "start_time": "2021-12-06T10:19:52.143Z"
   },
   {
    "duration": 12,
    "start_time": "2021-12-06T10:19:52.160Z"
   },
   {
    "duration": 10,
    "start_time": "2021-12-06T10:19:52.174Z"
   },
   {
    "duration": 56,
    "start_time": "2021-12-06T10:19:52.187Z"
   },
   {
    "duration": 21,
    "start_time": "2021-12-06T10:19:52.246Z"
   },
   {
    "duration": 6,
    "start_time": "2021-12-06T10:19:52.270Z"
   },
   {
    "duration": 20,
    "start_time": "2021-12-06T10:19:52.279Z"
   },
   {
    "duration": 874,
    "start_time": "2021-12-06T10:19:52.301Z"
   },
   {
    "duration": -73,
    "start_time": "2021-12-06T10:19:53.250Z"
   },
   {
    "duration": 27,
    "start_time": "2021-12-06T10:20:29.935Z"
   },
   {
    "duration": 9,
    "start_time": "2021-12-06T10:20:56.909Z"
   },
   {
    "duration": 13,
    "start_time": "2021-12-06T10:21:03.358Z"
   },
   {
    "duration": 7,
    "start_time": "2021-12-06T10:27:01.149Z"
   },
   {
    "duration": 612,
    "start_time": "2021-12-06T10:27:02.421Z"
   },
   {
    "duration": 9,
    "start_time": "2021-12-06T10:27:28.821Z"
   },
   {
    "duration": 720,
    "start_time": "2021-12-06T10:27:29.581Z"
   },
   {
    "duration": 7,
    "start_time": "2021-12-06T10:27:50.858Z"
   },
   {
    "duration": 683,
    "start_time": "2021-12-06T10:27:51.586Z"
   },
   {
    "duration": 8,
    "start_time": "2021-12-06T10:32:46.060Z"
   },
   {
    "duration": 5,
    "start_time": "2021-12-06T10:32:46.878Z"
   },
   {
    "duration": 6,
    "start_time": "2021-12-06T10:32:49.380Z"
   },
   {
    "duration": 655,
    "start_time": "2021-12-06T10:32:51.610Z"
   },
   {
    "duration": 4,
    "start_time": "2021-12-06T10:33:32.760Z"
   },
   {
    "duration": 6,
    "start_time": "2021-12-06T10:33:51.810Z"
   },
   {
    "duration": 906,
    "start_time": "2021-12-06T10:33:57.341Z"
   },
   {
    "duration": 298,
    "start_time": "2021-12-06T10:38:49.106Z"
   },
   {
    "duration": 8,
    "start_time": "2021-12-06T11:18:28.220Z"
   },
   {
    "duration": 614,
    "start_time": "2021-12-06T11:18:31.592Z"
   },
   {
    "duration": 17,
    "start_time": "2021-12-06T11:19:57.255Z"
   },
   {
    "duration": 621,
    "start_time": "2021-12-06T11:19:59.199Z"
   },
   {
    "duration": 7,
    "start_time": "2021-12-06T11:20:20.039Z"
   },
   {
    "duration": 665,
    "start_time": "2021-12-06T11:20:20.771Z"
   },
   {
    "duration": 7,
    "start_time": "2021-12-06T11:22:46.016Z"
   },
   {
    "duration": 764,
    "start_time": "2021-12-06T11:22:48.631Z"
   },
   {
    "duration": 30,
    "start_time": "2021-12-06T11:23:19.212Z"
   },
   {
    "duration": 8,
    "start_time": "2021-12-06T11:26:38.341Z"
   },
   {
    "duration": 730,
    "start_time": "2021-12-06T11:26:39.653Z"
   },
   {
    "duration": 48,
    "start_time": "2021-12-06T11:30:40.817Z"
   },
   {
    "duration": 796,
    "start_time": "2021-12-07T09:27:45.620Z"
   },
   {
    "duration": 205,
    "start_time": "2021-12-07T09:27:46.419Z"
   },
   {
    "duration": 5,
    "start_time": "2021-12-07T09:27:46.628Z"
   },
   {
    "duration": 538,
    "start_time": "2021-12-07T09:27:46.636Z"
   },
   {
    "duration": 519,
    "start_time": "2021-12-07T09:27:47.177Z"
   },
   {
    "duration": 16,
    "start_time": "2021-12-07T09:27:47.699Z"
   },
   {
    "duration": 29,
    "start_time": "2021-12-07T09:27:47.717Z"
   },
   {
    "duration": 159,
    "start_time": "2021-12-07T09:27:47.750Z"
   },
   {
    "duration": 14,
    "start_time": "2021-12-07T09:27:47.916Z"
   },
   {
    "duration": 24,
    "start_time": "2021-12-07T09:27:47.933Z"
   },
   {
    "duration": 142,
    "start_time": "2021-12-07T09:27:47.959Z"
   },
   {
    "duration": 15,
    "start_time": "2021-12-07T09:27:48.103Z"
   },
   {
    "duration": 20,
    "start_time": "2021-12-07T09:27:48.121Z"
   },
   {
    "duration": 102,
    "start_time": "2021-12-07T09:27:48.143Z"
   },
   {
    "duration": 11,
    "start_time": "2021-12-07T09:27:48.247Z"
   },
   {
    "duration": 14,
    "start_time": "2021-12-07T09:27:48.261Z"
   },
   {
    "duration": 45,
    "start_time": "2021-12-07T09:27:48.277Z"
   },
   {
    "duration": 16,
    "start_time": "2021-12-07T09:27:48.325Z"
   },
   {
    "duration": 18,
    "start_time": "2021-12-07T09:27:48.344Z"
   },
   {
    "duration": 67,
    "start_time": "2021-12-07T09:27:48.365Z"
   },
   {
    "duration": 28,
    "start_time": "2021-12-07T09:27:48.435Z"
   },
   {
    "duration": 6,
    "start_time": "2021-12-07T09:27:48.466Z"
   },
   {
    "duration": 55,
    "start_time": "2021-12-07T09:27:48.478Z"
   },
   {
    "duration": 6,
    "start_time": "2021-12-07T09:27:48.537Z"
   },
   {
    "duration": 242,
    "start_time": "2021-12-07T09:27:48.546Z"
   },
   {
    "duration": 31,
    "start_time": "2021-12-07T09:27:48.791Z"
   },
   {
    "duration": 10,
    "start_time": "2021-12-07T09:27:48.825Z"
   },
   {
    "duration": 3,
    "start_time": "2021-12-07T09:27:48.838Z"
   },
   {
    "duration": 10,
    "start_time": "2021-12-07T09:27:48.843Z"
   },
   {
    "duration": 5,
    "start_time": "2021-12-07T09:27:48.855Z"
   },
   {
    "duration": 5,
    "start_time": "2021-12-07T09:27:48.862Z"
   },
   {
    "duration": 6,
    "start_time": "2021-12-07T09:27:48.869Z"
   },
   {
    "duration": 108,
    "start_time": "2021-12-07T09:27:48.877Z"
   },
   {
    "duration": 55,
    "start_time": "2021-12-07T09:27:48.987Z"
   },
   {
    "duration": 21,
    "start_time": "2021-12-07T09:27:49.045Z"
   },
   {
    "duration": 49,
    "start_time": "2021-12-07T09:27:49.068Z"
   },
   {
    "duration": 12,
    "start_time": "2021-12-07T09:27:49.119Z"
   },
   {
    "duration": 9,
    "start_time": "2021-12-07T09:27:49.134Z"
   },
   {
    "duration": 19,
    "start_time": "2021-12-07T09:27:49.146Z"
   },
   {
    "duration": 5,
    "start_time": "2021-12-07T09:27:49.168Z"
   },
   {
    "duration": 47,
    "start_time": "2021-12-07T09:27:49.176Z"
   },
   {
    "duration": 15,
    "start_time": "2021-12-07T09:27:49.225Z"
   },
   {
    "duration": 33,
    "start_time": "2021-12-07T09:27:49.243Z"
   },
   {
    "duration": 46,
    "start_time": "2021-12-07T09:27:49.279Z"
   },
   {
    "duration": 31,
    "start_time": "2021-12-07T09:27:49.327Z"
   },
   {
    "duration": 9,
    "start_time": "2021-12-07T09:27:49.360Z"
   },
   {
    "duration": 49,
    "start_time": "2021-12-07T09:27:49.372Z"
   },
   {
    "duration": 12,
    "start_time": "2021-12-07T09:27:49.423Z"
   },
   {
    "duration": 19,
    "start_time": "2021-12-07T09:27:49.438Z"
   },
   {
    "duration": 28,
    "start_time": "2021-12-07T09:27:49.459Z"
   },
   {
    "duration": 40,
    "start_time": "2021-12-07T09:27:49.489Z"
   },
   {
    "duration": 5,
    "start_time": "2021-12-07T09:27:49.532Z"
   },
   {
    "duration": 17,
    "start_time": "2021-12-07T09:27:49.541Z"
   },
   {
    "duration": 9,
    "start_time": "2021-12-07T09:27:49.560Z"
   },
   {
    "duration": 822,
    "start_time": "2021-12-07T09:27:49.571Z"
   },
   {
    "duration": -70,
    "start_time": "2021-12-07T09:27:50.467Z"
   },
   {
    "duration": -72,
    "start_time": "2021-12-07T09:27:50.471Z"
   },
   {
    "duration": -72,
    "start_time": "2021-12-07T09:27:50.473Z"
   },
   {
    "duration": 788,
    "start_time": "2021-12-07T09:28:21.045Z"
   },
   {
    "duration": 125,
    "start_time": "2021-12-07T09:28:21.835Z"
   },
   {
    "duration": 3,
    "start_time": "2021-12-07T09:28:21.963Z"
   },
   {
    "duration": 505,
    "start_time": "2021-12-07T09:28:21.969Z"
   },
   {
    "duration": 511,
    "start_time": "2021-12-07T09:28:22.477Z"
   },
   {
    "duration": 17,
    "start_time": "2021-12-07T09:28:22.990Z"
   },
   {
    "duration": 29,
    "start_time": "2021-12-07T09:28:23.009Z"
   },
   {
    "duration": 178,
    "start_time": "2021-12-07T09:28:23.041Z"
   },
   {
    "duration": 18,
    "start_time": "2021-12-07T09:28:23.224Z"
   },
   {
    "duration": 24,
    "start_time": "2021-12-07T09:28:23.247Z"
   },
   {
    "duration": 135,
    "start_time": "2021-12-07T09:28:23.274Z"
   },
   {
    "duration": 14,
    "start_time": "2021-12-07T09:28:23.418Z"
   },
   {
    "duration": 20,
    "start_time": "2021-12-07T09:28:23.434Z"
   },
   {
    "duration": 85,
    "start_time": "2021-12-07T09:28:23.457Z"
   },
   {
    "duration": 12,
    "start_time": "2021-12-07T09:28:23.544Z"
   },
   {
    "duration": 10,
    "start_time": "2021-12-07T09:28:23.558Z"
   },
   {
    "duration": 47,
    "start_time": "2021-12-07T09:28:23.571Z"
   },
   {
    "duration": 10,
    "start_time": "2021-12-07T09:28:23.621Z"
   },
   {
    "duration": 13,
    "start_time": "2021-12-07T09:28:23.633Z"
   },
   {
    "duration": 74,
    "start_time": "2021-12-07T09:28:23.648Z"
   },
   {
    "duration": 28,
    "start_time": "2021-12-07T09:28:23.724Z"
   },
   {
    "duration": 6,
    "start_time": "2021-12-07T09:28:23.754Z"
   },
   {
    "duration": 55,
    "start_time": "2021-12-07T09:28:23.762Z"
   },
   {
    "duration": 5,
    "start_time": "2021-12-07T09:28:23.819Z"
   },
   {
    "duration": 262,
    "start_time": "2021-12-07T09:28:23.827Z"
   },
   {
    "duration": 26,
    "start_time": "2021-12-07T09:28:24.092Z"
   },
   {
    "duration": 9,
    "start_time": "2021-12-07T09:28:24.125Z"
   },
   {
    "duration": 4,
    "start_time": "2021-12-07T09:28:24.138Z"
   },
   {
    "duration": 6,
    "start_time": "2021-12-07T09:28:24.144Z"
   },
   {
    "duration": 6,
    "start_time": "2021-12-07T09:28:24.152Z"
   },
   {
    "duration": 7,
    "start_time": "2021-12-07T09:28:24.161Z"
   },
   {
    "duration": 10,
    "start_time": "2021-12-07T09:28:24.170Z"
   },
   {
    "duration": 74,
    "start_time": "2021-12-07T09:28:24.218Z"
   },
   {
    "duration": 62,
    "start_time": "2021-12-07T09:28:24.294Z"
   },
   {
    "duration": 22,
    "start_time": "2021-12-07T09:28:24.359Z"
   },
   {
    "duration": 52,
    "start_time": "2021-12-07T09:28:24.384Z"
   },
   {
    "duration": 13,
    "start_time": "2021-12-07T09:28:24.439Z"
   },
   {
    "duration": 11,
    "start_time": "2021-12-07T09:28:24.456Z"
   },
   {
    "duration": 55,
    "start_time": "2021-12-07T09:28:24.470Z"
   },
   {
    "duration": 15,
    "start_time": "2021-12-07T09:28:24.529Z"
   },
   {
    "duration": 17,
    "start_time": "2021-12-07T09:28:24.547Z"
   },
   {
    "duration": 13,
    "start_time": "2021-12-07T09:28:24.567Z"
   },
   {
    "duration": 53,
    "start_time": "2021-12-07T09:28:24.582Z"
   },
   {
    "duration": 8,
    "start_time": "2021-12-07T09:28:24.637Z"
   },
   {
    "duration": 30,
    "start_time": "2021-12-07T09:28:24.648Z"
   },
   {
    "duration": 39,
    "start_time": "2021-12-07T09:28:24.681Z"
   },
   {
    "duration": 8,
    "start_time": "2021-12-07T09:28:24.723Z"
   },
   {
    "duration": 20,
    "start_time": "2021-12-07T09:28:24.734Z"
   },
   {
    "duration": 19,
    "start_time": "2021-12-07T09:28:24.757Z"
   },
   {
    "duration": 75,
    "start_time": "2021-12-07T09:28:24.779Z"
   },
   {
    "duration": 13,
    "start_time": "2021-12-07T09:28:24.857Z"
   },
   {
    "duration": 6,
    "start_time": "2021-12-07T09:28:24.873Z"
   },
   {
    "duration": 45,
    "start_time": "2021-12-07T09:28:24.882Z"
   },
   {
    "duration": 7,
    "start_time": "2021-12-07T09:28:24.929Z"
   },
   {
    "duration": 1017,
    "start_time": "2021-12-07T09:28:24.939Z"
   },
   {
    "duration": -65,
    "start_time": "2021-12-07T09:28:26.023Z"
   },
   {
    "duration": -66,
    "start_time": "2021-12-07T09:28:26.026Z"
   },
   {
    "duration": -68,
    "start_time": "2021-12-07T09:28:26.029Z"
   },
   {
    "duration": 4065,
    "start_time": "2021-12-07T09:28:40.256Z"
   },
   {
    "duration": 4701,
    "start_time": "2021-12-07T09:28:55.748Z"
   },
   {
    "duration": 711,
    "start_time": "2021-12-07T09:29:05.807Z"
   },
   {
    "duration": 695,
    "start_time": "2021-12-07T09:30:16.464Z"
   },
   {
    "duration": 7,
    "start_time": "2021-12-07T09:30:26.046Z"
   },
   {
    "duration": 11180,
    "start_time": "2021-12-07T09:30:27.318Z"
   },
   {
    "duration": 28,
    "start_time": "2021-12-07T09:30:45.397Z"
   },
   {
    "duration": 762,
    "start_time": "2021-12-07T09:39:27.134Z"
   },
   {
    "duration": 122,
    "start_time": "2021-12-07T09:39:27.899Z"
   },
   {
    "duration": 3,
    "start_time": "2021-12-07T09:39:28.023Z"
   },
   {
    "duration": 535,
    "start_time": "2021-12-07T09:39:28.029Z"
   },
   {
    "duration": 535,
    "start_time": "2021-12-07T09:39:28.567Z"
   },
   {
    "duration": 16,
    "start_time": "2021-12-07T09:39:29.104Z"
   },
   {
    "duration": 35,
    "start_time": "2021-12-07T09:39:29.122Z"
   },
   {
    "duration": 158,
    "start_time": "2021-12-07T09:39:29.160Z"
   },
   {
    "duration": 12,
    "start_time": "2021-12-07T09:39:29.322Z"
   },
   {
    "duration": 26,
    "start_time": "2021-12-07T09:39:29.338Z"
   },
   {
    "duration": 141,
    "start_time": "2021-12-07T09:39:29.367Z"
   },
   {
    "duration": 15,
    "start_time": "2021-12-07T09:39:29.510Z"
   },
   {
    "duration": 21,
    "start_time": "2021-12-07T09:39:29.527Z"
   },
   {
    "duration": 92,
    "start_time": "2021-12-07T09:39:29.550Z"
   },
   {
    "duration": 11,
    "start_time": "2021-12-07T09:39:29.644Z"
   },
   {
    "duration": 14,
    "start_time": "2021-12-07T09:39:29.658Z"
   },
   {
    "duration": 19,
    "start_time": "2021-12-07T09:39:29.675Z"
   },
   {
    "duration": 9,
    "start_time": "2021-12-07T09:39:29.718Z"
   },
   {
    "duration": 10,
    "start_time": "2021-12-07T09:39:29.730Z"
   },
   {
    "duration": 77,
    "start_time": "2021-12-07T09:39:29.742Z"
   },
   {
    "duration": 32,
    "start_time": "2021-12-07T09:39:29.821Z"
   },
   {
    "duration": 6,
    "start_time": "2021-12-07T09:39:29.855Z"
   },
   {
    "duration": 29,
    "start_time": "2021-12-07T09:39:29.863Z"
   },
   {
    "duration": 25,
    "start_time": "2021-12-07T09:39:29.895Z"
   },
   {
    "duration": 257,
    "start_time": "2021-12-07T09:39:29.923Z"
   },
   {
    "duration": 16,
    "start_time": "2021-12-07T09:39:30.182Z"
   },
   {
    "duration": 8,
    "start_time": "2021-12-07T09:39:30.219Z"
   },
   {
    "duration": 3,
    "start_time": "2021-12-07T09:39:30.230Z"
   },
   {
    "duration": 12,
    "start_time": "2021-12-07T09:39:30.235Z"
   },
   {
    "duration": 7,
    "start_time": "2021-12-07T09:39:30.249Z"
   },
   {
    "duration": 6,
    "start_time": "2021-12-07T09:39:30.258Z"
   },
   {
    "duration": 7,
    "start_time": "2021-12-07T09:39:30.267Z"
   },
   {
    "duration": 72,
    "start_time": "2021-12-07T09:39:30.318Z"
   },
   {
    "duration": 65,
    "start_time": "2021-12-07T09:39:30.393Z"
   },
   {
    "duration": 23,
    "start_time": "2021-12-07T09:39:30.461Z"
   },
   {
    "duration": 49,
    "start_time": "2021-12-07T09:39:30.486Z"
   },
   {
    "duration": 13,
    "start_time": "2021-12-07T09:39:30.538Z"
   },
   {
    "duration": 11,
    "start_time": "2021-12-07T09:39:30.554Z"
   },
   {
    "duration": 49,
    "start_time": "2021-12-07T09:39:30.568Z"
   },
   {
    "duration": 5,
    "start_time": "2021-12-07T09:39:30.620Z"
   },
   {
    "duration": 17,
    "start_time": "2021-12-07T09:39:30.628Z"
   },
   {
    "duration": 16,
    "start_time": "2021-12-07T09:39:30.648Z"
   },
   {
    "duration": 63,
    "start_time": "2021-12-07T09:39:30.667Z"
   },
   {
    "duration": 9,
    "start_time": "2021-12-07T09:39:30.733Z"
   },
   {
    "duration": 72,
    "start_time": "2021-12-07T09:39:30.745Z"
   },
   {
    "duration": 12,
    "start_time": "2021-12-07T09:39:30.820Z"
   },
   {
    "duration": 17,
    "start_time": "2021-12-07T09:39:30.835Z"
   },
   {
    "duration": 13,
    "start_time": "2021-12-07T09:39:30.855Z"
   },
   {
    "duration": 46,
    "start_time": "2021-12-07T09:39:30.871Z"
   },
   {
    "duration": 30,
    "start_time": "2021-12-07T09:39:30.920Z"
   },
   {
    "duration": 23,
    "start_time": "2021-12-07T09:39:30.952Z"
   },
   {
    "duration": 5,
    "start_time": "2021-12-07T09:39:30.977Z"
   },
   {
    "duration": 40,
    "start_time": "2021-12-07T09:39:30.985Z"
   },
   {
    "duration": 5,
    "start_time": "2021-12-07T09:39:31.028Z"
   },
   {
    "duration": 424,
    "start_time": "2021-12-07T09:39:31.036Z"
   },
   {
    "duration": 12,
    "start_time": "2021-12-07T09:39:31.451Z"
   },
   {
    "duration": 11,
    "start_time": "2021-12-07T09:39:31.453Z"
   },
   {
    "duration": 9,
    "start_time": "2021-12-07T09:39:31.457Z"
   },
   {
    "duration": 7,
    "start_time": "2021-12-07T09:39:31.460Z"
   },
   {
    "duration": 7,
    "start_time": "2021-12-07T09:39:31.462Z"
   },
   {
    "duration": 306,
    "start_time": "2021-12-07T09:39:42.771Z"
   },
   {
    "duration": 9,
    "start_time": "2021-12-07T09:40:05.188Z"
   },
   {
    "duration": 27,
    "start_time": "2021-12-07T09:40:10.036Z"
   },
   {
    "duration": -20,
    "start_time": "2021-12-07T09:40:50.371Z"
   },
   {
    "duration": 8087,
    "start_time": "2021-12-07T09:40:56.756Z"
   },
   {
    "duration": 8,
    "start_time": "2021-12-07T09:44:44.898Z"
   },
   {
    "duration": 29,
    "start_time": "2021-12-07T09:45:16.361Z"
   },
   {
    "duration": 8,
    "start_time": "2021-12-07T09:46:11.766Z"
   },
   {
    "duration": 31,
    "start_time": "2021-12-07T09:46:12.874Z"
   },
   {
    "duration": 7649,
    "start_time": "2021-12-07T09:54:37.620Z"
   },
   {
    "duration": 27,
    "start_time": "2021-12-07T09:55:19.955Z"
   },
   {
    "duration": 29,
    "start_time": "2021-12-07T09:55:23.050Z"
   },
   {
    "duration": 38,
    "start_time": "2021-12-07T09:55:30.057Z"
   },
   {
    "duration": 307,
    "start_time": "2021-12-07T09:55:49.850Z"
   },
   {
    "duration": 1163,
    "start_time": "2021-12-07T09:55:58.265Z"
   },
   {
    "duration": 15,
    "start_time": "2021-12-07T09:56:36.224Z"
   },
   {
    "duration": 2066,
    "start_time": "2021-12-07T09:57:11.466Z"
   },
   {
    "duration": 312,
    "start_time": "2021-12-07T09:57:53.626Z"
   },
   {
    "duration": 2139,
    "start_time": "2021-12-07T09:58:50.395Z"
   },
   {
    "duration": 2098,
    "start_time": "2021-12-07T09:59:50.739Z"
   },
   {
    "duration": 2187,
    "start_time": "2021-12-07T10:00:27.357Z"
   },
   {
    "duration": 26,
    "start_time": "2021-12-07T10:00:49.223Z"
   },
   {
    "duration": 2124,
    "start_time": "2021-12-07T10:00:53.156Z"
   },
   {
    "duration": 778,
    "start_time": "2021-12-07T10:03:27.268Z"
   },
   {
    "duration": 122,
    "start_time": "2021-12-07T10:03:28.048Z"
   },
   {
    "duration": 4,
    "start_time": "2021-12-07T10:03:28.173Z"
   },
   {
    "duration": 508,
    "start_time": "2021-12-07T10:03:28.179Z"
   },
   {
    "duration": 534,
    "start_time": "2021-12-07T10:03:28.689Z"
   },
   {
    "duration": 18,
    "start_time": "2021-12-07T10:03:29.226Z"
   },
   {
    "duration": 55,
    "start_time": "2021-12-07T10:03:29.247Z"
   },
   {
    "duration": 166,
    "start_time": "2021-12-07T10:03:29.305Z"
   },
   {
    "duration": 12,
    "start_time": "2021-12-07T10:03:29.475Z"
   },
   {
    "duration": 46,
    "start_time": "2021-12-07T10:03:29.490Z"
   },
   {
    "duration": 122,
    "start_time": "2021-12-07T10:03:29.539Z"
   },
   {
    "duration": 11,
    "start_time": "2021-12-07T10:03:29.664Z"
   },
   {
    "duration": 45,
    "start_time": "2021-12-07T10:03:29.678Z"
   },
   {
    "duration": 79,
    "start_time": "2021-12-07T10:03:29.726Z"
   },
   {
    "duration": 15,
    "start_time": "2021-12-07T10:03:29.808Z"
   },
   {
    "duration": 12,
    "start_time": "2021-12-07T10:03:29.826Z"
   },
   {
    "duration": 46,
    "start_time": "2021-12-07T10:03:29.841Z"
   },
   {
    "duration": 26,
    "start_time": "2021-12-07T10:03:29.889Z"
   },
   {
    "duration": 32,
    "start_time": "2021-12-07T10:03:29.917Z"
   },
   {
    "duration": 51,
    "start_time": "2021-12-07T10:03:29.951Z"
   },
   {
    "duration": 35,
    "start_time": "2021-12-07T10:03:30.004Z"
   },
   {
    "duration": 19,
    "start_time": "2021-12-07T10:03:30.041Z"
   },
   {
    "duration": 63,
    "start_time": "2021-12-07T10:03:30.062Z"
   },
   {
    "duration": 22,
    "start_time": "2021-12-07T10:03:30.128Z"
   },
   {
    "duration": 259,
    "start_time": "2021-12-07T10:03:30.152Z"
   },
   {
    "duration": 15,
    "start_time": "2021-12-07T10:03:30.417Z"
   },
   {
    "duration": 45,
    "start_time": "2021-12-07T10:03:30.440Z"
   },
   {
    "duration": 29,
    "start_time": "2021-12-07T10:03:30.488Z"
   },
   {
    "duration": 10,
    "start_time": "2021-12-07T10:03:30.520Z"
   },
   {
    "duration": 37,
    "start_time": "2021-12-07T10:03:30.532Z"
   },
   {
    "duration": 34,
    "start_time": "2021-12-07T10:03:30.572Z"
   },
   {
    "duration": 33,
    "start_time": "2021-12-07T10:03:30.609Z"
   },
   {
    "duration": 93,
    "start_time": "2021-12-07T10:03:30.645Z"
   },
   {
    "duration": 48,
    "start_time": "2021-12-07T10:03:30.740Z"
   },
   {
    "duration": 38,
    "start_time": "2021-12-07T10:03:30.790Z"
   },
   {
    "duration": 28,
    "start_time": "2021-12-07T10:03:30.832Z"
   },
   {
    "duration": 12,
    "start_time": "2021-12-07T10:03:30.863Z"
   },
   {
    "duration": 39,
    "start_time": "2021-12-07T10:03:30.878Z"
   },
   {
    "duration": 13,
    "start_time": "2021-12-07T10:03:30.920Z"
   },
   {
    "duration": 20,
    "start_time": "2021-12-07T10:03:30.935Z"
   },
   {
    "duration": 29,
    "start_time": "2021-12-07T10:03:30.957Z"
   },
   {
    "duration": 28,
    "start_time": "2021-12-07T10:03:30.988Z"
   },
   {
    "duration": 38,
    "start_time": "2021-12-07T10:03:31.019Z"
   },
   {
    "duration": 19,
    "start_time": "2021-12-07T10:03:31.060Z"
   },
   {
    "duration": 46,
    "start_time": "2021-12-07T10:03:31.081Z"
   },
   {
    "duration": 15,
    "start_time": "2021-12-07T10:03:31.130Z"
   },
   {
    "duration": 12,
    "start_time": "2021-12-07T10:03:31.148Z"
   },
   {
    "duration": 20,
    "start_time": "2021-12-07T10:03:31.163Z"
   },
   {
    "duration": 30,
    "start_time": "2021-12-07T10:03:31.185Z"
   },
   {
    "duration": 28,
    "start_time": "2021-12-07T10:03:31.218Z"
   },
   {
    "duration": 13,
    "start_time": "2021-12-07T10:03:31.249Z"
   },
   {
    "duration": 19,
    "start_time": "2021-12-07T10:03:31.264Z"
   },
   {
    "duration": 29,
    "start_time": "2021-12-07T10:03:31.285Z"
   },
   {
    "duration": 17,
    "start_time": "2021-12-07T10:03:31.317Z"
   },
   {
    "duration": 1231,
    "start_time": "2021-12-07T10:03:31.336Z"
   },
   {
    "duration": -35,
    "start_time": "2021-12-07T10:03:32.605Z"
   },
   {
    "duration": -38,
    "start_time": "2021-12-07T10:03:32.609Z"
   },
   {
    "duration": -38,
    "start_time": "2021-12-07T10:03:32.611Z"
   },
   {
    "duration": -38,
    "start_time": "2021-12-07T10:03:32.613Z"
   },
   {
    "duration": -36,
    "start_time": "2021-12-07T10:03:32.614Z"
   },
   {
    "duration": -36,
    "start_time": "2021-12-07T10:03:32.616Z"
   },
   {
    "duration": -36,
    "start_time": "2021-12-07T10:03:32.618Z"
   },
   {
    "duration": -40,
    "start_time": "2021-12-07T10:03:32.624Z"
   },
   {
    "duration": -41,
    "start_time": "2021-12-07T10:03:32.627Z"
   },
   {
    "duration": 29,
    "start_time": "2021-12-07T10:04:13.270Z"
   },
   {
    "duration": 31,
    "start_time": "2021-12-07T10:04:15.250Z"
   },
   {
    "duration": 14,
    "start_time": "2021-12-07T10:04:32.723Z"
   },
   {
    "duration": 2049,
    "start_time": "2021-12-07T10:04:42.443Z"
   },
   {
    "duration": 2111,
    "start_time": "2021-12-07T10:05:36.658Z"
   },
   {
    "duration": 329,
    "start_time": "2021-12-07T10:06:05.135Z"
   },
   {
    "duration": 29,
    "start_time": "2021-12-07T10:07:17.071Z"
   },
   {
    "duration": 294,
    "start_time": "2021-12-07T10:10:44.343Z"
   },
   {
    "duration": 8,
    "start_time": "2021-12-07T10:15:01.732Z"
   },
   {
    "duration": 698,
    "start_time": "2021-12-07T10:15:02.740Z"
   },
   {
    "duration": 7,
    "start_time": "2021-12-07T10:16:32.914Z"
   },
   {
    "duration": 9,
    "start_time": "2021-12-07T10:16:44.938Z"
   },
   {
    "duration": 8,
    "start_time": "2021-12-07T10:17:24.027Z"
   },
   {
    "duration": 881,
    "start_time": "2021-12-07T10:17:24.962Z"
   },
   {
    "duration": 7,
    "start_time": "2021-12-07T10:21:06.175Z"
   },
   {
    "duration": 7,
    "start_time": "2021-12-07T10:27:35.450Z"
   },
   {
    "duration": 378,
    "start_time": "2021-12-07T10:27:39.901Z"
   },
   {
    "duration": 380,
    "start_time": "2021-12-07T10:27:41.587Z"
   },
   {
    "duration": 370,
    "start_time": "2021-12-07T10:27:44.141Z"
   },
   {
    "duration": 29,
    "start_time": "2021-12-07T10:27:51.570Z"
   },
   {
    "duration": 450,
    "start_time": "2021-12-07T10:28:24.003Z"
   },
   {
    "duration": 451,
    "start_time": "2021-12-07T10:28:25.490Z"
   },
   {
    "duration": 472,
    "start_time": "2021-12-07T10:28:27.681Z"
   },
   {
    "duration": 44,
    "start_time": "2021-12-07T10:28:28.875Z"
   },
   {
    "duration": 38,
    "start_time": "2021-12-07T10:28:39.905Z"
   },
   {
    "duration": 370,
    "start_time": "2021-12-07T10:29:30.048Z"
   },
   {
    "duration": 39,
    "start_time": "2021-12-07T10:29:31.408Z"
   },
   {
    "duration": 7,
    "start_time": "2021-12-07T10:31:17.453Z"
   },
   {
    "duration": 546,
    "start_time": "2021-12-07T10:31:18.413Z"
   },
   {
    "duration": 32,
    "start_time": "2021-12-07T10:31:19.814Z"
   },
   {
    "duration": 29,
    "start_time": "2021-12-07T10:36:37.646Z"
   },
   {
    "duration": 13,
    "start_time": "2021-12-07T10:45:41.778Z"
   },
   {
    "duration": 714,
    "start_time": "2021-12-07T10:51:51.207Z"
   },
   {
    "duration": 1917,
    "start_time": "2021-12-07T10:51:59.031Z"
   },
   {
    "duration": 1062,
    "start_time": "2021-12-07T11:11:59.551Z"
   },
   {
    "duration": 192,
    "start_time": "2021-12-07T11:12:00.617Z"
   },
   {
    "duration": 5,
    "start_time": "2021-12-07T11:12:00.817Z"
   },
   {
    "duration": 710,
    "start_time": "2021-12-07T11:12:00.826Z"
   },
   {
    "duration": 805,
    "start_time": "2021-12-07T11:12:01.540Z"
   },
   {
    "duration": 24,
    "start_time": "2021-12-07T11:12:02.348Z"
   },
   {
    "duration": 47,
    "start_time": "2021-12-07T11:12:02.375Z"
   },
   {
    "duration": 203,
    "start_time": "2021-12-07T11:12:02.428Z"
   },
   {
    "duration": 14,
    "start_time": "2021-12-07T11:12:02.636Z"
   },
   {
    "duration": 33,
    "start_time": "2021-12-07T11:12:02.653Z"
   },
   {
    "duration": 137,
    "start_time": "2021-12-07T11:12:02.689Z"
   },
   {
    "duration": 10,
    "start_time": "2021-12-07T11:12:02.828Z"
   },
   {
    "duration": 33,
    "start_time": "2021-12-07T11:12:02.841Z"
   },
   {
    "duration": 86,
    "start_time": "2021-12-07T11:12:02.877Z"
   },
   {
    "duration": 17,
    "start_time": "2021-12-07T11:12:02.966Z"
   },
   {
    "duration": 32,
    "start_time": "2021-12-07T11:12:02.986Z"
   },
   {
    "duration": 28,
    "start_time": "2021-12-07T11:12:03.021Z"
   },
   {
    "duration": 19,
    "start_time": "2021-12-07T11:12:03.052Z"
   },
   {
    "duration": 19,
    "start_time": "2021-12-07T11:12:03.074Z"
   },
   {
    "duration": 51,
    "start_time": "2021-12-07T11:12:03.096Z"
   },
   {
    "duration": 29,
    "start_time": "2021-12-07T11:12:03.150Z"
   },
   {
    "duration": 17,
    "start_time": "2021-12-07T11:12:03.181Z"
   },
   {
    "duration": 45,
    "start_time": "2021-12-07T11:12:03.203Z"
   },
   {
    "duration": 5,
    "start_time": "2021-12-07T11:12:03.252Z"
   },
   {
    "duration": 258,
    "start_time": "2021-12-07T11:12:03.259Z"
   },
   {
    "duration": 17,
    "start_time": "2021-12-07T11:12:03.519Z"
   },
   {
    "duration": 21,
    "start_time": "2021-12-07T11:12:03.538Z"
   },
   {
    "duration": 4,
    "start_time": "2021-12-07T11:12:03.563Z"
   },
   {
    "duration": 15,
    "start_time": "2021-12-07T11:12:03.570Z"
   },
   {
    "duration": 16,
    "start_time": "2021-12-07T11:12:03.587Z"
   },
   {
    "duration": 14,
    "start_time": "2021-12-07T11:12:03.606Z"
   },
   {
    "duration": 12,
    "start_time": "2021-12-07T11:12:03.622Z"
   },
   {
    "duration": 90,
    "start_time": "2021-12-07T11:12:03.637Z"
   },
   {
    "duration": 47,
    "start_time": "2021-12-07T11:12:03.730Z"
   },
   {
    "duration": 45,
    "start_time": "2021-12-07T11:12:03.781Z"
   },
   {
    "duration": 28,
    "start_time": "2021-12-07T11:12:03.828Z"
   },
   {
    "duration": 11,
    "start_time": "2021-12-07T11:12:03.858Z"
   },
   {
    "duration": 11,
    "start_time": "2021-12-07T11:12:03.872Z"
   },
   {
    "duration": 13,
    "start_time": "2021-12-07T11:12:03.918Z"
   },
   {
    "duration": 10,
    "start_time": "2021-12-07T11:12:03.934Z"
   },
   {
    "duration": 19,
    "start_time": "2021-12-07T11:12:03.946Z"
   },
   {
    "duration": 18,
    "start_time": "2021-12-07T11:12:03.967Z"
   },
   {
    "duration": 76,
    "start_time": "2021-12-07T11:12:03.987Z"
   },
   {
    "duration": 17,
    "start_time": "2021-12-07T11:12:04.066Z"
   },
   {
    "duration": 54,
    "start_time": "2021-12-07T11:12:04.086Z"
   },
   {
    "duration": 20,
    "start_time": "2021-12-07T11:12:04.143Z"
   },
   {
    "duration": 33,
    "start_time": "2021-12-07T11:12:04.165Z"
   },
   {
    "duration": 758,
    "start_time": "2021-12-07T11:12:04.200Z"
   },
   {
    "duration": -28,
    "start_time": "2021-12-07T11:12:04.988Z"
   },
   {
    "duration": -30,
    "start_time": "2021-12-07T11:12:04.991Z"
   },
   {
    "duration": -37,
    "start_time": "2021-12-07T11:12:05.000Z"
   },
   {
    "duration": -38,
    "start_time": "2021-12-07T11:12:05.002Z"
   },
   {
    "duration": -39,
    "start_time": "2021-12-07T11:12:05.005Z"
   },
   {
    "duration": -41,
    "start_time": "2021-12-07T11:12:05.009Z"
   },
   {
    "duration": -42,
    "start_time": "2021-12-07T11:12:05.011Z"
   },
   {
    "duration": -42,
    "start_time": "2021-12-07T11:12:05.013Z"
   },
   {
    "duration": -42,
    "start_time": "2021-12-07T11:12:05.014Z"
   },
   {
    "duration": -43,
    "start_time": "2021-12-07T11:12:05.016Z"
   },
   {
    "duration": -42,
    "start_time": "2021-12-07T11:12:05.017Z"
   },
   {
    "duration": -43,
    "start_time": "2021-12-07T11:12:05.019Z"
   },
   {
    "duration": 12,
    "start_time": "2021-12-07T11:12:16.480Z"
   },
   {
    "duration": 938,
    "start_time": "2021-12-07T11:12:36.335Z"
   },
   {
    "duration": 193,
    "start_time": "2021-12-07T11:12:37.277Z"
   },
   {
    "duration": 4,
    "start_time": "2021-12-07T11:12:37.474Z"
   },
   {
    "duration": 724,
    "start_time": "2021-12-07T11:12:37.483Z"
   },
   {
    "duration": 844,
    "start_time": "2021-12-07T11:12:38.210Z"
   },
   {
    "duration": 25,
    "start_time": "2021-12-07T11:12:39.057Z"
   },
   {
    "duration": 28,
    "start_time": "2021-12-07T11:12:39.085Z"
   },
   {
    "duration": 159,
    "start_time": "2021-12-07T11:12:39.116Z"
   },
   {
    "duration": 14,
    "start_time": "2021-12-07T11:12:39.279Z"
   },
   {
    "duration": 36,
    "start_time": "2021-12-07T11:12:39.297Z"
   },
   {
    "duration": 124,
    "start_time": "2021-12-07T11:12:39.335Z"
   },
   {
    "duration": 9,
    "start_time": "2021-12-07T11:12:39.462Z"
   },
   {
    "duration": 22,
    "start_time": "2021-12-07T11:12:39.473Z"
   },
   {
    "duration": 90,
    "start_time": "2021-12-07T11:12:39.519Z"
   },
   {
    "duration": 16,
    "start_time": "2021-12-07T11:12:39.612Z"
   },
   {
    "duration": 10,
    "start_time": "2021-12-07T11:12:39.631Z"
   },
   {
    "duration": 17,
    "start_time": "2021-12-07T11:12:39.647Z"
   },
   {
    "duration": 52,
    "start_time": "2021-12-07T11:12:39.667Z"
   },
   {
    "duration": 18,
    "start_time": "2021-12-07T11:12:39.722Z"
   },
   {
    "duration": 42,
    "start_time": "2021-12-07T11:12:39.743Z"
   },
   {
    "duration": 62,
    "start_time": "2021-12-07T11:12:39.787Z"
   },
   {
    "duration": 8,
    "start_time": "2021-12-07T11:12:39.852Z"
   },
   {
    "duration": 54,
    "start_time": "2021-12-07T11:12:39.863Z"
   },
   {
    "duration": 5,
    "start_time": "2021-12-07T11:12:39.919Z"
   },
   {
    "duration": 269,
    "start_time": "2021-12-07T11:12:39.928Z"
   },
   {
    "duration": 21,
    "start_time": "2021-12-07T11:12:40.200Z"
   },
   {
    "duration": 9,
    "start_time": "2021-12-07T11:12:40.226Z"
   },
   {
    "duration": 3,
    "start_time": "2021-12-07T11:12:40.238Z"
   },
   {
    "duration": 5,
    "start_time": "2021-12-07T11:12:40.244Z"
   },
   {
    "duration": 6,
    "start_time": "2021-12-07T11:12:40.251Z"
   },
   {
    "duration": 6,
    "start_time": "2021-12-07T11:12:40.259Z"
   },
   {
    "duration": 50,
    "start_time": "2021-12-07T11:12:40.268Z"
   },
   {
    "duration": 75,
    "start_time": "2021-12-07T11:12:40.321Z"
   },
   {
    "duration": 89,
    "start_time": "2021-12-07T11:12:40.398Z"
   },
   {
    "duration": 42,
    "start_time": "2021-12-07T11:12:40.491Z"
   },
   {
    "duration": 31,
    "start_time": "2021-12-07T11:12:40.537Z"
   },
   {
    "duration": 12,
    "start_time": "2021-12-07T11:12:40.571Z"
   },
   {
    "duration": 10,
    "start_time": "2021-12-07T11:12:40.618Z"
   },
   {
    "duration": 17,
    "start_time": "2021-12-07T11:12:40.631Z"
   },
   {
    "duration": 5,
    "start_time": "2021-12-07T11:12:40.651Z"
   },
   {
    "duration": 13,
    "start_time": "2021-12-07T11:12:40.660Z"
   },
   {
    "duration": 51,
    "start_time": "2021-12-07T11:12:40.676Z"
   },
   {
    "duration": 34,
    "start_time": "2021-12-07T11:12:40.730Z"
   },
   {
    "duration": 10,
    "start_time": "2021-12-07T11:12:40.766Z"
   },
   {
    "duration": 67,
    "start_time": "2021-12-07T11:12:40.778Z"
   },
   {
    "duration": 8,
    "start_time": "2021-12-07T11:12:40.848Z"
   },
   {
    "duration": 8,
    "start_time": "2021-12-07T11:12:40.858Z"
   },
   {
    "duration": 48,
    "start_time": "2021-12-07T11:12:40.869Z"
   },
   {
    "duration": 12,
    "start_time": "2021-12-07T11:12:40.920Z"
   },
   {
    "duration": 27,
    "start_time": "2021-12-07T11:12:40.935Z"
   },
   {
    "duration": 13,
    "start_time": "2021-12-07T11:12:40.965Z"
   },
   {
    "duration": 39,
    "start_time": "2021-12-07T11:12:40.980Z"
   },
   {
    "duration": 21,
    "start_time": "2021-12-07T11:12:41.022Z"
   },
   {
    "duration": 8,
    "start_time": "2021-12-07T11:12:41.047Z"
   },
   {
    "duration": 735,
    "start_time": "2021-12-07T11:12:41.058Z"
   },
   {
    "duration": 49,
    "start_time": "2021-12-07T11:12:41.796Z"
   },
   {
    "duration": 20,
    "start_time": "2021-12-07T11:12:41.849Z"
   },
   {
    "duration": 2960,
    "start_time": "2021-12-07T11:12:41.872Z"
   },
   {
    "duration": 105,
    "start_time": "2021-12-07T11:12:44.835Z"
   },
   {
    "duration": -14,
    "start_time": "2021-12-07T11:12:44.957Z"
   },
   {
    "duration": 133,
    "start_time": "2021-12-07T11:31:28.076Z"
   },
   {
    "duration": 96,
    "start_time": "2021-12-07T11:31:36.862Z"
   },
   {
    "duration": 1911,
    "start_time": "2021-12-07T11:31:53.775Z"
   },
   {
    "duration": 1900,
    "start_time": "2021-12-07T11:33:32.940Z"
   },
   {
    "duration": 2027,
    "start_time": "2021-12-07T11:39:29.704Z"
   },
   {
    "duration": 1780,
    "start_time": "2021-12-07T11:42:02.014Z"
   },
   {
    "duration": 2927,
    "start_time": "2021-12-07T11:42:17.975Z"
   },
   {
    "duration": 2481,
    "start_time": "2021-12-07T11:44:17.061Z"
   },
   {
    "duration": 1821,
    "start_time": "2021-12-07T11:47:17.570Z"
   },
   {
    "duration": 555,
    "start_time": "2021-12-08T04:22:35.412Z"
   },
   {
    "duration": 74,
    "start_time": "2021-12-08T04:22:35.968Z"
   },
   {
    "duration": 2,
    "start_time": "2021-12-08T04:22:36.044Z"
   },
   {
    "duration": 431,
    "start_time": "2021-12-08T04:22:36.048Z"
   },
   {
    "duration": 452,
    "start_time": "2021-12-08T04:22:36.481Z"
   },
   {
    "duration": 11,
    "start_time": "2021-12-08T04:22:36.935Z"
   },
   {
    "duration": 42,
    "start_time": "2021-12-08T04:22:36.947Z"
   },
   {
    "duration": 110,
    "start_time": "2021-12-08T04:22:36.991Z"
   },
   {
    "duration": 8,
    "start_time": "2021-12-08T04:22:37.103Z"
   },
   {
    "duration": 27,
    "start_time": "2021-12-08T04:22:37.113Z"
   },
   {
    "duration": 83,
    "start_time": "2021-12-08T04:22:37.141Z"
   },
   {
    "duration": 7,
    "start_time": "2021-12-08T04:22:37.226Z"
   },
   {
    "duration": 42,
    "start_time": "2021-12-08T04:22:37.235Z"
   },
   {
    "duration": 53,
    "start_time": "2021-12-08T04:22:37.278Z"
   },
   {
    "duration": 8,
    "start_time": "2021-12-08T04:22:37.333Z"
   },
   {
    "duration": 13,
    "start_time": "2021-12-08T04:22:37.343Z"
   },
   {
    "duration": 37,
    "start_time": "2021-12-08T04:22:37.358Z"
   },
   {
    "duration": 18,
    "start_time": "2021-12-08T04:22:37.396Z"
   },
   {
    "duration": 26,
    "start_time": "2021-12-08T04:22:37.416Z"
   },
   {
    "duration": 39,
    "start_time": "2021-12-08T04:22:37.444Z"
   },
   {
    "duration": 21,
    "start_time": "2021-12-08T04:22:37.484Z"
   },
   {
    "duration": 15,
    "start_time": "2021-12-08T04:22:37.507Z"
   },
   {
    "duration": 22,
    "start_time": "2021-12-08T04:22:37.526Z"
   },
   {
    "duration": 16,
    "start_time": "2021-12-08T04:22:37.550Z"
   },
   {
    "duration": 129,
    "start_time": "2021-12-08T04:22:37.568Z"
   },
   {
    "duration": 11,
    "start_time": "2021-12-08T04:22:37.698Z"
   },
   {
    "duration": 21,
    "start_time": "2021-12-08T04:22:37.710Z"
   },
   {
    "duration": 65,
    "start_time": "2021-12-08T04:22:37.733Z"
   },
   {
    "duration": 37,
    "start_time": "2021-12-08T04:22:37.799Z"
   },
   {
    "duration": 16,
    "start_time": "2021-12-08T04:22:37.838Z"
   },
   {
    "duration": 38,
    "start_time": "2021-12-08T04:22:37.855Z"
   },
   {
    "duration": 11,
    "start_time": "2021-12-08T04:22:37.895Z"
   },
   {
    "duration": 23,
    "start_time": "2021-12-08T04:22:37.907Z"
   },
   {
    "duration": 23,
    "start_time": "2021-12-08T04:22:37.932Z"
   },
   {
    "duration": 12,
    "start_time": "2021-12-08T04:22:37.956Z"
   },
   {
    "duration": 30,
    "start_time": "2021-12-08T04:22:37.969Z"
   },
   {
    "duration": 12,
    "start_time": "2021-12-08T04:22:38.001Z"
   },
   {
    "duration": 25,
    "start_time": "2021-12-08T04:22:38.014Z"
   },
   {
    "duration": 12,
    "start_time": "2021-12-08T04:22:38.040Z"
   },
   {
    "duration": 25,
    "start_time": "2021-12-08T04:22:38.054Z"
   },
   {
    "duration": 13,
    "start_time": "2021-12-08T04:22:38.081Z"
   },
   {
    "duration": 22,
    "start_time": "2021-12-08T04:22:38.096Z"
   },
   {
    "duration": 10,
    "start_time": "2021-12-08T04:22:38.120Z"
   },
   {
    "duration": 34,
    "start_time": "2021-12-08T04:22:38.132Z"
   },
   {
    "duration": 20,
    "start_time": "2021-12-08T04:22:38.168Z"
   },
   {
    "duration": 5,
    "start_time": "2021-12-08T04:22:38.190Z"
   },
   {
    "duration": 12,
    "start_time": "2021-12-08T04:22:38.197Z"
   },
   {
    "duration": 17,
    "start_time": "2021-12-08T04:22:38.211Z"
   },
   {
    "duration": 4,
    "start_time": "2021-12-08T04:22:38.230Z"
   },
   {
    "duration": 218,
    "start_time": "2021-12-08T04:22:38.235Z"
   },
   {
    "duration": 17,
    "start_time": "2021-12-08T04:22:38.455Z"
   },
   {
    "duration": 1128,
    "start_time": "2021-12-08T04:22:38.473Z"
   },
   {
    "duration": 3,
    "start_time": "2021-12-08T04:22:39.602Z"
   },
   {
    "duration": 246,
    "start_time": "2021-12-08T04:22:39.606Z"
   },
   {
    "duration": -64,
    "start_time": "2021-12-08T04:22:39.918Z"
   },
   {
    "duration": 9,
    "start_time": "2021-12-08T04:22:51.962Z"
   },
   {
    "duration": 9,
    "start_time": "2021-12-08T04:22:54.269Z"
   },
   {
    "duration": 1148,
    "start_time": "2021-12-08T04:34:28.850Z"
   },
   {
    "duration": 32,
    "start_time": "2021-12-08T04:34:43.802Z"
   },
   {
    "duration": 30,
    "start_time": "2021-12-08T04:35:05.096Z"
   },
   {
    "duration": 34,
    "start_time": "2021-12-08T04:35:54.858Z"
   },
   {
    "duration": 1027,
    "start_time": "2021-12-08T04:36:28.610Z"
   },
   {
    "duration": 5115,
    "start_time": "2021-12-08T04:39:15.072Z"
   },
   {
    "duration": -72,
    "start_time": "2021-12-08T04:39:20.261Z"
   },
   {
    "duration": 1456,
    "start_time": "2021-12-08T04:39:37.408Z"
   },
   {
    "duration": 39,
    "start_time": "2021-12-08T04:39:41.230Z"
   },
   {
    "duration": 47,
    "start_time": "2021-12-08T04:40:34.711Z"
   },
   {
    "duration": 39,
    "start_time": "2021-12-08T04:41:10.968Z"
   },
   {
    "duration": 301,
    "start_time": "2021-12-08T04:42:42.484Z"
   },
   {
    "duration": 37,
    "start_time": "2021-12-08T04:45:32.597Z"
   },
   {
    "duration": 84,
    "start_time": "2021-12-08T04:46:43.514Z"
   },
   {
    "duration": 243,
    "start_time": "2021-12-08T04:47:17.931Z"
   },
   {
    "duration": 141,
    "start_time": "2021-12-08T04:47:25.890Z"
   },
   {
    "duration": 83,
    "start_time": "2021-12-08T04:51:08.507Z"
   },
   {
    "duration": 82,
    "start_time": "2021-12-08T04:51:18.961Z"
   },
   {
    "duration": 83,
    "start_time": "2021-12-08T04:51:37.255Z"
   },
   {
    "duration": 37,
    "start_time": "2021-12-08T04:55:19.659Z"
   },
   {
    "duration": 37,
    "start_time": "2021-12-08T04:55:26.427Z"
   },
   {
    "duration": 39,
    "start_time": "2021-12-08T05:00:38.558Z"
   },
   {
    "duration": 1413,
    "start_time": "2021-12-08T05:01:46.471Z"
   },
   {
    "duration": 39,
    "start_time": "2021-12-08T05:01:53.687Z"
   },
   {
    "duration": 9,
    "start_time": "2021-12-08T05:02:23.155Z"
   },
   {
    "duration": 1490,
    "start_time": "2021-12-08T05:02:43.343Z"
   },
   {
    "duration": 39,
    "start_time": "2021-12-08T05:02:46.503Z"
   },
   {
    "duration": 9,
    "start_time": "2021-12-08T05:41:07.591Z"
   },
   {
    "duration": 174,
    "start_time": "2021-12-08T05:41:27.770Z"
   },
   {
    "duration": 6,
    "start_time": "2021-12-08T05:42:11.609Z"
   },
   {
    "duration": 7,
    "start_time": "2021-12-08T05:42:15.992Z"
   },
   {
    "duration": 6,
    "start_time": "2021-12-08T05:42:20.886Z"
   },
   {
    "duration": 9,
    "start_time": "2021-12-08T05:43:02.776Z"
   },
   {
    "duration": 8,
    "start_time": "2021-12-08T05:43:43.653Z"
   },
   {
    "duration": 54,
    "start_time": "2021-12-08T05:47:44.733Z"
   },
   {
    "duration": 8,
    "start_time": "2021-12-08T05:47:51.301Z"
   },
   {
    "duration": 9,
    "start_time": "2021-12-08T06:02:25.705Z"
   },
   {
    "duration": 577,
    "start_time": "2021-12-08T06:13:14.273Z"
   },
   {
    "duration": 80,
    "start_time": "2021-12-08T06:13:14.852Z"
   },
   {
    "duration": 2,
    "start_time": "2021-12-08T06:13:14.934Z"
   },
   {
    "duration": 423,
    "start_time": "2021-12-08T06:13:14.938Z"
   },
   {
    "duration": 405,
    "start_time": "2021-12-08T06:13:15.363Z"
   },
   {
    "duration": 11,
    "start_time": "2021-12-08T06:13:15.770Z"
   },
   {
    "duration": 20,
    "start_time": "2021-12-08T06:13:15.783Z"
   },
   {
    "duration": 100,
    "start_time": "2021-12-08T06:13:15.807Z"
   },
   {
    "duration": 8,
    "start_time": "2021-12-08T06:13:15.910Z"
   },
   {
    "duration": 17,
    "start_time": "2021-12-08T06:13:15.920Z"
   },
   {
    "duration": 85,
    "start_time": "2021-12-08T06:13:15.939Z"
   },
   {
    "duration": 9,
    "start_time": "2021-12-08T06:13:16.026Z"
   },
   {
    "duration": 15,
    "start_time": "2021-12-08T06:13:16.036Z"
   },
   {
    "duration": 60,
    "start_time": "2021-12-08T06:13:16.053Z"
   },
   {
    "duration": 7,
    "start_time": "2021-12-08T06:13:16.115Z"
   },
   {
    "duration": 8,
    "start_time": "2021-12-08T06:13:16.124Z"
   },
   {
    "duration": 10,
    "start_time": "2021-12-08T06:13:16.134Z"
   },
   {
    "duration": 7,
    "start_time": "2021-12-08T06:13:16.146Z"
   },
   {
    "duration": 37,
    "start_time": "2021-12-08T06:13:16.155Z"
   },
   {
    "duration": 28,
    "start_time": "2021-12-08T06:13:16.194Z"
   },
   {
    "duration": 22,
    "start_time": "2021-12-08T06:13:16.224Z"
   },
   {
    "duration": 6,
    "start_time": "2021-12-08T06:13:16.247Z"
   },
   {
    "duration": 46,
    "start_time": "2021-12-08T06:13:16.257Z"
   },
   {
    "duration": 4,
    "start_time": "2021-12-08T06:13:16.306Z"
   },
   {
    "duration": 138,
    "start_time": "2021-12-08T06:13:16.312Z"
   },
   {
    "duration": 10,
    "start_time": "2021-12-08T06:13:16.451Z"
   },
   {
    "duration": 8,
    "start_time": "2021-12-08T06:13:16.464Z"
   },
   {
    "duration": 69,
    "start_time": "2021-12-08T06:13:16.475Z"
   },
   {
    "duration": 46,
    "start_time": "2021-12-08T06:13:16.545Z"
   },
   {
    "duration": 15,
    "start_time": "2021-12-08T06:13:16.593Z"
   },
   {
    "duration": 20,
    "start_time": "2021-12-08T06:13:16.609Z"
   },
   {
    "duration": 7,
    "start_time": "2021-12-08T06:13:16.631Z"
   },
   {
    "duration": 6,
    "start_time": "2021-12-08T06:13:16.639Z"
   },
   {
    "duration": 8,
    "start_time": "2021-12-08T06:13:16.646Z"
   },
   {
    "duration": 3,
    "start_time": "2021-12-08T06:13:16.655Z"
   },
   {
    "duration": 9,
    "start_time": "2021-12-08T06:13:16.691Z"
   },
   {
    "duration": 9,
    "start_time": "2021-12-08T06:13:16.701Z"
   },
   {
    "duration": 20,
    "start_time": "2021-12-08T06:13:16.711Z"
   },
   {
    "duration": 7,
    "start_time": "2021-12-08T06:13:16.733Z"
   },
   {
    "duration": 20,
    "start_time": "2021-12-08T06:13:16.741Z"
   },
   {
    "duration": 6,
    "start_time": "2021-12-08T06:13:16.792Z"
   },
   {
    "duration": 8,
    "start_time": "2021-12-08T06:13:16.799Z"
   },
   {
    "duration": 8,
    "start_time": "2021-12-08T06:13:16.809Z"
   },
   {
    "duration": 8,
    "start_time": "2021-12-08T06:13:16.818Z"
   },
   {
    "duration": 19,
    "start_time": "2021-12-08T06:13:16.828Z"
   },
   {
    "duration": 43,
    "start_time": "2021-12-08T06:13:16.848Z"
   },
   {
    "duration": 3,
    "start_time": "2021-12-08T06:13:16.893Z"
   },
   {
    "duration": 11,
    "start_time": "2021-12-08T06:13:16.898Z"
   },
   {
    "duration": 4,
    "start_time": "2021-12-08T06:13:16.910Z"
   },
   {
    "duration": 231,
    "start_time": "2021-12-08T06:13:16.915Z"
   },
   {
    "duration": 15,
    "start_time": "2021-12-08T06:13:17.148Z"
   },
   {
    "duration": 1451,
    "start_time": "2021-12-08T06:13:17.165Z"
   },
   {
    "duration": 375,
    "start_time": "2021-12-08T06:13:18.617Z"
   },
   {
    "duration": 11,
    "start_time": "2021-12-08T06:13:18.993Z"
   },
   {
    "duration": 20,
    "start_time": "2021-12-08T06:13:19.005Z"
   },
   {
    "duration": 19,
    "start_time": "2021-12-08T06:13:19.027Z"
   },
   {
    "duration": 12,
    "start_time": "2021-12-08T06:13:19.048Z"
   },
   {
    "duration": 1396,
    "start_time": "2021-12-08T06:15:44.720Z"
   },
   {
    "duration": 574,
    "start_time": "2021-12-08T06:16:00.997Z"
   },
   {
    "duration": 72,
    "start_time": "2021-12-08T06:16:01.573Z"
   },
   {
    "duration": 2,
    "start_time": "2021-12-08T06:16:01.648Z"
   },
   {
    "duration": 421,
    "start_time": "2021-12-08T06:16:01.652Z"
   },
   {
    "duration": 434,
    "start_time": "2021-12-08T06:16:02.074Z"
   },
   {
    "duration": 11,
    "start_time": "2021-12-08T06:16:02.509Z"
   },
   {
    "duration": 23,
    "start_time": "2021-12-08T06:16:02.522Z"
   },
   {
    "duration": 108,
    "start_time": "2021-12-08T06:16:02.547Z"
   },
   {
    "duration": 9,
    "start_time": "2021-12-08T06:16:02.658Z"
   },
   {
    "duration": 28,
    "start_time": "2021-12-08T06:16:02.669Z"
   },
   {
    "duration": 67,
    "start_time": "2021-12-08T06:16:02.699Z"
   },
   {
    "duration": 7,
    "start_time": "2021-12-08T06:16:02.768Z"
   },
   {
    "duration": 14,
    "start_time": "2021-12-08T06:16:02.792Z"
   },
   {
    "duration": 44,
    "start_time": "2021-12-08T06:16:02.808Z"
   },
   {
    "duration": 9,
    "start_time": "2021-12-08T06:16:02.854Z"
   },
   {
    "duration": 9,
    "start_time": "2021-12-08T06:16:02.892Z"
   },
   {
    "duration": 11,
    "start_time": "2021-12-08T06:16:02.903Z"
   },
   {
    "duration": 8,
    "start_time": "2021-12-08T06:16:02.916Z"
   },
   {
    "duration": 7,
    "start_time": "2021-12-08T06:16:02.925Z"
   },
   {
    "duration": 59,
    "start_time": "2021-12-08T06:16:02.934Z"
   },
   {
    "duration": 21,
    "start_time": "2021-12-08T06:16:02.995Z"
   },
   {
    "duration": 5,
    "start_time": "2021-12-08T06:16:03.017Z"
   },
   {
    "duration": 23,
    "start_time": "2021-12-08T06:16:03.024Z"
   },
   {
    "duration": 4,
    "start_time": "2021-12-08T06:16:03.048Z"
   },
   {
    "duration": 144,
    "start_time": "2021-12-08T06:16:03.054Z"
   },
   {
    "duration": 11,
    "start_time": "2021-12-08T06:16:03.200Z"
   },
   {
    "duration": 6,
    "start_time": "2021-12-08T06:16:03.215Z"
   },
   {
    "duration": 71,
    "start_time": "2021-12-08T06:16:03.223Z"
   },
   {
    "duration": 34,
    "start_time": "2021-12-08T06:16:03.296Z"
   },
   {
    "duration": 15,
    "start_time": "2021-12-08T06:16:03.332Z"
   },
   {
    "duration": 18,
    "start_time": "2021-12-08T06:16:03.348Z"
   },
   {
    "duration": 29,
    "start_time": "2021-12-08T06:16:03.368Z"
   },
   {
    "duration": 6,
    "start_time": "2021-12-08T06:16:03.399Z"
   },
   {
    "duration": 9,
    "start_time": "2021-12-08T06:16:03.406Z"
   },
   {
    "duration": 3,
    "start_time": "2021-12-08T06:16:03.416Z"
   },
   {
    "duration": 11,
    "start_time": "2021-12-08T06:16:03.421Z"
   },
   {
    "duration": 8,
    "start_time": "2021-12-08T06:16:03.433Z"
   },
   {
    "duration": 18,
    "start_time": "2021-12-08T06:16:03.442Z"
   },
   {
    "duration": 34,
    "start_time": "2021-12-08T06:16:03.462Z"
   },
   {
    "duration": 19,
    "start_time": "2021-12-08T06:16:03.498Z"
   },
   {
    "duration": 5,
    "start_time": "2021-12-08T06:16:03.519Z"
   },
   {
    "duration": 6,
    "start_time": "2021-12-08T06:16:03.526Z"
   },
   {
    "duration": 7,
    "start_time": "2021-12-08T06:16:03.534Z"
   },
   {
    "duration": 8,
    "start_time": "2021-12-08T06:16:03.542Z"
   },
   {
    "duration": 53,
    "start_time": "2021-12-08T06:16:03.551Z"
   },
   {
    "duration": 4,
    "start_time": "2021-12-08T06:16:03.606Z"
   },
   {
    "duration": 4,
    "start_time": "2021-12-08T06:16:03.612Z"
   },
   {
    "duration": 11,
    "start_time": "2021-12-08T06:16:03.617Z"
   },
   {
    "duration": 4,
    "start_time": "2021-12-08T06:16:03.629Z"
   },
   {
    "duration": 234,
    "start_time": "2021-12-08T06:16:03.634Z"
   },
   {
    "duration": 24,
    "start_time": "2021-12-08T06:16:03.870Z"
   },
   {
    "duration": 1390,
    "start_time": "2021-12-08T06:16:03.895Z"
   },
   {
    "duration": 363,
    "start_time": "2021-12-08T06:16:05.287Z"
   },
   {
    "duration": 10,
    "start_time": "2021-12-08T06:16:05.652Z"
   },
   {
    "duration": 4,
    "start_time": "2021-12-08T06:16:05.663Z"
   },
   {
    "duration": 27,
    "start_time": "2021-12-08T06:16:05.669Z"
   },
   {
    "duration": 9,
    "start_time": "2021-12-08T06:16:05.698Z"
   },
   {
    "duration": 559,
    "start_time": "2021-12-08T14:52:52.883Z"
   },
   {
    "duration": 65,
    "start_time": "2021-12-08T14:52:53.444Z"
   },
   {
    "duration": 2,
    "start_time": "2021-12-08T14:52:53.511Z"
   },
   {
    "duration": 338,
    "start_time": "2021-12-08T14:52:53.515Z"
   },
   {
    "duration": 334,
    "start_time": "2021-12-08T14:52:53.854Z"
   },
   {
    "duration": 9,
    "start_time": "2021-12-08T14:52:54.190Z"
   },
   {
    "duration": 20,
    "start_time": "2021-12-08T14:52:54.201Z"
   },
   {
    "duration": 107,
    "start_time": "2021-12-08T14:52:54.224Z"
   },
   {
    "duration": 8,
    "start_time": "2021-12-08T14:52:54.333Z"
   },
   {
    "duration": 17,
    "start_time": "2021-12-08T14:52:54.342Z"
   },
   {
    "duration": 58,
    "start_time": "2021-12-08T14:52:54.360Z"
   },
   {
    "duration": 6,
    "start_time": "2021-12-08T14:52:54.419Z"
   },
   {
    "duration": 15,
    "start_time": "2021-12-08T14:52:54.427Z"
   },
   {
    "duration": 50,
    "start_time": "2021-12-08T14:52:54.443Z"
   },
   {
    "duration": 7,
    "start_time": "2021-12-08T14:52:54.495Z"
   },
   {
    "duration": 13,
    "start_time": "2021-12-08T14:52:54.503Z"
   },
   {
    "duration": 14,
    "start_time": "2021-12-08T14:52:54.518Z"
   },
   {
    "duration": 7,
    "start_time": "2021-12-08T14:52:54.533Z"
   },
   {
    "duration": 8,
    "start_time": "2021-12-08T14:52:54.541Z"
   },
   {
    "duration": 46,
    "start_time": "2021-12-08T14:52:54.550Z"
   },
   {
    "duration": 22,
    "start_time": "2021-12-08T14:52:54.598Z"
   },
   {
    "duration": 6,
    "start_time": "2021-12-08T14:52:54.622Z"
   },
   {
    "duration": 20,
    "start_time": "2021-12-08T14:52:54.632Z"
   },
   {
    "duration": 5,
    "start_time": "2021-12-08T14:52:54.654Z"
   },
   {
    "duration": 130,
    "start_time": "2021-12-08T14:52:54.687Z"
   },
   {
    "duration": 10,
    "start_time": "2021-12-08T14:52:54.818Z"
   },
   {
    "duration": 7,
    "start_time": "2021-12-08T14:52:54.830Z"
   },
   {
    "duration": 63,
    "start_time": "2021-12-08T14:52:54.838Z"
   },
   {
    "duration": 29,
    "start_time": "2021-12-08T14:52:54.903Z"
   },
   {
    "duration": 12,
    "start_time": "2021-12-08T14:52:54.934Z"
   },
   {
    "duration": 16,
    "start_time": "2021-12-08T14:52:54.947Z"
   },
   {
    "duration": 26,
    "start_time": "2021-12-08T14:52:54.965Z"
   },
   {
    "duration": 6,
    "start_time": "2021-12-08T14:52:54.992Z"
   },
   {
    "duration": 15,
    "start_time": "2021-12-08T14:52:55.000Z"
   },
   {
    "duration": 7,
    "start_time": "2021-12-08T14:52:55.017Z"
   },
   {
    "duration": 11,
    "start_time": "2021-12-08T14:52:55.025Z"
   },
   {
    "duration": 9,
    "start_time": "2021-12-08T14:52:55.038Z"
   },
   {
    "duration": 17,
    "start_time": "2021-12-08T14:52:55.048Z"
   },
   {
    "duration": 5,
    "start_time": "2021-12-08T14:52:55.067Z"
   },
   {
    "duration": 17,
    "start_time": "2021-12-08T14:52:55.087Z"
   },
   {
    "duration": 5,
    "start_time": "2021-12-08T14:52:55.105Z"
   },
   {
    "duration": 7,
    "start_time": "2021-12-08T14:52:55.111Z"
   },
   {
    "duration": 7,
    "start_time": "2021-12-08T14:52:55.120Z"
   },
   {
    "duration": 7,
    "start_time": "2021-12-08T14:52:55.128Z"
   },
   {
    "duration": 14,
    "start_time": "2021-12-08T14:52:55.137Z"
   },
   {
    "duration": 36,
    "start_time": "2021-12-08T14:52:55.153Z"
   },
   {
    "duration": 3,
    "start_time": "2021-12-08T14:52:55.190Z"
   },
   {
    "duration": 10,
    "start_time": "2021-12-08T14:52:55.194Z"
   },
   {
    "duration": 4,
    "start_time": "2021-12-08T14:52:55.205Z"
   },
   {
    "duration": 218,
    "start_time": "2021-12-08T14:52:55.210Z"
   },
   {
    "duration": 14,
    "start_time": "2021-12-08T14:52:55.430Z"
   },
   {
    "duration": 1427,
    "start_time": "2021-12-08T14:52:55.445Z"
   },
   {
    "duration": 515,
    "start_time": "2021-12-08T14:52:56.874Z"
   },
   {
    "duration": 9,
    "start_time": "2021-12-08T14:52:57.391Z"
   },
   {
    "duration": 3,
    "start_time": "2021-12-08T14:52:57.401Z"
   },
   {
    "duration": 9,
    "start_time": "2021-12-08T14:52:57.405Z"
   },
   {
    "duration": 9,
    "start_time": "2021-12-08T14:52:57.415Z"
   },
   {
    "duration": 24,
    "start_time": "2021-12-08T15:01:29.952Z"
   },
   {
    "duration": 18,
    "start_time": "2021-12-08T15:01:45.075Z"
   },
   {
    "duration": 831,
    "start_time": "2021-12-08T15:27:15.890Z"
   },
   {
    "duration": 122,
    "start_time": "2021-12-08T15:27:16.724Z"
   },
   {
    "duration": 3,
    "start_time": "2021-12-08T15:27:16.849Z"
   },
   {
    "duration": 467,
    "start_time": "2021-12-08T15:27:16.854Z"
   },
   {
    "duration": 552,
    "start_time": "2021-12-08T15:27:17.323Z"
   },
   {
    "duration": 16,
    "start_time": "2021-12-08T15:27:17.877Z"
   },
   {
    "duration": 28,
    "start_time": "2021-12-08T15:27:17.895Z"
   },
   {
    "duration": 154,
    "start_time": "2021-12-08T15:27:17.927Z"
   },
   {
    "duration": 16,
    "start_time": "2021-12-08T15:27:18.084Z"
   },
   {
    "duration": 25,
    "start_time": "2021-12-08T15:27:18.103Z"
   },
   {
    "duration": 136,
    "start_time": "2021-12-08T15:27:18.130Z"
   },
   {
    "duration": 16,
    "start_time": "2021-12-08T15:27:18.269Z"
   },
   {
    "duration": 32,
    "start_time": "2021-12-08T15:27:18.288Z"
   },
   {
    "duration": 116,
    "start_time": "2021-12-08T15:27:18.323Z"
   },
   {
    "duration": 29,
    "start_time": "2021-12-08T15:27:18.442Z"
   },
   {
    "duration": 9,
    "start_time": "2021-12-08T15:27:18.474Z"
   },
   {
    "duration": 16,
    "start_time": "2021-12-08T15:27:18.485Z"
   },
   {
    "duration": 9,
    "start_time": "2021-12-08T15:27:18.504Z"
   },
   {
    "duration": 51,
    "start_time": "2021-12-08T15:27:18.515Z"
   },
   {
    "duration": 41,
    "start_time": "2021-12-08T15:27:18.568Z"
   },
   {
    "duration": 50,
    "start_time": "2021-12-08T15:27:18.611Z"
   },
   {
    "duration": 6,
    "start_time": "2021-12-08T15:27:18.664Z"
   },
   {
    "duration": 27,
    "start_time": "2021-12-08T15:27:18.676Z"
   },
   {
    "duration": 5,
    "start_time": "2021-12-08T15:27:18.706Z"
   },
   {
    "duration": 371,
    "start_time": "2021-12-08T15:27:18.713Z"
   },
   {
    "duration": 16,
    "start_time": "2021-12-08T15:27:19.086Z"
   },
   {
    "duration": 10,
    "start_time": "2021-12-08T15:27:19.104Z"
   },
   {
    "duration": 101,
    "start_time": "2021-12-08T15:27:19.116Z"
   },
   {
    "duration": 56,
    "start_time": "2021-12-08T15:27:19.219Z"
   },
   {
    "duration": 24,
    "start_time": "2021-12-08T15:27:19.277Z"
   },
   {
    "duration": 28,
    "start_time": "2021-12-08T15:27:19.303Z"
   },
   {
    "duration": 35,
    "start_time": "2021-12-08T15:27:19.333Z"
   },
   {
    "duration": 11,
    "start_time": "2021-12-08T15:27:19.370Z"
   },
   {
    "duration": 19,
    "start_time": "2021-12-08T15:27:19.384Z"
   },
   {
    "duration": 10,
    "start_time": "2021-12-08T15:27:19.406Z"
   },
   {
    "duration": 46,
    "start_time": "2021-12-08T15:27:19.419Z"
   },
   {
    "duration": 20,
    "start_time": "2021-12-08T15:27:19.468Z"
   },
   {
    "duration": 31,
    "start_time": "2021-12-08T15:27:19.490Z"
   },
   {
    "duration": 37,
    "start_time": "2021-12-08T15:27:19.524Z"
   },
   {
    "duration": 31,
    "start_time": "2021-12-08T15:27:19.563Z"
   },
   {
    "duration": 8,
    "start_time": "2021-12-08T15:27:19.596Z"
   },
   {
    "duration": 10,
    "start_time": "2021-12-08T15:27:19.607Z"
   },
   {
    "duration": 50,
    "start_time": "2021-12-08T15:27:19.619Z"
   },
   {
    "duration": 12,
    "start_time": "2021-12-08T15:27:19.671Z"
   },
   {
    "duration": 28,
    "start_time": "2021-12-08T15:27:19.686Z"
   },
   {
    "duration": 13,
    "start_time": "2021-12-08T15:27:19.759Z"
   },
   {
    "duration": 4,
    "start_time": "2021-12-08T15:27:19.774Z"
   },
   {
    "duration": 15,
    "start_time": "2021-12-08T15:27:19.781Z"
   },
   {
    "duration": 5,
    "start_time": "2021-12-08T15:27:19.798Z"
   },
   {
    "duration": 432,
    "start_time": "2021-12-08T15:27:19.806Z"
   },
   {
    "duration": 34,
    "start_time": "2021-12-08T15:27:20.241Z"
   },
   {
    "duration": 2838,
    "start_time": "2021-12-08T15:27:20.278Z"
   },
   {
    "duration": 1180,
    "start_time": "2021-12-08T15:27:23.119Z"
   },
   {
    "duration": 15,
    "start_time": "2021-12-08T15:27:24.301Z"
   },
   {
    "duration": 6,
    "start_time": "2021-12-08T15:27:24.319Z"
   },
   {
    "duration": 39,
    "start_time": "2021-12-08T15:27:24.327Z"
   },
   {
    "duration": 12,
    "start_time": "2021-12-08T15:27:24.369Z"
   },
   {
    "duration": 111,
    "start_time": "2021-12-13T09:52:36.718Z"
   }
  ],
  "kernelspec": {
   "display_name": "Python 3",
   "language": "python",
   "name": "python3"
  },
  "language_info": {
   "codemirror_mode": {
    "name": "ipython",
    "version": 3
   },
   "file_extension": ".py",
   "mimetype": "text/x-python",
   "name": "python",
   "nbconvert_exporter": "python",
   "pygments_lexer": "ipython3",
   "version": "3.7.8"
  },
  "toc": {
   "base_numbering": 1,
   "nav_menu": {},
   "number_sections": true,
   "sideBar": true,
   "skip_h1_title": true,
   "title_cell": "Table of Contents",
   "title_sidebar": "Contents",
   "toc_cell": false,
   "toc_position": {},
   "toc_section_display": true,
   "toc_window_display": false
  }
 },
 "nbformat": 4,
 "nbformat_minor": 2
}
